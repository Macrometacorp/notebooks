{
 "cells": [
  {
   "cell_type": "markdown",
   "id": "f63d4ffe",
   "metadata": {},
   "source": [
    "# Workbook 01 - Connecting to GDN Using the CLI"
   ]
  },
  {
   "cell_type": "markdown",
   "id": "497ca67e",
   "metadata": {},
   "source": [
    "## Pre-requisite\n",
    "\n",
    "This workbook assumes you have created a Macrometa user account."
   ]
  },
  {
   "cell_type": "markdown",
   "id": "ed443b08",
   "metadata": {},
   "source": [
    "## Step 01-A - Install the Macrometa CLI\n",
    "Install the Macrometa CLI following the [instructions in the documentation](https://macrometa.com/docs/gdnsl/overview). The Macrometa CLI requires Node.js so ensure you have installed that prior to installing the Macrometa CLI."
   ]
  },
  {
   "cell_type": "code",
   "execution_count": 3,
   "id": "8393267e",
   "metadata": {},
   "outputs": [
    {
     "name": "stdout",
     "output_type": "stream",
     "text": [
      "\n",
      "changed 255 packages, and audited 256 packages in 2s\n",
      "\n",
      "28 packages are looking for funding\n",
      "  run `npm fund` for details\n",
      "\n",
      "9 moderate severity vulnerabilities\n",
      "\n",
      "To address all issues possible (including breaking changes), run:\n",
      "  npm audit fix --force\n",
      "\n",
      "Some issues need review, and may require choosing\n",
      "a different dependency.\n",
      "\n",
      "Run `npm audit` for details.\n"
     ]
    },
    {
     "name": "stderr",
     "output_type": "stream",
     "text": [
      "Please enter GDN URL.: "
     ]
    },
    {
     "name": "stdout",
     "output_type": "stream",
     "text": [
      "\n",
      "changed 255 packages, and audited 256 packages in 2s\n",
      "\n",
      "28 packages are looking for funding\n",
      "  run `npm fund` for details\n",
      "\n",
      "9 moderate severity vulnerabilities\n",
      "\n",
      "To address all issues possible (including breaking changes), run:\n",
      "  npm audit fix --force\n",
      "\n",
      "Some issues need review, and may require choosing\n",
      "a different dependency.\n",
      "\n",
      "Run `npm audit` for details.\n"
     ]
    },
    {
     "name": "stderr",
     "output_type": "stream",
     "text": [
      "Please enter GDN URL.: "
     ]
    }
   ],
   "source": [
    "!npm install -g gdnsl\n",
    "# You will need a gdnsl.yaml file to connect to the Macrometa GDN. Execute the `init` command to create the yaml file in local directory.\n",
    "gdnsl init"
   ]
  },
  {
   "cell_type": "markdown",
   "source": [
    "In order to use the API, you must create an API key from the Macrometa console web user interface and then you must run following from the command line:\n",
    "gdnsl init"
   ],
   "metadata": {
    "collapsed": false
   }
  },
  {
   "cell_type": "markdown",
   "id": "4e80753e",
   "metadata": {},
   "source": [
    "## Step 01-B - Connect to GDN\n",
    "\n",
    "The first step in using GDN is to establish a connection to a local region. When this code executes, it initializes the server connection to the region URL you sepcified. You can create an API key from the GUI or REST API."
   ]
  },
  {
   "cell_type": "code",
   "execution_count": null,
   "id": "96c8ca7a",
   "metadata": {},
   "outputs": [],
   "source": [
    "from c8 import C8Client\n",
    "client = C8Client(protocol='https', host='gdn.paas.macrometa.io', port=443,\n",
    "                        email='email', password='password',\n",
    "                        geofabric='_system')\n",
    "\n",
    "\n",
    "# OR Using token\n",
    "#client = C8Client(protocol='https', host='gdn.paas.macrometa.io', port=443, token=\"XXXX\")"
   ]
  },
  {
   "cell_type": "markdown",
   "id": "e5d60cd8",
   "metadata": {},
   "source": [
    "## Step 01-C - Create an API Key\n",
    "\n",
    "Note: If you have already run the following cell to create your API Key, running it again will produce an error. you might like to remove the current API Key buy jumping to the section \"## Remove an API Key\" and then returning to this cell to create the API Key again."
   ]
  },
  {
   "cell_type": "code",
   "execution_count": null,
   "id": "8d4b74c7",
   "metadata": {},
   "outputs": [],
   "source": [
    "print(\"Create API Key: \", client.create_api_key('id1'))"
   ]
  },
  {
   "cell_type": "markdown",
   "id": "d816ab61",
   "metadata": {},
   "source": [
    "## Step 01-D - Get Accessible Resources"
   ]
  },
  {
   "cell_type": "code",
   "execution_count": 4,
   "id": "ae7cd392",
   "metadata": {},
   "outputs": [
    {
     "name": "stdout",
     "output_type": "stream",
     "text": [
      "Collections:\n",
      "┌────────┐\r\n",
      "\u001B[37m│\u001B[0m\u001B[37m \u001B[0m\u001B[01mName  \u001B[0m\u001B[37m │\u001B[0m\r\n",
      "├────────┤\r\n",
      "\u001B[37m│\u001B[0m\u001B[37m \u001B[0m\u001B[37mcities\u001B[0m\u001B[37m │\u001B[0m\r\n",
      "└────────┘\r\n",
      "Streams:\n",
      "┌─────────┬──────┐\r\n",
      "\u001B[37m│\u001B[0m\u001B[37m \u001B[0m\u001B[01mStreams\u001B[0m\u001B[37m │\u001B[0m\u001B[37m \u001B[0m\u001B[01mType\u001B[0m\u001B[37m │\u001B[0m\r\n",
      "├─────────┼──────┤\r\n",
      "└─────────┴──────┘\r\n"
     ]
    }
   ],
   "source": [
    "# Fetch List of accessible databases and streams\n",
    "\n",
    "print(\"Collections:\")\n",
    "!gdnsl collection list\n",
    "\n",
    "print(\"Streams:\")\n",
    "!gdnsl streams list"
   ]
  },
  {
   "cell_type": "markdown",
   "id": "4a1dd915",
   "metadata": {},
   "source": [
    "## Workbook Completed!"
   ]
  },
  {
   "cell_type": "markdown",
   "id": "ba78680a",
   "metadata": {},
   "source": [
    "Congratulations you should have now connected to GDN, and checked to see what resources are available!"
   ]
  }
 ],
 "metadata": {
  "kernelspec": {
   "display_name": "Python 3 (ipykernel)",
   "language": "python",
   "name": "python3"
  },
  "language_info": {
   "codemirror_mode": {
    "name": "ipython",
    "version": 3
   },
   "file_extension": ".py",
   "mimetype": "text/x-python",
   "name": "python",
   "nbconvert_exporter": "python",
   "pygments_lexer": "ipython3",
   "version": "3.9.7"
  }
 },
 "nbformat": 4,
 "nbformat_minor": 5
}