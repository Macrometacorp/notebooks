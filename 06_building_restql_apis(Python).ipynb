{
 "cells": [
  {
   "cell_type": "markdown",
   "id": "f63d4ffe",
   "metadata": {},
   "source": [
    "# Workbook 06 - Building RESTQL APIs\n",
    "\n",
    "Query as API (aka RESTQL) enables developers to quickly convert saved C8QL queries into geo-distributed REST APIs. This eliminates the need for separate backend servers & containers for CRUD operations."
   ]
  },
  {
   "cell_type": "markdown",
   "id": "a2b3b194",
   "metadata": {},
   "source": [
    "## Step 06-A - Import Libraries to Workbook"
   ]
  },
  {
   "cell_type": "code",
   "execution_count": null,
   "id": "f3604206",
   "metadata": {},
   "outputs": [],
   "source": [
    "from c8 import C8Client\n",
    "import json"
   ]
  },
  {
   "cell_type": "markdown",
   "id": "744bf99b",
   "metadata": {},
   "source": [
    "## Step 06-B - Define Login Credentials"
   ]
  },
  {
   "cell_type": "code",
   "execution_count": 76,
   "id": "f18c767d",
   "metadata": {},
   "outputs": [],
   "source": [
    "fed_url = \"gdn.paas.macrometa.io\"\n",
    "guest_mail = \"alankevans@gmail.com\"\n",
    "guest_password = \"AlansDemo1!\"\n",
    "geo_fabric = \"_system\""
   ]
  },
  {
   "cell_type": "markdown",
   "id": "b678fd8e",
   "metadata": {},
   "source": [
    "## Step 06-C - Define Variables and assign Values for Workbook\n"
   ]
  },
  {
   "cell_type": "code",
   "execution_count": 77,
   "id": "f856c722",
   "metadata": {},
   "outputs": [],
   "source": [
    "collection_name = \"person\"\n",
    "\n",
    "value = \"INSERT {'firstname':@firstname, 'lastname':@lastname, 'email':@email, 'zipcode':@zipcode, '_key': 'abc'} IN %s\" % collection_name\n",
    "parameter = {\"firstname\": \"\", \"lastname\": \"\", \"email\": \"\", \"zipcode\": \"\"}\n",
    "\n",
    "insert_data = {\"query\": {\"name\": \"insertRecord\", \"parameter\": parameter, \"value\": value}} \n",
    "get_data = {\"query\": {\"name\": \"getRecords\", \"value\": \"FOR doc IN %s RETURN doc\" % collection_name}}\n",
    "update_data = {\"query\": {\"name\": \"updateRecord\", \"value\": \"UPDATE 'abc' WITH { \\\"lastname\\\": \\\"cena\\\" } IN %s\" % collection_name }}\n",
    "delete_data= {\"query\": {\"name\": \"deleteRecord\", \"value\": \"REMOVE 'abc' IN %s\" % collection_name}}\n",
    "get_count = {\"query\": {\"name\": \"countRecords\", \"value\": \"RETURN COUNT(FOR doc IN %s RETURN 1)\" % collection_name}}"
   ]
  },
  {
   "cell_type": "markdown",
   "id": "62216d82",
   "metadata": {},
   "source": [
    "## Step 06-D - Connect to GDN\n",
    "\n",
    "..."
   ]
  },
  {
   "cell_type": "code",
   "execution_count": 78,
   "id": "f0094fa7",
   "metadata": {},
   "outputs": [
    {
     "name": "stdout",
     "output_type": "stream",
     "text": [
      "\n",
      " ------- CONNECTION SETUP  ------\n",
      "tenant: alankevans@gmail.com, geofabric:_system\n"
     ]
    }
   ],
   "source": [
    "print(\"\\n ------- CONNECTION SETUP  ------\")\n",
    "print(\"tenant: {}, geofabric:{}\".format(guest_mail, geo_fabric))\n",
    "client = C8Client(protocol='https', host=fed_url, port=443,\n",
    "                email=guest_mail, password=guest_password,\n",
    "                geofabric=geo_fabric)    \n",
    "    "
   ]
  },
  {
   "cell_type": "markdown",
   "id": "048c0b41",
   "metadata": {},
   "source": [
    "## Step 06-E - Create a Geo Replicated Collection\n",
    "\n",
    "Let's insert documents to the employees collection as shown below."
   ]
  },
  {
   "cell_type": "code",
   "execution_count": 79,
   "id": "0d7736f7",
   "metadata": {},
   "outputs": [
    {
     "name": "stdout",
     "output_type": "stream",
     "text": [
      "\n",
      " ------- CREATE GEO-REPLICATED COLLECTION  ------\n",
      "Created collection: person\n"
     ]
    }
   ],
   "source": [
    "print(\"\\n ------- CREATE GEO-REPLICATED COLLECTION  ------\")\n",
    "if client.has_collection(collection_name):\n",
    "    print(\"Collection exists\")\n",
    "else:\n",
    "    employees = client.create_collection(collection_name)\n",
    "print(\"Created collection: {}\".format(collection_name))"
   ]
  },
  {
   "cell_type": "markdown",
   "id": "f328b599",
   "metadata": {},
   "source": [
    "## Step 06-F - Create Rest APIs (RESTQLs)\n",
    "\n",
    "8QL is C8's query language. You can execute C8QL query on our newly created collection employees to get its contents.\n",
    "\n",
    "The query \"FOR employee IN employees RETURN employee\" is equivalent to SQL's SELECT query."
   ]
  },
  {
   "cell_type": "code",
   "execution_count": 80,
   "id": "0fbe72ed",
   "metadata": {},
   "outputs": [
    {
     "name": "stdout",
     "output_type": "stream",
     "text": [
      "\n",
      " ------- CREATE RESTQLs  ------\n",
      "[\n",
      "    {\n",
      "        \"_key\": \"alan_macrometa.com.alansdemo.alan_macrometa.com._system.insertRecord\",\n",
      "        \"fabric\": \"alan_macrometa.com._system\",\n",
      "        \"name\": \"insertRecord\",\n",
      "        \"parameter\": {\n",
      "            \"email\": \"\",\n",
      "            \"firstname\": \"\",\n",
      "            \"lastname\": \"\",\n",
      "            \"zipcode\": \"\"\n",
      "        },\n",
      "        \"tenant\": \"alan_macrometa.com\",\n",
      "        \"type\": \"c8ql\",\n",
      "        \"userid\": \"alan_macrometa.com.alansdemo\",\n",
      "        \"value\": \"INSERT {'firstname':@firstname, 'lastname':@lastname, 'email':@email, 'zipcode':@zipcode, '_key': 'abc'} IN person\"\n",
      "    },\n",
      "    {\n",
      "        \"_key\": \"alan_macrometa.com.alansdemo.alan_macrometa.com._system.getRecords\",\n",
      "        \"fabric\": \"alan_macrometa.com._system\",\n",
      "        \"name\": \"getRecords\",\n",
      "        \"tenant\": \"alan_macrometa.com\",\n",
      "        \"type\": \"c8ql\",\n",
      "        \"userid\": \"alan_macrometa.com.alansdemo\",\n",
      "        \"value\": \"FOR doc IN person RETURN doc\"\n",
      "    },\n",
      "    {\n",
      "        \"_key\": \"alan_macrometa.com.alansdemo.alan_macrometa.com._system.updateRecord\",\n",
      "        \"fabric\": \"alan_macrometa.com._system\",\n",
      "        \"name\": \"updateRecord\",\n",
      "        \"tenant\": \"alan_macrometa.com\",\n",
      "        \"type\": \"c8ql\",\n",
      "        \"userid\": \"alan_macrometa.com.alansdemo\",\n",
      "        \"value\": \"UPDATE 'abc' WITH { \\\"lastname\\\": \\\"cena\\\" } IN person\"\n",
      "    },\n",
      "    {\n",
      "        \"_key\": \"alan_macrometa.com.alansdemo.alan_macrometa.com._system.deleteRecord\",\n",
      "        \"fabric\": \"alan_macrometa.com._system\",\n",
      "        \"name\": \"deleteRecord\",\n",
      "        \"tenant\": \"alan_macrometa.com\",\n",
      "        \"type\": \"c8ql\",\n",
      "        \"userid\": \"alan_macrometa.com.alansdemo\",\n",
      "        \"value\": \"REMOVE 'abc' IN person\"\n",
      "    },\n",
      "    {\n",
      "        \"_key\": \"alan_macrometa.com.alansdemo.alan_macrometa.com._system.countRecords\",\n",
      "        \"fabric\": \"alan_macrometa.com._system\",\n",
      "        \"name\": \"countRecords\",\n",
      "        \"tenant\": \"alan_macrometa.com\",\n",
      "        \"type\": \"c8ql\",\n",
      "        \"userid\": \"alan_macrometa.com.alansdemo\",\n",
      "        \"value\": \"RETURN COUNT(FOR doc IN person RETURN 1)\"\n",
      "    }\n",
      "]\n",
      "Created RESTQLs...\n"
     ]
    }
   ],
   "source": [
    "print(\"\\n ------- CREATE RESTQLs  ------\")\n",
    "client.create_restql(insert_data)  # name: insertRecord\n",
    "client.create_restql(get_data)  # name: getRecords\n",
    "client.create_restql(update_data)  # name: updateRecord\n",
    "client.create_restql(delete_data)  # name: deleteRecord\n",
    "client.create_restql(get_count)  # name: countRecords\n",
    "    #print(\"Created RESTQLs:{}\".format(client.get_restqls()))\n",
    "  \n",
    "print(json.dumps(client.get_restqls(), indent=4))\n",
    "\n",
    "print(\"Created RESTQLs...\")  "
   ]
  },
  {
   "cell_type": "markdown",
   "id": "034a3683",
   "metadata": {
    "tags": []
   },
   "source": [
    "## Step 06-G - Execute RESTQLs\n",
    "\n"
   ]
  },
  {
   "cell_type": "code",
   "execution_count": 81,
   "id": "3b5321c7",
   "metadata": {},
   "outputs": [
    {
     "name": "stdout",
     "output_type": "stream",
     "text": [
      "\n",
      " ------- EXECUTE RESTQLs ------\n",
      "Insert data....\n",
      "Get data....\n",
      "Update data....\n",
      "Get data....\n",
      "Count records....\n",
      "Delete data....\n"
     ]
    }
   ],
   "source": [
    "print(\"\\n ------- EXECUTE RESTQLs ------\")\n",
    "print(\"Insert data....\")\n",
    "response = client.execute_restql(\n",
    "    \"insertRecord\",\n",
    "    {\"bindVars\": {\"firstname\": \"john\", \"lastname\": \"doe\",\n",
    "                    \"email\": \"john.doe@macrometa.io\", \"zipcode\": \"511037\"}})\n",
    "print(\"Get data....\")\n",
    "response = client.execute_restql(\"getRecords\")\n",
    "print(\"Update data....\")\n",
    "response = client.execute_restql(\"updateRecord\")\n",
    "print(\"Get data....\")\n",
    "response = client.execute_restql(\"getRecords\")\n",
    "print(\"Count records....\")\n",
    "response = client.execute_restql(\"countRecords\")\n",
    "print(\"Delete data....\")\n",
    "response = client.execute_restql(\"deleteRecord\")"
   ]
  },
  {
   "cell_type": "markdown",
   "id": "ad06a672-d68f-4e1d-8965-14304db03780",
   "metadata": {},
   "source": [
    "## Step 06-H - Delete RESTQLs"
   ]
  },
  {
   "cell_type": "code",
   "execution_count": 82,
   "id": "9f16fb05-5231-4647-bd55-42880cb45331",
   "metadata": {},
   "outputs": [
    {
     "name": "stdout",
     "output_type": "stream",
     "text": [
      "\n",
      " ------- DELETE RESTQLs ------\n",
      "\n",
      " ------- DONE  ------\n"
     ]
    }
   ],
   "source": [
    "print(\"\\n ------- DELETE RESTQLs ------\")\n",
    "client.delete_restql(\"insertRecord\")\n",
    "client.delete_restql(\"getRecords\")\n",
    "client.delete_restql(\"updateRecord\")\n",
    "client.delete_restql(\"countRecords\")\n",
    "client.delete_restql(\"deleteRecord\")\n",
    "\n",
    "print(\"\\n ------- DONE  ------\")"
   ]
  },
  {
   "cell_type": "markdown",
   "id": "bdd2df2e-eaab-4c66-b795-37d4776e51f2",
   "metadata": {},
   "source": [
    "## Step 06-I - Delete the Collection"
   ]
  },
  {
   "cell_type": "code",
   "execution_count": 83,
   "id": "6cd47951-0cf3-4391-aa2c-59f5942b1019",
   "metadata": {},
   "outputs": [
    {
     "name": "stdout",
     "output_type": "stream",
     "text": [
      "Collection Deleted:  True\n"
     ]
    }
   ],
   "source": [
    "print(\"Collection Deleted: \",client.delete_collection(collection_name))\n",
    "\n",
    "client.update_restql(self, insertrecord, data)"
   ]
  },
  {
   "cell_type": "markdown",
   "id": "eba04413",
   "metadata": {},
   "source": [
    "## Section Completed!\n",
    "\n",
    "TBC..."
   ]
  }
 ],
 "metadata": {
  "kernelspec": {
   "display_name": "Python 3 (ipykernel)",
   "language": "python",
   "name": "python3"
  },
  "language_info": {
   "codemirror_mode": {
    "name": "ipython",
    "version": 3
   },
   "file_extension": ".py",
   "mimetype": "text/x-python",
   "name": "python",
   "nbconvert_exporter": "python",
   "pygments_lexer": "ipython3",
   "version": "3.9.7"
  }
 },
 "nbformat": 4,
 "nbformat_minor": 5
}
