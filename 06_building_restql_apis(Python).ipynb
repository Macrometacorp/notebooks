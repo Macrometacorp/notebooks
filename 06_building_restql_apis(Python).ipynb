{
 "cells": [
  {
   "cell_type": "markdown",
   "id": "f63d4ffe",
   "metadata": {},
   "source": [
    "# Tutorial 06 - Building RESTQL APIs\n",
    "\n",
    "Query as API (aka RESTQL) enables developers to quickly convert saved C8QL queries into geo-distributed REST APIs. This eliminates the need for separate backend servers & containers for CRUD operations."
   ]
  },
  {
   "cell_type": "markdown",
   "id": "a2b3b194",
   "metadata": {},
   "source": [
    "## Step 06-A - Import Libraries"
   ]
  },
  {
   "cell_type": "code",
   "execution_count": null,
   "id": "f3604206",
   "metadata": {},
   "outputs": [],
   "source": [
    "import json"
   ]
  },
  {
   "cell_type": "markdown",
   "id": "744bf99b",
   "metadata": {},
   "source": [
    "## Step 06-B - Import c8Client"
   ]
  },
  {
   "cell_type": "code",
   "execution_count": null,
   "id": "f18c767d",
   "metadata": {},
   "outputs": [],
   "source": [
    "from c8 import C8Client"
   ]
  },
  {
   "cell_type": "markdown",
   "id": "b678fd8e",
   "metadata": {},
   "source": [
    "## Step 06-C - Define Login Credentials\n"
   ]
  },
  {
   "cell_type": "code",
   "execution_count": null,
   "id": "f856c722",
   "metadata": {},
   "outputs": [],
   "source": [
    "fed_url = \"verizon.5g.macrometa.io\"\n",
    "guest_mail = \"email\"\n",
    "guest_password = \"password\"\n",
    "geo_fabric = \"_system\""
   ]
  },
  {
   "cell_type": "markdown",
   "id": "62216d82",
   "metadata": {},
   "source": [
    "## Step 06-D - Connect to GDN\n",
    "\n",
    "Now that you have added your login credentials, lets connect to GDN"
   ]
  },
  {
   "cell_type": "code",
   "execution_count": null,
   "id": "f0094fa7",
   "metadata": {},
   "outputs": [],
   "source": [
    "print(\"\\n ------- CONNECTION SETUP  ------\")\n",
    "print(\"tenant: {}, geofabric:{}\".format(guest_mail, geo_fabric))\n",
    "client = C8Client(protocol='https', host=fed_url, port=443,\n",
    "                email=guest_mail, password=guest_password,\n",
    "                geofabric=geo_fabric)    \n",
    "    "
   ]
  },
  {
   "cell_type": "markdown",
   "id": "048c0b41",
   "metadata": {},
   "source": [
    "## Step 06-E - Create a Geo Replicated Collection\n",
    "\n",
    "Before we create the RESTQL APIs lets create a collection that we can work with"
   ]
  },
  {
   "cell_type": "code",
   "execution_count": null,
   "id": "0d7736f7",
   "metadata": {},
   "outputs": [],
   "source": [
    "collection_name = \"person\"\n",
    "\n",
    "print(\"\\n ------- CREATE GEO-REPLICATED COLLECTION  ------\")\n",
    "if client.has_collection(collection_name):\n",
    "    print(\"Collection exists\")\n",
    "else:\n",
    "    employees = client.create_collection(collection_name)\n",
    "    \n",
    "print(\"Created collection: {}\".format(collection_name))"
   ]
  },
  {
   "cell_type": "markdown",
   "id": "f328b599",
   "metadata": {},
   "source": [
    "## Step 06-F - Create Rest APIs (RESTQLs)"
   ]
  },
  {
   "cell_type": "markdown",
   "id": "e460f6de-9c31-4ccb-bc5a-c9e8905a7fc8",
   "metadata": {},
   "source": [
    "### Step 06-F1 - Defining our Queries\n",
    "\n",
    "In this section we are going to define five RESTQL Query APIs"
   ]
  },
  {
   "cell_type": "code",
   "execution_count": null,
   "id": "e085ca84-3981-42c0-b33a-b86685d34362",
   "metadata": {},
   "outputs": [],
   "source": [
    "value = \"INSERT {'firstname':@firstname, 'lastname':@lastname, 'email':@email, 'zipcode':@zipcode, '_key': 'abc'} IN %s\" % collection_name\n",
    "parameter = {\"firstname\": \"\", \"lastname\": \"\", \"email\": \"\", \"zipcode\": \"\"}\n",
    "\n",
    "insert_data = {\"query\": {\"name\": \"insertRecord\", \"parameter\": parameter, \"value\": value}} \n",
    "get_data = {\"query\": {\"name\": \"getRecords\", \"value\": \"FOR doc IN %s RETURN doc\" % collection_name}}\n",
    "update_data = {\"query\": {\"name\": \"updateRecord\", \"value\": \"UPDATE 'abc' WITH { \\\"lastname\\\": \\\"cena\\\" } IN %s\" % collection_name }}\n",
    "delete_data= {\"query\": {\"name\": \"deleteRecord\", \"value\": \"REMOVE 'abc' IN %s\" % collection_name}}\n",
    "get_count = {\"query\": {\"name\": \"countRecords\", \"value\": \"RETURN COUNT(FOR doc IN %s RETURN 1)\" % collection_name}}"
   ]
  },
  {
   "cell_type": "markdown",
   "id": "d5037ede-c9a1-4394-ad0e-28fb4dec28c1",
   "metadata": {},
   "source": [
    "### Step 06-F1 - Creating the RESTQL APIs\n",
    "\n",
    "The Following Code will create a set of RESTQL APIs in GDN - once complete you can check that they exist from your console access, under Queries, and navigate to \"Saved Queries\""
   ]
  },
  {
   "cell_type": "code",
   "execution_count": null,
   "id": "0fbe72ed",
   "metadata": {},
   "outputs": [],
   "source": [
    "print(\"\\n ------- CREATE RESTQLs  ------\")\n",
    "client.create_restql(insert_data)  # name: insertRecord\n",
    "client.create_restql(get_data)  # name: getRecords\n",
    "client.create_restql(update_data)  # name: updateRecord\n",
    "client.create_restql(delete_data)  # name: deleteRecord\n",
    "client.create_restql(get_count)  # name: countRecords\n",
    "  \n",
    "print(json.dumps(client.get_restqls(), indent=4))  "
   ]
  },
  {
   "cell_type": "markdown",
   "id": "034a3683",
   "metadata": {
    "tags": []
   },
   "source": [
    "## Step 06-G - Execute RESTQLs\n",
    "\n",
    "**Note: we are going to skip testing the \"deleteRecord\" API in this section - so that we can demonstrate how to update a RESTQL Query API first.**"
   ]
  },
  {
   "cell_type": "markdown",
   "id": "055b7bc7-3926-4f50-9306-20ac98405141",
   "metadata": {},
   "source": [
    "### Step 06-G1 - Test the \"insertRecord\" RESTQL"
   ]
  },
  {
   "cell_type": "code",
   "execution_count": null,
   "id": "3b00ab46-4b41-4009-b0af-8239b8786b2e",
   "metadata": {},
   "outputs": [],
   "source": [
    "print(\"\\n ------- EXECUTE RESTQLs ------\")\n",
    "print(\"Insert data....\")\n",
    "response = client.execute_restql(\n",
    "    \"insertRecord\",\n",
    "    {\"bindVars\": {\"firstname\": \"john\", \"lastname\": \"doe\",\n",
    "                    \"email\": \"john.doe@macrometa.io\", \"zipcode\": \"511037\"}})\n",
    "\n",
    "print(\"Get data....\")\n",
    "response = client.execute_restql(\"getRecords\")\n",
    "\n",
    "print(json.dumps(response, indent=4))  \n"
   ]
  },
  {
   "cell_type": "markdown",
   "id": "e4211831-f4bb-4627-a248-b38dc12da748",
   "metadata": {},
   "source": [
    "### Step 06-G2 - Test the \"updateRecord\" RESTQL"
   ]
  },
  {
   "cell_type": "code",
   "execution_count": null,
   "id": "033b89ab-1b44-4d66-9308-52320e0b23b8",
   "metadata": {},
   "outputs": [],
   "source": [
    "print(\"Update data....\")\n",
    "response = client.execute_restql(\"updateRecord\")\n",
    "\n",
    "print(json.dumps(response, indent=4))  "
   ]
  },
  {
   "cell_type": "markdown",
   "id": "741f0da7-42f7-4555-998e-22479eccda6f",
   "metadata": {},
   "source": [
    "### Step 06-G3 - Test the \"getRecords\" RESTQL"
   ]
  },
  {
   "cell_type": "code",
   "execution_count": null,
   "id": "c75ebc25-f98c-4724-8fe1-7d19d47d6400",
   "metadata": {},
   "outputs": [],
   "source": [
    "print(\"Get data....\")\n",
    "response = client.execute_restql(\"getRecords\")\n",
    "\n",
    "print(json.dumps(response, indent=4))  "
   ]
  },
  {
   "cell_type": "markdown",
   "id": "14502430-2649-4a42-8283-4bb70f391142",
   "metadata": {},
   "source": [
    "### Step 06-G4 - Test the \"countRecords\" RESTQL"
   ]
  },
  {
   "cell_type": "code",
   "execution_count": null,
   "id": "ea621eff-dfec-4979-973d-f071ef5b8d1b",
   "metadata": {},
   "outputs": [],
   "source": [
    "print(\"Count records....\")\n",
    "response = client.execute_restql(\"countRecords\")\n",
    "\n",
    "print(json.dumps(response, indent=4))  "
   ]
  },
  {
   "cell_type": "markdown",
   "id": "bf6eb726-1637-4bf6-922f-3f30ac4f8f12",
   "metadata": {},
   "source": [
    "## Step 06-H - Updating a RESTQL API"
   ]
  },
  {
   "cell_type": "markdown",
   "id": "8494f21e-222d-4664-a6c1-84deb2662f39",
   "metadata": {},
   "source": [
    "### Step 06-H1 - Test that we can query GDN and see the document\n",
    "\n",
    "A common requirment when building an application is to make a change to an API and update it. \n",
    "\n",
    "To demonstrate this, lets first query the database using the \"execute_query\" method we learnt in an earlier section\n",
    "\n",
    "Once run, we should see the document in the cell output in JSON format so we can read it easily."
   ]
  },
  {
   "cell_type": "code",
   "execution_count": null,
   "id": "d33253a6-382f-4169-a36d-45f74a9f0ea8",
   "metadata": {},
   "outputs": [],
   "source": [
    "print(\"Get docs in \\\"person\\\" collection\")\n",
    "\n",
    "cursor = client.execute_query('FOR doc IN person RETURN doc')\n",
    "\n",
    "docs = [document for document in cursor]\n",
    "\n",
    "print(json.dumps(docs, indent=4))"
   ]
  },
  {
   "cell_type": "markdown",
   "id": "3d952120-b07e-4fda-8da2-1facc120ebdb",
   "metadata": {},
   "source": [
    "### Step 06-H2 - Updating a RESTQL API\n",
    "\n",
    "The follow cell show us how to add a new parameter to the Query, in this example we are going to add a the parameter \"phone\" to the query."
   ]
  },
  {
   "cell_type": "code",
   "execution_count": null,
   "id": "960e51ea-438e-4f71-afb2-ec56ec653876",
   "metadata": {},
   "outputs": [],
   "source": [
    "value = f\"INSERT {{'firstname':@firstname, 'lastname':@lastname, 'email':@email, 'zipcode':@zipcode, 'phone': @phone}} IN {collection_name}\"\n",
    "parameter = {\"firstname\": \"\", \"lastname\": \"\", \"email\": \"\", \"zipcode\": \"\", \"phone\": \"\"}\n",
    "\n",
    "insert_data = { \"query\": { \"parameter\": parameter, \"value\": value } } \n",
    "\n",
    "query_name = \"insertRecord\"\n",
    "response = client.update_restql(query_name, insert_data)\n",
    "print(response)\n",
    "\n"
   ]
  },
  {
   "cell_type": "markdown",
   "id": "778a878c-2bb5-4f5b-9275-8650bbd17f90",
   "metadata": {},
   "source": [
    "### Step 06-H3 - Testing the updated RESTQL API\n",
    "\n",
    "Now that we have updated the Query, lets add a new record using it to test that it works."
   ]
  },
  {
   "cell_type": "code",
   "execution_count": null,
   "id": "dfff6834-a500-445e-9977-1914ca06b815",
   "metadata": {},
   "outputs": [],
   "source": [
    "print(\"Insert data with updated query worker\")\n",
    "response = client.execute_restql(\n",
    "    query_name,\n",
    "    {\"bindVars\": {\"firstname\": \"john\", \"lastname\": \"doe\",\n",
    "                    \"email\": \"john.doe@macrometa.io\", \"zipcode\": \"511037\", \"phone\": \"213-555-9578\"}})\n",
    "print(response)"
   ]
  },
  {
   "cell_type": "markdown",
   "id": "8971a053-a193-48ac-845c-fb079528c631",
   "metadata": {},
   "source": [
    "### Step 06-H4 - Checking the data in the collection\n",
    "\n",
    "Now lets check that the data has been updated in the record by using the \"execute_query\" method - we should see two documents. \n",
    "\n",
    "1. the original document without a phone number, and\n",
    "2. a second document, but now with a phone numnber added\n",
    "\n",
    "**Hint: If you would like to return to \"Step 06-G4 - Test the \"countRecords\" RESTQL\" and re run the code, you should see the count value increase by 1**"
   ]
  },
  {
   "cell_type": "code",
   "execution_count": null,
   "id": "c1d44f69-30e5-40b7-9ac2-e145f40aff29",
   "metadata": {},
   "outputs": [],
   "source": [
    "print(\"Get docs in \\\"person\\\" collection, after executing the updated query\")\n",
    "\n",
    "cursor = client.execute_query('FOR doc IN person RETURN doc')\n",
    "\n",
    "docs = [document for document in cursor]\n",
    "\n",
    "print(json.dumps(docs, indent=4))"
   ]
  },
  {
   "cell_type": "markdown",
   "id": "9d923673-7f9a-464f-b344-b0c93775a39b",
   "metadata": {},
   "source": [
    "## Step 06-I - Deleting a record using a RESTQL API"
   ]
  },
  {
   "cell_type": "code",
   "execution_count": null,
   "id": "eff17047-0bf7-43a6-9e72-1e5835527400",
   "metadata": {},
   "outputs": [],
   "source": [
    "print(\"Delete data....\")\n",
    "response = client.execute_restql(\"deleteRecord\")\n",
    "\n",
    "print(json.dumps(response, indent=4))  "
   ]
  },
  {
   "cell_type": "markdown",
   "id": "ad06a672-d68f-4e1d-8965-14304db03780",
   "metadata": {},
   "source": [
    "## Step 06-J - Delete RESTQLs\n",
    "\n",
    "We might want to delete our RESQL APIs completely.\n",
    "\n",
    "For each RESTQL we want to remove we use the \"delete_restql\" method as shown in the cell below"
   ]
  },
  {
   "cell_type": "code",
   "execution_count": null,
   "id": "9f16fb05-5231-4647-bd55-42880cb45331",
   "metadata": {},
   "outputs": [],
   "source": [
    "print(\"\\n ------- DELETE RESTQLs ------\")\n",
    "client.delete_restql(\"insertRecord\")\n",
    "client.delete_restql(\"getRecords\")\n",
    "client.delete_restql(\"updateRecord\")\n",
    "client.delete_restql(\"countRecords\")\n",
    "client.delete_restql(\"deleteRecord\")\n",
    "\n",
    "print(\"\\n ------- DONE  ------\")"
   ]
  },
  {
   "cell_type": "markdown",
   "id": "bdd2df2e-eaab-4c66-b795-37d4776e51f2",
   "metadata": {},
   "source": [
    "## Step 06-K - Delete the Collection\n",
    "\n",
    "Now let us remove the collection we added during this Tutorial"
   ]
  },
  {
   "cell_type": "code",
   "execution_count": null,
   "id": "6cd47951-0cf3-4391-aa2c-59f5942b1019",
   "metadata": {},
   "outputs": [],
   "source": [
    "print(\"Collection Deleted: \",client.delete_collection(collection_name))"
   ]
  },
  {
   "cell_type": "markdown",
   "id": "eba04413",
   "metadata": {},
   "source": [
    "## Section Completed!\n",
    "\n",
    "Congratulations!, another tutorial completed.\n",
    "\n",
    "**Note: To use the created RESTQL APIs you should use the API reference documentation for detailed insutructions.**\n",
    "\n",
    "e.g. /_fabric/{fabric}/_api/restql/{name} \n",
    "\n",
    "where {name} is the name of your RESTQL API e.g. \"insertRecord\"\n",
    "\n"
   ]
  }
 ],
 "metadata": {
  "kernelspec": {
   "display_name": "Python 3 (ipykernel)",
   "language": "python",
   "name": "python3"
  },
  "language_info": {
   "codemirror_mode": {
    "name": "ipython",
    "version": 3
   },
   "file_extension": ".py",
   "mimetype": "text/x-python",
   "name": "python",
   "nbconvert_exporter": "python",
   "pygments_lexer": "ipython3",
   "version": "3.9.7"
  }
 },
 "nbformat": 4,
 "nbformat_minor": 5
}
