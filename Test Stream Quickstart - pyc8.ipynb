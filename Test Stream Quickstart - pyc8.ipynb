{
 "cells": [
  {
   "cell_type": "code",
   "execution_count": 1,
   "id": "21091c91",
   "metadata": {},
   "outputs": [
    {
     "name": "stdout",
     "output_type": "stream",
     "text": [
      "Requirement already satisfied: pyc8 in /Users/dianapayton/opt/miniconda3/lib/python3.9/site-packages (0.17.1)\r\n",
      "Requirement already satisfied: websocket-client==0.57.0 in /Users/dianapayton/opt/miniconda3/lib/python3.9/site-packages (from pyc8) (0.57.0)\r\n",
      "Requirement already satisfied: pandas>=0.24.2 in /Users/dianapayton/opt/miniconda3/lib/python3.9/site-packages (from pyc8) (1.5.0)\r\n",
      "Requirement already satisfied: six in /Users/dianapayton/opt/miniconda3/lib/python3.9/site-packages (from pyc8) (1.16.0)\r\n",
      "Requirement already satisfied: requests==2.25.1 in /Users/dianapayton/opt/miniconda3/lib/python3.9/site-packages (from pyc8) (2.25.1)\r\n",
      "Requirement already satisfied: chardet<5,>=3.0.2 in /Users/dianapayton/opt/miniconda3/lib/python3.9/site-packages (from requests==2.25.1->pyc8) (4.0.0)\r\n",
      "Requirement already satisfied: certifi>=2017.4.17 in /Users/dianapayton/opt/miniconda3/lib/python3.9/site-packages (from requests==2.25.1->pyc8) (2021.10.8)\r\n",
      "Requirement already satisfied: urllib3<1.27,>=1.21.1 in /Users/dianapayton/opt/miniconda3/lib/python3.9/site-packages (from requests==2.25.1->pyc8) (1.26.8)\r\n",
      "Requirement already satisfied: idna<3,>=2.5 in /Users/dianapayton/opt/miniconda3/lib/python3.9/site-packages (from requests==2.25.1->pyc8) (2.10)\r\n",
      "Requirement already satisfied: pytz>=2020.1 in /Users/dianapayton/opt/miniconda3/lib/python3.9/site-packages (from pandas>=0.24.2->pyc8) (2022.4)\r\n",
      "Requirement already satisfied: numpy>=1.20.3 in /Users/dianapayton/opt/miniconda3/lib/python3.9/site-packages (from pandas>=0.24.2->pyc8) (1.23.4)\r\n",
      "Requirement already satisfied: python-dateutil>=2.8.1 in /Users/dianapayton/opt/miniconda3/lib/python3.9/site-packages (from pandas>=0.24.2->pyc8) (2.8.2)\r\n"
     ]
    }
   ],
   "source": [
    "!pip3 install pyc8"
   ]
  },
  {
   "cell_type": "code",
   "execution_count": 2,
   "id": "c00c1b7b",
   "metadata": {},
   "outputs": [
    {
     "name": "stdout",
     "output_type": "stream",
     "text": [
      "\u001b[K\u001b[?25hm#########\u001b[0m\u001b[100;90m⠂⠂⠂⠂⠂⠂⠂⠂⠂\u001b[0m) ⠙ idealTree: \u001b[32;40mtiming\u001b[0m \u001b[35midealTree\u001b[0m Completed in 208ms\u001b[0m\u001b[K\n",
      "up to date, audited 26 packages in 357ms\n",
      "\n",
      "1 package is looking for funding\n",
      "  run `npm fund` for details\n",
      "\n",
      "found \u001b[32m\u001b[1m0\u001b[22m\u001b[39m vulnerabilities\n"
     ]
    }
   ],
   "source": [
    "!npm install jsc8 --save"
   ]
  },
  {
   "cell_type": "code",
   "execution_count": 3,
   "id": "de701e0f",
   "metadata": {},
   "outputs": [],
   "source": [
    "from operator import concat\n",
    "import base64\n",
    "import json\n",
    "import warnings\n",
    "from c8 import C8Client\n",
    "import six\n",
    "warnings.filterwarnings(\"ignore\")"
   ]
  },
  {
   "cell_type": "code",
   "execution_count": 4,
   "id": "7d7e0f95",
   "metadata": {},
   "outputs": [],
   "source": [
    "URL = \"gdn.paas.macrometa.io\"\n",
    "GEO_FABRIC = \"_system\"\n",
    "API_KEY = \"diana.payton_macrometa.com.mykey.eFEvSibM2pUqsaSoL0S54ubZ0kzAU3U6iWAXRiQDqB7PSClEYMhq3WI2gEbvxYxK9c6eb4\""
   ]
  },
  {
   "cell_type": "code",
   "execution_count": 5,
   "id": "a23a7c6f",
   "metadata": {},
   "outputs": [
    {
     "name": "stdout",
     "output_type": "stream",
     "text": [
      "--- Connecting to C8\n"
     ]
    }
   ],
   "source": [
    "print(\"--- Connecting to C8\")\n",
    "## Simple Way\n",
    "client = C8Client(protocol='https', host=URL, port=443, apikey = API_KEY, geofabric = GEO_FABRIC)"
   ]
  },
  {
   "cell_type": "code",
   "execution_count": 6,
   "id": "fc62855e",
   "metadata": {},
   "outputs": [
    {
     "name": "stdout",
     "output_type": "stream",
     "text": [
      "Get geo fabric details...\n",
      "[{'name': '_system', 'options': {'associated_regions': ['gdn-ap-west', 'gdn-us-east', 'gdn-ap-south', 'gdn-ap-northeast', 'gdn-eu-west', 'gdn-ap-sydney', 'gdn-eu-central', 'gdn-us-central', 'gdn-us-west'], 'clusters': ['gdn-us-west', 'gdn-eu-central', 'gdn-eu-west', 'gdn-ap-south', 'gdn-us-east', 'gdn-ap-sydney', 'gdn-ap-west', 'gdn-us-central', 'gdn-ap-northeast'], 'dcList': 'gdn-us-west,gdn-eu-central,gdn-eu-west,gdn-ap-south,gdn-us-east,gdn-ap-sydney,gdn-ap-west,gdn-us-central,gdn-ap-northeast', 'dynamo_local_tables': False, 'metadata': None, 'name': 'diana.payton_macrometa.com._system', 'realTime': True, 'spotDc': '', 'status': 'available', 'tenant': 'diana.payton_macrometa.com'}}]\n"
     ]
    }
   ],
   "source": [
    "print(\"Get geo fabric details...\")\n",
    "print(client.get_fabric_details())"
   ]
  },
  {
   "cell_type": "code",
   "execution_count": 7,
   "id": "9d7ba38a",
   "metadata": {},
   "outputs": [
    {
     "name": "stdout",
     "output_type": "stream",
     "text": [
      "NEW Producer = c8locals.streamQuickstart\n",
      "Get Streams:  []\n"
     ]
    }
   ],
   "source": [
    "prefixText = \"\"\n",
    "prefixBool = True\n",
    "demo_stream = 'streamQuickstart'\n",
    "    \n",
    "# Get the right prefix for the stream\n",
    "if prefixBool:\n",
    "    prefixText = \"gdnlocal.\"\n",
    "else:\n",
    "    prefixText = \"gdnglobals.\"\n",
    "\n",
    "\n",
    "streamName = {\"stream-id\": \"\"}\n",
    "if client.has_stream(demo_stream, local = prefixBool):\n",
    "    print(\"Stream already exists\")\n",
    "    streamName[\"stream-id\"] = concat(prefixText, demo_stream)\n",
    "    print (\"OLD Producer =\",  streamName[\"stream-id\"])\n",
    "else:\n",
    "    #print(client.create_stream(demo_stream, local=prefixBool))\n",
    "    streamName = client.create_stream(demo_stream, local=prefixBool)\n",
    "    print (\"NEW Producer =\",  streamName[\"stream-id\"])\n",
    "\n",
    "print(\"Get Streams: \", client.get_streams())\n",
    "\n"
   ]
  },
  {
   "cell_type": "code",
   "execution_count": 8,
   "id": "a4cfefd0",
   "metadata": {},
   "outputs": [
    {
     "name": "stdout",
     "output_type": "stream",
     "text": [
      "NEW Producer = c8globals.streamQuickstart\n",
      "Get Streams:  [{'name': 'c8globals.streamQuickstart', 'topic': 'c8globals.streamQuickstart', 'local': False, 'db': 'diana.payton_macrometa.com._system', 'tenant': 'diana.payton_macrometa.com', 'type': 'persistent', 'status': 'active'}]\n"
     ]
    }
   ],
   "source": [
    "prefixText = \"\"\n",
    "prefixBool = False\n",
    "demo_stream = 'streamQuickstart'\n",
    "    \n",
    "# Get the right prefix for the stream\n",
    "if prefixBool:\n",
    "    prefixText = \"gdnlocal.\"\n",
    "else:\n",
    "    prefixText = \"gdnglobals.\"\n",
    "\n",
    "\n",
    "streamName = {\"stream-id\": \"\"}\n",
    "if client.has_stream(demo_stream, local = prefixBool):\n",
    "    print(\"Stream already exists\")\n",
    "    streamName[\"stream-id\"] = concat(prefixText, demo_stream)\n",
    "    print (\"OLD Producer =\",  streamName[\"stream-id\"])\n",
    "else:\n",
    "    #print(client.create_stream(demo_stream, local=prefixBool))\n",
    "    streamName = client.create_stream(demo_stream, local=prefixBool)\n",
    "    print (\"NEW Producer =\",  streamName[\"stream-id\"])\n",
    "\n",
    "print(\"Get Streams: \", client.get_streams())\n"
   ]
  },
  {
   "cell_type": "code",
   "execution_count": null,
   "id": "f720eeb6",
   "metadata": {},
   "outputs": [],
   "source": []
  }
 ],
 "metadata": {
  "kernelspec": {
   "display_name": "Python 3 (ipykernel)",
   "language": "python",
   "name": "python3"
  },
  "language_info": {
   "codemirror_mode": {
    "name": "ipython",
    "version": 3
   },
   "file_extension": ".py",
   "mimetype": "text/x-python",
   "name": "python",
   "nbconvert_exporter": "python",
   "pygments_lexer": "ipython3",
   "version": "3.10.5"
  }
 },
 "nbformat": 4,
 "nbformat_minor": 5
}
