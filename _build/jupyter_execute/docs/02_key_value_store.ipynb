{
 "cells": [
  {
   "cell_type": "markdown",
   "id": "f63d4ffe",
   "metadata": {},
   "source": [
    "# Workbook 02 - Quick Start with Key Value Store\n",
    "\n",
    "Macrometa GDN is a geodistributed real-time coordination-free materialized views engine that supports multiple data models. You can use GDN as a geo-replicated real-time key-value datastore or database.\n",
    "\n",
    "If you are new to Macrometa GDN, start by reading the essentials of Macrometa GDN.\n",
    "\n",
    "Each document stored in a collection (or table) contains a primary key _key. The rest of the document is considered a value. The collection behaves like a simple key-value (KV) store if it has no secondary indexes.\n",
    "\n",
    "The key-value store has no query languages. The permissible operations are key look-ups (single & batch) and key-value pair insertions, updates and deletions. If you don't specify a sharding attribute, we use _key to shard the data. The simplicity of this model makes a key-value store fast, easy to use, scalable, portable, and flexible.\n",
    "\n",
    "You can enable time_to_live (TTL) during collection creation and add an expireAt value to specify the expiration time for each document in the KV collection.\n",
    "\n",
    "For the following examples, assume these credentials:"
   ]
  },
  {
   "cell_type": "markdown",
   "id": "497ca67e",
   "metadata": {},
   "source": [
    "## Pre-requisite\n",
    "\n",
    "Lets Assume \n",
    "- you have already made a tenant account, and have a username and password\n",
    "- you have installed the pyc8 drivers as explained in section 01\n",
    "- you have generated an API Key as explained in section 01\n"
   ]
  },
  {
   "cell_type": "markdown",
   "id": "3ab3be27",
   "metadata": {},
   "source": [
    "## Step 02-A - Connect to GDN\n",
    "\n",
    "The first step in using GDN is to establish a connection to a local region. When this code executes, it initializes the server connection to the region URL you sepcified. You can create an API key from the GUI or REST API.\n"
   ]
  },
  {
   "cell_type": "code",
   "execution_count": 1,
   "id": "f508eb62",
   "metadata": {},
   "outputs": [
    {
     "ename": "C8AuthenticationError",
     "evalue": "Failed to Authenticate the C8DB user for URL: https://api-gdn.paas.macrometa.io:443 and Email: [email]. Error: {\"code\":401,\"error\":true,\"errorMessage\":\"forbidden\",\"errorNum\":11}",
     "output_type": "error",
     "traceback": [
      "\u001b[0;31m---------------------------------------------------------------------------\u001b[0m",
      "\u001b[0;31mC8AuthenticationError\u001b[0m                     Traceback (most recent call last)",
      "Input \u001b[0;32mIn [1]\u001b[0m, in \u001b[0;36m<cell line: 4>\u001b[0;34m()\u001b[0m\n\u001b[1;32m      1\u001b[0m \u001b[38;5;28;01mimport\u001b[39;00m \u001b[38;5;21;01mjson\u001b[39;00m\n\u001b[1;32m      3\u001b[0m \u001b[38;5;28;01mfrom\u001b[39;00m \u001b[38;5;21;01mc8\u001b[39;00m \u001b[38;5;28;01mimport\u001b[39;00m C8Client\n\u001b[0;32m----> 4\u001b[0m client \u001b[38;5;241m=\u001b[39m \u001b[43mC8Client\u001b[49m\u001b[43m(\u001b[49m\u001b[43mprotocol\u001b[49m\u001b[38;5;241;43m=\u001b[39;49m\u001b[38;5;124;43m'\u001b[39;49m\u001b[38;5;124;43mhttps\u001b[39;49m\u001b[38;5;124;43m'\u001b[39;49m\u001b[43m,\u001b[49m\u001b[43m \u001b[49m\u001b[43mhost\u001b[49m\u001b[38;5;241;43m=\u001b[39;49m\u001b[38;5;124;43m'\u001b[39;49m\u001b[38;5;124;43mgdn.paas.macrometa.io\u001b[39;49m\u001b[38;5;124;43m'\u001b[39;49m\u001b[43m,\u001b[49m\u001b[43m \u001b[49m\u001b[43mport\u001b[49m\u001b[38;5;241;43m=\u001b[39;49m\u001b[38;5;241;43m443\u001b[39;49m\u001b[43m,\u001b[49m\n\u001b[1;32m      5\u001b[0m \u001b[43m                        \u001b[49m\u001b[43memail\u001b[49m\u001b[38;5;241;43m=\u001b[39;49m\u001b[38;5;124;43m'\u001b[39;49m\u001b[38;5;124;43m[email]\u001b[39;49m\u001b[38;5;124;43m'\u001b[39;49m\u001b[43m,\u001b[49m\u001b[43m \u001b[49m\u001b[43mpassword\u001b[49m\u001b[38;5;241;43m=\u001b[39;49m\u001b[38;5;124;43m'\u001b[39;49m\u001b[38;5;124;43m[xxxx]\u001b[39;49m\u001b[38;5;124;43m'\u001b[39;49m\u001b[43m,\u001b[49m\n\u001b[1;32m      6\u001b[0m \u001b[43m                        \u001b[49m\u001b[43mgeofabric\u001b[49m\u001b[38;5;241;43m=\u001b[39;49m\u001b[38;5;124;43m'\u001b[39;49m\u001b[38;5;124;43m_system\u001b[39;49m\u001b[38;5;124;43m'\u001b[39;49m\u001b[43m)\u001b[49m\n",
      "File \u001b[0;32m/usr/local/lib/python3.9/site-packages/c8/client.py:47\u001b[0m, in \u001b[0;36mC8Client.__init__\u001b[0;34m(self, protocol, host, port, geofabric, stream_port, email, password, http_client, token, apikey)\u001b[0m\n\u001b[1;32m     44\u001b[0m \u001b[38;5;28mself\u001b[39m\u001b[38;5;241m.\u001b[39m_http_client \u001b[38;5;241m=\u001b[39m http_client\n\u001b[1;32m     46\u001b[0m \u001b[38;5;28;01mif\u001b[39;00m \u001b[38;5;28mself\u001b[39m\u001b[38;5;241m.\u001b[39m_email \u001b[38;5;129;01mand\u001b[39;00m \u001b[38;5;28mself\u001b[39m\u001b[38;5;241m.\u001b[39m_password:  \n\u001b[0;32m---> 47\u001b[0m     \u001b[38;5;28mself\u001b[39m\u001b[38;5;241m.\u001b[39m_tenant \u001b[38;5;241m=\u001b[39m \u001b[38;5;28;43mself\u001b[39;49m\u001b[38;5;241;43m.\u001b[39;49m\u001b[43mtenant\u001b[49m\u001b[43m(\u001b[49m\u001b[43memail\u001b[49m\u001b[38;5;241;43m=\u001b[39;49m\u001b[38;5;28;43mself\u001b[39;49m\u001b[38;5;241;43m.\u001b[39;49m\u001b[43m_email\u001b[49m\u001b[43m,\u001b[49m\u001b[43m \u001b[49m\u001b[43mpassword\u001b[49m\u001b[38;5;241;43m=\u001b[39;49m\u001b[38;5;28;43mself\u001b[39;49m\u001b[38;5;241;43m.\u001b[39;49m\u001b[43m_password\u001b[49m\u001b[43m)\u001b[49m\n\u001b[1;32m     48\u001b[0m     \u001b[38;5;28mself\u001b[39m\u001b[38;5;241m.\u001b[39m_fabric \u001b[38;5;241m=\u001b[39m \u001b[38;5;28mself\u001b[39m\u001b[38;5;241m.\u001b[39m_tenant\u001b[38;5;241m.\u001b[39museFabric(\u001b[38;5;28mself\u001b[39m\u001b[38;5;241m.\u001b[39m_fabricname)\n\u001b[1;32m     50\u001b[0m \u001b[38;5;28;01mif\u001b[39;00m \u001b[38;5;28mself\u001b[39m\u001b[38;5;241m.\u001b[39m_token:\n",
      "File \u001b[0;32m/usr/local/lib/python3.9/site-packages/c8/client.py:125\u001b[0m, in \u001b[0;36mC8Client.tenant\u001b[0;34m(self, email, password, verify, token, apikey)\u001b[0m\n\u001b[1;32m    111\u001b[0m \u001b[38;5;28;01mdef\u001b[39;00m \u001b[38;5;21mtenant\u001b[39m(\u001b[38;5;28mself\u001b[39m, email\u001b[38;5;241m=\u001b[39m\u001b[38;5;124m'\u001b[39m\u001b[38;5;124m'\u001b[39m, password\u001b[38;5;241m=\u001b[39m\u001b[38;5;124m'\u001b[39m\u001b[38;5;124m'\u001b[39m, verify\u001b[38;5;241m=\u001b[39m\u001b[38;5;28;01mFalse\u001b[39;00m, token\u001b[38;5;241m=\u001b[39m\u001b[38;5;28;01mNone\u001b[39;00m, apikey\u001b[38;5;241m=\u001b[39m\u001b[38;5;28;01mNone\u001b[39;00m):\n\u001b[1;32m    112\u001b[0m     \u001b[38;5;124;03m\"\"\"Connect to a fabric and return the fabric API wrapper.\u001b[39;00m\n\u001b[1;32m    113\u001b[0m \n\u001b[1;32m    114\u001b[0m \u001b[38;5;124;03m    :param email: Email for basic authentication.\u001b[39;00m\n\u001b[0;32m   (...)\u001b[0m\n\u001b[1;32m    123\u001b[0m \u001b[38;5;124;03m        to True and the connection to C8Db fails.\u001b[39;00m\n\u001b[1;32m    124\u001b[0m \u001b[38;5;124;03m    \"\"\"\u001b[39;00m\n\u001b[0;32m--> 125\u001b[0m     connection \u001b[38;5;241m=\u001b[39m \u001b[43mTenantConnection\u001b[49m\u001b[43m(\u001b[49m\u001b[43murl\u001b[49m\u001b[38;5;241;43m=\u001b[39;49m\u001b[38;5;28;43mself\u001b[39;49m\u001b[38;5;241;43m.\u001b[39;49m\u001b[43m_url\u001b[49m\u001b[43m,\u001b[49m\u001b[43m \u001b[49m\n\u001b[1;32m    126\u001b[0m \u001b[43m                                  \u001b[49m\u001b[43memail\u001b[49m\u001b[38;5;241;43m=\u001b[39;49m\u001b[43memail\u001b[49m\u001b[43m,\u001b[49m\n\u001b[1;32m    127\u001b[0m \u001b[43m                                  \u001b[49m\u001b[43mpassword\u001b[49m\u001b[38;5;241;43m=\u001b[39;49m\u001b[43mpassword\u001b[49m\u001b[43m,\u001b[49m\n\u001b[1;32m    128\u001b[0m \u001b[43m                                  \u001b[49m\u001b[43mtoken\u001b[49m\u001b[38;5;241;43m=\u001b[39;49m\u001b[43mtoken\u001b[49m\u001b[43m,\u001b[49m\n\u001b[1;32m    129\u001b[0m \u001b[43m                                  \u001b[49m\u001b[43mapikey\u001b[49m\u001b[38;5;241;43m=\u001b[39;49m\u001b[43mapikey\u001b[49m\u001b[43m,\u001b[49m\n\u001b[1;32m    130\u001b[0m \u001b[43m                                  \u001b[49m\u001b[43mhttp_client\u001b[49m\u001b[38;5;241;43m=\u001b[39;49m\u001b[38;5;28;43mself\u001b[39;49m\u001b[38;5;241;43m.\u001b[39;49m\u001b[43m_http_client\u001b[49m\u001b[43m)\u001b[49m\n\u001b[1;32m    131\u001b[0m     tenant \u001b[38;5;241m=\u001b[39m Tenant(connection)\n\u001b[1;32m    133\u001b[0m     \u001b[38;5;66;03m# TODO : handle verify\u001b[39;00m\n",
      "File \u001b[0;32m/usr/local/lib/python3.9/site-packages/c8/connection.py:217\u001b[0m, in \u001b[0;36mTenantConnection.__init__\u001b[0;34m(self, url, email, password, token, apikey, http_client)\u001b[0m\n\u001b[1;32m    215\u001b[0m \u001b[38;5;28;01mdef\u001b[39;00m \u001b[38;5;21m__init__\u001b[39m(\u001b[38;5;28mself\u001b[39m, url, email, password, token, apikey, http_client):\n\u001b[0;32m--> 217\u001b[0m     \u001b[38;5;28;43msuper\u001b[39;49m\u001b[43m(\u001b[49m\u001b[43mTenantConnection\u001b[49m\u001b[43m,\u001b[49m\u001b[43m \u001b[49m\u001b[38;5;28;43mself\u001b[39;49m\u001b[43m)\u001b[49m\u001b[38;5;241;43m.\u001b[39;49m\u001b[38;5;21;43m__init__\u001b[39;49m\u001b[43m(\u001b[49m\u001b[43murl\u001b[49m\u001b[38;5;241;43m=\u001b[39;49m\u001b[43murl\u001b[49m\u001b[43m,\u001b[49m\u001b[43m \u001b[49m\u001b[43memail\u001b[49m\u001b[38;5;241;43m=\u001b[39;49m\u001b[43memail\u001b[49m\u001b[43m,\u001b[49m\u001b[43m \u001b[49m\u001b[43mpassword\u001b[49m\u001b[38;5;241;43m=\u001b[39;49m\u001b[43mpassword\u001b[49m\u001b[43m,\u001b[49m\u001b[43m \u001b[49m\u001b[43mtoken\u001b[49m\u001b[38;5;241;43m=\u001b[39;49m\u001b[43mtoken\u001b[49m\u001b[43m,\u001b[49m\u001b[43m \u001b[49m\u001b[43mapikey\u001b[49m\u001b[38;5;241;43m=\u001b[39;49m\u001b[43mapikey\u001b[49m\u001b[43m,\u001b[49m\u001b[43m \u001b[49m\u001b[43mhttp_client\u001b[49m\u001b[38;5;241;43m=\u001b[39;49m\u001b[43mhttp_client\u001b[49m\u001b[43m)\u001b[49m\n\u001b[1;32m    218\u001b[0m     \u001b[38;5;28mself\u001b[39m\u001b[38;5;241m.\u001b[39m_fqfabric_name \u001b[38;5;241m=\u001b[39m \u001b[38;5;28mself\u001b[39m\u001b[38;5;241m.\u001b[39m_tenant_name \u001b[38;5;241m+\u001b[39m \u001b[38;5;124m\"\u001b[39m\u001b[38;5;124m.\u001b[39m\u001b[38;5;124m\"\u001b[39m \u001b[38;5;241m+\u001b[39m \u001b[38;5;28mself\u001b[39m\u001b[38;5;241m.\u001b[39m_fabric_name\n",
      "File \u001b[0;32m/usr/local/lib/python3.9/site-packages/c8/connection.py:62\u001b[0m, in \u001b[0;36mConnection.__init__\u001b[0;34m(self, url, email, password, token, apikey, http_client)\u001b[0m\n\u001b[1;32m     59\u001b[0m      \u001b[38;5;28mself\u001b[39m\u001b[38;5;241m.\u001b[39m_auth_token \u001b[38;5;241m=\u001b[39m \u001b[38;5;28mself\u001b[39m\u001b[38;5;241m.\u001b[39m_apikey\n\u001b[1;32m     61\u001b[0m \u001b[38;5;28;01mif\u001b[39;00m \u001b[38;5;28mself\u001b[39m\u001b[38;5;241m.\u001b[39m_email \u001b[38;5;241m!=\u001b[39m \u001b[38;5;124m'\u001b[39m\u001b[38;5;124m'\u001b[39m \u001b[38;5;129;01mand\u001b[39;00m password \u001b[38;5;241m!=\u001b[39m \u001b[38;5;124m'\u001b[39m\u001b[38;5;124m'\u001b[39m:\n\u001b[0;32m---> 62\u001b[0m     \u001b[38;5;28mself\u001b[39m\u001b[38;5;241m.\u001b[39m_auth_token, \u001b[38;5;28mself\u001b[39m\u001b[38;5;241m.\u001b[39m_tenant_name \u001b[38;5;241m=\u001b[39m \u001b[38;5;28;43mself\u001b[39;49m\u001b[38;5;241;43m.\u001b[39;49m\u001b[43m_get_auth_token\u001b[49m\u001b[43m(\u001b[49m\u001b[43m)\u001b[49m\n\u001b[1;32m     63\u001b[0m     \u001b[38;5;28mself\u001b[39m\u001b[38;5;241m.\u001b[39m_header \u001b[38;5;241m=\u001b[39m {\u001b[38;5;124m\"\u001b[39m\u001b[38;5;124mAuthorization\u001b[39m\u001b[38;5;124m\"\u001b[39m: \u001b[38;5;124m\"\u001b[39m\u001b[38;5;124mBearer \u001b[39m\u001b[38;5;124m\"\u001b[39m \u001b[38;5;241m+\u001b[39m \u001b[38;5;28mself\u001b[39m\u001b[38;5;241m.\u001b[39m_auth_token}\n\u001b[1;32m     65\u001b[0m \u001b[38;5;28;01mif\u001b[39;00m \u001b[38;5;28mself\u001b[39m\u001b[38;5;241m.\u001b[39m_tenant_name \u001b[38;5;241m==\u001b[39m \u001b[38;5;124m'\u001b[39m\u001b[38;5;124m'\u001b[39m \u001b[38;5;129;01mand\u001b[39;00m \u001b[38;5;28mself\u001b[39m\u001b[38;5;241m.\u001b[39m_token \u001b[38;5;129;01mis\u001b[39;00m \u001b[38;5;129;01mnot\u001b[39;00m \u001b[38;5;28;01mNone\u001b[39;00m :\n",
      "File \u001b[0;32m/usr/local/lib/python3.9/site-packages/c8/connection.py:112\u001b[0m, in \u001b[0;36mConnection._get_auth_token\u001b[0;34m(self)\u001b[0m\n\u001b[1;32m    110\u001b[0m         \u001b[38;5;28;01mraise\u001b[39;00m C8TokenNotFoundError(\u001b[38;5;124m\"\u001b[39m\u001b[38;5;124mFailed to get Authentication Token for URL: \u001b[39m\u001b[38;5;132;01m{}\u001b[39;00m\u001b[38;5;124m Tenant: \u001b[39m\u001b[38;5;132;01m{}\u001b[39;00m\u001b[38;5;124m and Email: \u001b[39m\u001b[38;5;132;01m{}\u001b[39;00m\u001b[38;5;124m\"\u001b[39m\u001b[38;5;241m.\u001b[39mformat(\u001b[38;5;28mself\u001b[39m\u001b[38;5;241m.\u001b[39murl, \u001b[38;5;28mself\u001b[39m\u001b[38;5;241m.\u001b[39mtenant_name, \u001b[38;5;28mself\u001b[39m\u001b[38;5;241m.\u001b[39m_email))\n\u001b[1;32m    111\u001b[0m \u001b[38;5;28;01melse\u001b[39;00m:\n\u001b[0;32m--> 112\u001b[0m     \u001b[38;5;28;01mraise\u001b[39;00m C8AuthenticationError(\u001b[38;5;124m\"\u001b[39m\u001b[38;5;124mFailed to Authenticate the C8DB user for URL: \u001b[39m\u001b[38;5;132;01m{}\u001b[39;00m\u001b[38;5;124m and Email: \u001b[39m\u001b[38;5;132;01m{}\u001b[39;00m\u001b[38;5;124m. Error: \u001b[39m\u001b[38;5;132;01m{}\u001b[39;00m\u001b[38;5;124m\"\u001b[39m\u001b[38;5;241m.\u001b[39mformat(\u001b[38;5;28mself\u001b[39m\u001b[38;5;241m.\u001b[39murl, \u001b[38;5;28mself\u001b[39m\u001b[38;5;241m.\u001b[39m_email, response\u001b[38;5;241m.\u001b[39mtext))\n\u001b[1;32m    113\u001b[0m \u001b[38;5;28;01mreturn\u001b[39;00m token, tenant\n",
      "\u001b[0;31mC8AuthenticationError\u001b[0m: Failed to Authenticate the C8DB user for URL: https://api-gdn.paas.macrometa.io:443 and Email: [email]. Error: {\"code\":401,\"error\":true,\"errorMessage\":\"forbidden\",\"errorNum\":11}"
     ]
    }
   ],
   "source": [
    "import json\n",
    "\n",
    "from c8 import C8Client\n",
    "client = C8Client(protocol='https', host='gdn.paas.macrometa.io', port=443,\n",
    "                        email='[email]', password='[xxxx]',\n",
    "                        geofabric='_system')\n",
    "\n",
    "# OR Using token\n",
    "\n",
    "#client = C8Client(protocol='https', host='gdn.paas.macrometa.io', port=443, token=\"XXXX\")\n"
   ]
  },
  {
   "cell_type": "markdown",
   "id": "b678fd8e",
   "metadata": {},
   "source": [
    "## Step 02-B - Create a Collection"
   ]
  },
  {
   "cell_type": "code",
   "execution_count": null,
   "id": "f856c722",
   "metadata": {},
   "outputs": [],
   "source": [
    "collection_name = \"students\"\n",
    "\n",
    "# Create a new collection if it does not exist\n",
    "if client.has_collection(collection_name):\n",
    "    print(\"Collection exists\")\n",
    "else:\n",
    "    client.create_collection_kv(name=collection_name)\n",
    "    print(\"Collection Created!\")"
   ]
  },
  {
   "cell_type": "markdown",
   "id": "d2567fd2",
   "metadata": {},
   "source": [
    "## Step 02-C - Insert Key Value Pairs\n",
    "\n",
    "Insert key-value pairs into the collection."
   ]
  },
  {
   "cell_type": "code",
   "execution_count": null,
   "id": "070451af",
   "metadata": {},
   "outputs": [],
   "source": [
    "data = [\n",
    "  {\n",
    "    \"_key\": \"John\",\n",
    "    \"value\": \"Science\",\n",
    "    \"expireAt\": 0\n",
    "  },\n",
    "  {\n",
    "    \"_key\": \"Alice\",\n",
    "    \"value\": \"Maths\",\n",
    "    \"expireAt\": 0\n",
    "  },\n",
    "  {\n",
    "    \"_key\": \"Alex\",\n",
    "    \"value\": \"Physics\",\n",
    "    \"expireAt\": 0\n",
    "  },\n",
    "  {\n",
    "    \"_key\": \"Monika\",\n",
    "    \"value\": \"Chemistry\",\n",
    "    \"expireAt\": 0\n",
    "  }\n",
    "]\n",
    "\n",
    "client.insert_key_value_pair(collection_name, data)\n",
    "print(\"KV Pairs Inserted\")\n"
   ]
  },
  {
   "cell_type": "markdown",
   "id": "0529b3bb",
   "metadata": {},
   "source": [
    "## Step 02-D - Get a Value\n",
    "\n",
    "Get value for a given key."
   ]
  },
  {
   "cell_type": "code",
   "execution_count": null,
   "id": "d4364d12",
   "metadata": {},
   "outputs": [],
   "source": [
    "#print(\"Value for the provided key: \",client.get_value_for_key(collection_name, \"Monika\"))\n",
    "\n",
    "value = client.get_value_for_key(collection_name, \"John\")\n",
    "\n",
    "print(json.dumps(value, indent=4))"
   ]
  },
  {
   "cell_type": "markdown",
   "id": "4e68082b",
   "metadata": {},
   "source": [
    "## Step 02-E - Get Key-Value Count\n",
    "\n",
    "Get key-value count from a given collection"
   ]
  },
  {
   "cell_type": "code",
   "execution_count": null,
   "id": "e7aafeb1",
   "metadata": {},
   "outputs": [],
   "source": [
    "print(\"Number of kv pairs in your collection: \",client.get_kv_count(collection_name))"
   ]
  },
  {
   "cell_type": "markdown",
   "id": "ba78680a",
   "metadata": {},
   "source": [
    "## Step 02-F - Update Value\n",
    "\n",
    "Update value for a given key"
   ]
  },
  {
   "cell_type": "code",
   "execution_count": null,
   "id": "b7079ccc",
   "metadata": {},
   "outputs": [],
   "source": [
    "# Update value for a key\n",
    "data = {\n",
    "    \"_key\": \"John\",\n",
    "    \"value\": \"Biology\",\n",
    "    \"expireAt\": 0\n",
    "}\n",
    "client.insert_key_value_pair(collection_name, data)\n",
    "print(\"Updated the specified KV pair\")"
   ]
  },
  {
   "cell_type": "markdown",
   "id": "f74c8b58",
   "metadata": {},
   "source": [
    "## Step 02-G - Delete a Key-Value\n",
    "\n",
    "Delete key-value pairs from a collection"
   ]
  },
  {
   "cell_type": "code",
   "execution_count": null,
   "id": "38a2db57",
   "metadata": {},
   "outputs": [],
   "source": [
    "# Delete entry for a key\n",
    "print(\"Deleted Entry for the specified Key: \",client.delete_entry_for_key(collection_name, \"John\"))"
   ]
  },
  {
   "cell_type": "markdown",
   "id": "b2eb5cf3",
   "metadata": {},
   "source": [
    "## Step 02-H - Delete a Key-Value\n",
    "\n",
    "Delete entry for multiple key-value pairs from a collection"
   ]
  },
  {
   "cell_type": "code",
   "execution_count": null,
   "id": "e7d525da",
   "metadata": {},
   "outputs": [],
   "source": [
    "# Delete entry for multiple keys\n",
    "\n",
    "# -- Simple line of code --\n",
    "\n",
    "#print(\"Deleted Entries for the list of keys: \",client.delete_entry_for_keys(collection_name, [\"Monika\", \"Alex\", \"Alice\"]))\n",
    "\n",
    "# -- Elegant lines of code for easier reading --\n",
    "\n",
    "value2 = client.delete_entry_for_keys(collection_name, [\"Monika\", \"Alex\", \"Alice\"])\n",
    "print(\"Deleted Entries for the following list of keys:\")\n",
    "print(json.dumps(value2, indent=4))"
   ]
  },
  {
   "cell_type": "markdown",
   "id": "bf8c8e10",
   "metadata": {},
   "source": [
    "## Step 02-I - Delete a Collection\n",
    "\n",
    "Delete the key-vlaue collection"
   ]
  },
  {
   "cell_type": "code",
   "execution_count": null,
   "id": "e946f79a",
   "metadata": {},
   "outputs": [],
   "source": [
    "print(\"Collection Deleted: \",client.delete_collection_kv(collection_name))"
   ]
  },
  {
   "cell_type": "markdown",
   "id": "eba04413",
   "metadata": {},
   "source": [
    "## Workbook Completed!\n",
    "\n",
    "Congratulations you should have successfuly create a collection, inserted values, updated a value, deleted an entry, delted all entries and finally deleted the collection. \n",
    "\n",
    "Dont forget you can log into your GDN account and check the console to see what is happening from the dashboard at the same time!"
   ]
  },
  {
   "cell_type": "code",
   "execution_count": null,
   "id": "277d1bb1",
   "metadata": {},
   "outputs": [],
   "source": []
  }
 ],
 "metadata": {
  "kernelspec": {
   "display_name": "Python 3 (ipykernel)",
   "language": "python",
   "name": "python3"
  },
  "language_info": {
   "codemirror_mode": {
    "name": "ipython",
    "version": 3
   },
   "file_extension": ".py",
   "mimetype": "text/x-python",
   "name": "python",
   "nbconvert_exporter": "python",
   "pygments_lexer": "ipython3",
   "version": "3.9.10"
  }
 },
 "nbformat": 4,
 "nbformat_minor": 5
}