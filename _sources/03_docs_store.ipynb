{
 "cells": [
  {
   "cell_type": "markdown",
   "id": "f63d4ffe",
   "metadata": {},
   "source": [
    "# Workbook 03 - Quick Start with Documents Store\n",
    "\n",
    "Documents in GDN are JSON objects. These objects can be nested (to any depth) and may contain lists. Each document has a unique primary key which identifies it within its collection. Furthermore, each document is uniquely identified by its document handle across all collections. Different revisions of the same document (identified by its handle) can be distinguished by their document revision. Any transaction only ever sees a single revision of a document.\n",
    "\n",
    "For example:"
   ]
  },
  {
   "cell_type": "code",
   "execution_count": null,
   "id": "b6ab70af",
   "metadata": {},
   "outputs": [],
   "source": [
    "{\n",
    "  \"_id\" : \"myusers/3456789\",\n",
    "  \"_key\" : \"3456789\",\n",
    "  \"_rev\" : \"14253647\",\n",
    "  \"firstName\" : \"John\",\n",
    "  \"lastName\" : \"Doe\",\n",
    "  \"address\" : {\n",
    "    \"street\" : \"Road To Nowhere 1\",\n",
    "    \"city\" : \"Gotham\"\n",
    "  },\n",
    "  \"hobbies\" : [\n",
    "    {name: \"swimming\", howFavorite: 10},\n",
    "    {name: \"biking\", howFavorite: 6},\n",
    "    {name: \"programming\", howFavorite: 4}\n",
    "  ]\n",
    "}"
   ]
  },
  {
   "cell_type": "markdown",
   "id": "a6fdfe0d",
   "metadata": {},
   "source": [
    "All documents contain special attributes:\n",
    "\n",
    "- the document handle is stored as a string in _id,\n",
    "- the document's primary key in _key and\n",
    "- the document revision in _rev.\n",
    "\n",
    "The value of the _key attribute can be specified by the user when creating a document. _id and _key values are immutable once the document has been created. The _rev value is maintained by GDN automatically."
   ]
  },
  {
   "cell_type": "markdown",
   "id": "497ca67e",
   "metadata": {},
   "source": [
    "## Pre-requisite\n",
    "\n",
    "Lets Assume \n",
    "- you have already made a tenant account, and have a username and password\n",
    "- you have installed the pyc8 drivers as explained in section 01\n",
    "- you have generated an API Key as explained in section 01\n",
    "- you have imported the json driver, no? run the next cell!\n"
   ]
  },
  {
   "cell_type": "code",
   "execution_count": null,
   "id": "30a9989d",
   "metadata": {},
   "outputs": [],
   "source": [
    "# Run this Cell so that you can output any C8QL results in JSON Format!\n",
    "import json"
   ]
  },
  {
   "cell_type": "markdown",
   "id": "a2b3b194",
   "metadata": {},
   "source": [
    "## Step 03-A - Connect to GDN"
   ]
  },
  {
   "cell_type": "code",
   "execution_count": null,
   "id": "f3604206",
   "metadata": {},
   "outputs": [],
   "source": [
    "from c8 import C8Client\n",
    "client = C8Client(protocol='https', host='gdn.paas.macrometa.io', port=443,\n",
    "                        email='email', password='password',\n",
    "                        geofabric='_system')\n",
    "\n",
    "# OR Using token\n",
    "\n",
    "#client = C8Client(protocol='https', host='gdn.paas.macrometa.io', port=443, token=\"XXXX\")"
   ]
  },
  {
   "cell_type": "markdown",
   "id": "744bf99b",
   "metadata": {},
   "source": [
    "## Step 03-B - Get GeoFabric Details\n",
    "\n",
    "To get details of fabric,"
   ]
  },
  {
   "cell_type": "code",
   "execution_count": null,
   "id": "f18c767d",
   "metadata": {},
   "outputs": [],
   "source": [
    "# you might not need this, but if you wanted to select a \n",
    "# specific GeoFabric you can find out whats available by executing this code!\n",
    "\n",
    "print(\"Get geo fabric details...\")\n",
    "\n",
    "# -- use this line of code for an unformated response --\n",
    "#print(client.get_fabric_details())\n",
    "\n",
    "# -- use these lines of code for a formated response (easier to read) -- \n",
    "fabrics = client.get_fabric_details()\n",
    "\n",
    "print(json.dumps(fabrics, indent=4))"
   ]
  },
  {
   "cell_type": "markdown",
   "id": "b678fd8e",
   "metadata": {},
   "source": [
    "## Step 03-C - Create Collection\n",
    "\n",
    "We can now create collection in the fabric. To do this, first you connect to fabric and then create a collection called employees.\n",
    "\n",
    "The below example shows the steps."
   ]
  },
  {
   "cell_type": "code",
   "execution_count": null,
   "id": "f856c722",
   "metadata": {},
   "outputs": [],
   "source": [
    "collection_name = 'employees'\n",
    "\n",
    "# Create a new collection if it does not exist\n",
    "if client.has_collection(collection_name):\n",
    "    print(\"Collection exists\")\n",
    "else:\n",
    "    client.create_collection(name=collection_name)\n",
    "    print(\"Collection Created!\")"
   ]
  },
  {
   "cell_type": "markdown",
   "id": "62216d82",
   "metadata": {},
   "source": [
    "## Step 03-D - Create Index\n",
    "\n",
    "Let's add a hash_index called emails to our collection employees. Please refer to reference guide for details on other available index types."
   ]
  },
  {
   "cell_type": "code",
   "execution_count": null,
   "id": "f0094fa7",
   "metadata": {},
   "outputs": [],
   "source": [
    "# Simple Approach\n",
    "\n",
    "#print(\"Add Hash Index\", client.add_hash_index('employees', fields=['firstname', 'lastname'], unique=True)\n",
    "#)                      \n",
    "\n",
    "print(\"Add Hash Index\")\n",
    "\n",
    "hash_index = client.add_hash_index('employees', fields=['firstname', 'lastname'], unique=True)\n",
    "\n",
    "print(json.dumps(hash_index, indent=4))"
   ]
  },
  {
   "cell_type": "markdown",
   "id": "048c0b41",
   "metadata": {},
   "source": [
    "## Step 03-E - Insert Documents\n",
    "\n",
    "Let's insert documents to the employees collection as shown below."
   ]
  },
  {
   "cell_type": "code",
   "execution_count": null,
   "id": "0d7736f7",
   "metadata": {},
   "outputs": [],
   "source": [
    "#client.insert_document(collection_name='employees', document={'_key':'Alan', 'firstname': 'Alan', 'lastname':'Evans', 'email':'[email protected]'})\n",
    "\n",
    "docs = [\n",
    "  {'_key':'James', 'firstname': 'James', 'lastname':'Kirk', 'email':'[email protected]'},\n",
    "  {'_key':'Han', 'firstname': 'Han', 'lastname':'Solo', 'email':'[email protected]'},\n",
    "  {'_key':'Bruce', 'firstname': 'Bruce', 'lastname':'Wayne', 'email':'[email protected]'}\n",
    "]\n",
    "\n",
    "client.insert_document(collection_name='employees', document=docs)\n",
    "\n",
    "print(json.dumps(docs, indent=4))"
   ]
  },
  {
   "cell_type": "markdown",
   "id": "f328b599",
   "metadata": {},
   "source": [
    "## Step 03-F - Query documents using C8QL\n",
    "\n",
    "8QL is C8's query language. You can execute C8QL query on our newly created collection employees to get its contents.\n",
    "\n",
    "The query \"FOR employee IN employees RETURN employee\" is equivalent to SQL's SELECT query."
   ]
  },
  {
   "cell_type": "code",
   "execution_count": null,
   "id": "0fbe72ed",
   "metadata": {},
   "outputs": [],
   "source": [
    "cursor = client.execute_query('FOR employee IN employees RETURN employee')\n",
    "\n",
    "#cursor = client.execute_query(\"for d in tutorial_coll return d\")\n",
    "docs = [document for document in cursor]\n",
    "\n",
    "\n",
    "print(json.dumps(docs, indent=4))"
   ]
  },
  {
   "cell_type": "markdown",
   "id": "034a3683",
   "metadata": {},
   "source": [
    "## Step 03-G - Get realtime updates\n",
    "\n",
    "Example for real-time updates from a collection in fabric:\n",
    "\n",
    "Note: for this to work you need to enable Stream from the Macrometa Dashboard. Do this by opening up the dashboard, sellect collections, find the collection named \"employees\" and select \"enable Stream\"\n",
    "\n",
    "Now run the cell below, return to the Macrometa Dashboard and modeify and save fields in the collection. you should see the real time updates below as soon as you hit save!. \n",
    "\n",
    "the websocket will time out after 60sec if no updates are seen, so you might need to re run the cell code if youy see a timed out messege below. :)"
   ]
  },
  {
   "cell_type": "code",
   "execution_count": null,
   "id": "3b5321c7",
   "metadata": {},
   "outputs": [],
   "source": [
    "def callback_fn(event):\n",
    "    print(event)\n",
    "\n",
    "client.on_change(\"employees\", callback=callback_fn)     "
   ]
  },
  {
   "cell_type": "markdown",
   "id": "eba04413",
   "metadata": {},
   "source": [
    "## Section Completed!\n",
    "\n",
    "TBC..."
   ]
  },
  {
   "cell_type": "code",
   "execution_count": null,
   "id": "277d1bb1",
   "metadata": {},
   "outputs": [],
   "source": []
  }
 ],
 "metadata": {
  "kernelspec": {
   "display_name": "Python 3 (ipykernel)",
   "language": "python",
   "name": "python3"
  },
  "language_info": {
   "codemirror_mode": {
    "name": "ipython",
    "version": 3
   },
   "file_extension": ".py",
   "mimetype": "text/x-python",
   "name": "python",
   "nbconvert_exporter": "python",
   "pygments_lexer": "ipython3",
   "version": "3.9.7"
  }
 },
 "nbformat": 4,
 "nbformat_minor": 5
}
