{
 "cells": [
  {
   "cell_type": "code",
   "execution_count": 1,
   "id": "0b8f7f75",
   "metadata": {},
   "outputs": [
    {
     "name": "stdout",
     "output_type": "stream",
     "text": [
      "Requirement already satisfied: pyc8 in /Users/dianapayton/opt/miniconda3/lib/python3.9/site-packages (0.17.1)\r\n",
      "Requirement already satisfied: websocket-client==0.57.0 in /Users/dianapayton/opt/miniconda3/lib/python3.9/site-packages (from pyc8) (0.57.0)\r\n",
      "Requirement already satisfied: pandas>=0.24.2 in /Users/dianapayton/opt/miniconda3/lib/python3.9/site-packages (from pyc8) (1.5.0)\r\n",
      "Requirement already satisfied: six in /Users/dianapayton/opt/miniconda3/lib/python3.9/site-packages (from pyc8) (1.16.0)\r\n",
      "Requirement already satisfied: requests==2.25.1 in /Users/dianapayton/opt/miniconda3/lib/python3.9/site-packages (from pyc8) (2.25.1)\r\n",
      "Requirement already satisfied: chardet<5,>=3.0.2 in /Users/dianapayton/opt/miniconda3/lib/python3.9/site-packages (from requests==2.25.1->pyc8) (4.0.0)\r\n",
      "Requirement already satisfied: certifi>=2017.4.17 in /Users/dianapayton/opt/miniconda3/lib/python3.9/site-packages (from requests==2.25.1->pyc8) (2021.10.8)\r\n",
      "Requirement already satisfied: urllib3<1.27,>=1.21.1 in /Users/dianapayton/opt/miniconda3/lib/python3.9/site-packages (from requests==2.25.1->pyc8) (1.26.8)\r\n",
      "Requirement already satisfied: idna<3,>=2.5 in /Users/dianapayton/opt/miniconda3/lib/python3.9/site-packages (from requests==2.25.1->pyc8) (2.10)\r\n",
      "Requirement already satisfied: pytz>=2020.1 in /Users/dianapayton/opt/miniconda3/lib/python3.9/site-packages (from pandas>=0.24.2->pyc8) (2022.4)\r\n",
      "Requirement already satisfied: numpy>=1.20.3 in /Users/dianapayton/opt/miniconda3/lib/python3.9/site-packages (from pandas>=0.24.2->pyc8) (1.23.4)\r\n",
      "Requirement already satisfied: python-dateutil>=2.8.1 in /Users/dianapayton/opt/miniconda3/lib/python3.9/site-packages (from pandas>=0.24.2->pyc8) (2.8.2)\r\n"
     ]
    }
   ],
   "source": [
    "!pip3 install pyc8"
   ]
  },
  {
   "cell_type": "code",
   "execution_count": 2,
   "id": "74f88615",
   "metadata": {},
   "outputs": [
    {
     "name": "stdout",
     "output_type": "stream",
     "text": [
      "\u001b[K\u001b[?25hm#########\u001b[0m\u001b[100;90m⠂⠂⠂⠂⠂⠂⠂⠂⠂\u001b[0m) ⠙ idealTree: \u001b[32;40mtiming\u001b[0m \u001b[35midealTree\u001b[0m Completed in 208ms\u001b[0m\u001b[K\n",
      "up to date, audited 26 packages in 357ms\n",
      "\n",
      "1 package is looking for funding\n",
      "  run `npm fund` for details\n",
      "\n",
      "found \u001b[32m\u001b[1m0\u001b[22m\u001b[39m vulnerabilities\n"
     ]
    }
   ],
   "source": [
    "!npm install jsc8 --save"
   ]
  },
  {
   "cell_type": "code",
   "execution_count": 3,
   "id": "79106137",
   "metadata": {},
   "outputs": [],
   "source": [
    "from operator import concat\n",
    "import base64\n",
    "import json\n",
    "import warnings\n",
    "from c8 import C8Client\n",
    "import six\n",
    "warnings.filterwarnings(\"ignore\")"
   ]
  },
  {
   "cell_type": "code",
   "execution_count": 4,
   "id": "4570aae8",
   "metadata": {},
   "outputs": [],
   "source": [
    "URL = \"gdn.paas.macrometa.io\"\n",
    "GEO_FABRIC = \"_system\"\n",
    "API_KEY = \"diana.payton_macrometa.com.mykey.eFEvSibM2pUqsaSoL0S54ubZ0kzAU3U6iWAXRiQDqB7PSClEYMhq3WI2gEbvxYxK9c6eb4\""
   ]
  },
  {
   "cell_type": "code",
   "execution_count": 5,
   "id": "ad79ca0e",
   "metadata": {},
   "outputs": [
    {
     "name": "stdout",
     "output_type": "stream",
     "text": [
      "--- Connecting to C8\n"
     ]
    }
   ],
   "source": [
    "print(\"--- Connecting to C8\")\n",
    "## Simple Way\n",
    "client = C8Client(protocol='https', host=URL, port=443, apikey = API_KEY, geofabric = GEO_FABRIC)"
   ]
  },
  {
   "cell_type": "code",
   "execution_count": 6,
   "id": "3191d03a",
   "metadata": {},
   "outputs": [
    {
     "name": "stdout",
     "output_type": "stream",
     "text": [
      "Get geo fabric details...\n",
      "[{'name': '_system', 'options': {'associated_regions': ['gdn-ap-west', 'gdn-us-east', 'gdn-ap-south', 'gdn-ap-northeast', 'gdn-eu-west', 'gdn-ap-sydney', 'gdn-eu-central', 'gdn-us-central', 'gdn-us-west'], 'clusters': ['gdn-us-west', 'gdn-eu-central', 'gdn-eu-west', 'gdn-ap-south', 'gdn-us-east', 'gdn-ap-sydney', 'gdn-ap-west', 'gdn-us-central', 'gdn-ap-northeast'], 'dcList': 'gdn-us-west,gdn-eu-central,gdn-eu-west,gdn-ap-south,gdn-us-east,gdn-ap-sydney,gdn-ap-west,gdn-us-central,gdn-ap-northeast', 'dynamo_local_tables': False, 'metadata': None, 'name': 'diana.payton_macrometa.com._system', 'realTime': True, 'spotDc': '', 'status': 'available', 'tenant': 'diana.payton_macrometa.com'}}]\n"
     ]
    }
   ],
   "source": [
    "print(\"Get geo fabric details...\")\n",
    "print(client.get_fabric_details())"
   ]
  },
  {
   "cell_type": "code",
   "execution_count": 9,
   "id": "8f981b4c",
   "metadata": {},
   "outputs": [
    {
     "name": "stdout",
     "output_type": "stream",
     "text": [
      "Stream already exists\n",
      "OLD Producer = gdnlocal.streamQuickstart\n",
      "Get Streams:  [{'name': 'c8globals.streamQuickstart', 'topic': 'c8globals.streamQuickstart', 'local': False, 'db': 'diana.payton_macrometa.com._system', 'tenant': 'diana.payton_macrometa.com', 'type': 'persistent', 'status': 'active'}]\n"
     ]
    }
   ],
   "source": [
    "prefixText = \"\"\n",
    "prefixBool = True\n",
    "demo_stream = 'streamQuickstart'\n",
    "    \n",
    "# Get the right prefix for the stream\n",
    "if prefixBool:\n",
    "    prefixText = \"gdnlocal.\"\n",
    "else:\n",
    "    prefixText = \"gdnglobal.\"\n",
    "\n",
    "\n",
    "streamName = {\"stream-id\": \"\"}\n",
    "if client.has_stream(demo_stream, local = prefixBool):\n",
    "    print(\"Stream already exists\")\n",
    "    streamName[\"stream-id\"] = concat(prefixText, demo_stream)\n",
    "    print (\"OLD Producer =\",  streamName[\"stream-id\"])\n",
    "else:\n",
    "    #print(client.create_stream(demo_stream, local=prefixBool))\n",
    "    streamName = client.create_stream(demo_stream, local=prefixBool)\n",
    "    print (\"NEW Producer =\",  streamName[\"stream-id\"])\n",
    "\n",
    "print(\"Get Streams: \", client.get_streams())\n",
    "\n"
   ]
  },
  {
   "cell_type": "code",
   "execution_count": 8,
   "id": "63824405",
   "metadata": {},
   "outputs": [
    {
     "name": "stdout",
     "output_type": "stream",
     "text": [
      "NEW Producer = c8globals.streamQuickstart\n",
      "Get Streams:  [{'name': 'c8globals.streamQuickstart', 'topic': 'c8globals.streamQuickstart', 'local': False, 'db': 'diana.payton_macrometa.com._system', 'tenant': 'diana.payton_macrometa.com', 'type': 'persistent', 'status': 'active'}]\n"
     ]
    }
   ],
   "source": [
    "prefixText = \"\"\n",
    "prefixBool = False\n",
    "demo_stream = 'streamQuickstart'\n",
    "    \n",
    "# Get the right prefix for the stream\n",
    "if prefixBool:\n",
    "    prefixText = \"gdnlocal.\"\n",
    "else:\n",
    "    prefixText = \"gdnglobal.\"\n",
    "\n",
    "\n",
    "streamName = {\"stream-id\": \"\"}\n",
    "if client.has_stream(demo_stream, local = prefixBool):\n",
    "    print(\"Stream already exists\")\n",
    "    streamName[\"stream-id\"] = concat(prefixText, demo_stream)\n",
    "    print (\"OLD Producer =\",  streamName[\"stream-id\"])\n",
    "else:\n",
    "    #print(client.create_stream(demo_stream, local=prefixBool))\n",
    "    streamName = client.create_stream(demo_stream, local=prefixBool)\n",
    "    print (\"NEW Producer =\",  streamName[\"stream-id\"])\n",
    "\n",
    "print(\"Get Streams: \", client.get_streams())\n"
   ]
  },
  {
   "cell_type": "code",
   "execution_count": 10,
   "id": "a6896712",
   "metadata": {},
   "outputs": [
    {
     "name": "stdout",
     "output_type": "stream",
     "text": [
      "Calling has steram from create_producer:  c8locals.streamQuickstart True\n",
      "wss://api-gdn-us-west.paas.macrometa.io/_ws/ws/v2/producer/persistent/diana.payton_macrometa.com/c8local._system/c8locals.streamQuickstart\n"
     ]
    },
    {
     "ename": "SSLCertVerificationError",
     "evalue": "[SSL: CERTIFICATE_VERIFY_FAILED] certificate verify failed: self signed certificate in certificate chain (_ssl.c:997)",
     "output_type": "error",
     "traceback": [
      "\u001b[0;31m---------------------------------------------------------------------------\u001b[0m",
      "\u001b[0;31mSSLCertVerificationError\u001b[0m                  Traceback (most recent call last)",
      "Input \u001b[0;32mIn [10]\u001b[0m, in \u001b[0;36m<cell line: 1>\u001b[0;34m()\u001b[0m\n\u001b[0;32m----> 1\u001b[0m producer \u001b[38;5;241m=\u001b[39m \u001b[43mclient\u001b[49m\u001b[38;5;241;43m.\u001b[39;49m\u001b[43mcreate_stream_producer\u001b[49m\u001b[43m(\u001b[49m\u001b[43mdemo_stream\u001b[49m\u001b[43m,\u001b[49m\u001b[43m \u001b[49m\u001b[43mlocal\u001b[49m\u001b[38;5;241;43m=\u001b[39;49m\u001b[43mprefixBool\u001b[49m\u001b[43m)\u001b[49m\n\u001b[1;32m      2\u001b[0m \u001b[38;5;28;01mfor\u001b[39;00m i \u001b[38;5;129;01min\u001b[39;00m \u001b[38;5;28mrange\u001b[39m(\u001b[38;5;241m10\u001b[39m):\n\u001b[1;32m      3\u001b[0m     msg1 \u001b[38;5;241m=\u001b[39m \u001b[38;5;124m\"\u001b[39m\u001b[38;5;124mPersistent Hello from \u001b[39m\u001b[38;5;124m\"\u001b[39m \u001b[38;5;241m+\u001b[39m \u001b[38;5;124m\"\u001b[39m\u001b[38;5;124m(\u001b[39m\u001b[38;5;124m\"\u001b[39m\u001b[38;5;241m+\u001b[39m \u001b[38;5;28mstr\u001b[39m(i) \u001b[38;5;241m+\u001b[39m\u001b[38;5;124m\"\u001b[39m\u001b[38;5;124m)\u001b[39m\u001b[38;5;124m\"\u001b[39m\n",
      "File \u001b[0;32m/Library/Frameworks/Python.framework/Versions/3.10/lib/python3.10/site-packages/c8/client.py:1224\u001b[0m, in \u001b[0;36mC8Client.create_stream_producer\u001b[0;34m(self, stream, isCollectionStream, local, producer_name, initial_sequence_id, send_timeout_millis, compression_type, max_pending_messages, batching_enabled, batching_max_messages, batching_max_allowed_size_in_bytes, batching_max_publish_delay_ms, message_routing_mode)\u001b[0m\n\u001b[1;32m   1179\u001b[0m \u001b[38;5;124;03m\"\"\"Create a new producer on a given stream.\u001b[39;00m\n\u001b[1;32m   1180\u001b[0m \n\u001b[1;32m   1181\u001b[0m \u001b[38;5;124;03m**Args**\u001b[39;00m\n\u001b[0;32m   (...)\u001b[0m\n\u001b[1;32m   1221\u001b[0m \n\u001b[1;32m   1222\u001b[0m \u001b[38;5;124;03m\"\"\"\u001b[39;00m\n\u001b[1;32m   1223\u001b[0m _stream \u001b[38;5;241m=\u001b[39m \u001b[38;5;28mself\u001b[39m\u001b[38;5;241m.\u001b[39m_fabric\u001b[38;5;241m.\u001b[39mstream()\n\u001b[0;32m-> 1224\u001b[0m \u001b[38;5;28;01mreturn\u001b[39;00m \u001b[43m_stream\u001b[49m\u001b[38;5;241;43m.\u001b[39;49m\u001b[43mcreate_producer\u001b[49m\u001b[43m(\u001b[49m\u001b[43mstream\u001b[49m\u001b[43m,\u001b[49m\u001b[43m \u001b[49m\u001b[43misCollectionStream\u001b[49m\u001b[38;5;241;43m=\u001b[39;49m\u001b[43misCollectionStream\u001b[49m\u001b[43m,\u001b[49m\n\u001b[1;32m   1225\u001b[0m \u001b[43m                               \u001b[49m\u001b[43mlocal\u001b[49m\u001b[38;5;241;43m=\u001b[39;49m\u001b[43mlocal\u001b[49m\u001b[43m,\u001b[49m\u001b[43m \u001b[49m\u001b[43mproducer_name\u001b[49m\u001b[38;5;241;43m=\u001b[39;49m\u001b[43mproducer_name\u001b[49m\u001b[43m,\u001b[49m\n\u001b[1;32m   1226\u001b[0m \u001b[43m                               \u001b[49m\u001b[43minitial_sequence_id\u001b[49m\u001b[38;5;241;43m=\u001b[39;49m\u001b[43minitial_sequence_id\u001b[49m\u001b[43m,\u001b[49m\n\u001b[1;32m   1227\u001b[0m \u001b[43m                               \u001b[49m\u001b[43msend_timeout_millis\u001b[49m\u001b[38;5;241;43m=\u001b[39;49m\u001b[43msend_timeout_millis\u001b[49m\u001b[43m,\u001b[49m\n\u001b[1;32m   1228\u001b[0m \u001b[43m                               \u001b[49m\u001b[43mcompression_type\u001b[49m\u001b[38;5;241;43m=\u001b[39;49m\u001b[43mcompression_type\u001b[49m\u001b[43m,\u001b[49m\n\u001b[1;32m   1229\u001b[0m \u001b[43m                               \u001b[49m\u001b[43mmax_pending_messages\u001b[49m\u001b[38;5;241;43m=\u001b[39;49m\u001b[43mmax_pending_messages\u001b[49m\u001b[43m,\u001b[49m\n\u001b[1;32m   1230\u001b[0m \u001b[43m                               \u001b[49m\u001b[43mbatching_enabled\u001b[49m\u001b[38;5;241;43m=\u001b[39;49m\u001b[43mbatching_enabled\u001b[49m\u001b[43m,\u001b[49m\n\u001b[1;32m   1231\u001b[0m \u001b[43m                               \u001b[49m\u001b[43mbatching_max_messages\u001b[49m\u001b[38;5;241;43m=\u001b[39;49m\u001b[43mbatching_max_messages\u001b[49m\u001b[43m,\u001b[49m\n\u001b[1;32m   1232\u001b[0m \u001b[43m                               \u001b[49m\u001b[43mbatching_max_allowed_size_in_bytes\u001b[49m\u001b[38;5;241;43m=\u001b[39;49m\u001b[43mbatching_max_allowed_size_in_bytes\u001b[49m\u001b[43m,\u001b[49m\n\u001b[1;32m   1233\u001b[0m \u001b[43m                               \u001b[49m\u001b[43mbatching_max_publish_delay_ms\u001b[49m\u001b[38;5;241;43m=\u001b[39;49m\u001b[43mbatching_max_publish_delay_ms\u001b[49m\u001b[43m,\u001b[49m\n\u001b[1;32m   1234\u001b[0m \u001b[43m                               \u001b[49m\u001b[43mmessage_routing_mode\u001b[49m\u001b[38;5;241;43m=\u001b[39;49m\u001b[43mmessage_routing_mode\u001b[49m\u001b[43m)\u001b[49m\n",
      "File \u001b[0;32m/Library/Frameworks/Python.framework/Versions/3.10/lib/python3.10/site-packages/c8/stream_collection.py:155\u001b[0m, in \u001b[0;36mStreamCollection.create_producer\u001b[0;34m(self, stream, isCollectionStream, local, producer_name, initial_sequence_id, send_timeout_millis, compression_type, max_pending_messages, batching_enabled, batching_max_messages, batching_max_allowed_size_in_bytes, batching_max_publish_delay_ms, message_routing_mode)\u001b[0m\n\u001b[1;32m    153\u001b[0m     url \u001b[38;5;241m=\u001b[39m \u001b[38;5;28mself\u001b[39m\u001b[38;5;241m.\u001b[39m_ws_url \u001b[38;5;241m+\u001b[39m topic \n\u001b[1;32m    154\u001b[0m     \u001b[38;5;28mprint\u001b[39m(url)\n\u001b[0;32m--> 155\u001b[0m     \u001b[38;5;28;01mreturn\u001b[39;00m \u001b[43mwebsocket\u001b[49m\u001b[38;5;241;43m.\u001b[39;49m\u001b[43mcreate_connection\u001b[49m\u001b[43m(\u001b[49m\u001b[43murl\u001b[49m\u001b[43m,\u001b[49m\u001b[43m \u001b[49m\u001b[43mheader\u001b[49m\u001b[38;5;241;43m=\u001b[39;49m\u001b[43m{\u001b[49m\u001b[38;5;124;43m'\u001b[39;49m\u001b[38;5;124;43mAuthorization\u001b[39;49m\u001b[38;5;124;43m'\u001b[39;49m\u001b[43m \u001b[49m\u001b[43m:\u001b[49m\u001b[43m \u001b[49m\u001b[38;5;28;43mself\u001b[39;49m\u001b[38;5;241;43m.\u001b[39;49m\u001b[43mheader\u001b[49m\u001b[43m[\u001b[49m\u001b[38;5;124;43m'\u001b[39;49m\u001b[38;5;124;43mAuthorization\u001b[39;49m\u001b[38;5;124;43m'\u001b[39;49m\u001b[43m]\u001b[49m\u001b[43m}\u001b[49m\u001b[43m,\u001b[49m\u001b[43m \u001b[49m\u001b[43mclass_\u001b[49m\u001b[38;5;241;43m=\u001b[39;49m\u001b[43mBase64Socket\u001b[49m\u001b[43m)\u001b[49m\n\u001b[1;32m    157\u001b[0m \u001b[38;5;28;01mraise\u001b[39;00m ex\u001b[38;5;241m.\u001b[39mStreamProducerError(\n\u001b[1;32m    158\u001b[0m     \u001b[38;5;124m\"\u001b[39m\u001b[38;5;124mNo stream present with name:\u001b[39m\u001b[38;5;124m\"\u001b[39m \u001b[38;5;241m+\u001b[39m stream \u001b[38;5;241m+\u001b[39m\n\u001b[1;32m    159\u001b[0m     \u001b[38;5;124m\"\u001b[39m\u001b[38;5;124m. Please create a stream and then stream producer\u001b[39m\u001b[38;5;124m\"\u001b[39m\n\u001b[1;32m    160\u001b[0m )\n",
      "File \u001b[0;32m/Library/Frameworks/Python.framework/Versions/3.10/lib/python3.10/site-packages/websocket/_core.py:515\u001b[0m, in \u001b[0;36mcreate_connection\u001b[0;34m(url, timeout, class_, **options)\u001b[0m\n\u001b[1;32m    510\u001b[0m websock \u001b[38;5;241m=\u001b[39m class_(sockopt\u001b[38;5;241m=\u001b[39msockopt, sslopt\u001b[38;5;241m=\u001b[39msslopt,\n\u001b[1;32m    511\u001b[0m                  fire_cont_frame\u001b[38;5;241m=\u001b[39mfire_cont_frame,\n\u001b[1;32m    512\u001b[0m                  enable_multithread\u001b[38;5;241m=\u001b[39menable_multithread,\n\u001b[1;32m    513\u001b[0m                  skip_utf8_validation\u001b[38;5;241m=\u001b[39mskip_utf8_validation, \u001b[38;5;241m*\u001b[39m\u001b[38;5;241m*\u001b[39moptions)\n\u001b[1;32m    514\u001b[0m websock\u001b[38;5;241m.\u001b[39msettimeout(timeout \u001b[38;5;28;01mif\u001b[39;00m timeout \u001b[38;5;129;01mis\u001b[39;00m \u001b[38;5;129;01mnot\u001b[39;00m \u001b[38;5;28;01mNone\u001b[39;00m \u001b[38;5;28;01melse\u001b[39;00m getdefaulttimeout())\n\u001b[0;32m--> 515\u001b[0m \u001b[43mwebsock\u001b[49m\u001b[38;5;241;43m.\u001b[39;49m\u001b[43mconnect\u001b[49m\u001b[43m(\u001b[49m\u001b[43murl\u001b[49m\u001b[43m,\u001b[49m\u001b[43m \u001b[49m\u001b[38;5;241;43m*\u001b[39;49m\u001b[38;5;241;43m*\u001b[39;49m\u001b[43moptions\u001b[49m\u001b[43m)\u001b[49m\n\u001b[1;32m    516\u001b[0m \u001b[38;5;28;01mreturn\u001b[39;00m websock\n",
      "File \u001b[0;32m/Library/Frameworks/Python.framework/Versions/3.10/lib/python3.10/site-packages/websocket/_core.py:222\u001b[0m, in \u001b[0;36mWebSocket.connect\u001b[0;34m(self, url, **options)\u001b[0m\n\u001b[1;32m    219\u001b[0m \u001b[38;5;66;03m# FIXME: \"subprotocols\" are getting lost, not passed down\u001b[39;00m\n\u001b[1;32m    220\u001b[0m \u001b[38;5;66;03m# FIXME: \"header\", \"cookie\", \"origin\" and \"host\" too\u001b[39;00m\n\u001b[1;32m    221\u001b[0m \u001b[38;5;28mself\u001b[39m\u001b[38;5;241m.\u001b[39msock_opt\u001b[38;5;241m.\u001b[39mtimeout \u001b[38;5;241m=\u001b[39m options\u001b[38;5;241m.\u001b[39mget(\u001b[38;5;124m'\u001b[39m\u001b[38;5;124mtimeout\u001b[39m\u001b[38;5;124m'\u001b[39m, \u001b[38;5;28mself\u001b[39m\u001b[38;5;241m.\u001b[39msock_opt\u001b[38;5;241m.\u001b[39mtimeout)\n\u001b[0;32m--> 222\u001b[0m \u001b[38;5;28mself\u001b[39m\u001b[38;5;241m.\u001b[39msock, addrs \u001b[38;5;241m=\u001b[39m \u001b[43mconnect\u001b[49m\u001b[43m(\u001b[49m\u001b[43murl\u001b[49m\u001b[43m,\u001b[49m\u001b[43m \u001b[49m\u001b[38;5;28;43mself\u001b[39;49m\u001b[38;5;241;43m.\u001b[39;49m\u001b[43msock_opt\u001b[49m\u001b[43m,\u001b[49m\u001b[43m \u001b[49m\u001b[43mproxy_info\u001b[49m\u001b[43m(\u001b[49m\u001b[38;5;241;43m*\u001b[39;49m\u001b[38;5;241;43m*\u001b[39;49m\u001b[43moptions\u001b[49m\u001b[43m)\u001b[49m\u001b[43m,\u001b[49m\n\u001b[1;32m    223\u001b[0m \u001b[43m                           \u001b[49m\u001b[43moptions\u001b[49m\u001b[38;5;241;43m.\u001b[39;49m\u001b[43mpop\u001b[49m\u001b[43m(\u001b[49m\u001b[38;5;124;43m'\u001b[39;49m\u001b[38;5;124;43msocket\u001b[39;49m\u001b[38;5;124;43m'\u001b[39;49m\u001b[43m,\u001b[49m\u001b[43m \u001b[49m\u001b[38;5;28;43;01mNone\u001b[39;49;00m\u001b[43m)\u001b[49m\u001b[43m)\u001b[49m\n\u001b[1;32m    225\u001b[0m \u001b[38;5;28;01mtry\u001b[39;00m:\n\u001b[1;32m    226\u001b[0m     \u001b[38;5;28mself\u001b[39m\u001b[38;5;241m.\u001b[39mhandshake_response \u001b[38;5;241m=\u001b[39m handshake(\u001b[38;5;28mself\u001b[39m\u001b[38;5;241m.\u001b[39msock, \u001b[38;5;241m*\u001b[39maddrs, \u001b[38;5;241m*\u001b[39m\u001b[38;5;241m*\u001b[39moptions)\n",
      "File \u001b[0;32m/Library/Frameworks/Python.framework/Versions/3.10/lib/python3.10/site-packages/websocket/_http.py:127\u001b[0m, in \u001b[0;36mconnect\u001b[0;34m(url, options, proxy, socket)\u001b[0m\n\u001b[1;32m    125\u001b[0m \u001b[38;5;28;01mif\u001b[39;00m is_secure:\n\u001b[1;32m    126\u001b[0m     \u001b[38;5;28;01mif\u001b[39;00m HAVE_SSL:\n\u001b[0;32m--> 127\u001b[0m         sock \u001b[38;5;241m=\u001b[39m \u001b[43m_ssl_socket\u001b[49m\u001b[43m(\u001b[49m\u001b[43msock\u001b[49m\u001b[43m,\u001b[49m\u001b[43m \u001b[49m\u001b[43moptions\u001b[49m\u001b[38;5;241;43m.\u001b[39;49m\u001b[43msslopt\u001b[49m\u001b[43m,\u001b[49m\u001b[43m \u001b[49m\u001b[43mhostname\u001b[49m\u001b[43m)\u001b[49m\n\u001b[1;32m    128\u001b[0m     \u001b[38;5;28;01melse\u001b[39;00m:\n\u001b[1;32m    129\u001b[0m         \u001b[38;5;28;01mraise\u001b[39;00m WebSocketException(\u001b[38;5;124m\"\u001b[39m\u001b[38;5;124mSSL not available.\u001b[39m\u001b[38;5;124m\"\u001b[39m)\n",
      "File \u001b[0;32m/Library/Frameworks/Python.framework/Versions/3.10/lib/python3.10/site-packages/websocket/_http.py:264\u001b[0m, in \u001b[0;36m_ssl_socket\u001b[0;34m(sock, user_sslopt, hostname)\u001b[0m\n\u001b[1;32m    260\u001b[0m check_hostname \u001b[38;5;241m=\u001b[39m sslopt[\u001b[38;5;124m\"\u001b[39m\u001b[38;5;124mcert_reqs\u001b[39m\u001b[38;5;124m\"\u001b[39m] \u001b[38;5;241m!=\u001b[39m ssl\u001b[38;5;241m.\u001b[39mCERT_NONE \u001b[38;5;129;01mand\u001b[39;00m sslopt\u001b[38;5;241m.\u001b[39mpop(\n\u001b[1;32m    261\u001b[0m     \u001b[38;5;124m'\u001b[39m\u001b[38;5;124mcheck_hostname\u001b[39m\u001b[38;5;124m'\u001b[39m, \u001b[38;5;28;01mTrue\u001b[39;00m)\n\u001b[1;32m    263\u001b[0m \u001b[38;5;28;01mif\u001b[39;00m _can_use_sni():\n\u001b[0;32m--> 264\u001b[0m     sock \u001b[38;5;241m=\u001b[39m \u001b[43m_wrap_sni_socket\u001b[49m\u001b[43m(\u001b[49m\u001b[43msock\u001b[49m\u001b[43m,\u001b[49m\u001b[43m \u001b[49m\u001b[43msslopt\u001b[49m\u001b[43m,\u001b[49m\u001b[43m \u001b[49m\u001b[43mhostname\u001b[49m\u001b[43m,\u001b[49m\u001b[43m \u001b[49m\u001b[43mcheck_hostname\u001b[49m\u001b[43m)\u001b[49m\n\u001b[1;32m    265\u001b[0m \u001b[38;5;28;01melse\u001b[39;00m:\n\u001b[1;32m    266\u001b[0m     sslopt\u001b[38;5;241m.\u001b[39mpop(\u001b[38;5;124m'\u001b[39m\u001b[38;5;124mcheck_hostname\u001b[39m\u001b[38;5;124m'\u001b[39m, \u001b[38;5;28;01mTrue\u001b[39;00m)\n",
      "File \u001b[0;32m/Library/Frameworks/Python.framework/Versions/3.10/lib/python3.10/site-packages/websocket/_http.py:239\u001b[0m, in \u001b[0;36m_wrap_sni_socket\u001b[0;34m(sock, sslopt, hostname, check_hostname)\u001b[0m\n\u001b[1;32m    236\u001b[0m \u001b[38;5;28;01mif\u001b[39;00m \u001b[38;5;124m'\u001b[39m\u001b[38;5;124mecdh_curve\u001b[39m\u001b[38;5;124m'\u001b[39m \u001b[38;5;129;01min\u001b[39;00m sslopt:\n\u001b[1;32m    237\u001b[0m     context\u001b[38;5;241m.\u001b[39mset_ecdh_curve(sslopt[\u001b[38;5;124m'\u001b[39m\u001b[38;5;124mecdh_curve\u001b[39m\u001b[38;5;124m'\u001b[39m])\n\u001b[0;32m--> 239\u001b[0m \u001b[38;5;28;01mreturn\u001b[39;00m \u001b[43mcontext\u001b[49m\u001b[38;5;241;43m.\u001b[39;49m\u001b[43mwrap_socket\u001b[49m\u001b[43m(\u001b[49m\n\u001b[1;32m    240\u001b[0m \u001b[43m    \u001b[49m\u001b[43msock\u001b[49m\u001b[43m,\u001b[49m\n\u001b[1;32m    241\u001b[0m \u001b[43m    \u001b[49m\u001b[43mdo_handshake_on_connect\u001b[49m\u001b[38;5;241;43m=\u001b[39;49m\u001b[43msslopt\u001b[49m\u001b[38;5;241;43m.\u001b[39;49m\u001b[43mget\u001b[49m\u001b[43m(\u001b[49m\u001b[38;5;124;43m'\u001b[39;49m\u001b[38;5;124;43mdo_handshake_on_connect\u001b[39;49m\u001b[38;5;124;43m'\u001b[39;49m\u001b[43m,\u001b[49m\u001b[43m \u001b[49m\u001b[38;5;28;43;01mTrue\u001b[39;49;00m\u001b[43m)\u001b[49m\u001b[43m,\u001b[49m\n\u001b[1;32m    242\u001b[0m \u001b[43m    \u001b[49m\u001b[43msuppress_ragged_eofs\u001b[49m\u001b[38;5;241;43m=\u001b[39;49m\u001b[43msslopt\u001b[49m\u001b[38;5;241;43m.\u001b[39;49m\u001b[43mget\u001b[49m\u001b[43m(\u001b[49m\u001b[38;5;124;43m'\u001b[39;49m\u001b[38;5;124;43msuppress_ragged_eofs\u001b[39;49m\u001b[38;5;124;43m'\u001b[39;49m\u001b[43m,\u001b[49m\u001b[43m \u001b[49m\u001b[38;5;28;43;01mTrue\u001b[39;49;00m\u001b[43m)\u001b[49m\u001b[43m,\u001b[49m\n\u001b[1;32m    243\u001b[0m \u001b[43m    \u001b[49m\u001b[43mserver_hostname\u001b[49m\u001b[38;5;241;43m=\u001b[39;49m\u001b[43mhostname\u001b[49m\u001b[43m,\u001b[49m\n\u001b[1;32m    244\u001b[0m \u001b[43m\u001b[49m\u001b[43m)\u001b[49m\n",
      "File \u001b[0;32m/Library/Frameworks/Python.framework/Versions/3.10/lib/python3.10/ssl.py:513\u001b[0m, in \u001b[0;36mSSLContext.wrap_socket\u001b[0;34m(self, sock, server_side, do_handshake_on_connect, suppress_ragged_eofs, server_hostname, session)\u001b[0m\n\u001b[1;32m    507\u001b[0m \u001b[38;5;28;01mdef\u001b[39;00m \u001b[38;5;21mwrap_socket\u001b[39m(\u001b[38;5;28mself\u001b[39m, sock, server_side\u001b[38;5;241m=\u001b[39m\u001b[38;5;28;01mFalse\u001b[39;00m,\n\u001b[1;32m    508\u001b[0m                 do_handshake_on_connect\u001b[38;5;241m=\u001b[39m\u001b[38;5;28;01mTrue\u001b[39;00m,\n\u001b[1;32m    509\u001b[0m                 suppress_ragged_eofs\u001b[38;5;241m=\u001b[39m\u001b[38;5;28;01mTrue\u001b[39;00m,\n\u001b[1;32m    510\u001b[0m                 server_hostname\u001b[38;5;241m=\u001b[39m\u001b[38;5;28;01mNone\u001b[39;00m, session\u001b[38;5;241m=\u001b[39m\u001b[38;5;28;01mNone\u001b[39;00m):\n\u001b[1;32m    511\u001b[0m     \u001b[38;5;66;03m# SSLSocket class handles server_hostname encoding before it calls\u001b[39;00m\n\u001b[1;32m    512\u001b[0m     \u001b[38;5;66;03m# ctx._wrap_socket()\u001b[39;00m\n\u001b[0;32m--> 513\u001b[0m     \u001b[38;5;28;01mreturn\u001b[39;00m \u001b[38;5;28;43mself\u001b[39;49m\u001b[38;5;241;43m.\u001b[39;49m\u001b[43msslsocket_class\u001b[49m\u001b[38;5;241;43m.\u001b[39;49m\u001b[43m_create\u001b[49m\u001b[43m(\u001b[49m\n\u001b[1;32m    514\u001b[0m \u001b[43m        \u001b[49m\u001b[43msock\u001b[49m\u001b[38;5;241;43m=\u001b[39;49m\u001b[43msock\u001b[49m\u001b[43m,\u001b[49m\n\u001b[1;32m    515\u001b[0m \u001b[43m        \u001b[49m\u001b[43mserver_side\u001b[49m\u001b[38;5;241;43m=\u001b[39;49m\u001b[43mserver_side\u001b[49m\u001b[43m,\u001b[49m\n\u001b[1;32m    516\u001b[0m \u001b[43m        \u001b[49m\u001b[43mdo_handshake_on_connect\u001b[49m\u001b[38;5;241;43m=\u001b[39;49m\u001b[43mdo_handshake_on_connect\u001b[49m\u001b[43m,\u001b[49m\n\u001b[1;32m    517\u001b[0m \u001b[43m        \u001b[49m\u001b[43msuppress_ragged_eofs\u001b[49m\u001b[38;5;241;43m=\u001b[39;49m\u001b[43msuppress_ragged_eofs\u001b[49m\u001b[43m,\u001b[49m\n\u001b[1;32m    518\u001b[0m \u001b[43m        \u001b[49m\u001b[43mserver_hostname\u001b[49m\u001b[38;5;241;43m=\u001b[39;49m\u001b[43mserver_hostname\u001b[49m\u001b[43m,\u001b[49m\n\u001b[1;32m    519\u001b[0m \u001b[43m        \u001b[49m\u001b[43mcontext\u001b[49m\u001b[38;5;241;43m=\u001b[39;49m\u001b[38;5;28;43mself\u001b[39;49m\u001b[43m,\u001b[49m\n\u001b[1;32m    520\u001b[0m \u001b[43m        \u001b[49m\u001b[43msession\u001b[49m\u001b[38;5;241;43m=\u001b[39;49m\u001b[43msession\u001b[49m\n\u001b[1;32m    521\u001b[0m \u001b[43m    \u001b[49m\u001b[43m)\u001b[49m\n",
      "File \u001b[0;32m/Library/Frameworks/Python.framework/Versions/3.10/lib/python3.10/ssl.py:1071\u001b[0m, in \u001b[0;36mSSLSocket._create\u001b[0;34m(cls, sock, server_side, do_handshake_on_connect, suppress_ragged_eofs, server_hostname, context, session)\u001b[0m\n\u001b[1;32m   1068\u001b[0m         \u001b[38;5;28;01mif\u001b[39;00m timeout \u001b[38;5;241m==\u001b[39m \u001b[38;5;241m0.0\u001b[39m:\n\u001b[1;32m   1069\u001b[0m             \u001b[38;5;66;03m# non-blocking\u001b[39;00m\n\u001b[1;32m   1070\u001b[0m             \u001b[38;5;28;01mraise\u001b[39;00m \u001b[38;5;167;01mValueError\u001b[39;00m(\u001b[38;5;124m\"\u001b[39m\u001b[38;5;124mdo_handshake_on_connect should not be specified for non-blocking sockets\u001b[39m\u001b[38;5;124m\"\u001b[39m)\n\u001b[0;32m-> 1071\u001b[0m         \u001b[38;5;28;43mself\u001b[39;49m\u001b[38;5;241;43m.\u001b[39;49m\u001b[43mdo_handshake\u001b[49m\u001b[43m(\u001b[49m\u001b[43m)\u001b[49m\n\u001b[1;32m   1072\u001b[0m \u001b[38;5;28;01mexcept\u001b[39;00m (\u001b[38;5;167;01mOSError\u001b[39;00m, \u001b[38;5;167;01mValueError\u001b[39;00m):\n\u001b[1;32m   1073\u001b[0m     \u001b[38;5;28mself\u001b[39m\u001b[38;5;241m.\u001b[39mclose()\n",
      "File \u001b[0;32m/Library/Frameworks/Python.framework/Versions/3.10/lib/python3.10/ssl.py:1342\u001b[0m, in \u001b[0;36mSSLSocket.do_handshake\u001b[0;34m(self, block)\u001b[0m\n\u001b[1;32m   1340\u001b[0m     \u001b[38;5;28;01mif\u001b[39;00m timeout \u001b[38;5;241m==\u001b[39m \u001b[38;5;241m0.0\u001b[39m \u001b[38;5;129;01mand\u001b[39;00m block:\n\u001b[1;32m   1341\u001b[0m         \u001b[38;5;28mself\u001b[39m\u001b[38;5;241m.\u001b[39msettimeout(\u001b[38;5;28;01mNone\u001b[39;00m)\n\u001b[0;32m-> 1342\u001b[0m     \u001b[38;5;28;43mself\u001b[39;49m\u001b[38;5;241;43m.\u001b[39;49m\u001b[43m_sslobj\u001b[49m\u001b[38;5;241;43m.\u001b[39;49m\u001b[43mdo_handshake\u001b[49m\u001b[43m(\u001b[49m\u001b[43m)\u001b[49m\n\u001b[1;32m   1343\u001b[0m \u001b[38;5;28;01mfinally\u001b[39;00m:\n\u001b[1;32m   1344\u001b[0m     \u001b[38;5;28mself\u001b[39m\u001b[38;5;241m.\u001b[39msettimeout(timeout)\n",
      "\u001b[0;31mSSLCertVerificationError\u001b[0m: [SSL: CERTIFICATE_VERIFY_FAILED] certificate verify failed: self signed certificate in certificate chain (_ssl.c:997)"
     ]
    }
   ],
   "source": [
    "producer = client.create_stream_producer(demo_stream, local=prefixBool)\n",
    "for i in range(10):\n",
    "    msg1 = \"Persistent Hello from \" + \"(\"+ str(i) +\")\"\n",
    "    data = {\n",
    "        \"payload\" : base64.b64encode(six.b(msg1)).decode(\"utf-8\")\n",
    "    }\n",
    "    print(\"Stream: \", msg1)\n",
    "    print(producer.send(json.dumps(data)))"
   ]
  },
  {
   "cell_type": "code",
   "execution_count": null,
   "id": "9dcc2dcb",
   "metadata": {},
   "outputs": [],
   "source": []
  }
 ],
 "metadata": {
  "kernelspec": {
   "display_name": "Python 3 (ipykernel)",
   "language": "python",
   "name": "python3"
  },
  "language_info": {
   "codemirror_mode": {
    "name": "ipython",
    "version": 3
   },
   "file_extension": ".py",
   "mimetype": "text/x-python",
   "name": "python",
   "nbconvert_exporter": "python",
   "pygments_lexer": "ipython3",
   "version": "3.10.5"
  }
 },
 "nbformat": 4,
 "nbformat_minor": 5
}
