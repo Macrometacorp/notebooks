{
 "cells": [
  {
   "cell_type": "markdown",
   "source": [
    "# Workbook 01 - Connecting to GDN Using the CLI"
   ],
   "metadata": {
    "collapsed": false,
    "kernelspec": {
     "display_name": "Bash",
     "name": "bash"
    }
   }
  },
  {
   "cell_type": "markdown",
   "id": "f63d4ffe",
   "metadata": {
    "kernelspec": {
     "display_name": "Bash",
     "name": "bash"
    }
   },
   "source": [
    "## Pre-requisite\n",
    "\n",
    "This workbook assumes you have created a Macrometa user account and used the web console to create an API key."
   ]
  },
  {
   "cell_type": "markdown",
   "id": "497ca67e",
   "metadata": {},
   "source": [
    "## Step 01-A - Install the Macrometa CLI\n",
    "Install the Macrometa CLI using npm. For more information see the [instructions in the documentation](https://macrometa.com/docs/gdnsl/overview). The Macrometa CLI requires Node.js, so ensure you have installed that prior to installing the Macrometa CLI."
   ]
  },
  {
   "cell_type": "code",
   "id": "ed443b08",
   "metadata": {
    "kernelspec": {
     "display_name": "Bash",
     "name": "bash"
    },
    "pycharm": {
     "is_executing": true
    }
   },
   "source": [
    "npm install -g gdnsl\n",
    "\n",
    "# Login credentials\n",
    "url=\"https://gdn.paas.macrometa.io\"\n",
    "email=\"email\"\n",
    "api_key=\"XXXX\"\n",
    "\n",
    "echo \"Creating gdnsl.yaml file\"\n",
    "\n",
    "cat << EOF\n",
    "url: $url\n",
    "email: $email\n",
    "apikey: $api_key\n",
    "regions:\n",
    "  - $regions\\\n",
    "EOF > gdnsl.yaml"
   ],
   "execution_count": null,
   "outputs": [
    {
     "name": "stdout",
     "output_type": "stream",
     "text": [
      "\u001B[K\u001B[?25hm##################\u001B[0m) ⠸ reify:rxjs: \u001B[32;40mtiming\u001B[0m \u001B[35mreifyNode:node_modules/gdnsl/node_mod\u001B[0m\u001B[Km\u001B[Ke_\u001B[0m\u001B[K\n",
      "removed 7 packages, changed 248 packages, and audited 249 packages in 11s\n",
      "\n",
      "28 packages are looking for funding\n",
      "  run `npm fund` for details\n",
      "\n",
      "9 moderate severity vulnerabilities\n",
      "\n",
      "To address issues that do not require attention, run:\n",
      "  npm audit fix\n",
      "\n",
      "To address all issues possible (including breaking changes), run:\n",
      "  npm audit fix --force\n",
      "\n",
      "Some issues need review, and may require choosing\n",
      "a different dependency.\n",
      "\n",
      "Run `npm audit` for details.\n",
      "Creating gdnsl.yaml file\n",
      "\u001B[K\u001B[?25hm##################\u001B[0m) ⠏ reify:rxjs: \u001B[32;40mtiming\u001B[0m \u001B[35mreifyNode:node_modules/gdnsl/node_mod\u001B[0m\u001B[Km\u001B[Kdn\u001B[0m\u001B[K\n",
      "changed 248 packages, and audited 249 packages in 2s\n",
      "\n",
      "28 packages are looking for funding\n",
      "  run `npm fund` for details\n",
      "\n",
      "9 moderate severity vulnerabilities\n",
      "\n",
      "To address issues that do not require attention, run:\n",
      "  npm audit fix\n",
      "\n",
      "To address all issues possible (including breaking changes), run:\n",
      "  npm audit fix --force\n",
      "\n",
      "Some issues need review, and may require choosing\n",
      "a different dependency.\n",
      "\n",
      "Run `npm audit` for details.\n",
      "Creating gdnsl.yaml file\n"
     ]
    }
   ]
  },
  {
   "cell_type": "markdown",
   "id": "8393267e",
   "metadata": {
    "kernelspec": {
     "display_name": "Bash",
     "name": "bash"
    }
   },
   "source": [
    "## Step 01-B - Get Accessible Resources"
   ]
  },
  {
   "cell_type": "code",
   "id": "d816ab61",
   "metadata": {
    "kernelspec": {
     "display_name": "Bash",
     "name": "bash"
    }
   },
   "source": [
    "# Fetch List of accessible databases and streams\n",
    "\n",
    "echo Collections:\n",
    "gdnsl collection list\n",
    "\n",
    "echo Streams:\n",
    "!gdnsl streams list"
   ],
   "execution_count": 4,
   "outputs": [
    {
     "name": "stdout",
     "output_type": "stream",
     "text": [
      "Collections:\n",
      "┌────────┐\n",
      "\u001B[37m│\u001B[0m\u001B[37m \u001B[0m\u001B[01mName  \u001B[0m\u001B[37m │\u001B[0m\n",
      "├────────┤\n",
      "\u001B[37m│\u001B[0m\u001B[37m \u001B[0m\u001B[37mcities\u001B[0m\u001B[37m │\u001B[0m\n",
      "└────────┘\n",
      "Streams:\n",
      "gdnsl collection list streams list\n",
      " ›   Error: command collection:list:streams:list not found\n"
     ]
    },
    {
     "ename": "",
     "evalue": "2",
     "output_type": "error",
     "traceback": []
    }
   ]
  },
  {
   "cell_type": "markdown",
   "id": "ba78680a",
   "metadata": {},
   "source": [
    "Congratulations you should have now connected to GDN, and checked to see what resources are available!"
   ]
  }
 ],
 "metadata": {
  "kernelspec": {
   "display_name": "Bash",
   "language": "bash",
   "name": "bash"
  },
  "language_info": {
   "codemirror_mode": "shell",
   "file_extension": ".sh",
   "mimetype": "text/x-sh",
   "name": "bash"
  }
 },
 "nbformat": 4,
 "nbformat_minor": 5
}