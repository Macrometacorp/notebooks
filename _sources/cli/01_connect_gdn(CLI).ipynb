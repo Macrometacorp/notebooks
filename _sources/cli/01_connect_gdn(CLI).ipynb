{
 "cells": [
  {
   "cell_type": "markdown",
   "id": "fa9ba27b",
   "metadata": {
    "kernelspec": {
     "display_name": "Bash",
     "name": "bash"
    }
   },
   "source": [
    "# CLI01 - Connecting to GDN"
   ]
  },
  {
   "cell_type": "markdown",
   "id": "f63d4ffe",
   "metadata": {
    "kernelspec": {
     "display_name": "Bash",
     "name": "bash"
    }
   },
   "source": [
    "## Pre-requisite\n",
    "\n",
    "This workbook assumes you have created a Macrometa user account and used the web console to create an API key."
   ]
  },
  {
   "cell_type": "markdown",
   "id": "497ca67e",
   "metadata": {},
   "source": [
    "## 1. Install the Macrometa CLI\n",
    "Install the Macrometa CLI using npm. For more information see the [instructions in the documentation](https://macrometa.com/docs/gdnsl/overview). The Macrometa CLI requires Node.js, so ensure you have installed that prior to installing the Macrometa CLI."
   ]
  },
  {
   "cell_type": "code",
   "execution_count": null,
   "id": "ed443b08",
   "metadata": {
    "kernelspec": {
     "display_name": "Bash",
     "name": "bash"
    },
    "pycharm": {
     "is_executing": true
    }
   },
   "outputs": [],
   "source": [
    "npm install -g gdnsl\n",
    "\n",
    "# Login credentials\n",
    "url=\"https://gdn.paas.macrometa.io\"\n",
    "email=\"email\"\n",
    "api_key=\"XXXX\"\n",
    "\n",
    "echo \"Creating gdnsl.yaml file\"\n",
    "\n",
    "cat << EOF\n",
    "url: $url\n",
    "email: $email\n",
    "apikey: $api_key\n",
    "regions:\n",
    "  - $regions\\\n",
    "EOF > gdnsl.yaml"
   ]
  },
  {
   "cell_type": "markdown",
   "id": "8393267e",
   "metadata": {
    "kernelspec": {
     "display_name": "Bash",
     "name": "bash"
    }
   },
   "source": [
    "## 2. Get Accessible Resources"
   ]
  },
  {
   "cell_type": "code",
   "execution_count": null,
   "id": "d816ab61",
   "metadata": {
    "kernelspec": {
     "display_name": "Bash",
     "name": "bash"
    }
   },
   "outputs": [],
   "source": [
    "# Fetch List of accessible databases and streams\n",
    "\n",
    "echo Collections:\n",
    "gdnsl collection list\n",
    "\n",
    "echo Streams:\n",
    "gdnsl streams list"
   ]
  },
  {
   "cell_type": "markdown",
   "id": "ba78680a",
   "metadata": {},
   "source": [
    "Congratulations you should have now connected to GDN, and checked to see what resources are available!"
   ]
  }
 ],
 "metadata": {
  "kernelspec": {
   "display_name": "Bash",
   "language": "bash",
   "name": "bash"
  },
  "language_info": {
   "codemirror_mode": "shell",
   "file_extension": ".sh",
   "mimetype": "text/x-sh",
   "name": "bash"
  }
 },
 "nbformat": 4,
 "nbformat_minor": 5
}
