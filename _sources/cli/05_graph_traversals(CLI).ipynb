{
 "cells": [
  {
   "cell_type": "markdown",
   "id": "f63d4ffe",
   "metadata": {
    "kernelspec": {
     "display_name": "Bash",
     "name": "bash"
    }
   },
   "source": [
    "# CLI05 - Graph Traversals\n",
    "\n",
    "## Overview\n",
    "\n",
    "A graph consists of vertices and edges. Vertices are stored as documents in vertex collections and edges stored as documents in edge collections. The collections used in a graph and their relations are specified with edge definitions.\n",
    "\n",
    "In this tutorial we will build a simple dating application called \"Hopefulls\", and then use graph traversals to see who has liked whom."
   ]
  },
  {
   "cell_type": "markdown",
   "id": "92e4743f",
   "metadata": {},
   "source": [
    "## Step 05-A - Importing Libraries & Define Variables"
   ]
  },
  {
   "cell_type": "code",
   "execution_count": 1,
   "id": "58664212",
   "metadata": {},
   "outputs": [],
   "source": [
    "# Variables\n",
    "collection_singles=\"Singles\";\n",
    "collection_likes=\"Likes\";\n",
    "collection_graph=\"Hopefulls_graph\"\n",
    "read_singles=\"FOR singles IN Singles RETURN singles\";\n",
    "read_likes=\"FOR likes IN Likes RETURN like\";\n",
    "Hopefulls_Client=\"SanJoseLou\";\n",
    "Hopefulls_Client2=\"StocktonPeria\";\n",
    "\n",
    "# Login credentials\n",
    "url=\"https://gdn.paas.macrometa.io\"\n",
    "email=\"email\"\n",
    "api_key=\"XXXX\"\n",
    "# You can either use LOCAL or ALL also Please enter the name of the regions. For multiple regions enter comma-separated names. For example: region1, region2.\n",
    "regions=\"ALL\""
   ]
  },
  {
   "cell_type": "markdown",
   "id": "ba931134",
   "metadata": {},
   "source": [
    "## Step 05-B - Connecting to GDN"
   ]
  },
  {
   "cell_type": "code",
   "execution_count": null,
   "id": "df9c4fae",
   "metadata": {},
   "outputs": [],
   "source": [
    "echo \"Creating gdnsl.yaml file\" \n",
    "\n",
    "echo \"url: $url\n",
    "email: $email\n",
    "apikey: $api_key\n",
    "regions:\n",
    "  - $regions\" > gdnsl.yaml\n",
    "\n",
    "echo \"------- CONNECTION SETUP  ------\"\n",
    "# if you are running this from terminal then you can ignore above step and run below command\n",
    "# gdnsl init"
   ]
  },
  {
   "cell_type": "markdown",
   "id": "d20f00af",
   "metadata": {},
   "source": [
    "## Step 05-C - Creating Collections"
   ]
  },
  {
   "cell_type": "code",
   "execution_count": null,
   "id": "2376438c",
   "metadata": {},
   "outputs": [],
   "source": [
    "# Create collections if not exists\n",
    "echo \"2a. CREATE_SINGLES_VERTEX_COLLECTION collection: $collection_singles\"\n",
    "gdnsl collection create $collection_singles --type doc \n",
    "\n",
    "echo \"2b. CREATE_LIKES_EDGE_COLLECTION collection: $collection_likes\"\n",
    "gdnsl collection create $collection_likes --type edge"
   ]
  },
  {
   "cell_type": "markdown",
   "id": "3f8c6821",
   "metadata": {},
   "source": [
    "## Step 05-D - Inserting Data - \"Singles\""
   ]
  },
  {
   "cell_type": "code",
   "execution_count": null,
   "id": "b6ab70af",
   "metadata": {},
   "outputs": [],
   "source": [
    "# Insert data into collections.\n",
    "echo \"3a. INSERT_SINGLES_DATA collection: $collection_singles\"\n",
    "\n",
    "gdnsl import $collection_singles --json \"[{\\\"full_name\\\":\\\"Kiel Dummer\\\",\\\"first_name\\\":\\\"Kiel\\\",\\\"last_name\\\":\\\"Dummer\\\",\\\"city\\\":\\\"Burbank\\\",\\\"state\\\":\\\"CA\\\",\\\"address\\\":\\\"40317 5th Crossing\\\",\\\"hopefulls_user_name\\\":\\\"BurbankKeil\\\",\\\"_key\\\":\\\"BurbankKeil\\\"},{\\\"full_name\\\":\\\"Pernell Winspare\\\",\\\"first_name\\\":\\\"Pernell\\\",\\\"last_name\\\":\\\"Winspare\\\",\\\"city\\\":\\\"San Diego\\\",\\\"state\\\":\\\"CA\\\",\\\"address\\\":\\\"596 Packers Pass\\\",\\\"hopefulls_user_name\\\":\\\"SanDiegoPernell\\\",\\\"_key\\\":\\\"SanDiegoPernell\\\"},{\\\"full_name\\\":\\\"Ava Kermath\\\",\\\"first_name\\\":\\\"Ava\\\",\\\"last_name\\\":\\\"Kermath\\\",\\\"city\\\":\\\"Berkeley\\\",\\\"state\\\":\\\"CA\\\",\\\"address\\\":\\\"2 Doe Crossing Junction\\\",\\\"hopefulls_user_name\\\":\\\"BerkeleyAva\\\",\\\"_key\\\":\\\"BerkeleyAva\\\"},{\\\"full_name\\\":\\\"Tremain McGrah\\\",\\\"first_name\\\":\\\"Tremain\\\",\\\"last_name\\\":\\\"McGrah\\\",\\\"city\\\":\\\"Torrance\\\",\\\"state\\\":\\\"CA\\\",\\\"address\\\":\\\"079 Russell Street\\\",\\\"hopefulls_user_name\\\":\\\"TorranceTremain\\\",\\\"_key\\\":\\\"TorranceTremain\\\"},{\\\"full_name\\\":\\\"Vidovik Boddam\\\",\\\"first_name\\\":\\\"Vidovik\\\",\\\"last_name\\\":\\\"Boddam\\\",\\\"city\\\":\\\"Los Angeles\\\",\\\"state\\\":\\\"CA\\\",\\\"address\\\":\\\"3 Brentwood Crossing\\\",\\\"hopefulls_user_name\\\":\\\"LosAngelesVidovik\\\",\\\"_key\\\":\\\"LosAngelesVidovik\\\"},{\\\"full_name\\\":\\\"Oralie Goward\\\",\\\"first_name\\\":\\\"Oralie\\\",\\\"last_name\\\":\\\"Goward\\\",\\\"city\\\":\\\"Los Angeles\\\",\\\"state\\\":\\\"CA\\\",\\\"address\\\":\\\"922 Columbus Park\\\",\\\"hopefulls_user_name\\\":\\\"LosAngelesOralie\\\",\\\"_key\\\":\\\"LosAngelesOralie\\\"},{\\\"full_name\\\":\\\"Lou Feaveer\\\",\\\"first_name\\\":\\\"Lou\\\",\\\"last_name\\\":\\\"Feaveer\\\",\\\"city\\\":\\\"San Jose\\\",\\\"state\\\":\\\"CA\\\",\\\"address\\\":\\\"55223 Hooker Crossing\\\",\\\"hopefulls_user_name\\\":\\\"SanJoseLou\\\",\\\"_key\\\":\\\"SanJoseLou\\\"},{\\\"full_name\\\":\\\"Peria King\\\",\\\"first_name\\\":\\\"Peria\\\",\\\"last_name\\\":\\\"King\\\",\\\"city\\\":\\\"Stockton\\\",\\\"state\\\":\\\"CA\\\",\\\"address\\\":\\\"8 Troy Plaza\\\",\\\"hopefulls_user_name\\\":\\\"StocktonPeria\\\",\\\"_key\\\":\\\"StocktonPeria\\\"}]\""
   ]
  },
  {
   "cell_type": "markdown",
   "id": "c5c3ce44",
   "metadata": {},
   "source": [
    "## Step 05-E - Inserting Data - \"Who Likes Whom\""
   ]
  },
  {
   "cell_type": "code",
   "execution_count": null,
   "id": "26e56694",
   "metadata": {},
   "outputs": [],
   "source": [
    "# Insert data into collections.\n",
    "echo \"3a. INSERT_LIKES_DATA collection: $collection_likes\"\n",
    "\n",
    "gdnsl import $collection_likes --json \"[{\\\"hopefulls_user_name\\\":\\\"BurbankKeil\\\",\\\"singles_liked\\\":\\\"SanJoseLou\\\",\\\"_from\\\":\\\"Singles/BurbankKeil\\\",\\\"_to\\\":\\\"Singles/SanJoseLou\\\",\\\"liked_date\\\":\\\"1/4/2020\\\",\\\"liked_time\\\":\\\"13:33\\\",\\\"liked_amount\\\":30},{\\\"hopefulls_user_name\\\":\\\"SanJoseLou\\\",\\\"singles_liked\\\":\\\"StocktonPeria\\\",\\\"_from\\\":\\\"Singles/SanJoseLou\\\",\\\"_to\\\":\\\"Singles/StocktonPeria\\\",\\\"liked_date\\\":\\\"1/28/2020\\\",\\\"liked_time\\\":\\\"3:02\\\",\\\"liked_amount\\\":18},{\\\"hopefulls_user_name\\\":\\\"BerkeleyAva\\\",\\\"singles_liked\\\":\\\"StocktonPeria\\\",\\\"_from\\\":\\\"Singles/BerkeleyAva\\\",\\\"_to\\\":\\\"Singles/StocktonPeria\\\",\\\"liked_date\\\":\\\"1/28/2020\\\",\\\"liked_time\\\":\\\"3:02\\\",\\\"liked_amount\\\":18}]\" "
   ]
  },
  {
   "cell_type": "markdown",
   "id": "3aa91d22",
   "metadata": {},
   "source": [
    "## Step 05-F - Creating a Graph"
   ]
  },
  {
   "cell_type": "code",
   "execution_count": null,
   "id": "687962d3",
   "metadata": {},
   "outputs": [],
   "source": [
    "# Create a graph\n",
    "echo \"4. CREATE_GRAPH...Hopefulls_graph\"\n",
    "\n",
    "gdnsl graph create $collection_graph --edge-definition \"$collection_likes:$collection_singles:$collection_singles\" "
   ]
  },
  {
   "cell_type": "markdown",
   "id": "78be6c27",
   "metadata": {},
   "source": [
    "## Step 05-G - Execute a Traversal - \"Find Singles who liked Lou?\""
   ]
  },
  {
   "cell_type": "code",
   "execution_count": null,
   "id": "b6ed2cc9",
   "metadata": {},
   "outputs": [],
   "source": [
    "echo \"5a. GRAPH_TRAVERSAL: Find Singles who liked: $Hopefulls_Client2\"\n",
    "\n",
    "# Explain a cursor with filter based on bindvar\n",
    "gdnsl query \"FOR c IN $collection_singles FILTER c.hopefulls_user_name == @hopefulls_user_name FOR v IN 1..1 INBOUND c $collection_likes RETURN v\" --param \"hopefulls_user_name=$Hopefulls_Client\" "
   ]
  },
  {
   "cell_type": "markdown",
   "id": "842552ac",
   "metadata": {},
   "source": [
    "## Step 05-H - Execute a Traversal - \"Find Singles who Lou Liked?\""
   ]
  },
  {
   "cell_type": "code",
   "execution_count": null,
   "id": "4588e31f",
   "metadata": {},
   "outputs": [],
   "source": [
    "echo \"5b. GRAPH_TRAVERSAL: Find Singles whole were liked from: $Hopefulls_Client\"\n",
    "\n",
    "# Explain a cursor with filter based on bindvar\n",
    "gdnsl query \"FOR c IN $collection_singles FILTER c.hopefulls_user_name == @hopefulls_user_name FOR v IN 1..1 OUTBOUND c $collection_likes RETURN v\" --param \"hopefulls_user_name=$Hopefulls_Client\" "
   ]
  },
  {
   "cell_type": "markdown",
   "id": "c04554fa",
   "metadata": {},
   "source": [
    "## Step 05-I - Delete Data and Collections"
   ]
  },
  {
   "cell_type": "code",
   "execution_count": null,
   "id": "a405ec2c",
   "metadata": {},
   "outputs": [],
   "source": [
    "#Delete Data\n",
    "echo \"6. DELETE_DATA...\"\n",
    "\n",
    "gdnsl graph delete $collection_graph --drop-collections"
   ]
  },
  {
   "cell_type": "markdown",
   "id": "eba04413",
   "metadata": {},
   "source": [
    "## Section Completed!\n",
    "\n",
    "Congratulations! you have completed this tutorial."
   ]
  }
 ],
 "metadata": {
  "kernelspec": {
   "display_name": "Bash",
   "language": "bash",
   "name": "bash"
  },
  "language_info": {
   "codemirror_mode": "shell",
   "file_extension": ".sh",
   "mimetype": "text/x-sh",
   "name": "bash"
  }
 },
 "nbformat": 4,
 "nbformat_minor": 5
}
