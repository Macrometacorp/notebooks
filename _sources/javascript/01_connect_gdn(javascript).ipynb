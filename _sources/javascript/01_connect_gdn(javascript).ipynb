{
 "cells": [
  {
   "cell_type": "markdown",
   "id": "f63d4ffe",
   "metadata": {
    "kernelspec": {
     "display_name": "Javascript",
     "name": "javascript"
    }
   },
   "source": [
    "# JS01 - Connecting to GDN"
   ]
  },
  {
   "cell_type": "markdown",
   "id": "f7b899af",
   "metadata": {},
   "source": [
    "## Pre-requisite\n",
    "\n",
    "Let's assume your \n",
    "\n",
    "- Tenant name is an email address\n",
    "- User password is xxxxx\n"
   ]
  },
  {
   "cell_type": "code",
   "execution_count": null,
   "id": "0bcfaee9",
   "metadata": {},
   "outputs": [],
   "source": [
    "#/* run this once to install javascript kernal in google colab, then reload, and then skip this\n",
    "!npm install -g --unsafe-perm ijavascript\n",
    "!ijsinstall --install=global  # */"
   ]
  },
  {
   "cell_type": "markdown",
   "id": "ed443b08",
   "metadata": {},
   "source": [
    "## 1. Driver download\n",
    "\n",
    "To install the jsC8 driver with npm, run the code in the cell below:"
   ]
  },
  {
   "cell_type": "code",
   "execution_count": null,
   "id": "8393267e",
   "metadata": {
    "scrolled": true
   },
   "outputs": [],
   "source": [
    "// Run this code to install jsc8\n",
    "var { spawn } = require(\"child_process\");\n",
    "var sh = (cmd) => {\n",
    "  $$.async();\n",
    "  var sp = spawn(cmd, {\n",
    "    cwd: process.cwd(),\n",
    "    stdio: \"pipe\",\n",
    "    shell: true,\n",
    "    encoding: \"utf-8\",\n",
    "  });\n",
    "  sp.stdout.on(\"data\", (data) => console.log(data.toString()));\n",
    "  sp.stderr.on(\"data\", (data) => console.error(data.toString()));\n",
    "  sp.on(\"close\", () => $$.done());\n",
    "};\n",
    "sh(\"npm install jsc8\");"
   ]
  },
  {
   "cell_type": "markdown",
   "id": "5c78af3a-7a8d-4707-8fac-ff1ac4547e86",
   "metadata": {},
   "source": [
    "> Note: If you are running this from local terminal just use *npm install jsc8 --save*"
   ]
  },
  {
   "cell_type": "markdown",
   "id": "4e80753e",
   "metadata": {},
   "source": [
    "## 2. Connect to GDN\n",
    "\n",
    "The first step in using GDN is to connect to a local region. When this code executes, it initializes the server connection to the region URL you specified. You can create an API key from the GUI or REST API."
   ]
  },
  {
   "cell_type": "code",
   "execution_count": null,
   "id": "96c8ca7a",
   "metadata": {},
   "outputs": [],
   "source": [
    "const jsc8 = require(\"jsc8\");\n",
    "\n",
    "// ----- simple way  -----\n",
    "const client = new jsc8({\n",
    "  url: \"https://gdn.paas.macrometa.io\",\n",
    "});\n",
    "\n",
    "client\n",
    "  .login(email, password)\n",
    "  .then((result) => console.log(\"Login successfully\", result))\n",
    "  .catch((err) => console.error(\"Error while login\", err.message));\n",
    "\n",
    "// ----- with token -----\n",
    "/* const client = new jsc8({\n",
    "  url: \"https://gdn.paas.macrometa.io\",\n",
    "  token: \"XXXX\",\n",
    "  fabricName: \"_system\",\n",
    "}); */\n",
    "\n",
    "// ----- with apikey-----\n",
    "/* const client = new jsc8({\n",
    "  url: \"https://gdn.paas.macrometa.io\",\n",
    "  apiKey: \"XXXX\",\n",
    "  fabricName: \"_system\",\n",
    "}); */"
   ]
  },
  {
   "cell_type": "markdown",
   "id": "e5d60cd8",
   "metadata": {},
   "source": [
    "## 3. Create an API Key\n",
    "\n",
    "> Note: If you have already run the following cell to create your API Key, rerunning it will produce an error. You might like to remove the current API Key by jumping to the \"Remove an API Key\" section and returning to this cell to create the API Key again."
   ]
  },
  {
   "cell_type": "code",
   "execution_count": null,
   "id": "8d4b74c7",
   "metadata": {},
   "outputs": [],
   "source": [
    "const createApiKey = async keyName => {\n",
    "  try {\n",
    "    const result = await client.createApiKey(keyName);\n",
    "    console.log(\"Created API Key: \", result);\n",
    "  } catch (err) {\n",
    "    console.error(\"Error while creating API key\", err.message);\n",
    "  }\n",
    "};\n",
    "\n",
    "createApiKey(\"id1\");"
   ]
  },
  {
   "cell_type": "markdown",
   "id": "d816ab61",
   "metadata": {},
   "source": [
    "## 4. Get Accessible Resources"
   ]
  },
  {
   "cell_type": "code",
   "execution_count": null,
   "id": "ae7cd392",
   "metadata": {},
   "outputs": [],
   "source": [
    "const getResources = async () => {\n",
    "  try {\n",
    "    // Fetch List of accessible databases\n",
    "    const databaseList = await client.listAccessibleDatabases(\"id1\");\n",
    "    console.log(\"Accessible Databases: \", databaseList);\n",
    "  } catch (err) {\n",
    "    console.error(\"Error while listing accessible databases\", err.message);\n",
    "  }\n",
    "\n",
    "  try {\n",
    "    // Fetch List of accessible streams\n",
    "    const streamsList = await client.listAccessibleStreams(\"id1\", \"_system\");\n",
    "    console.log(\"Accessible Streams of a db: \", streamsList);\n",
    "  } catch (err) {\n",
    "    console.error(\"Error while listing accessible streams\", err.message);\n",
    "  }\n",
    "};\n",
    "\n",
    "getResources();"
   ]
  },
  {
   "cell_type": "markdown",
   "id": "4a1dd915",
   "metadata": {},
   "source": [
    "## Workbook Completed!"
   ]
  },
  {
   "cell_type": "markdown",
   "id": "ba78680a",
   "metadata": {},
   "source": [
    "Congratulations! You have successfully connected to GDN and checked to see what resources are available."
   ]
  }
 ],
 "metadata": {
  "kernelspec": {
   "display_name": "JavaScript (Node.js)",
   "language": "javascript",
   "name": "javascript"
  },
  "language_info": {
   "file_extension": ".js",
   "mimetype": "application/javascript",
   "name": "javascript",
   "version": "17.7.1"
  }
 },
 "nbformat": 4,
 "nbformat_minor": 5
}
