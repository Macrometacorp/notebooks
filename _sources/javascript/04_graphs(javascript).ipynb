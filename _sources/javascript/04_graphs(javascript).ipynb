{
 "cells": [
  {
   "cell_type": "markdown",
   "id": "f63d4ffe",
   "metadata": {
    "kernelspec": {
     "display_name": "Javascript",
     "name": "javascript"
    }
   },
   "source": [
    "# JS04 - Working with Graphs\n",
    "\n",
    "## Overview\n",
    "\n",
    "Today’s applications are required to be highly responsive and always online. They need to be deployed in data centers closer to their users and can access data instantly across the globe.\n",
    "\n",
    "Macrometa global data network (GDN) is a fully managed real-time materialized view engine that provides access to data instantly to Apps & APIs in a single and straightforward interface.\n",
    "\n",
    "This article introduces working with documents in GDN with jsC8 drivers.\n",
    "\n",
    "In the drivers, a document is a dictionary/object that is JSON serializable with the following properties:\n",
    "\n",
    "- It contains the `_key` field, which identifies the document uniquely within a specific collection.\n",
    "- It contains the `_id` field (also called the handle), which identifies the document uniquely across all collections within a fabric. This ID is a combination of the collection name and the document key using the format `{collection}/{key}` (see example below).\n",
    "- It contains the `_rev` field. GDN supports MVCC (Multiple Version Concurrency Control) and is capable of storing each document in multiple revisions. This field indicates the latest revision of a document. The field is populated by GDN and is not required as input unless you want to validate a document against its current revision.\n",
    "\n",
    "Here is an example of a valid document:"
   ]
  },
  {
   "cell_type": "code",
   "execution_count": null,
   "id": "b6ab70af",
   "metadata": {
    "scrolled": true
   },
   "outputs": [],
   "source": [
    "{\n",
    "    '_id': 'students/bruce',\n",
    "    '_key': 'bruce',\n",
    "    '_rev': '_Wm3dzEi--_',\n",
    "    'first_name': 'Bruce',\n",
    "    'last_name': 'Wayne',\n",
    "    'address': {\n",
    "        'street' : '1007 Mountain Dr.',\n",
    "        'city': 'Gotham',\n",
    "        'state': 'NJ'\n",
    "    },\n",
    "    'is_rich': True,\n",
    "    'friends': ['robin', 'gordon']\n",
    "}"
   ]
  },
  {
   "cell_type": "markdown",
   "id": "a6fdfe0d",
   "metadata": {},
   "source": [
    "Edge documents (edges) are similar to standard documents but with two additional required fields `_from` and `_to`. Values of these fields must be the handles of \"from\" and \"to\" vertex documents linked by the edge document in question. Here is an example of a valid edge document:"
   ]
  },
  {
   "cell_type": "code",
   "execution_count": null,
   "id": "b7e7c50d",
   "metadata": {
    "scrolled": true
   },
   "outputs": [],
   "source": [
    "{\n",
    "    '_id': 'friends/001',\n",
    "    '_key': '001',\n",
    "    '_rev': '_Wm3dyle--_',\n",
    "    '_from': 'students/john',\n",
    "    '_to': 'students/jane',\n",
    "    'closeness': 9.5\n",
    "}"
   ]
  },
  {
   "cell_type": "markdown",
   "id": "ed57a31a",
   "metadata": {},
   "source": [
    "A Graph consists of vertices and edges. Edges are stored as documents in edge collections. A vertex can be a document of a document collection or of an edge collection (so edges can be used as vertices). Which collections are used within a named graph is defined via edge definitions. A named graph can contain more than one edge definition; at least one is needed. Graphs allow you to structure your models in line with your domain and group them logically in collections, giving you the power to query them in the same graph queries.\n",
    "\n",
    "In SQL, you commonly have the construct of a relation table to store n:m relations between two data tables. An edge collection is somewhat similar to these relation tables. Vertex collections resemble the data tables with the objects to connect.\n",
    "\n",
    "While simple graph queries with a fixed number of hops via the relation table may be doable in SQL with several nested joins, graph databases can handle an arbitrary number of these hops over edge collections - this is called traversal. Also, edges in one edge collection may point to several vertex collections. Finally, it's common to have attributes attached to edges, i.e., a label naming this interconnection.\n",
    "\n",
    "Edges have a direction, with their relations `_from` and `_to` pointing from one document to another document stored in vertex collections. In queries, you can define in which directions the edge relations may be followed, i.e.,\n",
    "\n",
    "- OUTBOUND: `_from` → `_to`\n",
    "- INBOUND: `_from` ← `_to`\n",
    "- ANY: `_from` ↔ `_to`"
   ]
  },
  {
   "cell_type": "markdown",
   "id": "497ca67e",
   "metadata": {},
   "source": [
    "## Pre-requisite\n",
    "\n",
    "Lets Assume \n",
    "- You have already made a tenant account, and have a username and password\n",
    "- You have installed the jsC8 drivers as explained in section 01\n",
    "- You have generated an API Key as explained in section 01\n"
   ]
  },
  {
   "cell_type": "code",
   "execution_count": null,
   "id": "30a9989d",
   "metadata": {
    "scrolled": true
   },
   "outputs": [],
   "source": [
    "#/* run this once to install javascript kernal and jsc8 in google colab, then reload, and then skip this\n",
    "!npm install jsc8\n",
    "!npm install -g --unsafe-perm ijavascript\n",
    "!ijsinstall --install=global  # */"
   ]
  },
  {
   "cell_type": "markdown",
   "id": "a2b3b194",
   "metadata": {},
   "source": [
    "## 1. Connect to GDN"
   ]
  },
  {
   "cell_type": "code",
   "execution_count": null,
   "id": "f3604206",
   "metadata": {
    "scrolled": true
   },
   "outputs": [],
   "source": [
    "const jsc8 = require(\"jsc8\");\n",
    "\n",
    "// ----- simple way  -----\n",
    "const client = new jsc8({\n",
    "  url: \"https://gdn.paas.macrometa.io\",\n",
    "});\n",
    "\n",
    "client\n",
    "  .login(email, password)\n",
    "  .then((result) => console.log(\"Login successfully\", result))\n",
    "  .catch((err) => console.error(\"Error while login\", err.message));\n",
    "\n",
    "// ----- with token -----\n",
    "/* const client = new jsc8({\n",
    "  url: \"https://gdn.paas.macrometa.io\",\n",
    "  token: \"XXXX\",\n",
    "  fabricName: \"_system\",\n",
    "}); */\n",
    "\n",
    "// ----- with apikey-----\n",
    "/* const client = new jsc8({\n",
    "  url: \"https://gdn.paas.macrometa.io\",\n",
    "  apiKey: \"XXXX\",\n",
    "  fabricName: \"_system\",\n",
    "}); */"
   ]
  },
  {
   "cell_type": "markdown",
   "id": "744bf99b",
   "metadata": {},
   "source": [
    "## 2. Get GeoFabric Details\n",
    "\n",
    "To get the details of fabric:"
   ]
  },
  {
   "cell_type": "code",
   "execution_count": null,
   "id": "f18c767d",
   "metadata": {
    "scrolled": true
   },
   "outputs": [],
   "source": [
    "// you might not need this, but if you wanted to select a\n",
    "// specific GeoFabric you can find out whats available by executing this code!\n",
    "\n",
    "const getGeoFabricMetaData = async () => {\n",
    "  console.log(\"Get geo fabric details...\");\n",
    "\n",
    "  try {\n",
    "    const fabrics = await client.get();\n",
    "    console.log(fabrics);\n",
    "  } catch (err) {\n",
    "    console.error(\"Error while fetching GeoFabric details\", err.message);\n",
    "  }\n",
    "};\n",
    "\n",
    "getGeoFabricMetaData();"
   ]
  },
  {
   "cell_type": "markdown",
   "id": "b678fd8e",
   "metadata": {},
   "source": [
    "## 3. Create Collection\n",
    "\n",
    "We can now create a collection in the fabric. First, you connect to fabric and then create a collection called employees.\n",
    "\n",
    "The below example shows the steps:"
   ]
  },
  {
   "cell_type": "code",
   "execution_count": null,
   "id": "f856c722",
   "metadata": {
    "scrolled": true
   },
   "outputs": [],
   "source": [
    "const collection_name = \"students\";\n",
    "\n",
    "const createCollection = async () => {\n",
    "  let collectionDetails;\n",
    "  try {\n",
    "    const isCollectionExists = await client.hasCollection(collection_name);\n",
    "    if (isCollectionExists) {\n",
    "      console.log(\"Collection exists with name \", collection_name);\n",
    "      return;\n",
    "    }\n",
    "    collectionDetails = await client.createKVCollection(collection_name);\n",
    "    console.log(\"Collection created! \", collection_name);\n",
    "  } catch (e) {\n",
    "    return \"Collection creation did not succeed due to \" + e;\n",
    "  }\n",
    "};\n",
    "\n",
    "createCollection();"
   ]
  },
  {
   "cell_type": "markdown",
   "id": "62216d82",
   "metadata": {},
   "source": [
    "## 4. Create an Edge Collection\n",
    "\n",
    "An edge collection contains edge documents and shares its namespace with all other types of collections. You can manage edge documents via standard collection API wrappers, but using edge collection API wrappers provides additional safeguards:\n",
    "\n",
    "- All modifications are executed in transactions\n",
    "- Edge documents are checked against the edge definitions upon insert"
   ]
  },
  {
   "cell_type": "code",
   "execution_count": null,
   "id": "f0094fa7",
   "metadata": {
    "scrolled": true
   },
   "outputs": [],
   "source": [
    "const edge_name = \"school\";\n",
    "\n",
    "const createEdgeCollection = async () => {\n",
    "  let collectionDetails;\n",
    "  try {\n",
    "    const isCollectionExists = await client.hasCollection(edge_name);\n",
    "    if (isCollectionExists) {\n",
    "      console.log(\"Graph exists with name \", edge_name);\n",
    "      return;\n",
    "    }\n",
    "    collectionDetails = await client.createCollection(edge_name, {}, true);\n",
    "    console.log(\"Created Edge Collection! \", edge_name);\n",
    "  } catch (err) {\n",
    "    console.error(\"Collection creation did not succeed due to \" + err.message);\n",
    "  }\n",
    "};\n",
    "\n",
    "createEdgeCollection();"
   ]
  },
  {
   "cell_type": "markdown",
   "id": "048c0b41",
   "metadata": {},
   "source": [
    "## 5. Insert Documents\n",
    "\n",
    "Let's insert documents to the students collection as shown below:"
   ]
  },
  {
   "cell_type": "code",
   "execution_count": null,
   "id": "0d7736f7",
   "metadata": {
    "scrolled": true
   },
   "outputs": [],
   "source": [
    "let docs = [\n",
    "  {\n",
    "    _key: \"Jenny\",\n",
    "    firstname: \"Jenney\",\n",
    "    lastname: \"Jones\",\n",
    "    email: \"email\",\n",
    "  },\n",
    "  {\n",
    "    _key: \"Bob\",\n",
    "    firstname: \"Bob\",\n",
    "    lastname: \"Billy\",\n",
    "    email: \"email\",\n",
    "  },\n",
    "  {\n",
    "    _key: \"Alan\",\n",
    "    firstname: \"Alan\",\n",
    "    lastname: \"Evans\",\n",
    "    email: \"email\",\n",
    "  },\n",
    "];\n",
    "\n",
    "const insertDocument = async () => {\n",
    "  try {\n",
    "    await client.insertDocument(collection_name, docs);\n",
    "    console.log(\"Documents inserted\");\n",
    "  } catch (err) {\n",
    "    console.error(\"Error while inserting documents\", err.message);\n",
    "  }\n",
    "};\n",
    "\n",
    "insertDocument();"
   ]
  },
  {
   "cell_type": "markdown",
   "id": "f328b599",
   "metadata": {},
   "source": [
    "## 6. Create Graph\n",
    "\n",
    "A graph consists of vertices and edges. Vertices are stored as documents in vertex collections, and edges are stored as documents in edge collections. The collections used in a graph and their relations are specified with edge definitions."
   ]
  },
  {
   "cell_type": "code",
   "execution_count": null,
   "id": "0fbe72ed",
   "metadata": {
    "scrolled": true
   },
   "outputs": [],
   "source": [
    "const createGraph = async () => {\n",
    "  try {\n",
    "    const isGraphExists = await client.hasGraph(\"school\");\n",
    "    if (isGraphExists) {\n",
    "      console.log(\"Graph exists with name school\");\n",
    "      return;\n",
    "    }\n",
    "    collectionDetails = await client.createGraph(\"school\");\n",
    "    console.log(\"Graph Created\");\n",
    "  } catch (err) {\n",
    "    console.error(\"Graph creation did not succeed due to \", err.message);\n",
    "  }\n",
    "};\n",
    "\n",
    "createGraph();"
   ]
  },
  {
   "cell_type": "markdown",
   "id": "eba04413",
   "metadata": {},
   "source": [
    "## Section Completed!\n",
    "\n",
    "TBC..."
   ]
  }
 ],
 "metadata": {
  "kernelspec": {
   "display_name": "JavaScript (Node.js)",
   "language": "javascript",
   "name": "javascript"
  },
  "language_info": {
   "file_extension": ".js",
   "mimetype": "application/javascript",
   "name": "javascript",
   "version": "17.7.1"
  }
 },
 "nbformat": 4,
 "nbformat_minor": 5
}
