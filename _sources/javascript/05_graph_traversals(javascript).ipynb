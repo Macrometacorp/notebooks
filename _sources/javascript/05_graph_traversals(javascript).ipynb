{
 "cells": [
  {
   "cell_type": "markdown",
   "id": "f63d4ffe",
   "metadata": {
    "kernelspec": {
     "display_name": "Javascript",
     "name": "javascript"
    }
   },
   "source": [
    "# JS05 - Graph Traversals\n",
    "\n",
    "## Overview\n",
    "\n",
    "A graph consists of vertices and edges. Vertices are stored as documents in vertex collections, and edges are stored as documents in edge collections. The collections used in a graph and their relations are specified with edge definitions.\n",
    "\n",
    "This tutorial will build a simple application for people to find new friends called MacroFriends, and then use graph traversals to see who would like to meet whom."
   ]
  },
  {
   "cell_type": "markdown",
   "id": "da13fcd6-1552-42de-adc2-40adc794baa9",
   "metadata": {},
   "source": [
    "## Pre-requisite\n",
    "\n",
    "Let's assume: \n",
    "- You have already made a tenant account, and have a username and password\n",
    "- You have installed the jsC8 drivers as explained in section 01\n",
    "- You have generated an API Key as explained in section 01\n"
   ]
  },
  {
   "cell_type": "code",
   "execution_count": null,
   "id": "636b5920-c6c0-466c-b45f-742adfd14577",
   "metadata": {},
   "outputs": [],
   "source": [
    "#/* run this once to install javascript kernal and jsc8 in google colab, then reload, and then skip this\n",
    "!npm install jsc8\n",
    "!npm install -g --unsafe-perm ijavascript\n",
    "!ijsinstall --install=global  # */"
   ]
  },
  {
   "cell_type": "markdown",
   "id": "92e4743f",
   "metadata": {},
   "source": [
    "## 1. Importing Libraries & Define Variables"
   ]
  },
  {
   "cell_type": "code",
   "execution_count": 1,
   "id": "58664212",
   "metadata": {},
   "outputs": [],
   "source": [
    "// Variables - Queries\n",
    "const global_url = \"https://gdn.paas.macrometa.io\";\n",
    "const token = \"\"; // <-- Token goes here if applicable\n",
    "const apiKey = \"\"; // <-- apiKey goes here if applicable\n",
    "const email = \"email\"; // <-- Email goes here\n",
    "const password = \"password\"; // <-- password goes here\n",
    "const geo_fabric = \"_system\";\n",
    "const collection_friends = \"Friends\";\n",
    "const collection_likes = \"Likes\";\n",
    "\n",
    "const collection_graph = \"Macro_Friends_Graph\";\n",
    "const read_friends = \"FOR friends IN Friends RETURN friends\";\n",
    "const read_likes = \"FOR likes IN Likes RETURN like\";\n",
    "\n",
    "const macrofriends_client=\"SanJoseLou\";\n",
    "const macrofriends_client2=\"StocktonPeria\";\n",
    "\n",
    "const graph_traversal1 = `FOR c IN Friends FILTER c.macrofriend_user_name == \\\"${macrofriends_client}\\\" FOR v IN 1..1 INBOUND c Likes RETURN v`;\n",
    "const graph_traversal2 = `FOR c IN Friends FILTER c.macrofriend_user_name == \\\"${macrofriends_client}\\\" FOR v IN 1..1 OUTBOUND c Likes RETURN v`;"
   ]
  },
  {
   "cell_type": "markdown",
   "id": "ba931134",
   "metadata": {},
   "source": [
    "## 2. Connecting to GDN"
   ]
  },
  {
   "cell_type": "code",
   "execution_count": 2,
   "id": "df9c4fae",
   "metadata": {},
   "outputs": [],
   "source": [
    "const jsc8 = require(\"jsc8\");\n",
    "\n",
    "// Simple Way\n",
    "// const client = new jsc8({\n",
    "//   url: global_url,\n",
    "//   token: token,\n",
    "//   fabricName: geo_fabric,\n",
    "// });\n",
    "\n",
    "// ----- OR -----\n",
    "// const client = new jsc8({url: global_url, apiKey: apiKey, fabricName: geo_fabric});\n",
    "\n",
    "// To use advanced options\n",
    "const client = new jsc8(global_url);\n",
    "client\n",
    "  .login(email, password)\n",
    "  .then((result) => console.log(\"Login successfully\", result))\n",
    "  .catch((err) => console.error(\"Error while login\", err.message));\n"
   ]
  },
  {
   "cell_type": "markdown",
   "id": "d20f00af",
   "metadata": {},
   "source": [
    "## 3. Creating Collections"
   ]
  },
  {
   "cell_type": "code",
   "execution_count": 3,
   "id": "2376438c",
   "metadata": {},
   "outputs": [],
   "source": [
    "async function createCollection() {\n",
    "  console.log(\"\\n 2. CREATE_COLLECTION\");\n",
    "\n",
    "  try {\n",
    "    console.log(\n",
    "      `Creating the CREATE_FRIENDS_VERTEX_COLLECTION ${collection_friends}...`\n",
    "    );\n",
    "    let isCollectionExists = await client.hasCollection(collection_friends);\n",
    "    if (!isCollectionExists) {\n",
    "      await client.createCollection(collection_friends);\n",
    "    }\n",
    "\n",
    "    console.log(\n",
    "      `Creating the CREATE_LIKES_EDGE_COLLECTION ${collection_likes}...`\n",
    "    );\n",
    "    isCollectionExists = await client.hasCollection(collection_likes);\n",
    "    if (!isCollectionExists) {\n",
    "      await client.createCollection(collection_likes, {}, true);\n",
    "    }\n",
    "  } catch (e) {\n",
    "    console.log(\"Collection creation did not succeed due to \" + e.message);\n",
    "  }\n",
    "}\n",
    "\n",
    "createCollection();\n"
   ]
  },
  {
   "cell_type": "markdown",
   "id": "3f8c6821",
   "metadata": {},
   "source": [
    "## 4. Inserting Data - \"Friends\""
   ]
  },
  {
   "cell_type": "code",
   "execution_count": 4,
   "id": "b6ab70af",
   "metadata": {},
   "outputs": [],
   "source": [
    "let documents = [\n",
    "  {\n",
    "    full_name: \"Kiel Dummer\",\n",
    "    first_name: \"Kiel\",\n",
    "    last_name: \"Dummer\",\n",
    "    city: \"Burbank\",\n",
    "    state: \"CA\",\n",
    "    address: \"40317 5th Crossing\",\n",
    "    macrofriend_user_name: \"BurbankKeil\",\n",
    "    _key: \"BurbankKeil\",\n",
    "  },\n",
    "  {\n",
    "    full_name: \"Pernell Winspare\",\n",
    "    first_name: \"Pernell\",\n",
    "    last_name: \"Winspare\",\n",
    "    city: \"San Diego\",\n",
    "    state: \"CA\",\n",
    "    address: \"596 Packers Pass\",\n",
    "    macrofriend_user_name: \"SanDiegoPernell\",\n",
    "    _key: \"SanDiegoPernell\",\n",
    "  },\n",
    "  {\n",
    "    full_name: \"Ava Kermath\",\n",
    "    first_name: \"Ava\",\n",
    "    last_name: \"Kermath\",\n",
    "    city: \"Berkeley\",\n",
    "    state: \"CA\",\n",
    "    address: \"2 Doe Crossing Junction\",\n",
    "    macrofriend_user_name: \"BerkeleyAva\",\n",
    "    _key: \"BerkeleyAva\",\n",
    "  },\n",
    "  {\n",
    "    full_name: \"Tremain McGrah\",\n",
    "    first_name: \"Tremain\",\n",
    "    last_name: \"McGrah\",\n",
    "    city: \"Torrance\",\n",
    "    state: \"CA\",\n",
    "    address: \"079 Russell Street\",\n",
    "    macrofriend_user_name: \"TorranceTremain\",\n",
    "    _key: \"TorranceTremain\",\n",
    "  },\n",
    "  {\n",
    "    full_name: \"Vidovik Boddam\",\n",
    "    first_name: \"Vidovik\",\n",
    "    last_name: \"Boddam\",\n",
    "    city: \"Los Angeles\",\n",
    "    state: \"CA\",\n",
    "    address: \"3 Brentwood Crossing\",\n",
    "    macrofriend_user_name: \"LosAngelesVidovik\",\n",
    "    _key: \"LosAngelesVidovik\",\n",
    "  },\n",
    "  {\n",
    "    full_name: \"Oralie Goward\",\n",
    "    first_name: \"Oralie\",\n",
    "    last_name: \"Goward\",\n",
    "    city: \"Los Angeles\",\n",
    "    state: \"CA\",\n",
    "    address: \"922 Columbus Park\",\n",
    "    macrofriend_user_name: \"LosAngelesOralie\",\n",
    "    _key: \"LosAngelesOralie\",\n",
    "  },\n",
    "  {\n",
    "    full_name: \"Lou Feaveer\",\n",
    "    first_name: \"Lou\",\n",
    "    last_name: \"Feaveer\",\n",
    "    city: \"San Jose\",\n",
    "    state: \"CA\",\n",
    "    address: \"55223 Hooker Crossing\",\n",
    "    macrofriend_user_name: \"SanJoseLou\",\n",
    "    _key: \"SanJoseLou\",\n",
    "  },\n",
    "  {\n",
    "    full_name: \"Peria King\",\n",
    "    first_name: \"Peria\",\n",
    "    last_name: \"King\",\n",
    "    city: \"Stockton\",\n",
    "    state: \"CA\",\n",
    "    address: \"8 Troy Plaza\",\n",
    "    macrofriend_user_name: \"StocktonPeria\",\n",
    "    _key: \"StocktonPeria\",\n",
    "  },\n",
    "];\n",
    "\n",
    "async function insertDocumentMany() {\n",
    "  console.log(`\\n 3a. INSERT_FRIENDS_DATA in region ${global_url}`);\n",
    "  await client.insertDocumentMany(collection_friends, documents);\n",
    "}\n",
    "\n",
    "insertDocumentMany();\n"
   ]
  },
  {
   "cell_type": "markdown",
   "id": "c5c3ce44",
   "metadata": {},
   "source": [
    "## 5. Inserting Data - \"Who Likes Whom\""
   ]
  },
  {
   "cell_type": "code",
   "execution_count": 5,
   "id": "26e56694",
   "metadata": {},
   "outputs": [],
   "source": [
    "documents = [\n",
    "  {\n",
    "    macrofriend_user_name: \"BurbankKeil\",\n",
    "    friends_liked: \"SanJoseLou\",\n",
    "    _from: \"Friends/BurbankKeil\",\n",
    "    _to: \"Friends/SanJoseLou\",\n",
    "    liked_date: \"1/4/2020\",\n",
    "    liked_time: \"13:33\",\n",
    "    liked_amount: 30,\n",
    "  },\n",
    "  {\n",
    "    macrofriend_user_name: \"SanJoseLou\",\n",
    "    friends_liked: \"StocktonPeria\",\n",
    "    _from: \"Friends/SanJoseLou\",\n",
    "    _to: \"Friends/StocktonPeria\",\n",
    "    liked_date: \"1/28/2020\",\n",
    "    liked_time: \"3:02\",\n",
    "    liked_amount: 18,\n",
    "  },\n",
    "  {\n",
    "    macrofriend_user_name: \"BerkeleyAva\",\n",
    "    friends_liked: \"StocktonPeria\",\n",
    "    _from: \"Friends/BerkeleyAva\",\n",
    "    _to: \"Friends/StocktonPeria\",\n",
    "    liked_date: \"1/28/2020\",\n",
    "    liked_time: \"3:02\",\n",
    "    liked_amount: 18,\n",
    "  },\n",
    "];\n",
    "\n",
    "async function insertDocumentMany() {\n",
    "  console.log(`\\n 3a. INSERT_LIKES_DATA in region ${global_url}`);\n",
    "  await client.insertDocumentMany(collection_likes, documents);\n",
    "}\n",
    "\n",
    "insertDocumentMany();\n"
   ]
  },
  {
   "cell_type": "markdown",
   "id": "3aa91d22",
   "metadata": {},
   "source": [
    "## 6. Creating a Graph"
   ]
  },
  {
   "cell_type": "code",
   "execution_count": 6,
   "id": "687962d3",
   "metadata": {},
   "outputs": [],
   "source": [
    "async function createGraph() {\n",
    "  console.log(`\\n 4. CREATE_GRAPH ... FriendFinder_graph region ${global_url}`);\n",
    "\n",
    "  await client.createGraph(collection_graph, {\n",
    "    edgeDefinitions: [\n",
    "      {\n",
    "        collection: collection_likes,\n",
    "        from: [collection_friends],\n",
    "        to: [collection_friends],\n",
    "      },\n",
    "    ],\n",
    "  });\n",
    "  console.log(\"Graph created\");\n",
    "}\n",
    "\n",
    "createGraph().catch((err) =>\n",
    "  console.log(\"Error while creating graph :\", err.message)\n",
    ");\n"
   ]
  },
  {
   "cell_type": "markdown",
   "id": "78be6c27",
   "metadata": {},
   "source": [
    "## 7. Execute a Traversal - \"Find Friends who who would like to meet Lou?\""
   ]
  },
  {
   "cell_type": "code",
   "execution_count": 7,
   "id": "b6ed2cc9",
   "metadata": {},
   "outputs": [],
   "source": [
    "async function readData() {\n",
    "  console.log(\n",
    "    `5a. GRAPH_TRAVERSAL: Find Friends who would like to meet: ${macrofriends_client}`\n",
    "  );\n",
    "  let result = await client.executeQuery(graph_traversal1);\n",
    "  console.log(result);\n",
    "}\n",
    "\n",
    "readData().catch((err) =>\n",
    "  console.log(\"Error while execute a traversal :\", err.message)\n",
    ");\n"
   ]
  },
  {
   "cell_type": "markdown",
   "id": "842552ac",
   "metadata": {},
   "source": [
    "## 8. Execute a Traversal - \"“Find Friends who Lou would like to meet?\""
   ]
  },
  {
   "cell_type": "code",
   "execution_count": 8,
   "id": "4588e31f",
   "metadata": {},
   "outputs": [],
   "source": [
    "async function readData() {\n",
    "  console.log(\n",
    "    `5b. GRAPH_TRAVERSAL: Find Friends who were liked by Lou: ${macrofriends_client2}`\n",
    "  );\n",
    "  result = await client.executeQuery(graph_traversal2);\n",
    "  console.log(result);\n",
    "}\n",
    "\n",
    "readData().catch((err) =>\n",
    "  console.log(\"Error while execute a traversal :\", err.message)\n",
    ");\n"
   ]
  },
  {
   "cell_type": "markdown",
   "id": "c04554fa",
   "metadata": {},
   "source": [
    "## 9. Delete Data and Collections"
   ]
  },
  {
   "cell_type": "code",
   "execution_count": 9,
   "id": "a405ec2c",
   "metadata": {},
   "outputs": [],
   "source": [
    "async function deleteData() {\n",
    "  console.log(\" 6. DELETE_DATA\");\n",
    "  await client.deleteGraph(collection_graph, true);\n",
    "  console.log(\"Collection and Graph deleted\");\n",
    "}\n",
    "\n",
    "deleteData().catch((err) =>\n",
    "  console.log(\"Error while deleting collection and graphs:\", err.message)\n",
    ");\n"
   ]
  },
  {
   "cell_type": "markdown",
   "id": "eba04413",
   "metadata": {},
   "source": [
    "## Section Completed!\n",
    "\n",
    "TBC..."
   ]
  }
 ],
 "metadata": {
  "kernelspec": {
   "display_name": "JavaScript (Node.js)",
   "language": "javascript",
   "name": "javascript"
  },
  "language_info": {
   "file_extension": ".js",
   "mimetype": "application/javascript",
   "name": "javascript",
   "version": "17.7.1"
  }
 },
 "nbformat": 4,
 "nbformat_minor": 5
}