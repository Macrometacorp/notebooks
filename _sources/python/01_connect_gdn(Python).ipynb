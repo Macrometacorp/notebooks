{
 "cells": [
  {
   "cell_type": "markdown",
   "id": "f63d4ffe",
   "metadata": {},
   "source": [
    "# Py01 - Connecting to GDN"
   ]
  },
  {
   "cell_type": "markdown",
   "id": "497ca67e",
   "metadata": {},
   "source": [
    "## Pre-requisite\n",
    "\n",
    "Let's assume your \n",
    "\n",
    "- tenant name is an email address\n",
    "- user password is xxxxx.\n",
    "\n",
    "if you need to install pyc8, you can run the cell below, otherwise you may skip it."
   ]
  },
  {
   "cell_type": "code",
   "execution_count": null,
   "id": "02bd15a5-50d4-4829-b6dd-8c2cd7bf5699",
   "metadata": {},
   "outputs": [],
   "source": [
    "!pip install pyC8"
   ]
  },
  {
   "cell_type": "markdown",
   "id": "25405c0e-d8f6-4f17-b8e0-d20af5bc2950",
   "metadata": {},
   "source": [
    "## 1. Connect to GDN\n",
    "\n",
    "The first step in using GDN is to establish a connection to a local region. When this code executes, it initializes the server connection to the region URL you sepcified. You can create an API key from the GUI or REST API."
   ]
  },
  {
   "cell_type": "code",
   "execution_count": null,
   "id": "39fc940a-be22-4c2c-9427-953fdbdb8d9b",
   "metadata": {},
   "outputs": [],
   "source": [
    "from c8 import C8Client\n",
    "\n",
    "client = C8Client(protocol='https', host='gdn.paas.macrometa.io', port=443,\n",
    "                        email='email', password='password',\n",
    "                        geofabric='_system')"
   ]
  },
  {
   "cell_type": "markdown",
   "id": "2aa8b835-a800-4fe3-946c-ceb2fa6cd2c6",
   "metadata": {},
   "source": [
    "## 2. Check if an API Exists\n",
    "\n",
    "If you have used this tutorial you may have already created an API Key before. Run the next cell to see if you already have the API Key 'id1' ?"
   ]
  },
  {
   "cell_type": "code",
   "execution_count": null,
   "id": "f0985223-deaa-4fd8-8346-8593a7db1611",
   "metadata": {},
   "outputs": [],
   "source": [
    "client.list_all_api_keys()"
   ]
  },
  {
   "cell_type": "markdown",
   "id": "e5d60cd8",
   "metadata": {},
   "source": [
    "## 3. Create an API Key\n",
    "\n",
    "Note: If you have already run the following cell to create your API Key, running it again will produce an error. you might like to remove the current API Key buy jumping to the section \"Remove an API Key\" and then returning to this cell to create the API Key again."
   ]
  },
  {
   "cell_type": "code",
   "execution_count": null,
   "id": "8d4b74c7",
   "metadata": {},
   "outputs": [],
   "source": [
    "print(\"Create API Key: \", client.create_api_key('id1'))"
   ]
  },
  {
   "cell_type": "markdown",
   "id": "f1818a13-2b00-4546-a909-39c1400b10ec",
   "metadata": {},
   "source": [
    "## 4. Get Accessible Resources\n",
    "\n",
    "Fetch List of accessible databases and streams"
   ]
  },
  {
   "cell_type": "code",
   "execution_count": null,
   "id": "0e187ca2-527d-499d-acde-7cc1d03e5b89",
   "metadata": {},
   "outputs": [],
   "source": [
    "print(\"Accessible Databases: \", client.list_accessible_databases('id1'))\n",
    "\n",
    "print(\"Accessible Streams of a db: \", client.list_accessible_streams('id1', '_system'))"
   ]
  },
  {
   "cell_type": "markdown",
   "id": "9c95987c-d0de-45fe-8672-f46c06d96104",
   "metadata": {},
   "source": [
    "## 5. Remove API Key"
   ]
  },
  {
   "cell_type": "code",
   "execution_count": null,
   "id": "167c01cd-8ef3-41a9-b7ec-20ee47d50106",
   "metadata": {},
   "outputs": [],
   "source": [
    "print(\"Remove API Key: \", client.remove_api_key('id1'))"
   ]
  },
  {
   "cell_type": "markdown",
   "id": "4a1dd915",
   "metadata": {},
   "source": [
    "## Workbook Completed!"
   ]
  },
  {
   "cell_type": "markdown",
   "id": "ba78680a",
   "metadata": {},
   "source": [
    "Congratulations you should have now connected to GDN, and checked to see what resources are available!"
   ]
  }
 ],
 "metadata": {
  "kernelspec": {
   "display_name": "Python 3 (ipykernel)",
   "language": "python",
   "name": "python3"
  },
  "language_info": {
   "codemirror_mode": {
    "name": "ipython",
    "version": 3
   },
   "file_extension": ".py",
   "mimetype": "text/x-python",
   "name": "python",
   "nbconvert_exporter": "python",
   "pygments_lexer": "ipython3",
   "version": "3.9.7"
  }
 },
 "nbformat": 4,
 "nbformat_minor": 5
}
