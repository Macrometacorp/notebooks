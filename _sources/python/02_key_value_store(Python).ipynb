{
 "cells": [
  {
   "cell_type": "markdown",
   "id": "f63d4ffe",
   "metadata": {},
   "source": [
    "# Py02 - Key Value Store\n",
    "\n",
    "Macrometa GDN is a geo-distributed real-time coordination-free materialized views engine that supports multiple data models. You can use GDN as a geo-replicated real-time key-value datastore or database.\n",
    "\n",
    "If you are new to Macrometa GDN, start by reading the essentials of Macrometa GDN.\n",
    "\n",
    "Each document stored in a collection (or table) contains a primary key `_key`. The rest of the document is considered a value. If it has no secondary indexes, the collection behaves like a simple key-value (KV) store.\n",
    "\n",
    "The key-value store has no query languages. The permissible operations are key look-ups (single and batch) and key-value pair insertions, updates, and deletions. If you don't specify a sharding attribute, we use the `_key` to shard the data. The simplicity of this model makes a key-value store fast, easy to use, scalable, portable, and flexible.\n",
    "\n",
    "You can enable `time_to_live` (TTL) during collection creation and add an expireAt value to specify the expiration time for each document in the KV collection.\n",
    "\n",
    "For the following examples, assume these credentials:"
   ]
  },
  {
   "cell_type": "markdown",
   "id": "497ca67e",
   "metadata": {},
   "source": [
    "## Pre-requisite\n",
    "\n",
    "Let's assume your \n",
    "\n",
    "- Tenant name is an email address\n",
    "- User password is xxxxx\n",
    "\n",
    "If you need to install pyC8, you can run the cell below; otherwise, you may skip it."
   ]
  },
  {
   "cell_type": "code",
   "execution_count": null,
   "id": "f0cfc92c-93ab-4b84-9018-ccfd4b69f100",
   "metadata": {},
   "outputs": [],
   "source": [
    "!pip install pyC8"
   ]
  },
  {
   "cell_type": "markdown",
   "id": "3ab3be27",
   "metadata": {
    "tags": []
   },
   "source": [
    "## 1. Connect to GDN\n",
    "\n",
    "The first step in using GDN is to connect to a local region. When this code executes, it initializes the server connection to the region URL you specified. You can create an API key from the GUI or REST API."
   ]
  },
  {
   "cell_type": "code",
   "execution_count": null,
   "id": "1661134b-7aa4-4885-95c4-c2e4597721ae",
   "metadata": {},
   "outputs": [],
   "source": [
    "fed_url = input(\"Please type the federation host, leave it blank to use the default and press enter:\") or \"gdn.paas.macrometa.io\""
   ]
  },
  {
   "cell_type": "code",
   "execution_count": null,
   "id": "1ce9e9a4-c8bb-4cce-98a6-5eb074a0d8ee",
   "metadata": {},
   "outputs": [],
   "source": [
    "email = input(\"Please, type your email and press enter:\")"
   ]
  },
  {
   "cell_type": "code",
   "execution_count": null,
   "id": "fb391134-b140-4484-be38-69954782533a",
   "metadata": {},
   "outputs": [],
   "source": [
    "import getpass\n",
    "\n",
    "password = getpass.getpass(\"Please, type your password and press enter:\")"
   ]
  },
  {
   "cell_type": "code",
   "execution_count": null,
   "id": "2d8a5e3a-2bba-41f1-9549-35b63be03286",
   "metadata": {},
   "outputs": [],
   "source": [
    "import json\n",
    "\n",
    "from c8 import C8Client\n",
    "\n",
    "client = C8Client(protocol='https', host=fed_url, port=443,\n",
    "                        email=email, password=password,\n",
    "                        geofabric='_system')"
   ]
  },
  {
   "cell_type": "markdown",
   "id": "b678fd8e",
   "metadata": {},
   "source": [
    "## 2. Create a Collection"
   ]
  },
  {
   "cell_type": "code",
   "execution_count": null,
   "id": "f856c722",
   "metadata": {},
   "outputs": [],
   "source": [
    "collection_name = \"students\"\n",
    "\n",
    "# Create a new collection if it does not exist\n",
    "if client.has_collection(collection_name):\n",
    "    print(\"Collection exists\")\n",
    "else:\n",
    "    client.create_collection_kv(name=collection_name)\n",
    "    print(\"Collection Created!\")"
   ]
  },
  {
   "cell_type": "markdown",
   "id": "d2567fd2",
   "metadata": {},
   "source": [
    "## 3. Insert Key Value Pairs\n",
    "\n",
    "Insert key-value pairs into the collection:"
   ]
  },
  {
   "cell_type": "code",
   "execution_count": null,
   "id": "070451af",
   "metadata": {},
   "outputs": [],
   "source": [
    "data = [\n",
    "  {\n",
    "    \"_key\": \"John\",\n",
    "    \"value\": \"Science\",\n",
    "    \"expireAt\": 0\n",
    "  },\n",
    "  {\n",
    "    \"_key\": \"Alice\",\n",
    "    \"value\": \"Maths\",\n",
    "    \"expireAt\": 0\n",
    "  },\n",
    "  {\n",
    "    \"_key\": \"Alex\",\n",
    "    \"value\": \"Physics\",\n",
    "    \"expireAt\": 0\n",
    "  },\n",
    "  {\n",
    "    \"_key\": \"Monika\",\n",
    "    \"value\": \"Chemistry\",\n",
    "    \"expireAt\": 0\n",
    "  }\n",
    "]\n",
    "\n",
    "client.insert_key_value_pair(collection_name, data)\n",
    "print(\"KV Pairs Inserted\")\n"
   ]
  },
  {
   "cell_type": "markdown",
   "id": "0529b3bb",
   "metadata": {},
   "source": [
    "## 4. Get a Value\n",
    "\n",
    "Get the value for a given key:"
   ]
  },
  {
   "cell_type": "code",
   "execution_count": null,
   "id": "d4364d12",
   "metadata": {},
   "outputs": [],
   "source": [
    "#print(\"Value for the provided key: \",client.get_value_for_key(collection_name, \"Monika\"))\n",
    "\n",
    "value = client.get_value_for_key(collection_name, \"John\")\n",
    "\n",
    "print(json.dumps(value, indent=4))"
   ]
  },
  {
   "cell_type": "markdown",
   "id": "4e68082b",
   "metadata": {},
   "source": [
    "## 5. Get Key-Value Count\n",
    "\n",
    "Get the key-value count from a given collection:"
   ]
  },
  {
   "cell_type": "code",
   "execution_count": null,
   "id": "e7aafeb1",
   "metadata": {},
   "outputs": [],
   "source": [
    "print(\"Number of kv pairs in your collection: \",client.get_kv_count(collection_name))"
   ]
  },
  {
   "cell_type": "markdown",
   "id": "ba78680a",
   "metadata": {},
   "source": [
    "## 6. Update Value\n",
    "\n",
    "Update a value for a given key:"
   ]
  },
  {
   "cell_type": "code",
   "execution_count": null,
   "id": "b7079ccc",
   "metadata": {},
   "outputs": [],
   "source": [
    "# Update value for a key\n",
    "data = {\n",
    "    \"_key\": \"John\",\n",
    "    \"value\": \"Biology\",\n",
    "    \"expireAt\": 0\n",
    "}\n",
    "client.insert_key_value_pair(collection_name, data)\n",
    "print(\"Updated the specified KV pair\")"
   ]
  },
  {
   "cell_type": "markdown",
   "id": "f74c8b58",
   "metadata": {},
   "source": [
    "## 7. Delete a Key-Value\n",
    "\n",
    "Delete key-value pairs from a collection:"
   ]
  },
  {
   "cell_type": "code",
   "execution_count": null,
   "id": "38a2db57",
   "metadata": {},
   "outputs": [],
   "source": [
    "# Delete entry for a key\n",
    "print(\"Deleted Entry for the specified Key: \",client.delete_entry_for_key(collection_name, \"John\"))"
   ]
  },
  {
   "cell_type": "markdown",
   "id": "b2eb5cf3",
   "metadata": {},
   "source": [
    "## 8. Delete a Key-Value\n",
    "\n",
    "Delete entry for multiple key-value pairs from a collection:"
   ]
  },
  {
   "cell_type": "code",
   "execution_count": null,
   "id": "e7d525da",
   "metadata": {},
   "outputs": [],
   "source": [
    "value2 = client.delete_entry_for_keys(collection_name, [\"Monika\", \"Alex\", \"Alice\"])\n",
    "print(\"Deleted Entries for the following list of keys:\")\n",
    "print(json.dumps(value2, indent=4))"
   ]
  },
  {
   "cell_type": "markdown",
   "id": "bf8c8e10",
   "metadata": {},
   "source": [
    "## 9. Delete a Collection\n",
    "\n",
    "Delete the key-value collection:"
   ]
  },
  {
   "cell_type": "code",
   "execution_count": null,
   "id": "e946f79a",
   "metadata": {},
   "outputs": [],
   "source": [
    "print(\"Collection Deleted: \",client.delete_collection_kv(collection_name))"
   ]
  },
  {
   "cell_type": "markdown",
   "id": "eba04413",
   "metadata": {},
   "source": [
    "## Workbook Completed!\n",
    "\n",
    "Congratulations! You have successfully created a collection, inserted values, updated a value, deleted an entry, deleted all entries, and finally deleted the collection. \n",
    "\n",
    "Don't forget you can log into your GDN account and check the console to see what is happening from the dashboard at the same time!"
   ]
  }
 ],
 "metadata": {
  "kernelspec": {
   "display_name": "Python 3 (ipykernel)",
   "language": "python",
   "name": "python3"
  },
  "language_info": {
   "codemirror_mode": {
    "name": "ipython",
    "version": 3
   },
   "file_extension": ".py",
   "mimetype": "text/x-python",
   "name": "python",
   "nbconvert_exporter": "python",
   "pygments_lexer": "ipython3",
   "version": "3.9.10"
  }
 },
 "nbformat": 4,
 "nbformat_minor": 5
}
