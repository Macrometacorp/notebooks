{
 "cells": [
  {
   "cell_type": "markdown",
   "id": "f63d4ffe",
   "metadata": {},
   "source": [
    "# Py05 - Graph Traversals\n",
    "\n",
    "## Overview\n",
    "\n",
    "A graph consists of vertices and edges. Vertices are stored as documents in vertex collections, and edges are stored as documents in edge collections. The collections used in a graph and their relations are specified with edge definitions.\n",
    "\n",
    "In this tutorial we will build a simple application for people to find new friends called MacroFriends, and then use graph traversals to see who would like to meet whom."
   ]
  },
  {
   "cell_type": "markdown",
   "id": "def191f4-b8a5-4c1f-b7eb-1d566fc21cc8",
   "metadata": {},
   "source": [
    "## Pre-requisite\n",
    "\n",
    "Let's assume your \n",
    "\n",
    "- Tenant name is an email address\n",
    "- User password is xxxxx\n",
    "\n",
    "If you need to install pyc8, you can run the cell below; otherwise, you may skip it."
   ]
  },
  {
   "cell_type": "code",
   "execution_count": null,
   "id": "f031bd3b-1da8-4dfb-8794-c11ff6ceaf1f",
   "metadata": {},
   "outputs": [],
   "source": [
    "!pip install pyC8"
   ]
  },
  {
   "cell_type": "markdown",
   "id": "92e4743f",
   "metadata": {},
   "source": [
    "## 1. Importing Libraries & Define Variables"
   ]
  },
  {
   "cell_type": "code",
   "execution_count": null,
   "id": "58664212",
   "metadata": {},
   "outputs": [],
   "source": [
    "from c8 import C8Client\n",
    "import pprint\n",
    "import json\n",
    "\n",
    "# Variables - Queries\n",
    "global_url = \"gdn.paas.macrometa.io\"\n",
    "email = \"email\" # <-- Email goes here\n",
    "password = \"password\" # <-- password goes here\n",
    "geo_fabric = \"_system\"\n",
    "collection_friends = \"Friends\"\n",
    "collection_likes = \"Likes\"\n",
    "\n",
    "collection_graph = \"Friends_graph\"\n",
    "read_friends = \"FOR friends IN Friends RETURN friends\"\n",
    "read_likes = \"FOR likes IN Likes RETURN like\"\n",
    "\n",
    "MacroFriends_Client = \"SanJoseLou\"\n",
    "# MacroFriends_Client = \"StocktonPeria\"\n",
    "\n",
    "\n",
    "graph_traversal1 = \"FOR c IN Friends FILTER c.macrofriend_user_name == \\\"{}\\\" FOR v IN 1..1 INBOUND c Likes RETURN v\".format(MacroFriends_Client)\n",
    "\n",
    "graph_traversal2 = \"FOR c IN Friends FILTER c.macrofriend_user_name == \\\"{}\\\" FOR v IN 1..1 OUTBOUND c Likes RETURN v\".format(MacroFriends_Client)\n",
    "\n",
    "pp = pprint.PrettyPrinter(indent=4)"
   ]
  },
  {
   "cell_type": "markdown",
   "id": "ba931134",
   "metadata": {},
   "source": [
    "## 2. Connecting to GDN"
   ]
  },
  {
   "cell_type": "code",
   "execution_count": null,
   "id": "df9c4fae",
   "metadata": {},
   "outputs": [],
   "source": [
    "print(\"\\n ------- CONNECTION SETUP  ------\")\n",
    "print(\"tenant: {}, geofabric:{}\".format(email, geo_fabric))\n",
    "client = C8Client(protocol='https', host=global_url, port=443,\n",
    "                email=email, password=password,\n",
    "                geofabric=geo_fabric)    "
   ]
  },
  {
   "cell_type": "markdown",
   "id": "d20f00af",
   "metadata": {},
   "source": [
    "## 3. Creating Collections"
   ]
  },
  {
   "cell_type": "code",
   "execution_count": null,
   "id": "2376438c",
   "metadata": {},
   "outputs": [],
   "source": [
    "# Create collections if not exists\n",
    "print(\"2a. CREATE_FRIENDS_VERTEX_COLLECTION: region: {},  collection: {}\".format(global_url, collection_friends))\n",
    "if client.has_collection(collection_friends):\n",
    "    friendsCol = client.collection(collection_friends)\n",
    "else:\n",
    "    friendsCol = client.create_collection(collection_friends)\n",
    "\n",
    "print(\"2b. CREATE_LIKES_EDGE_COLLECTION: region: {},  collection: {}\".format(global_url, collection_likes))\n",
    "if client.has_collection(collection_likes):\n",
    "    likesCol = client.collection(collection_likes)\n",
    "else:\n",
    "    likesCol = client.create_collection(collection_likes, edge=True)"
   ]
  },
  {
   "cell_type": "markdown",
   "id": "3f8c6821",
   "metadata": {},
   "source": [
    "## 4. Inserting Data - \"Friends\""
   ]
  },
  {
   "cell_type": "code",
   "execution_count": null,
   "id": "b6ab70af",
   "metadata": {},
   "outputs": [],
   "source": [
    "# Insert data into collections.\n",
    "print(\"3a. INSERT_FRIENDS_DATA: region: {}, collection: {}\".format(global_url, collection_friends))\n",
    "\n",
    "docs = [\n",
    "  {\n",
    "    \"full_name\": \"Kiel Dummer\",\n",
    "    \"first_name\": \"Kiel\",\n",
    "    \"last_name\": \"Dummer\",\n",
    "    \"city\": \"Burbank\",\n",
    "    \"state\": \"CA\",\n",
    "    \"address\": \"40317 5th Crossing\",\n",
    "    \"macrofriend_user_name\": \"BurbankKeil\",\n",
    "    \"_key\": \"BurbankKeil\"\n",
    "  },\n",
    "  {\n",
    "    \"full_name\": \"Pernell Winspare\",\n",
    "    \"first_name\": \"Pernell\",\n",
    "    \"last_name\": \"Winspare\",\n",
    "    \"city\": \"San Diego\",\n",
    "    \"state\": \"CA\",\n",
    "    \"address\": \"596 Packers Pass\",\n",
    "    \"macrofriend_user_name\": \"SanDiegoPernell\",\n",
    "    \"_key\": \"SanDiegoPernell\"\n",
    "  },\n",
    "  {\n",
    "    \"full_name\": \"Ava Kermath\",\n",
    "    \"first_name\": \"Ava\",\n",
    "    \"last_name\": \"Kermath\",\n",
    "    \"city\": \"Berkeley\",\n",
    "    \"state\": \"CA\",\n",
    "    \"address\": \"2 Doe Crossing Junction\",\n",
    "    \"macrofriend_user_name\": \"BerkeleyAva\",\n",
    "    \"_key\": \"BerkeleyAva\"\n",
    "  },\n",
    "  {\n",
    "    \"full_name\": \"Tremain McGrah\",\n",
    "    \"first_name\": \"Tremain\",\n",
    "    \"last_name\": \"McGrah\",\n",
    "    \"city\": \"Torrance\",\n",
    "    \"state\": \"CA\",\n",
    "    \"address\": \"079 Russell Street\",\n",
    "    \"macrofriend_user_name\": \"TorranceTremain\",\n",
    "    \"_key\": \"TorranceTremain\"\n",
    "  },\n",
    "  {\n",
    "    \"full_name\": \"Vidovik Boddam\",\n",
    "    \"first_name\": \"Vidovik\",\n",
    "    \"last_name\": \"Boddam\",\n",
    "    \"city\": \"Los Angeles\",\n",
    "    \"state\": \"CA\",\n",
    "    \"address\": \"3 Brentwood Crossing\",\n",
    "    \"macrofriend_user_name\": \"LosAngelesVidovik\",\n",
    "    \"_key\": \"LosAngelesVidovik\"\n",
    "  },\n",
    "  {\n",
    "    \"full_name\": \"Oralie Goward\",\n",
    "    \"first_name\": \"Oralie\",\n",
    "    \"last_name\": \"Goward\",\n",
    "    \"city\": \"Los Angeles\",\n",
    "    \"state\": \"CA\",\n",
    "    \"address\": \"922 Columbus Park\",\n",
    "    \"macrofriend_user_name\": \"LosAngelesOralie\",\n",
    "    \"_key\": \"LosAngelesOralie\"\n",
    "  },\n",
    "  {\n",
    "    \"full_name\": \"Lou Feaveer\",\n",
    "    \"first_name\": \"Lou\",\n",
    "    \"last_name\": \"Feaveer\",\n",
    "    \"city\": \"San Jose\",\n",
    "    \"state\": \"CA\",\n",
    "    \"address\": \"55223 Hooker Crossing\",\n",
    "    \"macrofriend_user_name\": \"SanJoseLou\",\n",
    "    \"_key\": \"SanJoseLou\"\n",
    "  },\n",
    "  {\n",
    "    \"full_name\": \"Peria King\",\n",
    "    \"first_name\": \"Peria\",\n",
    "    \"last_name\": \"King\",\n",
    "    \"city\": \"Stockton\",\n",
    "    \"state\": \"CA\",\n",
    "    \"address\": \"8 Troy Plaza\",\n",
    "    \"macrofriend_user_name\": \"StocktonPeria\",\n",
    "    \"_key\": \"StocktonPeria\"\n",
    "  }\n",
    "]\n",
    "friendsCol.insert_many(docs)"
   ]
  },
  {
   "cell_type": "markdown",
   "id": "c5c3ce44",
   "metadata": {},
   "source": [
    "## 5. Inserting Data - \"Who Likes Whom\""
   ]
  },
  {
   "cell_type": "code",
   "execution_count": null,
   "id": "26e56694",
   "metadata": {},
   "outputs": [],
   "source": [
    "print(\"3a. INSERT_LIKES_DATA: region: {}, collection: {}\".format(global_url, collection_likes))\n",
    "docs = [\n",
    "        {\n",
    "    \"macrofriend_user_name\": \"BurbankKeil\",\n",
    "    \"friends_liked\": \"SanJoseLou\",\n",
    "    \"_from\": \"Friends/BurbankKeil\",\n",
    "    \"_to\": \"Friends/SanJoseLou\",\n",
    "    \"liked_date\": \"1/4/2020\",\n",
    "    \"liked_time\": \"13:33\",\n",
    "    \"liked_amount\": 30,\n",
    "  },\n",
    "  {\n",
    "    \"macrofriend_user_name\": \"SanJoseLou\",\n",
    "    \"friends_liked\": \"StocktonPeria\",\n",
    "    \"_from\": \"Friends/SanJoseLou\",\n",
    "    \"_to\": \"Friends/StocktonPeria\",\n",
    "    \"liked_date\": \"1/28/2020\",\n",
    "    \"liked_time\": \"3:02\",\n",
    "    \"liked_amount\": 18,\n",
    "  },\n",
    "  {\n",
    "    \"macrofriend_user_name\": \"BerkeleyAva\",\n",
    "    \"friends_liked\": \"StocktonPeria\",\n",
    "    \"_from\": \"Friends/BerkeleyAva\",\n",
    "    \"_to\": \"Friends/StocktonPeria\",\n",
    "    \"liked_date\": \"1/28/2020\",\n",
    "    \"liked_time\": \"3:02\",\n",
    "    \"liked_amount\": 18,\n",
    "  }\n",
    "    ]\n",
    "likesCol.insert_many(docs)"
   ]
  },
  {
   "cell_type": "markdown",
   "id": "3aa91d22",
   "metadata": {},
   "source": [
    "## 6. Creating a Graph"
   ]
  },
  {
   "cell_type": "code",
   "execution_count": null,
   "id": "687962d3",
   "metadata": {},
   "outputs": [],
   "source": [
    "#Create a graph\n",
    "print(\"4. CREATE_GRAPH...Friends_graph\")\n",
    "graph = client.create_graph(collection_graph)\n",
    "register = graph.create_edge_definition(\n",
    "        edge_collection=collection_likes,\n",
    "        from_vertex_collections=[collection_friends],\n",
    "        to_vertex_collections=[collection_friends]\n",
    "    )"
   ]
  },
  {
   "cell_type": "markdown",
   "id": "78be6c27",
   "metadata": {},
   "source": [
    "## 7. Execute a Traversal - \"Find Friends who who would like to meet Lou?\""
   ]
  },
  {
   "cell_type": "code",
   "execution_count": null,
   "id": "b6ed2cc9",
   "metadata": {},
   "outputs": [],
   "source": [
    "#Read Data\n",
    "print(\"5a. GRAPH_TRAVERSAL: Find Friends who would like to meet: {}\".format(MacroFriends_Client))\n",
    "cursor = client.execute_query(graph_traversal1)\n",
    "docs = [document for document in cursor]\n",
    "pp.pprint(docs)"
   ]
  },
  {
   "cell_type": "markdown",
   "id": "842552ac",
   "metadata": {},
   "source": [
    "## 8. Execute a Traversal - \"Find Friends who Lou would like to meet?\""
   ]
  },
  {
   "cell_type": "code",
   "execution_count": null,
   "id": "4588e31f",
   "metadata": {},
   "outputs": [],
   "source": [
    "print(\"5b. GRAPH_TRAVERSAL: Find Friends who were liked by Lou: {}\".format(MacroFriends_Client))\n",
    "cursor = client.execute_query(graph_traversal2)\n",
    "docs = [document for document in cursor]\n",
    "pp.pprint(docs)"
   ]
  },
  {
   "cell_type": "markdown",
   "id": "c04554fa",
   "metadata": {},
   "source": [
    "## 9. Delete Data and Collections"
   ]
  },
  {
   "cell_type": "code",
   "execution_count": null,
   "id": "a405ec2c",
   "metadata": {},
   "outputs": [],
   "source": [
    "#Delete Data\n",
    "print(\"6. DELETE_DATA...\")\n",
    "likesCol.truncate()\n",
    "friendsCol.truncate()\n",
    "client.delete_graph(collection_graph, drop_collections=True)"
   ]
  },
  {
   "cell_type": "markdown",
   "id": "eba04413",
   "metadata": {},
   "source": [
    "## Section Completed!\n",
    "\n",
    "Congratulations! You have completed this tutorial."
   ]
  }
 ],
 "metadata": {
  "kernelspec": {
   "display_name": "Python 3 (ipykernel)",
   "language": "python",
   "name": "python3"
  },
  "language_info": {
   "codemirror_mode": {
    "name": "ipython",
    "version": 3
   },
   "file_extension": ".py",
   "mimetype": "text/x-python",
   "name": "python",
   "nbconvert_exporter": "python",
   "pygments_lexer": "ipython3",
   "version": "3.9.7"
  }
 },
 "nbformat": 4,
 "nbformat_minor": 5
}