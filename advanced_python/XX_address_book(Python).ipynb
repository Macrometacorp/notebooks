{
 "cells": [
  {
   "cell_type": "markdown",
   "id": "f63d4ffe",
   "metadata": {},
   "source": [
    "# PyXX - Building an Address Book App\n",
    "\n",
    "Let’s take 5 minutes to create a stateful-serverless backend for a simple Address Book. It's going to run across the Macrometa Global PaaS Federation distributed with local read-write latencies around ?ms.\n",
    "\n",
    "We are going to walk through 4 steps:\n",
    "\n",
    "1. Create a collection and add some data to it.\n",
    "2. Query that data.\n",
    "3. Save the query (A saved query is called a Query Worker).\n",
    "4. Execute the Query Worker!\n",
    "\n",
    "First things first, if you don't already have an account go create one and mosey on back."
   ]
  },
  {
   "cell_type": "code",
   "execution_count": null,
   "id": "30a9989d",
   "metadata": {},
   "outputs": [],
   "source": [
    "# Run this Cell so that you can output any C8QL results in JSON Format!\n",
    "import json"
   ]
  },
  {
   "cell_type": "markdown",
   "id": "a2b3b194",
   "metadata": {},
   "source": [
    "## Step XX-A - Connect to GDN"
   ]
  },
  {
   "cell_type": "code",
   "execution_count": null,
   "id": "f3604206",
   "metadata": {},
   "outputs": [],
   "source": [
    "from c8 import C8Client\n",
    "\n",
    "fed_url = \"gdn.paas.macrometa.io\"\n",
    "email='email'\n",
    "password='password'\n",
    "\n",
    "client = C8Client(protocol='https', host=fed_url, port=443,\n",
    "                        email=email, password=password,\n",
    "                        geofabric='_system')"
   ]
  },
  {
   "cell_type": "markdown",
   "id": "744bf99b",
   "metadata": {},
   "source": [
    "## Step XX-B - Create a Collection\n",
    "\n",
    "Let’s start by creating a Collection\n",
    "\n",
    "Note: The collection addresses that you just created is now distributed to every location in the fabric!"
   ]
  },
  {
   "cell_type": "code",
   "execution_count": null,
   "id": "f18c767d",
   "metadata": {},
   "outputs": [],
   "source": [
    "collection_name = 'addresses'\n",
    "\n",
    "# Create a new collection if it does not exist\n",
    "if client.has_collection(collection_name):\n",
    "    print(\"Collection exists\")\n",
    "else:\n",
    "    client.create_collection(name=collection_name)\n",
    "    print(\"Collection Created!\")"
   ]
  },
  {
   "cell_type": "markdown",
   "id": "b678fd8e",
   "metadata": {},
   "source": [
    "## Step XX-C - Add some data to the Collection\n",
    "\n",
    "ok, so rather than puting records in one at a time, here is a nice set of records in a doc that you can populate your new collection with."
   ]
  },
  {
   "cell_type": "code",
   "execution_count": null,
   "id": "f856c722",
   "metadata": {},
   "outputs": [],
   "source": [
    "docs = [ \n",
    "  { \"firstName\": \"Joseph\", \"lastName\": \"Smith\", \"email\": \"jsmith2020@gmail.com\" },\n",
    "  { \"firstName\": \"Astrid\", \"lastName\": \"Young\", \"email\": \"missmoneybags@young.co.sg\" },\n",
    "  { \"firstName\": \"Boris\", \"lastName\": \"Balastikov\", \"email\": \"bb@refundit.com\" },\n",
    "  { \"firstName\": \"Sherlock\", \"lastName\": \"Jones\", \"email\": \"pd@elementary.org\" },\n",
    "  { \"firstName\": \"Alpha\", \"lastName\": \"Simpson\", \"email\": \"alf@simpsonrealtech.com\" },\n",
    "  { \"firstName\": \"Jose\", \"lastName\": \"Garcia\", \"email\": \"j.garcia@nebulus.com\" },\n",
    "  { \"firstName\": \"Lee\", \"lastName\": \"Ki\", \"email\": \"Lee.ki@symbol.com\" },\n",
    "  { \"firstName\": \"Mark\", \"lastName\": \"Goldfine\", \"email\": \"mark@tidalwave.com\" },\n",
    "  { \"firstName\": \"Ramesh\", \"lastName\": \"Sriram\", \"email\": \"ramesh@lifely.com\" } \n",
    "]\n",
    "\n",
    "client.insert_document(collection_name='addresses', document=docs)\n",
    "\n",
    "print(json.dumps(docs, indent=4))"
   ]
  },
  {
   "cell_type": "markdown",
   "id": "62216d82",
   "metadata": {},
   "source": [
    "## Step XX-D - Lests Check the collection\n",
    "\n",
    "We are just going to take a look at the collection to make sure we populated it with data."
   ]
  },
  {
   "cell_type": "code",
   "execution_count": null,
   "id": "f0094fa7",
   "metadata": {},
   "outputs": [],
   "source": [
    "cursor = client.execute_query('FOR address IN addresses RETURN address')\n",
    "\n",
    "docs = [document for document in cursor]\n",
    "\n",
    "print(json.dumps(docs, indent=4))"
   ]
  },
  {
   "cell_type": "markdown",
   "id": "048c0b41",
   "metadata": {},
   "source": [
    "## Step XX-E - Create our Apps RESTQL CRUD APIs\n",
    "\n",
    "In this section we are going to define five RESTQL Query APIs\n",
    "..."
   ]
  },
  {
   "cell_type": "markdown",
   "id": "6ef0ff36-2fc8-4be9-a074-a77d892acb86",
   "metadata": {},
   "source": [
    "### Step XX-E1 - Defining our Queries\n",
    "\n",
    "1. getAddresses\n",
    "2. saveContact\n",
    "3. readContact\n",
    "4. removeContact\n",
    "5. updateContact \n"
   ]
  },
  {
   "cell_type": "code",
   "execution_count": null,
   "id": "88bb7216-1cd8-4fe3-99c8-2950a2ba196e",
   "metadata": {},
   "outputs": [],
   "source": [
    "value = \"INSERT {'firstname':@firstname, 'lastname':@lastname, 'email':@email} IN %s\" % collection_name\n",
    "value2 = \"UPDATE @_key WITH {'firstname':@firstname, 'lastname':@lastname, 'email':@email} IN %s\" % collection_name\n",
    "parameter = {\"firstname\": \"\", \"lastname\": \"\", \"email\": \"\"}\n",
    "\n",
    "getAddresses = {\"query\": {\"name\": \"getAddresses\", \"value\": \"FOR doc IN %s RETURN doc\" % collection_name}}\n",
    "print(json.dumps(getAddresses, indent=4))  \n",
    "\n",
    "saveContact = {\"query\": {\"name\": \"saveContact\", \"parameter\": parameter, \"value\": value}} \n",
    "print(json.dumps(saveContact, indent=4))  \n",
    "\n",
    "readContact = {\"query\": {\"name\": \"readContact\", \"value\": \"FOR entry IN %s RETURN entry\" % collection_name}}\n",
    "print(json.dumps(readContact, indent=4))  \n",
    "\n",
    "deleteContact= {\"query\": {\"name\": \"deleteContact\", \"value\": \"REMOVE @_key IN %s\" % collection_name}}\n",
    "print(json.dumps(deleteContact, indent=4))  \n",
    "\n",
    "updateContact = {\"query\": {\"name\": \"updateContact\", \"parameter\": parameter, \"value\": value2}} \n",
    "print(json.dumps(updateContact, indent=4)) "
   ]
  },
  {
   "cell_type": "markdown",
   "id": "91ae602b-bc12-48e1-ae15-44d6566569cd",
   "metadata": {},
   "source": [
    "### Step XX-E2 - Creating the RESTQL APIs\n",
    "\n",
    "The Following Code will create a set of RESTQL APIs in GDN - once complete you can check that they exist from your console access, under Queries, and navigate to \"Saved Queries\"\n"
   ]
  },
  {
   "cell_type": "code",
   "execution_count": null,
   "id": "b7313205-2eba-4a64-8d03-f6a501b41d50",
   "metadata": {},
   "outputs": [],
   "source": [
    "#print(\"\\n ------- CREATE RESTQLs  ------\")\n",
    "client.create_restql(getAddresses) \n",
    "client.create_restql(saveContact)  \n",
    "client.create_restql(readContact)  \n",
    "client.create_restql(deleteContact)  \n",
    "client.create_restql(updateContact)  \n",
    "  \n",
    "print(json.dumps(client.get_restqls(), indent=4))"
   ]
  },
  {
   "cell_type": "markdown",
   "id": "af3edbcb-9e7c-490d-87df-e10cabdc32d7",
   "metadata": {},
   "source": [
    "## Step XX-F - Using the nice Front End we built for you"
   ]
  },
  {
   "cell_type": "markdown",
   "id": "3194fda5-2a1e-44a5-a3db-c412bd9c3b54",
   "metadata": {},
   "source": [
    "Sweet, so now you have a fully functional API for your app. We made a front-end for you to take your new backend for a spin."
   ]
  },
  {
   "cell_type": "markdown",
   "id": "10808b77-5ce8-4935-b17a-b8074f1cc8f2",
   "metadata": {},
   "source": [
    "  Follow this link and follow the instructions in the GitHub Repo\n",
    "  \n",
    "  https://github.com/Macrometacorp/tutorial-addressbook-restql"
   ]
  },
  {
   "cell_type": "markdown",
   "id": "6e13d7cb-31bb-44e6-848e-e626ba900e2c",
   "metadata": {},
   "source": [
    "On your development machine, run the following commands in a console:\n",
    "\n",
    "1. git clone git@github.com:Macrometacorp/tutorial-addressbook-restql.git\n",
    "2. cd tutorial-addressbook-restql\n",
    "3. git fetch\n",
    "4. npm install\n",
    "5. npm run start\n",
    "\n",
    "Make sure you enable github page in settings\n",
    "\n",
    "Rename .env.sample to .env and update the REACT_APP_GDN_URL with https://gdn.paas.macrometa.io\n",
    "\n",
    "Once you have the app running, you will be presented with a page to log in with your Macrometa account. Add your Macrometa account email and password you used with this tutorial, and you will then be asked to select one region in the GUI.\n",
    "\n",
    "Deploy on GH Pages:\n",
    "\n",
    "npm run deploy"
   ]
  },
  {
   "cell_type": "markdown",
   "id": "eba04413",
   "metadata": {},
   "source": [
    "## Section Completed!\n",
    "\n",
    "Congratulations, another Tutorial Completed!"
   ]
  },
  {
   "cell_type": "code",
   "execution_count": null,
   "id": "277d1bb1",
   "metadata": {},
   "outputs": [],
   "source": []
  }
 ],
 "metadata": {
  "kernelspec": {
   "display_name": "Python 3 (ipykernel)",
   "language": "python",
   "name": "python3"
  },
  "language_info": {
   "codemirror_mode": {
    "name": "ipython",
    "version": 3
   },
   "file_extension": ".py",
   "mimetype": "text/x-python",
   "name": "python",
   "nbconvert_exporter": "python",
   "pygments_lexer": "ipython3",
   "version": "3.9.7"
  }
 },
 "nbformat": 4,
 "nbformat_minor": 5
}
