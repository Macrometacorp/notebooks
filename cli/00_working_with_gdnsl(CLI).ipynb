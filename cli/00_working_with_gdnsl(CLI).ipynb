{
 "cells": [
  {
   "cell_type": "markdown",
   "id": "f63d4ffe",
   "metadata": {},
   "source": [
    "# CLI00 - Working with the gdnsl CLI"
   ]
  },
  {
   "cell_type": "markdown",
   "id": "497ca67e",
   "metadata": {},
   "source": [
    "## 1. Introduction\n",
    "\n",
    "Welcome to the Working with gdnsl page for gdnsl, the Macrometa GDN Command Line Interface.\n",
    "\n",
    "## 2. Features\n",
    "\n",
    "- Serverless command-line interface for the Macrometa Global Data Network\n",
    "- Lightweight node.js NPM package"
   ]
  },
  {
   "cell_type": "markdown",
   "source": [
    "## 3. Prerequisite to Running This Notebook - Install the Jupyter Bash Kernel\n",
    "\n",
    "The gdnsl CLI tutorials, including this tutorial, use the Jupyter bash kernel. For the commands in these tutorials to work properly, the bash kernel must be installed. After setting up the Python virtual environment for Jupyter, the bash_kernel module will be installed since it is included in the requirements.txt. To initialize the Bash module, run the following command within the Python virtual environment and restart your Jupyter server."
   ],
   "metadata": {
    "collapsed": false,
    "pycharm": {
     "name": "#%% md\n"
    }
   }
  },
  {
   "cell_type": "code",
   "execution_count": null,
   "outputs": [],
   "source": [
    "python -m bash_kernel.install"
   ],
   "metadata": {
    "collapsed": false,
    "pycharm": {
     "name": "#%%\n"
    }
   }
  },
  {
   "cell_type": "markdown",
   "source": [
    "Note: The bash kernel will not be available until the Jupyter server is restarted. After restarting Jupyter, proceed with the rest of the notebook."
   ],
   "metadata": {
    "collapsed": false,
    "pycharm": {
     "name": "#%% md\n"
    }
   }
  },
  {
   "cell_type": "markdown",
   "source": [],
   "metadata": {
    "collapsed": false,
    "pycharm": {
     "name": "#%% md\n"
    }
   }
  },
  {
   "cell_type": "markdown",
   "id": "3243a36b",
   "metadata": {},
   "source": [
    "## 4. Download and Configure the gdnsl CLI\n",
    "\n",
    "To install gdnsl, simply run the following code in the cell below."
   ]
  },
  {
   "cell_type": "code",
   "execution_count": null,
   "outputs": [],
   "source": [
    "npm install -g gdnsl"
   ],
   "metadata": {
    "collapsed": false,
    "pycharm": {
     "name": "#%%\n"
    }
   }
  },
  {
   "cell_type": "markdown",
   "source": [
    "When installing the CLI outside of Jupyter, run the following command to interactively generate the gdns.yaml configuration file."
   ],
   "metadata": {
    "collapsed": false,
    "pycharm": {
     "name": "#%% md\n"
    }
   }
  },
  {
   "cell_type": "code",
   "execution_count": null,
   "outputs": [],
   "source": [
    "gdnsl init"
   ],
   "metadata": {
    "collapsed": false,
    "pycharm": {
     "name": "#%%\n"
    }
   }
  },
  {
   "cell_type": "markdown",
   "source": [
    "Jupyter does not support interactive terminal sessions so when working within this notebook, create the configuration file using the following commands. Replace the variable placeholder values with your email and api key.\n",
    "\n",
    "Note, this only needs to be done once."
   ],
   "metadata": {
    "collapsed": false,
    "pycharm": {
     "name": "#%% md\n"
    }
   }
  },
  {
   "cell_type": "code",
   "execution_count": null,
   "outputs": [],
   "source": [
    "# Login credentials\n",
    "url=\"https://gdn.paas.macrometa.io\"\n",
    "email=\"email\"\n",
    "api_key=\"XXXX\"\n",
    "\n",
    "echo \"Creating gdnsl.yaml file\"\n",
    "\n",
    "cat << EOF\n",
    "url: $url\n",
    "email: $email\n",
    "apikey: $api_key\n",
    "regions:\n",
    "  - $regions\\\n",
    "EOF > gdnsl.yaml"
   ],
   "metadata": {
    "collapsed": false,
    "pycharm": {
     "name": "#%%\n"
    }
   }
  },
  {
   "cell_type": "markdown",
   "id": "4a1dd915",
   "metadata": {},
   "source": [
    "## Workbook Completed!\n",
    "Congratulations you should now have the Macrometa gdnsl CLI installed."
   ]
  },
  {
   "cell_type": "markdown",
   "id": "ba78680a",
   "metadata": {
    "pycharm": {
     "name": "#%% md\n"
    }
   },
   "source": []
  }
 ],
 "metadata": {
  "kernelspec": {
   "display_name": "Bash",
   "language": "bash",
   "name": "bash"
  },
  "language_info": {
   "codemirror_mode": "shell",
   "file_extension": ".sh",
   "mimetype": "text/x-sh",
   "name": "bash"
  }
 },
 "nbformat": 4,
 "nbformat_minor": 5
}