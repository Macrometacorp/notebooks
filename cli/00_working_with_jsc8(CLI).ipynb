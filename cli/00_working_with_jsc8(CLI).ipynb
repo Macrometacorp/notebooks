{
 "cells": [
  {
   "cell_type": "markdown",
   "id": "f63d4ffe",
   "metadata": {},
   "source": [
    "# CLI00 - Working with CLI"
   ]
  },
  {
   "cell_type": "markdown",
   "id": "497ca67e",
   "metadata": {},
   "source": [
    "## 1. Introduction\n",
    "\n",
    "Welcome to the Working with CLI page for GDNSL, a command line tool for the Digital Edge Fabric.\n",
    "\n",
    "## 2. Features\n",
    "\n",
    "- Clean command line interface.\n",
    "- Lightweight.\n",
    "\n",
    "## 3. Compatibility\n",
    "\n",
    "- The yarn/npm distribution of GDNSL is compatible with Node.js versions 9.x (latest), 8.x (LTS) and 6.x (LTS). Node.js version support follows the official Node.js long-term support schedule(https://github.com/nodejs/LTS).\n",
    "- Versions outside this range may be compatible but are not actively supported.\n",
    "- Required bash kernal for GDNSL. https://pypi.org/project/bash_kernel/"
   ]
  },
  {
   "cell_type": "markdown",
   "id": "6f443bfa-6895-4f62-83cd-e1bceb9ee036",
   "metadata": {},
   "source": [
    "Run below commands in your local terminal to install bash kernal\n",
    "\n",
    "To install: "
   ]
  },
  {
   "cell_type": "code",
   "execution_count": null,
   "id": "9afe9c0f-e16c-41b0-bef3-9203167866f0",
   "metadata": {},
   "outputs": [],
   "source": [
    "pip install bash_kernel\n",
    "python -m bash_kernel.install"
   ]
  },
  {
   "cell_type": "markdown",
   "id": "78557e49-9e07-40e8-a274-91b57e1310ef",
   "metadata": {},
   "source": [
    "To use it, run one of:"
   ]
  },
  {
   "cell_type": "code",
   "execution_count": null,
   "id": "81249310-e3a0-4ede-aba8-4169543ce27d",
   "metadata": {},
   "outputs": [],
   "source": [
    "jupyter notebook\n",
    "# In the notebook interface, select Bash from the 'New' menu\n",
    "jupyter qtconsole --kernel bash\n",
    "jupyter console --kernel bash"
   ]
  },
  {
   "cell_type": "markdown",
   "id": "3243a36b",
   "metadata": {},
   "source": [
    "## 4. Driver download\n",
    "\n",
    "To install JSC8, simply run the following code in the cell below."
   ]
  },
  {
   "cell_type": "code",
   "execution_count": null,
   "id": "378da417",
   "metadata": {},
   "outputs": [],
   "source": [
    "!npm install -g gdnsl"
   ]
  },
  {
   "cell_type": "markdown",
   "id": "4a1dd915",
   "metadata": {},
   "source": [
    "## Workbook Completed!"
   ]
  },
  {
   "cell_type": "markdown",
   "id": "ba78680a",
   "metadata": {},
   "source": [
    "Congratulations you should have now installed the Macrometa Javascript Driver. "
   ]
  }
 ],
 "metadata": {
  "kernelspec": {
   "display_name": "Python 3 (ipykernel)",
   "language": "python",
   "name": "python3"
  },
  "language_info": {
   "codemirror_mode": {
    "name": "ipython",
    "version": 3
   },
   "file_extension": ".py",
   "mimetype": "text/x-python",
   "name": "python",
   "nbconvert_exporter": "python",
   "pygments_lexer": "ipython3",
   "version": "3.9.10"
  }
 },
 "nbformat": 4,
 "nbformat_minor": 5
}
