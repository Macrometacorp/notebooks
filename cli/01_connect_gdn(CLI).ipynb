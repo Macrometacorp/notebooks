{
 "cells": [
  {
   "cell_type": "markdown",
   "id": "fa9ba27b",
   "metadata": {
    "kernelspec": {
     "display_name": "Bash",
     "name": "bash"
    }
   },
   "source": [
    "# CLI01 - Connecting to GDN"
   ]
  },
  {
   "cell_type": "markdown",
   "id": "f63d4ffe",
   "metadata": {
    "kernelspec": {
     "display_name": "Bash",
     "name": "bash"
    }
   },
   "source": [
    "## Pre-requisite\n",
    "\n",
    "Let’s Assume \n",
    "\n",
    "- You have created a Macrometa user account and used the web console to create an API key.\n",
    "- You have installed and configured the Macrometa CLI as explained in section 01"
   ]
  },
  {
   "cell_type": "markdown",
   "id": "8393267e",
   "metadata": {
    "kernelspec": {
     "display_name": "Bash",
     "name": "bash"
    }
   },
   "source": [
    "## 1. Get Accessible Resources"
   ]
  },
  {
   "cell_type": "code",
   "execution_count": null,
   "id": "d816ab61",
   "metadata": {
    "kernelspec": {
     "display_name": "Bash",
     "name": "bash"
    }
   },
   "outputs": [],
   "source": [
    "# Fetch List of accessible databases and streams\n",
    "\n",
    "echo Collections:\n",
    "gdnsl collection list\n",
    "\n",
    "echo Streams:\n",
    "gdnsl streams list"
   ]
  },
  {
   "cell_type": "markdown",
   "id": "ba78680a",
   "metadata": {},
   "source": [
    "Congratulations, you have connected to GDN and checked to see what resources are available!"
   ]
  }
 ],
 "metadata": {
  "kernelspec": {
   "display_name": "Bash",
   "language": "bash",
   "name": "bash"
  },
  "language_info": {
   "codemirror_mode": "shell",
   "file_extension": ".sh",
   "mimetype": "text/x-sh",
   "name": "bash"
  }
 },
 "nbformat": 4,
 "nbformat_minor": 5
}
