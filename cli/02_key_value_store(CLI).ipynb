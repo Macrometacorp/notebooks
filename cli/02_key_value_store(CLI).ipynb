{
 "cells": [
  {
   "cell_type": "markdown",
   "id": "f63d4ffe",
   "metadata": {},
   "source": [
    "# CLI02 - Key Value Store\n",
    "\n",
    "Macrometa GDN is a geodistributed real-time coordination-free materialized views engine that supports multiple data models. You can use GDN as a geo-replicated real-time key-value datastore or database.\n",
    "\n",
    "If you are new to Macrometa GDN, start by reading the essentials of Macrometa GDN.\n",
    "\n",
    "Each document stored in a collection (or table) contains a primary key _key. The rest of the document is considered a value. The collection behaves like a simple key-value (KV) store if it has no secondary indexes.\n",
    "\n",
    "The key-value store has no query languages. The permissible operations are key look-ups (single & batch) and key-value pair insertions, updates and deletions. If you don't specify a sharding attribute, we use _key to shard the data. The simplicity of this model makes a key-value store fast, easy to use, scalable, portable, and flexible.\n",
    "\n",
    "You can enable time_to_live (TTL) during collection creation and add an expireAt value to specify the expiration time for each document in the KV collection.\n",
    "\n",
    "For the following examples, assume these credentials:"
   ]
  },
  {
   "cell_type": "markdown",
   "id": "497ca67e",
   "metadata": {},
   "source": [
    "## Pre-requisite\n",
    "\n",
    "Lets Assume \n",
    "- you have already made a tenant account, and have a username and password\n",
    "- you have installed and configured the Macrometa CLI as explained in section 01"
   ]
  },
  {
   "cell_type": "code",
   "execution_count": null,
   "id": "f2663a28-6c0e-435a-bdad-e8efde08e193",
   "metadata": {},
   "outputs": [],
   "source": [
    "npm install -g gdnsl"
   ]
  },
  {
   "cell_type": "markdown",
   "id": "b678fd8e",
   "metadata": {},
   "source": [
    "## 1. Create a Collection"
   ]
  },
  {
   "cell_type": "code",
   "execution_count": null,
   "id": "f856c722",
   "metadata": {},
   "outputs": [],
   "source": [
    "gdnsl kv create students"
   ]
  },
  {
   "cell_type": "markdown",
   "id": "d2567fd2",
   "metadata": {},
   "source": [
    "## 2. Insert Key Value Pairs\n",
    "\n",
    "Insert key-value pairs into the collection."
   ]
  },
  {
   "cell_type": "code",
   "execution_count": null,
   "id": "070451af",
   "metadata": {},
   "outputs": [],
   "source": [
    "echo \"Inserting keys into the 'students' collection:\"\n",
    "gdnsl kv set students --key John --value Science --ttl 0\n",
    "gdnsl kv set students --key Alice --value Maths --ttl 0\n",
    "gdnsl kv set students --key Alex --value Physics --ttl 0\n",
    "gdnsl kv set students --key Monika --value Chemistry --ttl 0"
   ]
  },
  {
   "cell_type": "markdown",
   "id": "0529b3bb",
   "metadata": {},
   "source": [
    "## 3. Get a Value\n",
    "\n",
    "Get value for a given key."
   ]
  },
  {
   "cell_type": "code",
   "execution_count": null,
   "id": "d4364d12",
   "metadata": {},
   "outputs": [],
   "source": [
    "echo \"Value of key 'John'\"\n",
    "gdnsl kv get students --key John"
   ]
  },
  {
   "cell_type": "markdown",
   "id": "4e68082b",
   "metadata": {},
   "source": [
    "## 4. Get Key-Value Count\n",
    "\n",
    "Get key-value count from a given collection"
   ]
  },
  {
   "cell_type": "code",
   "execution_count": null,
   "id": "e7aafeb1",
   "metadata": {},
   "outputs": [],
   "source": [
    "echo \"Number of kv pairs in your collection:\"\n",
    "gdnsl kv get students --count"
   ]
  },
  {
   "cell_type": "markdown",
   "id": "ba78680a",
   "metadata": {},
   "source": [
    "## 5. Update Value\n",
    "\n",
    "Update value for a given key"
   ]
  },
  {
   "cell_type": "code",
   "execution_count": null,
   "id": "b7079ccc",
   "metadata": {},
   "outputs": [],
   "source": [
    "echo \"Update value for a key\"\n",
    "gdnsl kv set students --key John --value Biology --ttl 0\n",
    "echo \"Updated the specified KV pair\""
   ]
  },
  {
   "cell_type": "markdown",
   "id": "f74c8b58",
   "metadata": {},
   "source": [
    "## 6. Delete a Key-Value\n",
    "\n",
    "Delete key-value pairs from a collection"
   ]
  },
  {
   "cell_type": "code",
   "execution_count": null,
   "id": "38a2db57",
   "metadata": {},
   "outputs": [],
   "source": [
    "echo \"Deleted Entry for the specified Key:\"\n",
    "gdnsl kv delete students --key John"
   ]
  },
  {
   "cell_type": "markdown",
   "id": "b2eb5cf3",
   "metadata": {},
   "source": [
    "## 7. Delete a Key-Value\n",
    "\n",
    "Delete entry for multiple key-value pairs from a collection"
   ]
  },
  {
   "cell_type": "code",
   "execution_count": null,
   "id": "e7d525da",
   "metadata": {},
   "outputs": [],
   "source": [
    "echo \"Deleting multiple keys:\"\n",
    "gdnsl kv delete students --keyarray \"Monika, Alex, Alice\""
   ]
  },
  {
   "cell_type": "markdown",
   "id": "bf8c8e10",
   "metadata": {},
   "source": [
    "## 8. Delete a Collection\n",
    "\n",
    "Delete the key-value collection"
   ]
  },
  {
   "cell_type": "code",
   "execution_count": null,
   "id": "e946f79a",
   "metadata": {},
   "outputs": [],
   "source": [
    "echo \"Deleting collection: \"\n",
    "gdnsl kv delete cities"
   ]
  },
  {
   "cell_type": "markdown",
   "id": "eba04413",
   "metadata": {
    "pycharm": {
     "name": "#%% md\n"
    }
   },
   "source": [
    "## Workbook Completed!\n",
    "\n",
    "Congratulations you should have successfully create a collection, inserted values, updated a value, deleted an entry, deleted all entries and finally deleted the collection. \n",
    "\n",
    "Dont forget you can log into your GDN account and check the console to see what is happening from the dashboard at the same time!"
   ]
  }
 ],
 "metadata": {
  "kernelspec": {
   "display_name": "Bash",
   "language": "bash",
   "name": "bash"
  },
  "language_info": {
   "codemirror_mode": "shell",
   "file_extension": ".sh",
   "mimetype": "text/x-sh",
   "name": "bash"
  }
 },
 "nbformat": 4,
 "nbformat_minor": 5
}
