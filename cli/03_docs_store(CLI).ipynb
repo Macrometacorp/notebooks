{
 "cells": [
  {
   "cell_type": "markdown",
   "id": "f63d4ffe",
   "metadata": {
    "kernelspec": {
     "display_name": "Javascript",
     "name": "javascript"
    }
   },
   "source": [
    "# CLI03 - Documents Store\n",
    "\n",
    "Documents in GDN are JSON objects. These objects can be nested (to any depth) and may contain lists. Each document has a unique primary key that identifies it within its collection. Furthermore, each document is uniquely identified by its document handle across all collections. Different revisions of the same document (identified by its handle) can be distinguished by their document revision. Any transaction only ever sees a single revision of a document.\n",
    "\n",
    "For example:"
   ]
  },
  {
   "cell_type": "code",
   "execution_count": null,
   "id": "b6ab70af",
   "metadata": {},
   "outputs": [],
   "source": [
    "{\n",
    "  \"_id\" : \"myusers/3456789\",\n",
    "  \"_key\" : \"3456789\",\n",
    "  \"_rev\" : \"14253647\",\n",
    "  \"firstName\" : \"John\",\n",
    "  \"lastName\" : \"Doe\",\n",
    "  \"address\" : {\n",
    "    \"street\" : \"Road To Nowhere 1\",\n",
    "    \"city\" : \"Gotham\"\n",
    "  },\n",
    "  \"hobbies\" : [\n",
    "    {\"name\": \"swimming\", \"howFavorite\": 10},\n",
    "    {\"name\": \"biking\", \"howFavorite\": 6},\n",
    "    {\"name\": \"programming\", \"howFavorite\": 4}\n",
    "  ]\n",
    "}"
   ]
  },
  {
   "cell_type": "markdown",
   "id": "a6fdfe0d",
   "metadata": {},
   "source": [
    "All documents contain special attributes:\n",
    "\n",
    "- The document handle is stored as a string in `_id`\n",
    "- The document's primary key in `_key`\n",
    "- The document revision in `_rev`\n",
    "\n",
    "The user can specify the value of the _key attribute when creating a document. The `_id` and `_key` values are immutable once the document has been created. The `_rev` value is maintained by GDN automatically."
   ]
  },
  {
   "cell_type": "markdown",
   "id": "b19a912b-707e-47ad-b914-ab523ccc2685",
   "metadata": {
    "tags": []
   },
   "source": [
    "## Pre-requisite\n",
    "\n",
    "Let’s Assume \n",
    "- You have already made a tenant account, and have a username and password\n",
    "- You have installed and configured the Macrometa CLI as explained in section 01"
   ]
  },
  {
   "cell_type": "code",
   "execution_count": null,
   "id": "bee75117-495d-4ad7-9298-b10e394c2a85",
   "metadata": {},
   "outputs": [],
   "source": [
    "npm install -g gdnsl"
   ]
  },
  {
   "cell_type": "markdown",
   "id": "76c23f01-601d-453d-8c41-d357e6adf867",
   "metadata": {},
   "source": [
    "## 1. Get GeoFabric Details\n",
    "\n",
    "To get the details of a fabric:"
   ]
  },
  {
   "cell_type": "code",
   "execution_count": null,
   "id": "f18c767d",
   "metadata": {},
   "outputs": [],
   "source": [
    "# you might not need this, but if you wanted to select a\n",
    "# specific GeoFabric you can find out whats available by executing this code!\n",
    "\n",
    "gdnsl fabric list"
   ]
  },
  {
   "cell_type": "markdown",
   "id": "b678fd8e",
   "metadata": {},
   "source": [
    "## 2. Create Collection\n",
    "\n",
    "We can now create a collection in the fabric. First, you connect to fabric and then create a collection called employees.\n",
    "\n",
    "The below example shows the steps."
   ]
  },
  {
   "cell_type": "code",
   "execution_count": null,
   "id": "f856c722",
   "metadata": {},
   "outputs": [],
   "source": [
    "collection_name='employees'\n",
    "echo \" ------- CREATE GEO-REPLICATED COLLECTION  ------\"\n",
    "gdnsl collection create $collection_name --type doc \n",
    "echo \"Created collection: $collection_name\""
   ]
  },
  {
   "cell_type": "markdown",
   "id": "62216d82",
   "metadata": {},
   "source": [
    "## 3. Create Index\n",
    "\n",
    "Let's add a `hash_index` called emails to our collection employees. Please refer to the reference guide for details on other available index types."
   ]
  },
  {
   "cell_type": "code",
   "execution_count": null,
   "id": "f0094fa7",
   "metadata": {},
   "outputs": [],
   "source": [
    "echo \" ------- Add Hash Index ------\"\n",
    "gdnsl index create --type hash --fields \"firstname, lastname\" --unique $collection_name\n",
    "echo \"Index created on: $collection_name\""
   ]
  },
  {
   "cell_type": "markdown",
   "id": "048c0b41",
   "metadata": {},
   "source": [
    "## 4. Insert Documents\n",
    "\n",
    "Let's insert documents into the employees collection as shown below:"
   ]
  },
  {
   "cell_type": "code",
   "execution_count": null,
   "id": "0d7736f7",
   "metadata": {},
   "outputs": [],
   "source": [
    "gdnsl import $collection_name --json \"[{\\\"_key\\\":\\\"James\\\",\\\"firstname\\\":\\\"James\\\",\\\"lastname\\\":\\\"Kirk\\\",\\\"email\\\":\\\"email\\\"},{\\\"_key\\\":\\\"Han\\\",\\\"firstname\\\":\\\"Han\\\",\\\"lastname\\\":\\\"Solo\\\",\\\"email\\\":\\\"email\\\"},{\\\"_key\\\":\\\"Bruce\\\",\\\"firstname\\\":\\\"Bruce\\\",\\\"lastname\\\":\\\"Wayne\\\",\\\"email\\\":\\\"email\\\"}]\"\n",
    "echo \"Documents inserted\""
   ]
  },
  {
   "cell_type": "markdown",
   "id": "f328b599",
   "metadata": {},
   "source": [
    "## 5. Query documents using C8QL\n",
    "\n",
    "C8QL is C8's query language. You can execute C8QL query on our newly created collection employees to get its contents.\n",
    "\n",
    "The query `FOR employee IN employees RETURN employee` is equivalent to SQL's SELECT query."
   ]
  },
  {
   "cell_type": "code",
   "execution_count": null,
   "id": "0fbe72ed",
   "metadata": {},
   "outputs": [],
   "source": [
    "gdnsl query \"FOR employee IN employees RETURN employee\""
   ]
  },
  {
   "cell_type": "markdown",
   "id": "01059280-d5af-42ab-a6e3-fda1724a7fe5",
   "metadata": {},
   "source": [
    "## 6. Time to tidy up!\n",
    "\n",
    "That was great! Now let's tidy up by removing the collection we created."
   ]
  },
  {
   "cell_type": "code",
   "execution_count": null,
   "id": "0103d96b-7d13-43bd-af6e-4cda0dfc0d3e",
   "metadata": {},
   "outputs": [],
   "source": [
    "echo \"Deleting collection: \"\n",
    "gdnsl collection delete $collection_name"
   ]
  },
  {
   "cell_type": "markdown",
   "id": "eba04413",
   "metadata": {},
   "source": [
    "## Section Completed!\n",
    "\n",
    "TBC..."
   ]
  }
 ],
 "metadata": {
  "kernelspec": {
   "display_name": "Bash",
   "language": "bash",
   "name": "bash"
  },
  "language_info": {
   "codemirror_mode": "shell",
   "file_extension": ".sh",
   "mimetype": "text/x-sh",
   "name": "bash"
  }
 },
 "nbformat": 4,
 "nbformat_minor": 5
}
