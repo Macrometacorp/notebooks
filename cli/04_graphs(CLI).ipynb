{
 "cells": [
  {
   "cell_type": "markdown",
   "id": "f63d4ffe",
   "metadata": {
    "kernelspec": {
     "display_name": "Javascript",
     "name": "javascript"
    }
   },
   "source": [
    "# CLI04 - Working with Graphs\n",
    "\n",
    "## Overview\n",
    "\n",
    "Today’s applications are required to be highly responsive and always online. They need to be deployed in data centers closer to their users and can access data instantly across the globe.\n",
    "\n",
    "Macrometa global data network (GDN) is a fully managed real-time materialized view engine that provides access to data instantly to Apps & APIs in a single and straightforward interface.\n",
    "\n",
    "This article is an introduction to working with documents in GDN with GDNSL.\n",
    "\n",
    "In the drivers, a document is a dictionary/object that is JSON serializable with the following properties:\n",
    "\n",
    "- It contains the _key field, which identifies the document uniquely within a specific collection.\n",
    "- It contains the `_id` field (also called the handle), which identifies the document uniquely across all collections within a fabric. This ID is a combination of the collection name and the document key using the format `{collection}/{key}` (see example below).\n",
    "- It contains the `_rev` field. GDN supports MVCC (Multiple Version Concurrency Control) and can store each document in multiple revisions. This field indicates the latest revision of a document. The field is populated by GDN and is not required as input unless you want to validate a document against its current revision.\n",
    "\n",
    "Here is an example of a valid document:"
   ]
  },
  {
   "cell_type": "code",
   "execution_count": null,
   "id": "b6ab70af",
   "metadata": {
    "scrolled": true
   },
   "outputs": [],
   "source": [
    "{\n",
    "    '_id': 'students/bruce',\n",
    "    '_key': 'bruce',\n",
    "    '_rev': '_Wm3dzEi--_',\n",
    "    'first_name': 'Bruce',\n",
    "    'last_name': 'Wayne',\n",
    "    'address': {\n",
    "        'street' : '1007 Mountain Dr.',\n",
    "        'city': 'Gotham',\n",
    "        'state': 'NJ'\n",
    "    },\n",
    "    'is_rich': True,\n",
    "    'friends': ['robin', 'gordon']\n",
    "}"
   ]
  },
  {
   "cell_type": "markdown",
   "id": "a6fdfe0d",
   "metadata": {},
   "source": [
    "Edge documents (edges) are similar to standard documents but with two additional required fields `_from` and `_to`. Values of these fields must be the handles of \"from\" and \"to\" vertex documents linked by the edge document in question. Here is an example of a valid edge document:"
   ]
  },
  {
   "cell_type": "code",
   "execution_count": null,
   "id": "b7e7c50d",
   "metadata": {
    "scrolled": true
   },
   "outputs": [],
   "source": [
    "{\n",
    "    '_id': 'friends/001',\n",
    "    '_key': '001',\n",
    "    '_rev': '_Wm3dyle--_',\n",
    "    '_from': 'students/john',\n",
    "    '_to': 'students/jane',\n",
    "    'closeness': 9.5\n",
    "}"
   ]
  },
  {
   "cell_type": "markdown",
   "id": "ed57a31a",
   "metadata": {},
   "source": [
    "A Graph consists of vertices and edges. Edges are stored as documents in edge collections. A vertex can be a document of a document collection or of an edge collection (so edges can be used as vertices). Which collections are used within a named graph is defined via edge definitions. A named graph can contain more than one edge definition. At least one is needed. Graphs allow you to structure your models in line with your domain and group them logically in collections, giving you the power to query them in the same graph queries.\n",
    "\n",
    "In SQL, you commonly have the construct of a relation table to store n:m relations between two data tables. An edge collection is somewhat similar to these relation tables. Vertex collections resemble the data tables with the objects to connect.\n",
    "\n",
    "While simple graph queries with a fixed number of hops via the relation table may be doable in SQL with several nested joins, graph databases can handle an arbitrary number of these hops over edge collections - this is called traversal. Also, edges in one edge collection may point to several vertex collections. It's common to have attributes attached to edges, i.e., a label naming this interconnection.\n",
    "\n",
    "Edges have a direction, with their relations `_from` and `_to` pointing from one document to another document stored in vertex collections. In queries, you can define in which directions the edge relations may be followed, i.e.,\n",
    "\n",
    "- OUTBOUND: `_from` → `_to`\n",
    "- INBOUND: `_from` ← `_to`\n",
    "- ANY: `_from` ↔ `_to`"
   ]
  },
  {
   "cell_type": "markdown",
   "id": "81cf8976-2b8a-4821-ab8c-58a9571a0366",
   "metadata": {
    "tags": []
   },
   "source": [
    "## Pre-requisite\n",
    "\n",
    "Let's Assume \n",
    "\n",
    "- You have already made a tenant account, and have a username and password\n",
    "- You have installed and configured the Macrometa CLI as explained in section 01"
   ]
  },
  {
   "cell_type": "code",
   "execution_count": null,
   "id": "bcc27e97-633f-40f8-8725-99cd47935c78",
   "metadata": {},
   "outputs": [],
   "source": [
    "npm install -g gdnsl"
   ]
  },
  {
   "cell_type": "markdown",
   "id": "744bf99b",
   "metadata": {},
   "source": [
    "## 1. Get GeoFabric Details\n",
    "\n",
    "To get the details of a fabric:"
   ]
  },
  {
   "cell_type": "code",
   "execution_count": null,
   "id": "f18c767d",
   "metadata": {
    "scrolled": true
   },
   "outputs": [],
   "source": [
    "# you might not need this, but if you wanted to select a\n",
    "# specific GeoFabric you can find out whats available by executing this code!\n",
    "\n",
    "gdnsl fabric list"
   ]
  },
  {
   "cell_type": "markdown",
   "id": "b678fd8e",
   "metadata": {},
   "source": [
    "## 2. Create Collection\n",
    "\n",
    "We can now create a collection in the fabric. First, you connect to fabric and then create a collection called employees.\n",
    "\n",
    "The below example shows the steps."
   ]
  },
  {
   "cell_type": "code",
   "execution_count": null,
   "id": "f856c722",
   "metadata": {
    "scrolled": true
   },
   "outputs": [],
   "source": [
    "collection_name='students'\n",
    "echo \" ------- CREATE GEO-REPLICATED COLLECTION  ------\"\n",
    "gdnsl collection create $collection_name --type doc \n",
    "echo \"Created collection: $collection_name\""
   ]
  },
  {
   "cell_type": "markdown",
   "id": "62216d82",
   "metadata": {},
   "source": [
    "## 3. Create an Edge Collection\n",
    "\n",
    "An edge collection contains edge documents and shares its namespace with all other types of collections. You can manage edge documents via standard collection API wrappers, but using edge collection API wrappers provides additional safeguards:\n",
    "\n",
    "- All modifications are executed in transactions\n",
    "- Edge documents are checked against the edge definitions upon insert"
   ]
  },
  {
   "cell_type": "code",
   "execution_count": null,
   "id": "f0094fa7",
   "metadata": {
    "scrolled": true
   },
   "outputs": [],
   "source": [
    "edge_name='school'\n",
    "echo \" ------- CREATE GEO-REPLICATED COLLECTION  ------\"\n",
    "gdnsl collection create $edge_name --type edge\n",
    "echo \"Created Edge Collection: $edge_name\""
   ]
  },
  {
   "cell_type": "markdown",
   "id": "048c0b41",
   "metadata": {},
   "source": [
    "## 4. Insert Documents\n",
    "\n",
    "Let's insert documents into the students collection as shown below:"
   ]
  },
  {
   "cell_type": "code",
   "execution_count": null,
   "id": "0d7736f7",
   "metadata": {
    "scrolled": true
   },
   "outputs": [],
   "source": [
    "gdnsl import $collection_name --json \"[{\\\"_key\\\":\\\"Jenny\\\",\\\"firstname\\\":\\\"Jenney\\\",\\\"lastname\\\":\\\"Jones\\\",\\\"email\\\":\\\"email\\\"},{\\\"_key\\\":\\\"Bob\\\",\\\"firstname\\\":\\\"Bob\\\",\\\"lastname\\\":\\\"Billy\\\",\\\"email\\\":\\\"email\\\"},{\\\"_key\\\":\\\"Alan\\\",\\\"firstname\\\":\\\"Alan\\\",\\\"lastname\\\":\\\"Evans\\\",\\\"email\\\":\\\"email\\\"}]\"\n",
    "echo \"Documents inserted\""
   ]
  },
  {
   "cell_type": "markdown",
   "id": "f328b599",
   "metadata": {},
   "source": [
    "## 5. Create Graph\n",
    "\n",
    "A graph consists of vertices and edges. Vertices are stored as documents in vertex collections, and edges are stored as documents in edge collections. The collections used in a graph and their relations are specified with edge definitions."
   ]
  },
  {
   "cell_type": "code",
   "execution_count": null,
   "id": "0fbe72ed",
   "metadata": {
    "scrolled": true
   },
   "outputs": [],
   "source": [
    "gdnsl graph create school"
   ]
  },
  {
   "cell_type": "markdown",
   "id": "bb4aa95a-6951-4e1a-926b-e0c8852f9815",
   "metadata": {},
   "source": [
    "## 6. Time to tidy up!\n",
    "\n",
    "That was great! Now let's tidy up by removing the collections and graph we created."
   ]
  },
  {
   "cell_type": "code",
   "execution_count": null,
   "id": "cbf2959f-4a9d-48f6-9113-4581713b15ed",
   "metadata": {},
   "outputs": [],
   "source": [
    "echo \"Deleting collection: \"\n",
    "gdnsl collection delete $collection_name\n",
    "gdnsl collection delete $edge_name\n",
    "gdnsl graph delete school"
   ]
  },
  {
   "cell_type": "markdown",
   "id": "eba04413",
   "metadata": {},
   "source": [
    "## Section Completed!\n",
    "\n",
    "Congratulations! You've completed this tutorial."
   ]
  }
 ],
 "metadata": {
  "kernelspec": {
   "display_name": "Bash",
   "language": "bash",
   "name": "bash"
  },
  "language_info": {
   "codemirror_mode": "shell",
   "file_extension": ".sh",
   "mimetype": "text/x-sh",
   "name": "bash"
  }
 },
 "nbformat": 4,
 "nbformat_minor": 5
}
