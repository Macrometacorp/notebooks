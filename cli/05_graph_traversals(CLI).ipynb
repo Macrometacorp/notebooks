{
 "cells": [
  {
   "cell_type": "markdown",
   "id": "f63d4ffe",
   "metadata": {
    "kernelspec": {
     "display_name": "Bash",
     "name": "bash"
    }
   },
   "source": [
    "# CLI05 - Graph Traversals\n",
    "\n",
    "## Overview\n",
    "\n",
    "A graph consists of vertices and edges. Vertices are stored as documents in vertex collections, and edges are stored as documents in edge collections. The collections used in a graph and their relations are specified with edge definitions.\n",
    "\n",
    "This tutorial will build a simple application for people to find new friends called \"MacroFriends\", and then use graph traversals to see who they would like to meet."
   ]
  },
  {
   "cell_type": "markdown",
   "id": "2ed5f439-a542-487f-8b6a-ea2a6f84ede2",
   "metadata": {
    "tags": []
   },
   "source": [
    "## Pre-requisite\n",
    "\n",
    "Let's Assume \n",
    "- You have already made a tenant account, and have a username and password\n",
    "- You have installed and configured the Macrometa CLI as explained in section 01"
   ]
  },
  {
   "cell_type": "code",
   "execution_count": null,
   "id": "b79ffab0-cd53-4b07-8387-7879c57916c9",
   "metadata": {},
   "outputs": [],
   "source": [
    "npm install -g gdnsl"
   ]
  },
  {
   "cell_type": "markdown",
   "id": "92e4743f",
   "metadata": {},
   "source": [
    "## 1. Importing Libraries & Define Variables"
   ]
  },
  {
   "cell_type": "code",
   "execution_count": null,
   "id": "58664212",
   "metadata": {},
   "outputs": [],
   "source": [
    "# Variables\n",
    "collection_friends=\"Friends\";\n",
    "collection_likes=\"Likes\";\n",
    "collection_graph=\"Friends_Graph\"\n",
    "read_friends=\"FOR friends IN Friends RETURN friends\";\n",
    "read_likes=\"FOR likes IN Likes RETURN like\";\n",
    "\n",
    "MacroFriends_Client=\"SanJoseLou\";\n",
    "MacroFriends_Client2=\"StocktonPeria\";"
   ]
  },
  {
   "cell_type": "markdown",
   "id": "d20f00af",
   "metadata": {},
   "source": [
    "## 2. Creating Collections"
   ]
  },
  {
   "cell_type": "code",
   "execution_count": null,
   "id": "2376438c",
   "metadata": {},
   "outputs": [],
   "source": [
    "# Create collections if not exists\n",
    "echo \"2a. CREATE_FRIENDS_VERTEX_COLLECTION collection: $collection_friends\"\n",
    "gdnsl collection create $collection_friends --type doc\n",
    "\n",
    "echo \"2b. CREATE_LIKES_EDGE_COLLECTION collection: $collection_likes\"\n",
    "gdnsl collection create $collection_likes --type edge"
   ]
  },
  {
   "cell_type": "markdown",
   "id": "3f8c6821",
   "metadata": {},
   "source": [
    "## 3. Inserting Data - \"Friends\""
   ]
  },
  {
   "cell_type": "code",
   "execution_count": null,
   "id": "b6ab70af",
   "metadata": {},
   "outputs": [],
   "source": [
    "# Insert data into collections.\n",
    "echo \"3a. INSERT_FRIENDS_DATA collection: $collection_friends\"\n",
    "\n",
    "gdnsl import $collection_friends --json \"[{\\\"full_name\\\":\\\"Kiel Dummer\\\",\\\"first_name\\\":\\\"Kiel\\\",\\\"last_name\\\":\\\"Dummer\\\",\\\"city\\\":\\\"Burbank\\\",\\\"state\\\":\\\"CA\\\",\\\"address\\\":\\\"40317 5th Crossing\\\",\\\"macrofriend_user_name\\\":\\\"BurbankKeil\\\",\\\"_key\\\":\\\"BurbankKeil\\\"},{\\\"full_name\\\":\\\"Pernell Winspare\\\",\\\"first_name\\\":\\\"Pernell\\\",\\\"last_name\\\":\\\"Winspare\\\",\\\"city\\\":\\\"San Diego\\\",\\\"state\\\":\\\"CA\\\",\\\"address\\\":\\\"596 Packers Pass\\\",\\\"macrofriend_user_name\\\":\\\"SanDiegoPernell\\\",\\\"_key\\\":\\\"SanDiegoPernell\\\"},{\\\"full_name\\\":\\\"Ava Kermath\\\",\\\"first_name\\\":\\\"Ava\\\",\\\"last_name\\\":\\\"Kermath\\\",\\\"city\\\":\\\"Berkeley\\\",\\\"state\\\":\\\"CA\\\",\\\"address\\\":\\\"2 Doe Crossing Junction\\\",\\\"macrofriend_user_name\\\":\\\"BerkeleyAva\\\",\\\"_key\\\":\\\"BerkeleyAva\\\"},{\\\"full_name\\\":\\\"Tremain McGrah\\\",\\\"first_name\\\":\\\"Tremain\\\",\\\"last_name\\\":\\\"McGrah\\\",\\\"city\\\":\\\"Torrance\\\",\\\"state\\\":\\\"CA\\\",\\\"address\\\":\\\"079 Russell Street\\\",\\\"macrofriend_user_name\\\":\\\"TorranceTremain\\\",\\\"_key\\\":\\\"TorranceTremain\\\"},{\\\"full_name\\\":\\\"Vidovik Boddam\\\",\\\"first_name\\\":\\\"Vidovik\\\",\\\"last_name\\\":\\\"Boddam\\\",\\\"city\\\":\\\"Los Angeles\\\",\\\"state\\\":\\\"CA\\\",\\\"address\\\":\\\"3 Brentwood Crossing\\\",\\\"macrofriend_user_name\\\":\\\"LosAngelesVidovik\\\",\\\"_key\\\":\\\"LosAngelesVidovik\\\"},{\\\"full_name\\\":\\\"Oralie Goward\\\",\\\"first_name\\\":\\\"Oralie\\\",\\\"last_name\\\":\\\"Goward\\\",\\\"city\\\":\\\"Los Angeles\\\",\\\"state\\\":\\\"CA\\\",\\\"address\\\":\\\"922 Columbus Park\\\",\\\"macrofriend_user_name\\\":\\\"LosAngelesOralie\\\",\\\"_key\\\":\\\"LosAngelesOralie\\\"},{\\\"full_name\\\":\\\"Lou Feaveer\\\",\\\"first_name\\\":\\\"Lou\\\",\\\"last_name\\\":\\\"Feaveer\\\",\\\"city\\\":\\\"San Jose\\\",\\\"state\\\":\\\"CA\\\",\\\"address\\\":\\\"55223 Hooker Crossing\\\",\\\"macrofriend_user_name\\\":\\\"SanJoseLou\\\",\\\"_key\\\":\\\"SanJoseLou\\\"},{\\\"full_name\\\":\\\"Peria King\\\",\\\"first_name\\\":\\\"Peria\\\",\\\"last_name\\\":\\\"King\\\",\\\"city\\\":\\\"Stockton\\\",\\\"state\\\":\\\"CA\\\",\\\"address\\\":\\\"8 Troy Plaza\\\",\\\"macrofriend_user_name\\\":\\\"StocktonPeria\\\",\\\"_key\\\":\\\"StocktonPeria\\\"}]\""
   ]
  },
  {
   "cell_type": "markdown",
   "id": "c5c3ce44",
   "metadata": {},
   "source": [
    "## 4. Inserting Data - \"Who Likes Whom\""
   ]
  },
  {
   "cell_type": "code",
   "execution_count": null,
   "id": "26e56694",
   "metadata": {},
   "outputs": [],
   "source": [
    "# Insert data into collections.\n",
    "echo \"3a. INSERT_LIKES_DATA collection: $collection_likes\"\n",
    "\n",
    "gdnsl import $collection_likes --json \"[{\\\"macrofriend_user_name\\\":\\\"BurbankKeil\\\",\\\"friends_liked\\\":\\\"SanJoseLou\\\",\\\"_from\\\":\\\"Friends/BurbankKeil\\\",\\\"_to\\\":\\\"Friends/SanJoseLou\\\",\\\"liked_date\\\":\\\"1/4/2020\\\",\\\"liked_time\\\":\\\"13:33\\\",\\\"liked_amount\\\":30},{\\\"macrofriend_user_name\\\":\\\"SanJoseLou\\\",\\\"friends_liked\\\":\\\"StocktonPeria\\\",\\\"_from\\\":\\\"Friends/SanJoseLou\\\",\\\"_to\\\":\\\"Friends/StocktonPeria\\\",\\\"liked_date\\\":\\\"1/28/2020\\\",\\\"liked_time\\\":\\\"3:02\\\",\\\"liked_amount\\\":18},{\\\"macrofriend_user_name\\\":\\\"BerkeleyAva\\\",\\\"friends_liked\\\":\\\"StocktonPeria\\\",\\\"_from\\\":\\\"Friends/BerkeleyAva\\\",\\\"_to\\\":\\\"Friends/StocktonPeria\\\",\\\"liked_date\\\":\\\"1/28/2020\\\",\\\"liked_time\\\":\\\"3:02\\\",\\\"liked_amount\\\":18}]\""
   ]
  },
  {
   "cell_type": "markdown",
   "id": "3aa91d22",
   "metadata": {},
   "source": [
    "## 5. Creating a Graph"
   ]
  },
  {
   "cell_type": "code",
   "execution_count": null,
   "id": "687962d3",
   "metadata": {},
   "outputs": [],
   "source": [
    "# Create a graph\n",
    "echo \"4. CREATE_GRAPH...macrofriend_graph\"\n",
    "\n",
    "gdnsl graph create $collection_graph --edge-definition \"$collection_likes:$collection_friends:$collection_friends\""
   ]
  },
  {
   "cell_type": "markdown",
   "id": "78be6c27",
   "metadata": {},
   "source": [
    "## 6. Execute a Traversal - \"Find friends who liked Lou?\""
   ]
  },
  {
   "cell_type": "code",
   "execution_count": null,
   "id": "b6ed2cc9",
   "metadata": {},
   "outputs": [],
   "source": [
    "echo \"5a. GRAPH_TRAVERSAL: Find friends who liked: $MacroFriends_Client2\"\n",
    "\n",
    "# Explain a cursor with filter based on bindvar\n",
    "gdnsl query \"FOR c IN $collection_friends FILTER c.macrofriend_user_name == @macrofriend_user_name FOR v IN 1..1 INBOUND c $collection_likes RETURN v\" --param \"macrofriend_user_name=$MacroFriends_Client\""
   ]
  },
  {
   "cell_type": "markdown",
   "id": "842552ac",
   "metadata": {},
   "source": [
    "## 7. Execute a Traversal - \"Find friends who Lou Liked?\""
   ]
  },
  {
   "cell_type": "code",
   "execution_count": null,
   "id": "4588e31f",
   "metadata": {},
   "outputs": [],
   "source": [
    "echo \"5b. GRAPH_TRAVERSAL: Find friends whole were liked from: $MacroFriends_Client\"\n",
    "\n",
    "# Explain a cursor with filter based on bindvar\n",
    "gdnsl query \"FOR c IN $collection_friends FILTER c.macrofriend_user_name == @macrofriend_user_name FOR v IN 1..1 OUTBOUND c $collection_likes RETURN v\" --param \"macrofriend_user_name=$MacroFriends_Client\""
   ]
  },
  {
   "cell_type": "markdown",
   "id": "b9d770df-e680-4cf6-a73b-6e34ef33631b",
   "metadata": {},
   "source": [
    "## 8. Time to tidy up!\n",
    "\n",
    "That was great! Now let's tidy up by removing the collections and graph we created."
   ]
  },
  {
   "cell_type": "code",
   "execution_count": null,
   "id": "a405ec2c",
   "metadata": {},
   "outputs": [],
   "source": [
    "#Delete Data\n",
    "echo \"6. DELETE_DATA...\"\n",
    "\n",
    "gdnsl graph delete $collection_graph --drop-collections"
   ]
  },
  {
   "cell_type": "markdown",
   "id": "eba04413",
   "metadata": {},
   "source": [
    "## Section Completed!\n",
    "\n",
    "Congratulations! You've completed this tutorial."
   ]
  }
 ],
 "metadata": {
  "kernelspec": {
   "display_name": "Bash",
   "language": "bash",
   "name": "bash"
  },
  "language_info": {
   "codemirror_mode": "shell",
   "file_extension": ".sh",
   "mimetype": "text/x-sh",
   "name": "bash"
  }
 },
 "nbformat": 4,
 "nbformat_minor": 5
}
