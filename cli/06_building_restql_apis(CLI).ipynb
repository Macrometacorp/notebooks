{
 "cells": [
  {
   "cell_type": "markdown",
   "id": "f63d4ffe",
   "metadata": {},
   "source": [
    "# CLI06 - Query Workers\n",
    "\n",
    "Query as API (aka Query Workers) enables developers to convert saved C8QL queries into geo-distributed REST APIs quickly. Query Workers eliminate the need for separate backend servers & containers for CRUD operations"
   ]
  },
  {
   "cell_type": "markdown",
   "id": "5aecc787-4a24-415f-b27b-7724b352b7e6",
   "metadata": {},
   "source": [
    "## Pre-requisite\n",
    "\n",
    "Lets assume \n",
    "- You have already made a tenant account and have a username and password\n",
    "- You have installed the Macrometa CLI as explained in section 01\n",
    "- You have generated an API Key as explained in section 01"
   ]
  },
  {
   "cell_type": "code",
   "execution_count": null,
   "id": "673b80b2-44f5-4366-96c0-0d16f9b57feb",
   "metadata": {},
   "outputs": [],
   "source": [
    "npm install -g gdnsl"
   ]
  },
  {
   "cell_type": "markdown",
   "id": "b678fd8e",
   "metadata": {
    "tags": []
   },
   "source": [
    "## 1. Define Login Credentials\n"
   ]
  },
  {
   "cell_type": "code",
   "execution_count": null,
   "id": "f856c722",
   "metadata": {},
   "outputs": [],
   "source": [
    "# Login credentials\n",
    "url=\"https://gdn.paas.macrometa.io\"\n",
    "email=\"email\"\n",
    "api_key=\"XXXX\"\n",
    "# You can either use LOCAL or ALL also Please enter the name of the regions. For multiple regions enter comma-separated names. For example: region1, region2.\n",
    "regions=\"ALL\""
   ]
  },
  {
   "cell_type": "markdown",
   "id": "62216d82",
   "metadata": {},
   "source": [
    "## 2. Connect to GDN\n",
    "\n",
    "Now that you have added your login credentials, lets connect to GDN:"
   ]
  },
  {
   "cell_type": "code",
   "execution_count": null,
   "id": "f0094fa7",
   "metadata": {},
   "outputs": [],
   "source": [
    "echo \"Creating gdnsl.yaml file\" \n",
    "\n",
    "echo \"url: $url\n",
    "email: $email\n",
    "apikey: $api_key\n",
    "regions:\n",
    "  - $regions\" > gdnsl.yaml\n",
    "\n",
    "echo \"------- CONNECTION SETUP  ------\"\n",
    "# if you are running this from terminal then you can ignore above step and run below command\n",
    "# gdnsl init"
   ]
  },
  {
   "cell_type": "markdown",
   "id": "048c0b41",
   "metadata": {},
   "source": [
    "## 3. Create a Geo Replicated Collection\n",
    "\n",
    "Before we create the Query Workers lets create a collection that we can work with:"
   ]
  },
  {
   "cell_type": "code",
   "execution_count": null,
   "id": "0d7736f7",
   "metadata": {},
   "outputs": [],
   "source": [
    "collection_name=\"person\"\n",
    "\n",
    "echo \" ------- CREATE GEO-REPLICATED COLLECTION  ------\"\n",
    "gdnsl collection create $collection_name --type doc \n",
    "echo \"Created collection: $collection_name\""
   ]
  },
  {
   "cell_type": "markdown",
   "id": "f328b599",
   "metadata": {},
   "source": [
    "## 4. Create Query Workers"
   ]
  },
  {
   "cell_type": "markdown",
   "id": "d5037ede-c9a1-4394-ad0e-28fb4dec28c1",
   "metadata": {},
   "source": [
    "The Following Code will create a set of Query Worker APIs in GDN - once complete, you can check that they exist from your console access, under Queries, and navigate to “Saved Queries”."
   ]
  },
  {
   "cell_type": "code",
   "execution_count": null,
   "id": "0fbe72ed",
   "metadata": {},
   "outputs": [],
   "source": [
    "echo \" ------- CREATE RESTQLs  ------\"\n",
    "gdnsl query-worker create insertRecord --value \"INSERT {'firstname':@firstname, 'lastname':@lastname, 'email':@email, 'zipcode':@zipcode, '_key': 'key101'} IN $collection_name\" # name: insertRecord\n",
    "gdnsl query-worker create getRecords --value  \"FOR doc IN $collection_name RETURN doc\" # name: getRecords\n",
    "gdnsl query-worker create updateRecord --value  \"UPDATE 'key101' WITH { \\\"lastname\\\": \\\"cena\\\" } IN $collection_name\" # name: updateRecord\n",
    "gdnsl query-worker create deleteRecord --value \"REMOVE 'key101' IN $collection_name\" # name: deleteRecord\n",
    "gdnsl query-worker create countRecords --value  \"RETURN COUNT(FOR doc IN $collection_name RETURN 1)\" # name: countRecords\n",
    "echo \" ------- CREATED RESTQLs  ------\""
   ]
  },
  {
   "cell_type": "markdown",
   "id": "034a3683",
   "metadata": {
    "tags": []
   },
   "source": [
    "## 5. Execute Query Workers\n",
    "\n",
    "> Note: We will skip testing the `deleteRecord` API in this section so that we can demonstrate how to update a Query Worker API first."
   ]
  },
  {
   "cell_type": "markdown",
   "id": "055b7bc7-3926-4f50-9306-20ac98405141",
   "metadata": {},
   "source": [
    "### 5.1. Test the \"insertRecord\" Query Worker"
   ]
  },
  {
   "cell_type": "code",
   "execution_count": null,
   "id": "3b00ab46-4b41-4009-b0af-8239b8786b2e",
   "metadata": {},
   "outputs": [],
   "source": [
    "echo \" ------- EXECUTE RESTQLs ------\"\n",
    "echo \"Insert data....\"\n",
    "gdnsl query-worker run insertRecord --param  \"firstname=john\" --param \"lastname=doe\" --param \"email=john.doe@macrometa.io\" --param \"zipcode=511037\"\n",
    "    \n",
    "echo \"Get data....\"\n",
    "gdnsl query-worker run getRecords"
   ]
  },
  {
   "cell_type": "markdown",
   "id": "e4211831-f4bb-4627-a248-b38dc12da748",
   "metadata": {},
   "source": [
    "### 5.2. Test the \"updateRecord\" Query Worker"
   ]
  },
  {
   "cell_type": "code",
   "execution_count": null,
   "id": "033b89ab-1b44-4d66-9308-52320e0b23b8",
   "metadata": {},
   "outputs": [],
   "source": [
    "echo \"Update data....\"\n",
    "gdnsl query-worker run updateRecord\n",
    "echo \"Record updated\""
   ]
  },
  {
   "cell_type": "markdown",
   "id": "741f0da7-42f7-4555-998e-22479eccda6f",
   "metadata": {},
   "source": [
    "### 5.3. Test the \"getRecords\" Query Worker"
   ]
  },
  {
   "cell_type": "code",
   "execution_count": null,
   "id": "c75ebc25-f98c-4724-8fe1-7d19d47d6400",
   "metadata": {},
   "outputs": [],
   "source": [
    "echo \"Get data....\"\n",
    "gdnsl query-worker run getRecords"
   ]
  },
  {
   "cell_type": "markdown",
   "id": "14502430-2649-4a42-8283-4bb70f391142",
   "metadata": {},
   "source": [
    "### 5.4. Test the \"countRecords\" Query Worker"
   ]
  },
  {
   "cell_type": "code",
   "execution_count": null,
   "id": "ea621eff-dfec-4979-973d-f071ef5b8d1b",
   "metadata": {},
   "outputs": [],
   "source": [
    "echo \"Count records....\"\n",
    "gdnsl query-worker run countRecords"
   ]
  },
  {
   "cell_type": "markdown",
   "id": "bf6eb726-1637-4bf6-922f-3f30ac4f8f12",
   "metadata": {},
   "source": [
    "## 6. Updating a Query Worker API"
   ]
  },
  {
   "cell_type": "markdown",
   "id": "8494f21e-222d-4664-a6c1-84deb2662f39",
   "metadata": {},
   "source": [
    "### 6.1. Test that we can query GDN and see the document\n",
    "\n",
    "A common requirement when building an application is to make a change to an API and update it. \n",
    "\n",
    "To demonstrate this, let's first query the database using the `execute_query` method we learned in an earlier section\n",
    "\n",
    "Once run, we should see the document in the cell output in JSON format so we can read it easily."
   ]
  },
  {
   "cell_type": "code",
   "execution_count": null,
   "id": "d33253a6-382f-4169-a36d-45f74a9f0ea8",
   "metadata": {},
   "outputs": [],
   "source": [
    "echo \"Get docs in \\\"person\\\" collection\"\n",
    "\n",
    "gdnsl query \"FOR doc IN person RETURN doc\""
   ]
  },
  {
   "cell_type": "markdown",
   "id": "3d952120-b07e-4fda-8da2-1facc120ebdb",
   "metadata": {},
   "source": [
    "### 6.2. Updating a Query Worker API\n",
    "\n",
    "The following cell shows us how to add a new parameter to the Query. In this example, we will add the parameter \"phone\" to the query."
   ]
  },
  {
   "cell_type": "code",
   "execution_count": null,
   "id": "960e51ea-438e-4f71-afb2-ec56ec653876",
   "metadata": {},
   "outputs": [],
   "source": [
    "gdnsl query-worker update insertRecord --value \"INSERT {'firstname':@firstname, 'lastname':@lastname, 'email':@email, 'zipcode':@zipcode, 'phone': @phone} IN $collection_name\""
   ]
  },
  {
   "cell_type": "markdown",
   "id": "778a878c-2bb5-4f5b-9275-8650bbd17f90",
   "metadata": {},
   "source": [
    "### 6.4. Testing the updated Query Worker API\n",
    "\n",
    "Now that we have updated the query, let's add a new record using it to test that it works."
   ]
  },
  {
   "cell_type": "code",
   "execution_count": null,
   "id": "dfff6834-a500-445e-9977-1914ca06b815",
   "metadata": {},
   "outputs": [],
   "source": [
    "echo \"Insert data with updated query worker\"\n",
    "gdnsl query-worker run insertRecord --param \"firstname=john\" --param \"lastname=doe\" --param \"email=john.doe@macrometa.io\" --param \"zipcode=511037\" --param \"phone=213-555-9578\""
   ]
  },
  {
   "cell_type": "markdown",
   "id": "8971a053-a193-48ac-845c-fb079528c631",
   "metadata": {},
   "source": [
    "### 6.5. Checking the data in the collection\n",
    "\n",
    "Now, let's check that the data has been updated in the record by using the `execute_query` method - we should see two documents. \n",
    "\n",
    "1. the original document without a phone number, and\n",
    "2. a second document, but now with a phone number added\n",
    "\n",
    "> Hint: If you would like to return to the step “countRecords” and re-run the code, the count value should increase by 1."
   ]
  },
  {
   "cell_type": "code",
   "execution_count": null,
   "id": "c1d44f69-30e5-40b7-9ac2-e145f40aff29",
   "metadata": {},
   "outputs": [],
   "source": [
    "echo \"Get docs in \\\"person\\\" collection, after executing the updated query\"\n",
    "\n",
    "gdnsl query \"FOR doc IN person RETURN doc\""
   ]
  },
  {
   "cell_type": "markdown",
   "id": "9d923673-7f9a-464f-b344-b0c93775a39b",
   "metadata": {},
   "source": [
    "## 7.  Deleting a record using a Query Worker API"
   ]
  },
  {
   "cell_type": "code",
   "execution_count": null,
   "id": "eff17047-0bf7-43a6-9e72-1e5835527400",
   "metadata": {},
   "outputs": [],
   "source": [
    "echo \"Delete data....\"\n",
    "gdnsl query-worker run deleteRecord"
   ]
  },
  {
   "cell_type": "markdown",
   "id": "ad06a672-d68f-4e1d-8965-14304db03780",
   "metadata": {},
   "source": [
    "## 8. Delete Query Workers\n",
    "\n",
    "We might want to delete our Query Worker APIs completely.\n",
    "\n",
    "For each Query Worker we want to remove, we use the `delete_restql` method as shown in the cell below:"
   ]
  },
  {
   "cell_type": "code",
   "execution_count": null,
   "id": "9f16fb05-5231-4647-bd55-42880cb45331",
   "metadata": {},
   "outputs": [],
   "source": [
    "echo \"------- DELETE RESTQLs ------\"\n",
    "gdnsl query-worker delete insertRecord\n",
    "gdnsl query-worker delete getRecords\n",
    "gdnsl query-worker delete updateRecord\n",
    "gdnsl query-worker delete countRecords\n",
    "gdnsl query-worker delete deleteRecord\n",
    "echo \"------- DONE  ------\""
   ]
  },
  {
   "cell_type": "markdown",
   "id": "bdd2df2e-eaab-4c66-b795-37d4776e51f2",
   "metadata": {},
   "source": [
    "## 9. Delete the Collection\n",
    "\n",
    "Now let us remove the collection we added during this tutorial:"
   ]
  },
  {
   "cell_type": "code",
   "execution_count": null,
   "id": "6cd47951-0cf3-4391-aa2c-59f5942b1019",
   "metadata": {},
   "outputs": [],
   "source": [
    "gdnsl collection delete $collection_name"
   ]
  },
  {
   "cell_type": "markdown",
   "id": "eba04413",
   "metadata": {},
   "source": [
    "## Section Completed!\n",
    "\n",
    "Congratulations! You have completed this tutorial.\n",
    "\n",
    "**Note: To use the created Query Worker APIs you should use the API reference documentation for detailed instructions.**\n",
    "\n",
    "e.g. `/_fabric/{fabric}/_api/restql/{name}`\n",
    "\n",
    "Where `{name}` is the name of your Query Worker API, e.g. \"insertRecord\"."
   ]
  },
  {
   "cell_type": "code",
   "execution_count": null,
   "id": "503b1028-4975-4605-aaff-3e95fe747dc3",
   "metadata": {},
   "outputs": [],
   "source": []
  }
 ],
 "metadata": {
  "kernelspec": {
   "display_name": "Bash",
   "language": "bash",
   "name": "bash"
  },
  "language_info": {
   "codemirror_mode": "shell",
   "file_extension": ".sh",
   "mimetype": "text/x-sh",
   "name": "bash"
  }
 },
 "nbformat": 4,
 "nbformat_minor": 5
}
