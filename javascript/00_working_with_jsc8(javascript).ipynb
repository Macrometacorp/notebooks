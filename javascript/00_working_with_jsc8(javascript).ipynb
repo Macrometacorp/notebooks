{
 "cells": [
  {
   "cell_type": "markdown",
   "id": "f63d4ffe",
   "metadata": {},
   "source": [
    "# JS00 - Working with jsC8"
   ]
  },
  {
   "cell_type": "markdown",
   "id": "497ca67e",
   "metadata": {},
   "source": [
    "## 1. Introduction\n",
    "\n",
    "Welcome to the Working with jsC8 page, a Javascript driver for the Digital Edge Fabric.\n",
    "\n",
    "## 2. Features\n",
    "\n",
    "- Clean Javascript interface\n",
    "- Lightweight\n",
    "\n",
    "## 3. Compatibility\n",
    "\n",
    "- The yarn/npm distribution of jsC8 is compatible with Node.js versions 9.x (latest), 8.x (LTS) and 6.x (LTS). Node.js version support follows the official [Node.js long-term support schedule](https://nodejs.org/en/about/releases/).\n",
    "- The included browser build is compatible with Internet Explorer 11 and recent versions of all modern browsers (Edge, Chrome, Firefox, and Safari).\n",
    "- Versions outside this range may be compatible but are not actively supported."
   ]
  },
  {
   "cell_type": "markdown",
   "id": "3243a36b",
   "metadata": {},
   "source": [
    "## 4. Driver download\n",
    "\n",
    "To install the jsC8 driver, run the following code in the cell below.\n",
    "\n",
    "If you are working on this eBook locally, you will need a javascript kernel for the notebook, and jsC8 needs to be installed once."
   ]
  },
  {
   "cell_type": "code",
   "execution_count": null,
   "id": "378da417",
   "metadata": {},
   "outputs": [],
   "source": [
    "!npm install -g ijavascript # javascript kernal\n",
    "!npm install jsc8 --save # jsc8 driver"
   ]
  },
  {
   "cell_type": "markdown",
   "id": "6ad187f8",
   "metadata": {},
   "source": [
    "If you work through the tutorials in this eBook, in CoLab, or similar, you will have to install javascript kernel and jsC8 each time you start a new tutorial."
   ]
  },
  {
   "cell_type": "code",
   "execution_count": null,
   "id": "8393267e",
   "metadata": {},
   "outputs": [],
   "source": [
    "#/* run this once to install javascript kernal in google colab, then reload, and then skip this\n",
    "!npm install -g --unsafe-perm ijavascript jsc8 \n",
    "!ijsinstall --install=global  # */"
   ]
  },
  {
   "cell_type": "markdown",
   "id": "4a1dd915",
   "metadata": {},
   "source": [
    "## Workbook Completed!"
   ]
  },
  {
   "cell_type": "markdown",
   "id": "ba78680a",
   "metadata": {},
   "source": [
    "Congratulations, you have installed the Macrometa Javascript Driver!"
   ]
  },
  {
   "cell_type": "code",
   "execution_count": null,
   "id": "4f3ecb83-7054-485d-84b8-ab42c0deeece",
   "metadata": {},
   "outputs": [],
   "source": []
  }
 ],
 "metadata": {
  "kernelspec": {
   "display_name": "Python 3 (ipykernel)",
   "language": "python",
   "name": "python3"
  },
  "language_info": {
   "codemirror_mode": {
    "name": "ipython",
    "version": 3
   },
   "file_extension": ".py",
   "mimetype": "text/x-python",
   "name": "python",
   "nbconvert_exporter": "python",
   "pygments_lexer": "ipython3",
   "version": "3.9.10"
  }
 },
 "nbformat": 4,
 "nbformat_minor": 5
}
