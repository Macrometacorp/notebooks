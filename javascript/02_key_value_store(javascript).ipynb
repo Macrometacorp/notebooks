{
 "cells": [
  {
   "cell_type": "markdown",
   "id": "f63d4ffe",
   "metadata": {
    "kernelspec": {
     "display_name": "Javascript",
     "name": "javascript"
    },
    "tags": []
   },
   "source": [
    "# JS02 - Key Value Store\n",
    "\n",
    "Macrometa GDN is a geo-distributed real-time coordination-free materialized views engine that supports multiple data models. You can use GDN as a geo-replicated real-time key-value datastore or database.\n",
    "\n",
    "If you are new to Macrometa GDN, start by reading the essentials of Macrometa GDN.\n",
    "\n",
    "Each document stored in a collection (or table) contains a primary key, `_key`. The rest of the document is considered a value. If it has no secondary indexes, the collection behaves like a simple key-value (KV) store.\n",
    "\n",
    "The key-value store has no query languages. The permissible operations are key look-ups (single and batch), key-value pair insertions, updates, and deletions. If you don't specify a sharding attribute, we use `_key` to shard the data. The simplicity of this model makes a key-value store fast, easy to use, scalable, portable, and flexible.\n",
    "\n",
    "You can enable `time_to_live` (TTL) during collection creation and add an expireAt value to specify the expiration time for each document in the KV collection.\n",
    "\n",
    "For the following examples, assume these credentials:"
   ]
  },
  {
   "cell_type": "markdown",
   "id": "497ca67e",
   "metadata": {},
   "source": [
    "## Pre-requisite\n",
    "\n",
    "Let's assume: \n",
    "- You have already made a tenant account and have a username and password\n",
    "- You have installed the jsC8 drivers as explained in section 01\n",
    "- You have generated an API Key as explained in section 01\n"
   ]
  },
  {
   "cell_type": "code",
   "execution_count": null,
   "id": "ef042227",
   "metadata": {},
   "outputs": [],
   "source": [
    "#/* run this once to install javascript kernal and jsc8 in google colab, then reload, and then skip this\n",
    "!npm install jsc8\n",
    "!npm install -g --unsafe-perm ijavascript\n",
    "!ijsinstall --install=global  # */"
   ]
  },
  {
   "cell_type": "markdown",
   "id": "3ab3be27",
   "metadata": {},
   "source": [
    "## Step 02-A - Connect to GDN\n",
    "\n",
    "The first step in using GDN is to connect to a local region. When this code executes, it initializes the server connection to the region URL you specified. You can create an API key from the GUI or REST API."
   ]
  },
  {
   "cell_type": "code",
   "execution_count": null,
   "id": "4ceb6da1-5879-4384-862e-2787b97bafa7",
   "metadata": {},
   "outputs": [],
   "source": [
    "let emailId, password;\n",
    "let fed_url = \"https://gdn.paas.macrometa.io\";"
   ]
  },
  {
   "cell_type": "code",
   "execution_count": null,
   "id": "07139f24-59e2-4922-a63b-28b32d1bec49",
   "metadata": {},
   "outputs": [],
   "source": [
    "$$.input(\n",
    "  { prompt: \"Please, type fedration url, leave blank to use default and press enter: \" },\n",
    "  (error, url) => {\n",
    "      if(url)\n",
    "        fed_url = url;\n",
    "    $$.done();\n",
    "  }\n",
    ");"
   ]
  },
  {
   "cell_type": "code",
   "execution_count": null,
   "id": "48c96ce1-5506-42b2-ad81-a3c69b8a66b2",
   "metadata": {},
   "outputs": [],
   "source": [
    "$$.input(\n",
    "  { prompt: \"Please, type your email and press enter: \" },\n",
    "  (error, email) => {\n",
    "    emailId = email;\n",
    "    $$.done();\n",
    "  }\n",
    ");"
   ]
  },
  {
   "cell_type": "code",
   "execution_count": null,
   "id": "1c7d093a-43a2-4121-be98-84879afebf1b",
   "metadata": {},
   "outputs": [],
   "source": [
    "$$.input(\n",
    "  { prompt: \"Please, type your password and press enter: \", password: true },\n",
    "  (error, pass) => {\n",
    "    password = pass;\n",
    "    $$.done();\n",
    "  }\n",
    ");"
   ]
  },
  {
   "cell_type": "code",
   "execution_count": null,
   "id": "f508eb62",
   "metadata": {},
   "outputs": [],
   "source": [
    "const jsc8 = require(\"jsc8\");\n",
    "\n",
    "// ----- simple way  -----\n",
    "const client = new jsc8({\n",
    "  url: fed_url,\n",
    "});\n",
    "\n",
    "client\n",
    "  .login(emailId, password)\n",
    "  .then((result) => console.log(\"Login successfully\", result))\n",
    "  .catch((err) => console.error(\"Error while login\", err.message));\n",
    "\n",
    "// ----- with token -----\n",
    "/* const client = new jsc8({\n",
    "  url: \"https://gdn.paas.macrometa.io\",\n",
    "  token: \"XXXX\",\n",
    "  fabricName: \"_system\",\n",
    "}); */\n",
    "\n",
    "// ----- with apikey-----\n",
    "/* const client = new jsc8({\n",
    "  url: \"https://gdn.paas.macrometa.io\",\n",
    "  apiKey: \"XXXX\",\n",
    "  fabricName: \"_system\",\n",
    "}); */"
   ]
  },
  {
   "cell_type": "markdown",
   "id": "b678fd8e",
   "metadata": {},
   "source": [
    "## Step 02-B - Create a Collection"
   ]
  },
  {
   "cell_type": "code",
   "execution_count": null,
   "id": "f856c722",
   "metadata": {},
   "outputs": [],
   "source": [
    "const collection_name = \"students\";\n",
    "\n",
    "const createCollection = async () => {\n",
    "  let collectionDetails;\n",
    "  try {\n",
    "    const isCollectionExists = await client.hasCollection(collection_name);\n",
    "    if (isCollectionExists) {\n",
    "      console.log(\"Collection exists with name \", collection_name);\n",
    "      return;\n",
    "    }\n",
    "    collectionDetails = await client.createKVCollection(collection_name);\n",
    "    console.log(\"Collection created! \", collection_name);\n",
    "  } catch (err) {\n",
    "    console.error(\"Collection creation did not succeed due to \", err.message);\n",
    "  }\n",
    "};\n",
    "\n",
    "createCollection();"
   ]
  },
  {
   "cell_type": "markdown",
   "id": "d2567fd2",
   "metadata": {},
   "source": [
    "## Step 02-C - Insert Key Value Pairs\n",
    "\n",
    "Insert key-value pairs into the collection:"
   ]
  },
  {
   "cell_type": "code",
   "execution_count": null,
   "id": "070451af",
   "metadata": {},
   "outputs": [],
   "source": [
    "let data = [\n",
    "  {\n",
    "    _key: \"John\",\n",
    "    value: \"Science\",\n",
    "    expireAt: 0,\n",
    "  },\n",
    "  {\n",
    "    _key: \"Alice\",\n",
    "    value: \"Maths\",\n",
    "    expireAt: 0,\n",
    "  },\n",
    "  {\n",
    "    _key: \"Alex\",\n",
    "    value: \"Physics\",\n",
    "    expireAt: 0,\n",
    "  },\n",
    "  {\n",
    "    _key: \"Monika\",\n",
    "    value: \"Chemistry\",\n",
    "    expireAt: 0,\n",
    "  },\n",
    "];\n",
    "\n",
    "const insertKVPairs = async () => {\n",
    "  try {\n",
    "    await client.insertKVPairs(collection_name, data);\n",
    "    console.log(\"KV pairs inserted\");\n",
    "  } catch (err) {\n",
    "    console.error(\"Error while inserting KV pairs\", err.message);\n",
    "  }\n",
    "};\n",
    "\n",
    "insertKVPairs();"
   ]
  },
  {
   "cell_type": "markdown",
   "id": "0529b3bb",
   "metadata": {},
   "source": [
    "## Step 02-D - Get a Value\n",
    "\n",
    "Get a value for a given key:"
   ]
  },
  {
   "cell_type": "code",
   "execution_count": null,
   "id": "d4364d12",
   "metadata": {},
   "outputs": [],
   "source": [
    "const getValueForKey = async () => {\n",
    "  try {\n",
    "    const monikaKV = await client.getValueForKey(collection_name, \"Monika\");\n",
    "    console.log(\"Value for the provided key Monika: \", monikaKV);\n",
    "\n",
    "    const johnKV = await client.getValueForKey(collection_name, \"John\");\n",
    "\n",
    "    console.log(\"Value for the provided key John: \", johnKV);\n",
    "  } catch (err) {\n",
    "    console.error(\"Error while reading the KV\", err.message);\n",
    "  }\n",
    "};\n",
    "\n",
    "getValueForKey();"
   ]
  },
  {
   "cell_type": "markdown",
   "id": "4e68082b",
   "metadata": {},
   "source": [
    "## Step 02-E - Get Key-Value Count\n",
    "\n",
    "Get the key-value count from a given collection:"
   ]
  },
  {
   "cell_type": "code",
   "execution_count": null,
   "id": "e7aafeb1",
   "metadata": {},
   "outputs": [],
   "source": [
    "const getKVCount = async () => {\n",
    "  try {\n",
    "    const result = await client.getKVCount(collection_name);\n",
    "    console.log(\"Number of kv pairs in your collection: \", result.count);\n",
    "  } catch (err) {\n",
    "    console.error(\"Error while fetching kv count \", err.message);\n",
    "  }\n",
    "};\n",
    "\n",
    "getKVCount();"
   ]
  },
  {
   "cell_type": "markdown",
   "id": "ba78680a",
   "metadata": {},
   "source": [
    "## Step 02-F - Update Value\n",
    "\n",
    "Update a value for a given key:"
   ]
  },
  {
   "cell_type": "code",
   "execution_count": null,
   "id": "b7079ccc",
   "metadata": {},
   "outputs": [],
   "source": [
    "data = {\n",
    "  _key: \"John\",\n",
    "  value: \"Biology\",\n",
    "  expireAt: 0,\n",
    "};\n",
    "\n",
    "const insertKeyValuePair = async () => {\n",
    "  try {\n",
    "    await client.insertKVPairs(collection_name, data);\n",
    "    console.log(\"Updated the specified KV pair\");\n",
    "  } catch (err) {\n",
    "    console.error(\"Error while updating KV pair\", err.message);\n",
    "  }\n",
    "};\n",
    "\n",
    "insertKeyValuePair();"
   ]
  },
  {
   "cell_type": "markdown",
   "id": "f74c8b58",
   "metadata": {},
   "source": [
    "## Step 02-G - Delete a Key-Value\n",
    "\n",
    "Delete key-value pairs from a collection:"
   ]
  },
  {
   "cell_type": "code",
   "execution_count": null,
   "id": "38a2db57",
   "metadata": {},
   "outputs": [],
   "source": [
    "const deleteEntryForKey = async () => {\n",
    "  try {\n",
    "    await client.deleteEntryForKey(collection_name, \"John\");\n",
    "    console.log(\"Deleted Entry for the specified Key John\");\n",
    "  } catch (err) {\n",
    "    console.error(\"Error while deleting KV pair\", err.message);\n",
    "  }\n",
    "};\n",
    "\n",
    "deleteEntryForKey();"
   ]
  },
  {
   "cell_type": "markdown",
   "id": "b2eb5cf3",
   "metadata": {},
   "source": [
    "## Step 02-H - Delete a Key-Value\n",
    "\n",
    "Delete an entry for multiple key-value pairs from a collection:"
   ]
  },
  {
   "cell_type": "code",
   "execution_count": null,
   "id": "e7d525da",
   "metadata": {},
   "outputs": [],
   "source": [
    "const deleteEntryForKeys = async () => {\n",
    "  try {\n",
    "    const values2 = await client.deleteEntryForKeys(collection_name, [\n",
    "      \"Monika\",\n",
    "      \"Alex\",\n",
    "      \"Alice\",\n",
    "    ]);\n",
    "    console.log(\"Deleted Entries for the specified Key: \", values2);\n",
    "  } catch (err) {\n",
    "    console.error(\"Error while deleting KV pair\", err.message);\n",
    "  }\n",
    "};\n",
    "\n",
    "deleteEntryForKeys();"
   ]
  },
  {
   "cell_type": "markdown",
   "id": "bf8c8e10",
   "metadata": {},
   "source": [
    "## Step 02-I - Delete a Collection\n",
    "\n",
    "Delete the key-value collection:"
   ]
  },
  {
   "cell_type": "code",
   "execution_count": null,
   "id": "e946f79a",
   "metadata": {},
   "outputs": [],
   "source": [
    "const deleteKVCollection = async () => {\n",
    "  try {\n",
    "    await client.deleteKVCollection(collection_name);\n",
    "    console.log(\"Collection Deleted: \", collection_name);\n",
    "  } catch (err) {\n",
    "    console.error(\"Error while deleting collection \", err.message);\n",
    "  }\n",
    "};\n",
    "\n",
    "deleteKVCollection();"
   ]
  },
  {
   "cell_type": "markdown",
   "id": "eba04413",
   "metadata": {},
   "source": [
    "## Workbook Completed!\n",
    "\n",
    "Congratulations! You should have successfully created a collection, inserted values, updated a value, deleted an entry, deleted all entries, and finally deleted the collection. \n",
    "\n",
    "Don't forget you can log into your GDN account and check the console to see what is happening from the dashboard at the same time!"
   ]
  }
 ],
 "metadata": {
  "kernelspec": {
   "display_name": "JavaScript (Node.js)",
   "language": "javascript",
   "name": "javascript"
  },
  "language_info": {
   "file_extension": ".js",
   "mimetype": "application/javascript",
   "name": "javascript",
   "version": "17.7.1"
  }
 },
 "nbformat": 4,
 "nbformat_minor": 5
}
