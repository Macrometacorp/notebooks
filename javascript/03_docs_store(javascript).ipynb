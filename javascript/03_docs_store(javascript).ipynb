{
 "cells": [
  {
   "cell_type": "markdown",
   "id": "f63d4ffe",
   "metadata": {
    "kernelspec": {
     "display_name": "Javascript",
     "name": "javascript"
    }
   },
   "source": [
    "# JS03 - Documents Store\n",
    "\n",
    "Documents in GDN are JSON objects. These objects can be nested (to any depth) and may contain lists. Each document has a unique primary key that identifies it within its collection. Furthermore, each document is uniquely identified by its document handle across all collections. Different revisions of the same document (identified by its handle) can be distinguished by their document revision. Any transaction only ever sees a single revision of a document.\n",
    "\n",
    "For example:"
   ]
  },
  {
   "cell_type": "code",
   "execution_count": null,
   "id": "b6ab70af",
   "metadata": {},
   "outputs": [],
   "source": [
    "{\n",
    "  \"_id\" : \"myusers/3456789\",\n",
    "  \"_key\" : \"3456789\",\n",
    "  \"_rev\" : \"14253647\",\n",
    "  \"firstName\" : \"John\",\n",
    "  \"lastName\" : \"Doe\",\n",
    "  \"address\" : {\n",
    "    \"street\" : \"Road To Nowhere 1\",\n",
    "    \"city\" : \"Gotham\"\n",
    "  },\n",
    "  \"hobbies\" : [\n",
    "    {name: \"swimming\", howFavorite: 10},\n",
    "    {name: \"biking\", howFavorite: 6},\n",
    "    {name: \"programming\", howFavorite: 4}\n",
    "  ]\n",
    "}"
   ]
  },
  {
   "cell_type": "markdown",
   "id": "a6fdfe0d",
   "metadata": {},
   "source": [
    "All documents contain special attributes:\n",
    "\n",
    "- the document handle is stored as a string in `_id`\n",
    "- the document's primary key in `_key`\n",
    "- the document revision in `_rev`\n",
    "\n",
    "The user can specify the value of the `_key` attribute when creating a document. The `_id` and `_key` values are immutable once the document has been created. The `_rev` value is maintained by GDN automatically."
   ]
  },
  {
   "cell_type": "markdown",
   "id": "497ca67e",
   "metadata": {},
   "source": [
    "## Pre-requisite\n",
    "\n",
    "Let's assume:\n",
    "\n",
    "- You have already made a tenant account, and have a username and password\n",
    "- You have installed the jsC8 drivers as explained in section 01\n",
    "- You have generated an API Key as explained in section 01"
   ]
  },
  {
   "cell_type": "code",
   "execution_count": null,
   "id": "30a9989d",
   "metadata": {},
   "outputs": [],
   "source": [
    "#/* run this once to install javascript kernal and jsc8 in google colab, then reload, and then skip this\n",
    "!npm install jsc8\n",
    "!npm install -g --unsafe-perm ijavascript\n",
    "!ijsinstall --install=global  # */"
   ]
  },
  {
   "cell_type": "markdown",
   "id": "a2b3b194",
   "metadata": {},
   "source": [
    "## 1. Connect to GDN"
   ]
  },
  {
   "cell_type": "code",
   "execution_count": null,
   "id": "8371ddde-6a9c-47c5-b32f-36a638052710",
   "metadata": {},
   "outputs": [],
   "source": [
    "let emailId, password;\n",
    "let fed_url = \"https://gdn.paas.macrometa.io\";"
   ]
  },
  {
   "cell_type": "code",
   "execution_count": null,
   "id": "26464f1c-65bd-4854-95ed-bdc613cb91a1",
   "metadata": {},
   "outputs": [],
   "source": [
    "$$.input(\n",
    "  { prompt: \"Please, type fedration url, leave blank to use default and press enter: \" },\n",
    "  (error, url) => {\n",
    "      if(url)\n",
    "        fed_url = url;\n",
    "    $$.done();\n",
    "  }\n",
    ");"
   ]
  },
  {
   "cell_type": "code",
   "execution_count": null,
   "id": "8873b000-b10f-496d-a635-3451ee3b8edd",
   "metadata": {},
   "outputs": [],
   "source": [
    "$$.input(\n",
    "  { prompt: \"Please, type your email and press enter: \" },\n",
    "  (error, email) => {\n",
    "    emailId = email;\n",
    "    $$.done();\n",
    "  }\n",
    ");"
   ]
  },
  {
   "cell_type": "code",
   "execution_count": null,
   "id": "e8edd1d8-bf79-4f4f-9456-edb4442b4033",
   "metadata": {},
   "outputs": [],
   "source": [
    "$$.input(\n",
    "  { prompt: \"Please, type your password and press enter: \", password: true },\n",
    "  (error, pass) => {\n",
    "    password = pass;\n",
    "    $$.done();\n",
    "  }\n",
    ");"
   ]
  },
  {
   "cell_type": "code",
   "execution_count": null,
   "id": "f3604206",
   "metadata": {},
   "outputs": [],
   "source": [
    "const jsc8 = require(\"jsc8\");\n",
    "\n",
    "// ----- simple way  -----\n",
    "const client = new jsc8({\n",
    "  url: fed_url,\n",
    "});\n",
    "\n",
    "client\n",
    "  .login(emailId, password)\n",
    "  .then((result) => console.log(\"Login successfully\", result))\n",
    "  .catch((err) => console.error(\"Error while login\", err.message));\n",
    "\n",
    "// ----- with token -----\n",
    "/* const client = new jsc8({\n",
    "  url: \"https://gdn.paas.macrometa.io\",\n",
    "  token: \"XXXX\",\n",
    "  fabricName: \"_system\",\n",
    "}); */\n",
    "\n",
    "// ----- with apikey-----\n",
    "/* const client = new jsc8({\n",
    "  url: \"https://gdn.paas.macrometa.io\",\n",
    "  apiKey: \"XXXX\",\n",
    "  fabricName: \"_system\",\n",
    "}); */"
   ]
  },
  {
   "cell_type": "markdown",
   "id": "744bf99b",
   "metadata": {},
   "source": [
    "## 2. Get GeoFabric Details\n",
    "\n",
    "To get the details of fabric:"
   ]
  },
  {
   "cell_type": "code",
   "execution_count": null,
   "id": "f18c767d",
   "metadata": {},
   "outputs": [],
   "source": [
    "// you might not need this, but if you wanted to select a\n",
    "// specific GeoFabric you can find out whats available by executing this code!\n",
    "const getGeoFabricMetaData = async () => {\n",
    "  console.log(\"Get geo fabric details...\");\n",
    "\n",
    "  try {\n",
    "    const fabrics = await client.get();\n",
    "    console.log(fabrics);\n",
    "  } catch (err) {\n",
    "    console.error(\"Error while fetching GeoFabric details\", err.message);\n",
    "  }\n",
    "};\n",
    "\n",
    "getGeoFabricMetaData();"
   ]
  },
  {
   "cell_type": "markdown",
   "id": "b678fd8e",
   "metadata": {},
   "source": [
    "## 3. Create Collection\n",
    "\n",
    "We can now create a collection in the fabric. To do this, first, you connect to fabric and then create a collection called employees.\n",
    "\n",
    "The below example shows the steps:"
   ]
  },
  {
   "cell_type": "code",
   "execution_count": null,
   "id": "f856c722",
   "metadata": {},
   "outputs": [],
   "source": [
    "const collection_name = \"employees\";\n",
    "\n",
    "const createCollection = async () => {\n",
    "  let collectionDetails;\n",
    "  try {\n",
    "    const isCollectionExists = await client.hasCollection(collection_name);\n",
    "    if (isCollectionExists) {\n",
    "      console.log(\"Collection exists with name \", collection_name);\n",
    "      return;\n",
    "    }\n",
    "    collectionDetails = await client.createCollection(collection_name);\n",
    "    console.log(\"Collection created! \", collection_name);\n",
    "  } catch (err) {\n",
    "    console.error(\"Collection creation did not succeed due to \", err.message);\n",
    "  }\n",
    "};\n",
    "\n",
    "createCollection();"
   ]
  },
  {
   "cell_type": "markdown",
   "id": "62216d82",
   "metadata": {},
   "source": [
    "## 4. Create Index\n",
    "\n",
    "Let's add a `hash_index` called emails to our collection employees. Please refer to the reference guide for details on other available index types."
   ]
  },
  {
   "cell_type": "code",
   "execution_count": null,
   "id": "f0094fa7",
   "metadata": {},
   "outputs": [],
   "source": [
    "const addHashIndex = async () => {\n",
    "  console.log(\"Add Hash Index\");\n",
    "  try {\n",
    "    const hashIndex = await client.addHashIndex(\n",
    "      collection_name,\n",
    "      (fields = [\"firstname\", \"lastname\"]),\n",
    "      { unique: true }\n",
    "    );\n",
    "    console.log(\"Index created: \", hashIndex);\n",
    "  } catch (err) {\n",
    "    console.error(\"Error while adding Hash Index\", err.message);\n",
    "  }\n",
    "};\n",
    "\n",
    "addHashIndex();"
   ]
  },
  {
   "cell_type": "markdown",
   "id": "048c0b41",
   "metadata": {},
   "source": [
    "## 5. Insert Documents\n",
    "\n",
    "Let's insert documents into the employees collection as shown below."
   ]
  },
  {
   "cell_type": "code",
   "execution_count": null,
   "id": "0d7736f7",
   "metadata": {},
   "outputs": [],
   "source": [
    "let docs = [\n",
    "  {\n",
    "    _key: \"James\",\n",
    "    firstname: \"James\",\n",
    "    lastname: \"Kirk\",\n",
    "    email: \"email\",\n",
    "  },\n",
    "  {\n",
    "    _key: \"Han\",\n",
    "    firstname: \"Han\",\n",
    "    lastname: \"Solo\",\n",
    "    email: \"email\",\n",
    "  },\n",
    "  {\n",
    "    _key: \"Bruce\",\n",
    "    firstname: \"Bruce\",\n",
    "    lastname: \"Wayne\",\n",
    "    email: \"email\",\n",
    "  },\n",
    "];\n",
    "\n",
    "const insertDocument = async () => {\n",
    "  try {\n",
    "    await client.insertDocument(collection_name, docs);\n",
    "    console.log(\"Documents inserted\");\n",
    "  } catch (err) {\n",
    "    console.error(\"Error while inserting documents\", err.message);\n",
    "  }\n",
    "};\n",
    "\n",
    "insertDocument();"
   ]
  },
  {
   "cell_type": "markdown",
   "id": "f328b599",
   "metadata": {},
   "source": [
    "## 6. Query documents using C8QL\n",
    "\n",
    "C8QL is C8's query language. You can execute C8QL query on our newly created collection employees to get its contents.\n",
    "\n",
    "The query `FOR employee IN employees RETURN employee` is equivalent to SQL's SELECT query."
   ]
  },
  {
   "cell_type": "code",
   "execution_count": null,
   "id": "0fbe72ed",
   "metadata": {},
   "outputs": [],
   "source": [
    "const c8Queries = async () => {\n",
    "  try {\n",
    "    let docs = await client.executeQuery(\n",
    "      \"FOR employee IN employees RETURN employee\"\n",
    "    );\n",
    "    console.log(docs);\n",
    "  } catch (err) {\n",
    "    console.error(\"Error while query documents\", err.message);\n",
    "  }\n",
    "};\n",
    "\n",
    "c8Queries();"
   ]
  },
  {
   "cell_type": "markdown",
   "id": "034a3683",
   "metadata": {},
   "source": [
    "## 7. Get realtime updates\n",
    "\n",
    "Example for real-time updates from a collection in fabric:\n",
    "\n",
    "> Note: You need to enable Stream from the Macrometa Dashboard for this to work. Do this by opening up the dashboard, selecting collections, finding the collection named \"employees\" and selecting \"enable Stream\"\n",
    "\n",
    "Now run the cell below, return to the Macrometa Dashboard and modify and save fields in the collection. You should see the real-time updates below as soon as you hit save.\n",
    "\n",
    "The WebSocket will time out after 60 seconds if no updates are seen, so you might need to re-run the cell code if you see a timed-out message below."
   ]
  },
  {
   "cell_type": "code",
   "execution_count": null,
   "id": "3b5321c7",
   "metadata": {},
   "outputs": [],
   "source": [
    "const callback_fn = (collection) => {\n",
    "  console.log(\"Connection open on \", collection);\n",
    "};\n",
    "\n",
    "const realTimeListener = async () => {\n",
    "  try {\n",
    "    const listener = await client.onCollectionChange(collection_name);\n",
    "\n",
    "    listener.on(\"message\", (event) => {\n",
    "      const encodedMessage = JSON.parse(event).payload;\n",
    "      let data = {};\n",
    "      const decodedMessage = atob(encodedMessage);\n",
    "\n",
    "      if (decodedMessage.length !== 0) {\n",
    "        data = JSON.parse(decodedMessage);\n",
    "      }\n",
    "      console.log(\"message=>\", data);\n",
    "    });\n",
    "    listener.on(\"open\", () => {\n",
    "      callback_fn(collection_name);\n",
    "    });\n",
    "    listener.on(\"close\", () => console.log(\"connection closed\"));\n",
    "  } catch (err) {\n",
    "    console.error(\"Error while getting realtime updates\", err.message);\n",
    "  }\n",
    "};\n",
    "\n",
    "realTimeListener();"
   ]
  },
  {
   "cell_type": "markdown",
   "id": "50b696a9-d685-4fb0-bb34-fa59742cb729",
   "metadata": {},
   "source": [
    "## 8. Time to tidy up!\n",
    "\n",
    "That was great! Now let's tidy up by removing the collection we created."
   ]
  },
  {
   "cell_type": "code",
   "execution_count": null,
   "id": "b154bb85-b9a8-47a9-9dd5-1d557a6cbc1a",
   "metadata": {},
   "outputs": [],
   "source": [
    "const deleteCollection = async () => {\n",
    "  try {\n",
    "    await client.deleteCollection(collection_name);\n",
    "    console.log(\"Collection Deleted: \", collection_name);\n",
    "  } catch (err) {\n",
    "    console.error(\"Error while deleting collection \", err.message);\n",
    "  }\n",
    "};\n",
    "\n",
    "deleteCollection();"
   ]
  },
  {
   "cell_type": "markdown",
   "id": "eba04413",
   "metadata": {},
   "source": [
    "## Section Completed!\n",
    "\n",
    "TBC..."
   ]
  }
 ],
 "metadata": {
  "kernelspec": {
   "display_name": "JavaScript (Node.js)",
   "language": "javascript",
   "name": "javascript"
  },
  "language_info": {
   "file_extension": ".js",
   "mimetype": "application/javascript",
   "name": "javascript",
   "version": "17.7.1"
  }
 },
 "nbformat": 4,
 "nbformat_minor": 5
}
