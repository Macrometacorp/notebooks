{
 "cells": [
  {
   "cell_type": "markdown",
   "id": "f63d4ffe",
   "metadata": {
    "kernelspec": {
     "display_name": "Javascript",
     "name": "javascript"
    }
   },
   "source": [
    "# Workbook 03 - Quick Start with Documents Store\n",
    "\n",
    "Documents in GDN are JSON objects. These objects can be nested (to any depth) and may contain lists. Each document has a unique primary key which identifies it within its collection. Furthermore, each document is uniquely identified by its document handle across all collections. Different revisions of the same document (identified by its handle) can be distinguished by their document revision. Any transaction only ever sees a single revision of a document.\n",
    "\n",
    "For example:"
   ]
  },
  {
   "cell_type": "code",
   "execution_count": null,
   "id": "b6ab70af",
   "metadata": {},
   "outputs": [],
   "source": [
    "{\n",
    "  \"_id\" : \"myusers/3456789\",\n",
    "  \"_key\" : \"3456789\",\n",
    "  \"_rev\" : \"14253647\",\n",
    "  \"firstName\" : \"John\",\n",
    "  \"lastName\" : \"Doe\",\n",
    "  \"address\" : {\n",
    "    \"street\" : \"Road To Nowhere 1\",\n",
    "    \"city\" : \"Gotham\"\n",
    "  },\n",
    "  \"hobbies\" : [\n",
    "    {name: \"swimming\", howFavorite: 10},\n",
    "    {name: \"biking\", howFavorite: 6},\n",
    "    {name: \"programming\", howFavorite: 4}\n",
    "  ]\n",
    "}"
   ]
  },
  {
   "cell_type": "markdown",
   "id": "a6fdfe0d",
   "metadata": {},
   "source": [
    "All documents contain special attributes:\n",
    "\n",
    "- the document handle is stored as a string in _id,\n",
    "- the document's primary key in _key and\n",
    "- the document revision in _rev.\n",
    "\n",
    "The value of the _key attribute can be specified by the user when creating a document. _id and _key values are immutable once the document has been created. The _rev value is maintained by GDN automatically."
   ]
  },
  {
   "cell_type": "markdown",
   "id": "497ca67e",
   "metadata": {},
   "source": [
    "## Pre-requisite\n",
    "\n",
    "Lets Assume \n",
    "- you have already made a tenant account, and have a username and password\n",
    "- you have installed the jsc8 drivers as explained in section 01\n",
    "- you have generated an API Key as explained in section 01"
   ]
  },
  {
   "cell_type": "code",
   "execution_count": null,
   "id": "30a9989d",
   "metadata": {},
   "outputs": [],
   "source": [
    "#/* run this once to install javascript kernal and jsc8 in google colab, then reload, and then skip this\n",
    "!npm install jsc8\n",
    "!npm install -g --unsafe-perm ijavascript\n",
    "!ijsinstall --install=global  # */"
   ]
  },
  {
   "cell_type": "markdown",
   "id": "a2b3b194",
   "metadata": {},
   "source": [
    "## Step 03-A - Connect to GDN"
   ]
  },
  {
   "cell_type": "code",
   "execution_count": 14,
   "id": "f3604206",
   "metadata": {},
   "outputs": [],
   "source": [
    "const jsc8 = require(\"jsc8\");\n",
    "\n",
    "// Simple Way\n",
    "const client = new jsc8({url: \"https://gdn.paas.macrometa.io\", token: \"XXXX\", fabricName: '_system'});\n",
    "// ----- OR -----\n",
    "// const client = new jsc8({url: \"https://gdn.paas.macrometa.io\", apiKey: \"XXXX\", fabricName: '_system'});\n",
    "\n",
    "// To use advanced options\n",
    "// const client = new jsc8(\"https://gdn.paas.macrometa.io\"); \n",
    "// client.login(email, password).then(result => console.log(\"Login successfully\", result)).catch(err => console.error(\"Error while login\", err.message))"
   ]
  },
  {
   "cell_type": "markdown",
   "id": "744bf99b",
   "metadata": {},
   "source": [
    "## Step 03-B - Get GeoFabric Details\n",
    "\n",
    "To get details of fabric,"
   ]
  },
  {
   "cell_type": "code",
   "execution_count": 8,
   "id": "f18c767d",
   "metadata": {},
   "outputs": [],
   "source": [
    "// you might not need this, but if you wanted to select a\n",
    "// specific GeoFabric you can find out whats available by executing this code!\n",
    "\n",
    "async function getGeoFabricMetaData() {\n",
    "  console.log(\"Get geo fabric details...\");\n",
    "\n",
    "  try {\n",
    "    const fabrics = await client.get();\n",
    "    console.log(fabrics);\n",
    "  } catch (err) {\n",
    "    console.log(\"Error while fetching GeoFabric details\", err.message);\n",
    "  }\n",
    "}\n",
    "\n",
    "getGeoFabricMetaData();\n"
   ]
  },
  {
   "cell_type": "markdown",
   "id": "b678fd8e",
   "metadata": {},
   "source": [
    "## Step 03-C - Create Collection\n",
    "\n",
    "We can now create collection in the fabric. To do this, first you connect to fabric and then create a collection called employees.\n",
    "\n",
    "The below example shows the steps."
   ]
  },
  {
   "cell_type": "code",
   "execution_count": 16,
   "id": "f856c722",
   "metadata": {},
   "outputs": [],
   "source": [
    "const collection_name = \"employees\";\n",
    "\n",
    "async function createCollection() {\n",
    "  let collectionDetails;\n",
    "  try {\n",
    "    // Create a new collection if it does not exist\n",
    "    if (await client.hasCollection(collection_name)) {\n",
    "      console.log(\"Collection exists with name \", collection_name);\n",
    "      return;\n",
    "    }\n",
    "    collectionDetails = await client.createCollection(collection_name);\n",
    "    console.log(\"Collection created! \", collection_name);\n",
    "  } catch (e) {\n",
    "    return \"Collection creation did not succeed due to \" + e.message;\n",
    "  }\n",
    "}\n",
    "\n",
    "createCollection();"
   ]
  },
  {
   "cell_type": "markdown",
   "id": "62216d82",
   "metadata": {},
   "source": [
    "## Step 03-D - Create Index\n",
    "\n",
    "Let's add a hash_index called emails to our collection employees. Please refer to reference guide for details on other available index types."
   ]
  },
  {
   "cell_type": "code",
   "execution_count": 24,
   "id": "f0094fa7",
   "metadata": {},
   "outputs": [],
   "source": [
    "async function addHashIndex() {\n",
    "  console.log(\"Add Hash Index\");\n",
    "  try {\n",
    "    const hashIndex = await client.addHashIndex(\n",
    "      collection_name,\n",
    "      (fields = [\"firstname\", \"lastname\"]),\n",
    "      { unique: true }\n",
    "    );\n",
    "    console.log(\"Index created: \", hashIndex);\n",
    "  } catch (err) {\n",
    "    console.log(\"Error while adding Hash Index\", err.message);\n",
    "  }\n",
    "}\n",
    "\n",
    "addHashIndex();\n"
   ]
  },
  {
   "cell_type": "markdown",
   "id": "048c0b41",
   "metadata": {},
   "source": [
    "## Step 03-E - Insert Documents\n",
    "\n",
    "Let's insert documents to the employees collection as shown below."
   ]
  },
  {
   "cell_type": "code",
   "execution_count": 25,
   "id": "0d7736f7",
   "metadata": {},
   "outputs": [],
   "source": [
    "let docs = [\n",
    "  {\n",
    "    _key: \"James\",\n",
    "    firstname: \"James\",\n",
    "    lastname: \"Kirk\",\n",
    "    email: \"[email protected]\",\n",
    "  },\n",
    "  {\n",
    "    _key: \"Han\",\n",
    "    firstname: \"Han\",\n",
    "    lastname: \"Solo\",\n",
    "    email: \"[email protected]\",\n",
    "  },\n",
    "  {\n",
    "    _key: \"Bruce\",\n",
    "    firstname: \"Bruce\",\n",
    "    lastname: \"Wayne\",\n",
    "    email: \"[email protected]\",\n",
    "  },\n",
    "];\n",
    "\n",
    "async function insertDocument() {\n",
    "  return await client.insertDocument(collection_name, docs);\n",
    "}\n",
    "\n",
    "insertDocument()\n",
    "  .then((result) => console.log(\"Documents inserted\"))\n",
    "  .catch((err) => console.log(\"Error while inserting documents\", err.message));"
   ]
  },
  {
   "cell_type": "markdown",
   "id": "f328b599",
   "metadata": {},
   "source": [
    "## Step 03-F - Query documents using C8QL\n",
    "\n",
    "8QL is C8's query language. You can execute C8QL query on our newly created collection employees to get its contents.\n",
    "\n",
    "The query \"FOR employee IN employees RETURN employee\" is equivalent to SQL's SELECT query."
   ]
  },
  {
   "cell_type": "code",
   "execution_count": 26,
   "id": "0fbe72ed",
   "metadata": {},
   "outputs": [],
   "source": [
    "async function c8Queries() {\n",
    "  let docs = await client.executeQuery(\n",
    "    \"FOR employee IN employees RETURN employee\"\n",
    "  );\n",
    "  console.log(docs);\n",
    "}\n",
    "\n",
    "c8Queries();"
   ]
  },
  {
   "cell_type": "markdown",
   "id": "034a3683",
   "metadata": {},
   "source": [
    "## Step 03-G - Get realtime updates\n",
    "\n",
    "Example for real-time updates from a collection in fabric:\n",
    "\n",
    "Note: for this to work you need to enable Stream from the Macrometa Dashboard. Do this by opening up the dashboard, select collections, find the collection named \"employees\" and select \"enable Stream\"\n",
    "\n",
    "Now run the cell below, return to the Macrometa Dashboard and modify and save fields in the collection. you should see the real time updates below as soon as you hit save!. \n",
    "\n",
    "the websocket will time out after 60sec if no updates are seen, so you might need to re run the cell code if you see a timed out message below. :)"
   ]
  },
  {
   "cell_type": "code",
   "execution_count": 28,
   "id": "3b5321c7",
   "metadata": {},
   "outputs": [],
   "source": [
    "async function callback_fn(collection) {\n",
    "  await console.log(\"Connection open on \", collection.name);\n",
    "}\n",
    "\n",
    "async function realTimeListener() {\n",
    "  const listener = await client.onCollectionChange(collection_name);\n",
    "\n",
    "  listener.on(\"message\", (msg) => console.log(\"message=>\", msg));\n",
    "  listener.on(\"open\", () => {\n",
    "    this.callback_fn(collection);\n",
    "  });\n",
    "  listener.on(\"close\", () => console.log(\"connection closed\"));\n",
    "}\n",
    "\n",
    "realTimeListener();"
   ]
  },
  {
   "cell_type": "markdown",
   "id": "eba04413",
   "metadata": {},
   "source": [
    "## Section Completed!\n",
    "\n",
    "TBC..."
   ]
  },
  {
   "cell_type": "code",
   "execution_count": null,
   "id": "277d1bb1",
   "metadata": {},
   "outputs": [],
   "source": []
  }
 ],
 "metadata": {
  "kernelspec": {
   "display_name": "JavaScript (Node.js)",
   "language": "javascript",
   "name": "javascript"
  },
  "language_info": {
   "file_extension": ".js",
   "mimetype": "application/javascript",
   "name": "javascript",
   "version": "17.7.1"
  }
 },
 "nbformat": 4,
 "nbformat_minor": 5
}
