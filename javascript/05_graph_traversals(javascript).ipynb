{
 "cells": [
  {
   "cell_type": "markdown",
   "id": "f63d4ffe",
   "metadata": {
    "kernelspec": {
     "display_name": "Javascript",
     "name": "javascript"
    }
   },
   "source": [
    "# JS05 - Graph Traversals\n",
    "\n",
    "## Overview\n",
    "\n",
    "A graph consists of vertices and edges. Vertices are stored as documents in vertex collections and edges stored as documents in edge collections. The collections used in a graph and their relations are specified with edge definitions.\n",
    "\n",
    "In this tutorial we will build a simple dating application caled \"Hopefulls\", and then use graph traversals to see who has liked whom."
   ]
  },
  {
   "cell_type": "markdown",
   "id": "da13fcd6-1552-42de-adc2-40adc794baa9",
   "metadata": {},
   "source": [
    "## Pre-requisite\n",
    "\n",
    "Lets Assume \n",
    "- you have already made a tenant account, and have a username and password\n",
    "- you have installed the jsc8 drivers as explained in section 01\n",
    "- you have generated an API Key as explained in section 01\n"
   ]
  },
  {
   "cell_type": "code",
   "execution_count": null,
   "id": "636b5920-c6c0-466c-b45f-742adfd14577",
   "metadata": {},
   "outputs": [],
   "source": [
    "#/* run this once to install javascript kernal and jsc8 in google colab, then reload, and then skip this\n",
    "!npm install jsc8\n",
    "!npm install -g --unsafe-perm ijavascript\n",
    "!ijsinstall --install=global  # */"
   ]
  },
  {
   "cell_type": "markdown",
   "id": "92e4743f",
   "metadata": {},
   "source": [
    "## Step 05-A Importing Libraries & Define Variables"
   ]
  },
  {
   "cell_type": "code",
   "execution_count": 1,
   "id": "58664212",
   "metadata": {},
   "outputs": [],
   "source": [
    "// Variables - Queries\n",
    "const global_url = \"gdn.paas.macrometa.io\";\n",
    "const email = \"email\"; // <-- Email goes here\n",
    "const password = \"password\"; // <-- password goes here\n",
    "const geo_fabric = \"_system\";\n",
    "const collection_singles = \"Singles\";\n",
    "const collection_likes = \"Likes\";\n",
    "const collection_graph = \"Hopefulls_graph\";\n",
    "const read_singles = \"FOR singles IN Singles RETURN singles\";\n",
    "const read_likes = \"FOR likes IN Likes RETURN like\";\n",
    "\n",
    "const Hopefulls_Client = \"SanJoseLou\";\n",
    "const Hopefulls_Client2 = \"StocktonPeria\";\n",
    "\n",
    "const graph_traversal1 = `FOR c IN Singles FILTER c.hopefulls_user_name == \\\"${Hopefulls_Client}\\\" FOR v IN 1..1 INBOUND c Likes RETURN v`;\n",
    "const graph_traversal2 = `FOR c IN Singles FILTER c.hopefulls_user_name == \\\"${Hopefulls_Client}\\\" FOR v IN 1..1 OUTBOUND c Likes RETURN v`;\n"
   ]
  },
  {
   "cell_type": "markdown",
   "id": "ba931134",
   "metadata": {},
   "source": [
    "## Step 05-B - Connecting to GDN"
   ]
  },
  {
   "cell_type": "code",
   "execution_count": 2,
   "id": "df9c4fae",
   "metadata": {},
   "outputs": [],
   "source": [
    "const jsc8 = require(\"jsc8\");\n",
    "\n",
    "// Simple Way\n",
    "const client = new jsc8({\n",
    "  url: \"https://verizon.5g.macrometa.io\",\n",
    "  token: \"XXXX\",\n",
    "  fabricName: \"_system\",\n",
    "});\n",
    "\n",
    "// ----- OR -----\n",
    "// const client = new jsc8({url: \"https://verizon.5g.macrometa.io\", apiKey: \"XXXX\", fabricName: '_system'});\n",
    "\n",
    "// To use advanced options\n",
    "// const client = new jsc8(\"https://verizon.5g.macrometa.io\");\n",
    "// client.login(email, password).then(result => console.log(\"Login successfully\", result)).catch(err => console.error(\"Error while login\", err.message))\n"
   ]
  },
  {
   "cell_type": "markdown",
   "id": "d20f00af",
   "metadata": {},
   "source": [
    "## Step 05-C - Creating Collections"
   ]
  },
  {
   "cell_type": "code",
   "execution_count": 3,
   "id": "2376438c",
   "metadata": {},
   "outputs": [],
   "source": [
    "async function createCollection() {\n",
    "  console.log(\"\\n 2. CREATE_COLLECTION\");\n",
    "\n",
    "  try {\n",
    "    console.log(\n",
    "      `Creating the CREATE_SINGLES_VERTEX_COLLECTION ${collection_singles}...`\n",
    "    );\n",
    "    let exists_coll = await client.hasCollection(collection_singles);\n",
    "    if (!exists_coll) {\n",
    "      await client.createCollection(collection_singles);\n",
    "    }\n",
    "\n",
    "    console.log(\n",
    "      `Creating the CREATE_LIKES_EDGE_COLLECTION ${collection_likes}...`\n",
    "    );\n",
    "    exists_coll = await client.hasCollection(collection_likes);\n",
    "    if (!exists_coll) {\n",
    "      await client.createCollection(collection_likes, {}, true);\n",
    "    }\n",
    "  } catch (e) {\n",
    "    console.log(\"Collection creation did not succeed due to \" + e.message);\n",
    "  }\n",
    "}\n",
    "\n",
    "createCollection();\n"
   ]
  },
  {
   "cell_type": "markdown",
   "id": "3f8c6821",
   "metadata": {},
   "source": [
    "## Step 05-D - Inserting Data - \"Singles\""
   ]
  },
  {
   "cell_type": "code",
   "execution_count": 4,
   "id": "b6ab70af",
   "metadata": {},
   "outputs": [],
   "source": [
    "let people_data = [\n",
    "  {\n",
    "    full_name: \"Kiel Dummer\",\n",
    "    first_name: \"Kiel\",\n",
    "    last_name: \"Dummer\",\n",
    "    city: \"Burbank\",\n",
    "    state: \"CA\",\n",
    "    address: \"40317 5th Crossing\",\n",
    "    hopefulls_user_name: \"BurbankKeil\",\n",
    "    _key: \"BurbankKeil\",\n",
    "  },\n",
    "  {\n",
    "    full_name: \"Pernell Winspare\",\n",
    "    first_name: \"Pernell\",\n",
    "    last_name: \"Winspare\",\n",
    "    city: \"San Diego\",\n",
    "    state: \"CA\",\n",
    "    address: \"596 Packers Pass\",\n",
    "    hopefulls_user_name: \"SanDiegoPernell\",\n",
    "    _key: \"SanDiegoPernell\",\n",
    "  },\n",
    "  {\n",
    "    full_name: \"Ava Kermath\",\n",
    "    first_name: \"Ava\",\n",
    "    last_name: \"Kermath\",\n",
    "    city: \"Berkeley\",\n",
    "    state: \"CA\",\n",
    "    address: \"2 Doe Crossing Junction\",\n",
    "    hopefulls_user_name: \"BerkeleyAva\",\n",
    "    _key: \"BerkeleyAva\",\n",
    "  },\n",
    "  {\n",
    "    full_name: \"Tremain McGrah\",\n",
    "    first_name: \"Tremain\",\n",
    "    last_name: \"McGrah\",\n",
    "    city: \"Torrance\",\n",
    "    state: \"CA\",\n",
    "    address: \"079 Russell Street\",\n",
    "    hopefulls_user_name: \"TorranceTremain\",\n",
    "    _key: \"TorranceTremain\",\n",
    "  },\n",
    "  {\n",
    "    full_name: \"Vidovik Boddam\",\n",
    "    first_name: \"Vidovik\",\n",
    "    last_name: \"Boddam\",\n",
    "    city: \"Los Angeles\",\n",
    "    state: \"CA\",\n",
    "    address: \"3 Brentwood Crossing\",\n",
    "    hopefulls_user_name: \"LosAngelesVidovik\",\n",
    "    _key: \"LosAngelesVidovik\",\n",
    "  },\n",
    "  {\n",
    "    full_name: \"Oralie Goward\",\n",
    "    first_name: \"Oralie\",\n",
    "    last_name: \"Goward\",\n",
    "    city: \"Los Angeles\",\n",
    "    state: \"CA\",\n",
    "    address: \"922 Columbus Park\",\n",
    "    hopefulls_user_name: \"LosAngelesOralie\",\n",
    "    _key: \"LosAngelesOralie\",\n",
    "  },\n",
    "  {\n",
    "    full_name: \"Lou Feaveer\",\n",
    "    first_name: \"Lou\",\n",
    "    last_name: \"Feaveer\",\n",
    "    city: \"San Jose\",\n",
    "    state: \"CA\",\n",
    "    address: \"55223 Hooker Crossing\",\n",
    "    hopefulls_user_name: \"SanJoseLou\",\n",
    "    _key: \"SanJoseLou\",\n",
    "  },\n",
    "  {\n",
    "    full_name: \"Peria King\",\n",
    "    first_name: \"Peria\",\n",
    "    last_name: \"King\",\n",
    "    city: \"Stockton\",\n",
    "    state: \"CA\",\n",
    "    address: \"8 Troy Plaza\",\n",
    "    hopefulls_user_name: \"StocktonPeria\",\n",
    "    _key: \"StocktonPeria\",\n",
    "  },\n",
    "];\n",
    "\n",
    "async function insertDocumentMany() {\n",
    "  console.log(`\\n 3a. INSERT_SINGLES_DATA in region ${global_url}`);\n",
    "  await client.insertDocumentMany(collection_singles, people_data);\n",
    "}\n",
    "\n",
    "insertDocumentMany();\n"
   ]
  },
  {
   "cell_type": "markdown",
   "id": "c5c3ce44",
   "metadata": {},
   "source": [
    "## Step 05-E - Inserting Data - \"Who Likes Whom\""
   ]
  },
  {
   "cell_type": "code",
   "execution_count": 5,
   "id": "26e56694",
   "metadata": {},
   "outputs": [],
   "source": [
    "let callsData = [\n",
    "  {\n",
    "    hopefulls_user_name: \"BurbankKeil\",\n",
    "    singles_liked: \"SanJoseLou\",\n",
    "    _from: \"Singles/BurbankKeil\",\n",
    "    _to: \"Singles/SanJoseLou\",\n",
    "    liked_date: \"1/4/2020\",\n",
    "    liked_time: \"13:33\",\n",
    "    liked_amount: 30,\n",
    "  },\n",
    "  {\n",
    "    hopefulls_user_name: \"SanJoseLou\",\n",
    "    singles_liked: \"StocktonPeria\",\n",
    "    _from: \"Singles/SanJoseLou\",\n",
    "    _to: \"Singles/StocktonPeria\",\n",
    "    liked_date: \"1/28/2020\",\n",
    "    liked_time: \"3:02\",\n",
    "    liked_amount: 18,\n",
    "  },\n",
    "  {\n",
    "    hopefulls_user_name: \"BerkeleyAva\",\n",
    "    singles_liked: \"StocktonPeria\",\n",
    "    _from: \"Singles/BerkeleyAva\",\n",
    "    _to: \"Singles/StocktonPeria\",\n",
    "    liked_date: \"1/28/2020\",\n",
    "    liked_time: \"3:02\",\n",
    "    liked_amount: 18,\n",
    "  },\n",
    "];\n",
    "\n",
    "async function insertDocumentMany() {\n",
    "  console.log(`\\n 3a. INSERT_LIKES_DATA in region ${global_url}`);\n",
    "  await client.insertDocumentMany(collection_likes, callsData);\n",
    "}\n",
    "\n",
    "insertDocumentMany();\n"
   ]
  },
  {
   "cell_type": "markdown",
   "id": "3aa91d22",
   "metadata": {},
   "source": [
    "## Step 05-F - Creating a Graph"
   ]
  },
  {
   "cell_type": "code",
   "execution_count": 6,
   "id": "687962d3",
   "metadata": {},
   "outputs": [],
   "source": [
    "//Step4: Create a graph\n",
    "\n",
    "async function createGraph() {\n",
    "  console.log(`\\n 4. CREATE_GRAPH region ${global_url}`);\n",
    "\n",
    "  await client.createGraph(collection_graph, {\n",
    "    edgeDefinitions: [\n",
    "      {\n",
    "        collection: collection_likes,\n",
    "        from: [collection_singles],\n",
    "        to: [collection_singles],\n",
    "      },\n",
    "    ],\n",
    "  });\n",
    "  console.log(\"Graph created\");\n",
    "}\n",
    "\n",
    "createGraph().catch((err) =>\n",
    "  console.log(\"Error while creating graph :\", err.message)\n",
    ");\n"
   ]
  },
  {
   "cell_type": "markdown",
   "id": "78be6c27",
   "metadata": {},
   "source": [
    "## Step 05-G - Execute a Traversal - \"Find Singles who liked Lou?\""
   ]
  },
  {
   "cell_type": "code",
   "execution_count": 7,
   "id": "b6ed2cc9",
   "metadata": {},
   "outputs": [],
   "source": [
    "async function readData() {\n",
    "  console.log(\n",
    "    `5a. GRAPH_TRAVERSAL: Find Singles who liked: ${Hopefulls_Client2}`\n",
    "  );\n",
    "  let result = await client.executeQuery(graph_traversal1);\n",
    "  console.log(result);\n",
    "}\n",
    "\n",
    "readData().catch((err) =>\n",
    "  console.log(\"Error while execute a traversal :\", err.message)\n",
    ");\n"
   ]
  },
  {
   "cell_type": "markdown",
   "id": "842552ac",
   "metadata": {},
   "source": [
    "## Step 05-H - Execute a Traversal - \"Find Singles who Lou Liked?\""
   ]
  },
  {
   "cell_type": "code",
   "execution_count": 8,
   "id": "4588e31f",
   "metadata": {},
   "outputs": [],
   "source": [
    "async function readData() {\n",
    "  console.log(\n",
    "    `5b. GRAPH_TRAVERSAL: Find Singles whole were liked from: ${Hopefulls_Client}`\n",
    "  );\n",
    "  result = await client.executeQuery(graph_traversal2);\n",
    "  console.log(result);\n",
    "}\n",
    "\n",
    "readData().catch((err) =>\n",
    "  console.log(\"Error while execute a traversal :\", err.message)\n",
    ");\n"
   ]
  },
  {
   "cell_type": "markdown",
   "id": "c04554fa",
   "metadata": {},
   "source": [
    "## Step 05-I - Delete Data and Collections"
   ]
  },
  {
   "cell_type": "code",
   "execution_count": 9,
   "id": "a405ec2c",
   "metadata": {},
   "outputs": [],
   "source": [
    "// Step6: Delete Data\n",
    "\n",
    "async function deleteData() {\n",
    "  console.log(\" 6. DELETE_DATA\");\n",
    "  await client.deleteGraph(collection_graph, true);\n",
    "  console.log(\"Collection and Graph deleted\");\n",
    "}\n",
    "\n",
    "deleteData().catch((err) =>\n",
    "  console.log(\"Error while deleting collection and graphs:\", err.message)\n",
    ");\n"
   ]
  },
  {
   "cell_type": "markdown",
   "id": "eba04413",
   "metadata": {},
   "source": [
    "## Section Completed!\n",
    "\n",
    "TBC..."
   ]
  }
 ],
 "metadata": {
  "kernelspec": {
   "display_name": "JavaScript (Node.js)",
   "language": "javascript",
   "name": "javascript"
  },
  "language_info": {
   "file_extension": ".js",
   "mimetype": "application/javascript",
   "name": "javascript",
   "version": "17.7.1"
  }
 },
 "nbformat": 4,
 "nbformat_minor": 5
}
