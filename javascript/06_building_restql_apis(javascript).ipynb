{
 "cells": [
  {
   "cell_type": "markdown",
   "id": "f63d4ffe",
   "metadata": {
    "kernelspec": {
     "display_name": "Javascript",
     "name": "javascript"
    }
   },
   "source": [
    "# JS06 - Query Workers\n",
    "\n",
    "Query as API (aka Query Workers) enables developers to convert saved C8QL queries into geo-distributed REST APIs quickly. This eliminates the need for separate backend servers & containers for CRUD operations."
   ]
  },
  {
   "cell_type": "markdown",
   "id": "159b0587-8e0e-4093-bdbe-5897b922c40d",
   "metadata": {},
   "source": [
    "## Pre-requisite\n",
    "\n",
    "Let's assume:\n",
    "- You have already made a tenant account, and have a username and password\n",
    "- You have installed the jsC8 drivers as explained in section 01\n",
    "- You have generated an API Key as explained in section 01\n"
   ]
  },
  {
   "cell_type": "code",
   "execution_count": null,
   "id": "f16733af-aff1-4db9-878a-54f21372fc44",
   "metadata": {},
   "outputs": [],
   "source": [
    "#/* run this once to install javascript kernal and jsc8 in google colab, then reload, and then skip this\n",
    "!npm install jsc8\n",
    "!npm install -g --unsafe-perm ijavascript\n",
    "!ijsinstall --install=global  # */"
   ]
  },
  {
   "cell_type": "markdown",
   "id": "a2b3b194",
   "metadata": {},
   "source": [
    "## 1. Import Libraries to Workbook"
   ]
  },
  {
   "cell_type": "code",
   "execution_count": null,
   "id": "f3604206",
   "metadata": {},
   "outputs": [],
   "source": [
    "const jsc8 = require(\"jsc8\");"
   ]
  },
  {
   "cell_type": "markdown",
   "id": "744bf99b",
   "metadata": {},
   "source": [
    "## 2. Define Login Credentials"
   ]
  },
  {
   "cell_type": "code",
   "execution_count": null,
   "id": "f18c767d",
   "metadata": {},
   "outputs": [],
   "source": [
    "const guest_mail = \"email\";\n",
    "const guest_password = \"password\";"
   ]
  },
  {
   "cell_type": "markdown",
   "id": "b678fd8e",
   "metadata": {},
   "source": [
    "## 3. Define Variables and assign Values for Workbook\n"
   ]
  },
  {
   "cell_type": "code",
   "execution_count": null,
   "id": "f856c722",
   "metadata": {},
   "outputs": [],
   "source": [
    "const fed_url = \"https://gdn.paas.macrometa.io\";\n",
    "const geo_fabric = \"_system\";\n",
    "let collection_name = \"person\";"
   ]
  },
  {
   "cell_type": "markdown",
   "id": "62216d82",
   "metadata": {},
   "source": [
    "## 4. Connect to GDN\n",
    "\n",
    "Now that you have added your login credentials, lets connect to GDN"
   ]
  },
  {
   "cell_type": "code",
   "execution_count": null,
   "id": "f0094fa7",
   "metadata": {},
   "outputs": [],
   "source": [
    "console.log(\"\\n ------- CONNECTION SETUP  ------\");\n",
    "console.log(`tenant: ${guest_mail}, geofabric: ${geo_fabric}`);\n",
    "// Simple Way\n",
    "// const client = new jsc8({url: fed_url, token: \"XXXX\", fabricName: geo_fabric});\n",
    "\n",
    "// ----- OR -----\n",
    "// const client = new jsc8({url: fed_url, apiKey: \"XXXX\", fabricName: geo_fabric});\n",
    "\n",
    "// To use advanced options\n",
    "const client = new jsc8(fed_url);\n",
    "client\n",
    "  .login(guest_mail, guest_password)\n",
    "  .then((result) => console.log(\"Login successfully\", result))\n",
    "  .catch((err) => console.error(\"Error while login\", err.message));\n"
   ]
  },
  {
   "cell_type": "markdown",
   "id": "048c0b41",
   "metadata": {},
   "source": [
    "## 5. Create a Geo Replicated Collection\n",
    "\n",
    "Before we create the Query Workers lets create a collection that we can work with"
   ]
  },
  {
   "cell_type": "code",
   "execution_count": null,
   "id": "0d7736f7",
   "metadata": {},
   "outputs": [],
   "source": [
    "console.log(\"\\n ------- CREATE GEO-REPLICATED COLLECTION  ------\");\n",
    "\n",
    "const createCollection = async () => {\n",
    "  try {\n",
    "    const isCollectionExists = await client.hasCollection(collection_name);\n",
    "    if (isCollectionExists) {\n",
    "      console.log(\"Collection exists with name \", collection_name);\n",
    "      return;\n",
    "    }\n",
    "    await client.createKVCollection(collection_name);\n",
    "    console.log(\"Collection created! \", collection_name);\n",
    "  } catch (e) {\n",
    "    return \"Collection creation did not succeed due to \" + e;\n",
    "  }\n",
    "};\n",
    "\n",
    "createCollection();"
   ]
  },
  {
   "cell_type": "markdown",
   "id": "f328b599",
   "metadata": {},
   "source": [
    "## 6. Create Query Workers"
   ]
  },
  {
   "cell_type": "markdown",
   "id": "e460f6de-9c31-4ccb-bc5a-c9e8905a7fc8",
   "metadata": {},
   "source": [
    "### 6.1. Defining our Queries\n",
    "\n",
    "In this section we are going to define five Query Worker APIs"
   ]
  },
  {
   "cell_type": "code",
   "execution_count": null,
   "id": "e085ca84-3981-42c0-b33a-b86685d34362",
   "metadata": {},
   "outputs": [],
   "source": [
    "let parameter = { firstname: \"\", lastname: \"\", email: \"\", zipcode: \"\" };\n",
    "let insert_data = {\n",
    "  query: {\n",
    "    name: \"insertRecord\",\n",
    "    value: `INSERT {'firstname':@firstname, 'lastname':@lastname, 'email':@email, 'zipcode':@zipcode, '_key': 'key101'} IN ${collection_name}`,\n",
    "    parameter: parameter,\n",
    "  },\n",
    "};\n",
    "let get_data = {\n",
    "  query: {\n",
    "    name: \"getRecords\",\n",
    "    value: `FOR doc IN ${collection_name} RETURN doc`,\n",
    "  },\n",
    "};\n",
    "\n",
    "let update_data = {\n",
    "  query: {\n",
    "    name: \"updateRecord\",\n",
    "    value: `UPDATE 'key101' WITH { \\\"lastname\\\": \\\"cena\\\" } IN ${collection_name}`,\n",
    "  },\n",
    "};\n",
    "\n",
    "let delete_data = {\n",
    "  query: {\n",
    "    name: \"deleteRecord\",\n",
    "    value: `REMOVE 'key101' IN ${collection_name}`,\n",
    "  },\n",
    "};\n",
    "\n",
    "let get_count = {\n",
    "  query: {\n",
    "    name: \"countRecords\",\n",
    "    value: `RETURN COUNT(FOR doc IN ${collection_name} RETURN 1)`,\n",
    "  },\n",
    "};"
   ]
  },
  {
   "cell_type": "markdown",
   "id": "d5037ede-c9a1-4394-ad0e-28fb4dec28c1",
   "metadata": {},
   "source": [
    "### 6.2. Creating the Query Worker APIs\n",
    "\n",
    "The Following Code will create a set of Query Worker APIs in GDN - once complete you can check that they exist from your console access, under Queries, and navigate to \"Saved Queries\""
   ]
  },
  {
   "cell_type": "code",
   "execution_count": null,
   "id": "0fbe72ed",
   "metadata": {},
   "outputs": [],
   "source": [
    "const createRestQL = async () => {\n",
    "  try {\n",
    "    console.log(\"\\n ------- CREATE RESTQLs  ------\");\n",
    "    await client.createRestql(\n",
    "      insert_data.query.name.toString(),\n",
    "      insert_data.query.value.toString(),\n",
    "      insert_data.query.parameter\n",
    "    ); // name: insertRecord\n",
    "\n",
    "    await client.createRestql(\n",
    "      get_data.query.name.toString(),\n",
    "      get_data.query.value.toString(),\n",
    "      {}\n",
    "    ); // name: getRecords\n",
    "\n",
    "    await client.createRestql(\n",
    "      update_data.query.name.toString(),\n",
    "      update_data.query.value.toString(),\n",
    "      {}\n",
    "    ); // name: updateRecord\n",
    "\n",
    "    await client.createRestql(\n",
    "      delete_data.query.name.toString(),\n",
    "      delete_data.query.value.toString(),\n",
    "      {}\n",
    "    ); // name: deleteRecord\n",
    "\n",
    "    await client.createRestql(\n",
    "      get_count.query.name.toString(),\n",
    "      get_count.query.value.toString(),\n",
    "      {}\n",
    "    ); // name: countRecords\n",
    "    console.error(\"Created restQLs\");\n",
    "  } catch (err) {\n",
    "    console.error(\"Error while creating restQLs\", err.message);\n",
    "  }\n",
    "};\n",
    "\n",
    "createRestQL();"
   ]
  },
  {
   "cell_type": "markdown",
   "id": "034a3683",
   "metadata": {
    "tags": []
   },
   "source": [
    "## 7. Execute Query Workers\n",
    "\n",
    "**Note: we are going to skip testing the \"deleteRecord\" API in this section - so that we can demonstrate how to update a Query Worker API first.**"
   ]
  },
  {
   "cell_type": "markdown",
   "id": "055b7bc7-3926-4f50-9306-20ac98405141",
   "metadata": {},
   "source": [
    "### 7.1. Test the \"insertRecord\" Query Worker"
   ]
  },
  {
   "cell_type": "code",
   "execution_count": null,
   "id": "3b00ab46-4b41-4009-b0af-8239b8786b2e",
   "metadata": {},
   "outputs": [],
   "source": [
    "const executeRestQL = async () => {\n",
    "  try {\n",
    "    console.log(\"\\n ------- EXECUTE RESTQLs ------\");\n",
    "    console.log(\"\\n a. Insert Data\");\n",
    "    let resp = await client.executeRestql(insert_data.query.name.toString(), {\n",
    "      firstname: \"john\",\n",
    "      lastname: \"doe\",\n",
    "      email: \"john.doe@macrometa.io\",\n",
    "      zipcode: \"511037\",\n",
    "    });\n",
    "    console.log(resp.result);\n",
    "\n",
    "    console.log(\"\\n b. Get Data\");\n",
    "    resp = await client.executeRestql(get_data.query.name.toString(), {});\n",
    "    console.log(resp.result);\n",
    "  } catch (err) {\n",
    "    console.error(\"Error while executing restQLs\", err.message);\n",
    "  }\n",
    "};\n",
    "\n",
    "executeRestQL();"
   ]
  },
  {
   "cell_type": "markdown",
   "id": "e4211831-f4bb-4627-a248-b38dc12da748",
   "metadata": {},
   "source": [
    "### 7.2. Test the \"updateRecord\" Query Worker"
   ]
  },
  {
   "cell_type": "code",
   "execution_count": null,
   "id": "033b89ab-1b44-4d66-9308-52320e0b23b8",
   "metadata": {},
   "outputs": [],
   "source": [
    "const updateRestQL = async () => {\n",
    "  try {\n",
    "    console.log(\"\\n ------- EXECUTE RESTQLs ------\");\n",
    "\n",
    "    console.log(\"\\n c. Update Data\");\n",
    "    resp = await client.executeRestql(update_data.query.name.toString(), {});\n",
    "    console.log(resp.result);\n",
    "\n",
    "    console.log(\"\\n d. Get Data\");\n",
    "    resp = await client.executeRestql(get_data.query.name.toString(), {});\n",
    "    console.log(resp.result);\n",
    "  } catch (err) {\n",
    "    console.error(\"Error while executing restQL\", err.message);\n",
    "  }\n",
    "};\n",
    "\n",
    "updateRestQL();"
   ]
  },
  {
   "cell_type": "markdown",
   "id": "741f0da7-42f7-4555-998e-22479eccda6f",
   "metadata": {},
   "source": [
    "### 7.3. Test the \"getRecords\" Query Worker"
   ]
  },
  {
   "cell_type": "code",
   "execution_count": null,
   "id": "c75ebc25-f98c-4724-8fe1-7d19d47d6400",
   "metadata": {},
   "outputs": [],
   "source": [
    "const getRecordsRestQL = async () => {\n",
    "    try {\n",
    "  console.log(\"\\n ------- EXECUTE RESTQLs ------\");\n",
    "\n",
    "  console.log(\"\\n d. Get Records\");\n",
    "  resp = await client.executeRestql(get_data.query.name.toString(), {});\n",
    "  console.log(resp.result);\n",
    "     }catch(err) {\n",
    "        console.error(\"Error while get restQL\", err.message)\n",
    "    }\n",
    "};\n",
    "\n",
    "getRecordsRestQL();"
   ]
  },
  {
   "cell_type": "markdown",
   "id": "14502430-2649-4a42-8283-4bb70f391142",
   "metadata": {},
   "source": [
    "### 7.4. Test the \"countRecords\" Query Worker"
   ]
  },
  {
   "cell_type": "code",
   "execution_count": null,
   "id": "ea621eff-dfec-4979-973d-f071ef5b8d1b",
   "metadata": {},
   "outputs": [],
   "source": [
    "const countRecordsRestQL = async () => {\n",
    "  try {\n",
    "    console.log(\"\\n ------- EXECUTE RESTQLs ------\");\n",
    "\n",
    "    console.log(\"\\n e. Count Records\");\n",
    "    resp = await client.executeRestql(get_count.query.name.toString(), {});\n",
    "    console.log(resp.result);\n",
    "  } catch (err) {\n",
    "    console.error(\"Error while executing restQL\", err.message);\n",
    "  }\n",
    "};\n",
    "\n",
    "countRecordsRestQL();"
   ]
  },
  {
   "cell_type": "markdown",
   "id": "bf6eb726-1637-4bf6-922f-3f30ac4f8f12",
   "metadata": {},
   "source": [
    "## 8. Updating a Query Worker API"
   ]
  },
  {
   "cell_type": "markdown",
   "id": "8494f21e-222d-4664-a6c1-84deb2662f39",
   "metadata": {},
   "source": [
    "### 8.1. Test that we can query GDN and see the document\n",
    "\n",
    "A common requirement when building an application is to make a change to an API and update it. \n",
    "\n",
    "To demonstrate this, lets first query the database using the \"execute_query\" method we learnt in an earlier section\n",
    "\n",
    "Once run, we should see the document in the cell output in JSON format so we can read it easily."
   ]
  },
  {
   "cell_type": "code",
   "execution_count": null,
   "id": "d33253a6-382f-4169-a36d-45f74a9f0ea8",
   "metadata": {},
   "outputs": [],
   "source": [
    "console.log('Get docs in \"person\" collection');\n",
    "\n",
    "const c8Queries = async () => {\n",
    "  try {\n",
    "    let docs = await client.executeQuery(\n",
    "      `FOR doc IN ${collection_name} RETURN doc`\n",
    "    );\n",
    "    console.log(docs);\n",
    "  } catch (err) {\n",
    "    console.error(\"Error while fetching records\", err.message);\n",
    "  }\n",
    "};\n",
    "\n",
    "c8Queries();"
   ]
  },
  {
   "cell_type": "markdown",
   "id": "3d952120-b07e-4fda-8da2-1facc120ebdb",
   "metadata": {},
   "source": [
    "### 8.2. Updating a Query Worker API\n",
    "\n",
    "The follow cell show us how to add a new parameter to the Query, in this example we are going to add a the parameter \"phone\" to the query."
   ]
  },
  {
   "cell_type": "code",
   "execution_count": null,
   "id": "960e51ea-438e-4f71-afb2-ec56ec653876",
   "metadata": {},
   "outputs": [],
   "source": [
    "value = `INSERT {'firstname':@firstname, 'lastname':@lastname, 'email':@email, 'zipcode':@zipcode, 'phone': @phone} IN ${collection_name}`;\n",
    "\n",
    "insert_data = {\n",
    "  query: { name: \"insertRecord\", parameter: parameter, value: value },\n",
    "};\n",
    "\n",
    "const updateRestql = async () => {\n",
    "  try {\n",
    "    console.log(\"\\n ------- UPDATE RESTQLs  ------\");\n",
    "    response = await client.updateRestql(\n",
    "      insert_data.query.name,\n",
    "      insert_data.query.value,\n",
    "      insert_data.query.parameter\n",
    "    );\n",
    "    console.log(response);\n",
    "  } catch (err) {\n",
    "    console.error(\"Error while updating query worker\", err.message);\n",
    "  }\n",
    "};\n",
    "\n",
    "updateRestql();"
   ]
  },
  {
   "cell_type": "markdown",
   "id": "778a878c-2bb5-4f5b-9275-8650bbd17f90",
   "metadata": {},
   "source": [
    "### 8.3. Testing the updated Query Worker API\n",
    "\n",
    "Now that we have updated the Query, lets add a new record using it to test that it works."
   ]
  },
  {
   "cell_type": "code",
   "execution_count": null,
   "id": "dfff6834-a500-445e-9977-1914ca06b815",
   "metadata": {},
   "outputs": [],
   "source": [
    "const executeUpdateRestql = async () => {\n",
    "  try {\n",
    "    console.log(\"\\n ------- EXECUTE RESTQLs ------\");\n",
    "    console.log(\"\\n Insert data with updated query worker\");\n",
    "    let resp = await client.executeRestql(insert_data.query.name, {\n",
    "      firstname: \"john\",\n",
    "      lastname: \"doe\",\n",
    "      email: \"john.doe@macrometa.io\",\n",
    "      zipcode: \"511037\",\n",
    "      phone: \"213-555-9578\",\n",
    "    });\n",
    "    console.log(resp.result);\n",
    "  } catch (err) {\n",
    "    console.error(\"Error while execute RestQL\", err.message);\n",
    "  }\n",
    "};\n",
    "\n",
    "executeUpdateRestql();"
   ]
  },
  {
   "cell_type": "markdown",
   "id": "8971a053-a193-48ac-845c-fb079528c631",
   "metadata": {
    "tags": []
   },
   "source": [
    "### 8.4. Checking the data in the collection\n",
    "\n",
    "Now lets check that the data has been updated in the record by using the \"execute_query\" method - we should see two documents. \n",
    "\n",
    "1. the original document without a phone number, and\n",
    "2. a second document, but now with a phone number added\n",
    "\n",
    "Hint: If you would like to return to the step “countRecords” and re run the code, you should see the count value increase by 1"
   ]
  },
  {
   "cell_type": "code",
   "execution_count": null,
   "id": "c1d44f69-30e5-40b7-9ac2-e145f40aff29",
   "metadata": {},
   "outputs": [],
   "source": [
    "console.log(\n",
    "  'Get docs in \"person\" collection, after executing the updated query'\n",
    ");\n",
    "\n",
    "const executeQueries = async () => {\n",
    "  try {\n",
    "    let docs = await client.executeQuery(\n",
    "      `FOR doc IN ${collection_name} RETURN doc`\n",
    "    );\n",
    "    console.log(docs);\n",
    "  } catch (err) {\n",
    "    console.error(\"Error while fetching records\", err.message);\n",
    "  }\n",
    "};\n",
    "\n",
    "executeQueries();"
   ]
  },
  {
   "cell_type": "markdown",
   "id": "9d923673-7f9a-464f-b344-b0c93775a39b",
   "metadata": {},
   "source": [
    "## 8.5. Deleting a record using a Query Worker API\n",
    "\n",
    "We might want to delete our Query Worker APIs completely.\n",
    "\n",
    "For each Query Worker we want to remove we use the “delete_restql” method as shown in the cell below"
   ]
  },
  {
   "cell_type": "code",
   "execution_count": null,
   "id": "eff17047-0bf7-43a6-9e72-1e5835527400",
   "metadata": {},
   "outputs": [],
   "source": [
    "const executeDeleteRestQL = async () => {\n",
    "  try {\n",
    "    console.log(\"Delete data....\");\n",
    "    let resp = await client.executeRestql(\"deleteRecord\");\n",
    "    console.log(resp.result);\n",
    "  } catch (err) {\n",
    "    console.error(\"Error while execute restQL\", err.message);\n",
    "  }\n",
    "};\n",
    "\n",
    "executeDeleteRestQL();"
   ]
  },
  {
   "cell_type": "markdown",
   "id": "ad06a672-d68f-4e1d-8965-14304db03780",
   "metadata": {},
   "source": [
    "## 9. Delete Query Workers\n",
    "\n",
    "We might want to delete our Query Worker APIs completely.\n",
    "\n",
    "For each Query Worker we want to remove we use the \"deleteRestql\" method as shown in the cell below"
   ]
  },
  {
   "cell_type": "code",
   "execution_count": null,
   "id": "9f16fb05-5231-4647-bd55-42880cb45331",
   "metadata": {},
   "outputs": [],
   "source": [
    "const deleteRestQL = async () => {\n",
    "  try {\n",
    "    console.log(\"\\n ------- DELETE RESTQLs ------\");\n",
    "    await client.deleteRestql(insert_data.query.name.toString());\n",
    "    await client.deleteRestql(get_data.query.name.toString());\n",
    "    await client.deleteRestql(update_data.query.name.toString());\n",
    "    await client.deleteRestql(get_data.query.name.toString());\n",
    "    await client.deleteRestql(get_count.query.name.toString());\n",
    "    await client.deleteRestql(delete_data.query.name.toString());\n",
    "    console.log(\"\\n ------- DONE  ------\");\n",
    "  } catch (err) {\n",
    "    console.error(\"Error while delete restQL\", err.message);\n",
    "  }\n",
    "};\n",
    "\n",
    "deleteRestQL();"
   ]
  },
  {
   "cell_type": "markdown",
   "id": "bdd2df2e-eaab-4c66-b795-37d4776e51f2",
   "metadata": {},
   "source": [
    "## 10. Delete the Collection\n",
    "\n",
    "Now let us remove the collection we added during this Tutorial"
   ]
  },
  {
   "cell_type": "code",
   "execution_count": null,
   "id": "6cd47951-0cf3-4391-aa2c-59f5942b1019",
   "metadata": {},
   "outputs": [],
   "source": [
    "const deleteCollection = async () => {\n",
    "  try {\n",
    "    await client.deleteCollection(collection_name);\n",
    "    console.log(\"Collection Deleted: \", collection_name);\n",
    "  } catch (err) {\n",
    "    console.log(\"Error while deleting collection \", err.message);\n",
    "  }\n",
    "};\n",
    "\n",
    "deleteCollection();"
   ]
  },
  {
   "cell_type": "markdown",
   "id": "eba04413",
   "metadata": {},
   "source": [
    "## Section Completed!\n",
    "\n",
    "Congratulations!, another tutorial completed.\n",
    "\n",
    "**Note: To use the created Query Worker APIs you should use the API reference documentation for detailed instructions.**\n",
    "\n",
    "e.g. /_fabric/{fabric}/_api/restql/{name} \n",
    "\n",
    "where {name} is the name of your Query Worker API e.g. \"insertRecord\"\n",
    "\n"
   ]
  }
 ],
 "metadata": {
  "kernelspec": {
   "display_name": "JavaScript (Node.js)",
   "language": "javascript",
   "name": "javascript"
  },
  "language_info": {
   "file_extension": ".js",
   "mimetype": "application/javascript",
   "name": "javascript",
   "version": "17.7.1"
  }
 },
 "nbformat": 4,
 "nbformat_minor": 5
}
