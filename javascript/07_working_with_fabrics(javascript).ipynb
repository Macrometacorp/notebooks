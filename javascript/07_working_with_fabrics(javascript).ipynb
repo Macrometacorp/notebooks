{
 "cells": [
  {
   "cell_type": "markdown",
   "id": "f63d4ffe",
   "metadata": {},
   "source": [
    "# JS07 - GeoFabrics\n",
    "\n",
    "> Note: This tutorial is designed for developers working with the jsC8 javascript driver.\n",
    "\n",
    "Each `tenant` on the C8 Data Fabric server can have an arbitrary number of fabrics. Each fabric has its own set of `collections`, `graphs` and `streams`.\n",
    "\n",
    "There is a special fabric named `_system` for each tenant, which cannot be dropped and provides operations for managing users, permissions, and other fabrics. Most of the operations can only be executed by admin users. See `user` for more information.\n",
    "\n",
    "Each fabric in the C8 Fabric can be replicated to one or more additional edge Locations in the fabric. Suppose a change is made to such a replicated fabric in one edge Location. In that case, that change will be automatically propagated to, and visible in all other Edge Locations to which that fabric has been replicated.\n",
    "\n",
    "Each fabric in the C8 Fabric can publish real-time changes to any clients connected to that fabric. Any clients with connections to that fabric will receive changes via a push-based mechanism rather than having to continuously poll the fabric for any changes which may have occurred. This python driver can listen in real-time to changes in fabric by calling the `fabric.on_change()` method for the fabric referred to by the fabric object."
   ]
  },
  {
   "cell_type": "markdown",
   "id": "a2b3b194",
   "metadata": {},
   "source": [
    "## 1. Import Libraries to Workbook"
   ]
  },
  {
   "cell_type": "code",
   "execution_count": null,
   "id": "7ddad91b-19d3-4bb6-a87c-2d3b3ece065e",
   "metadata": {},
   "outputs": [],
   "source": [
    "const jsc8 = require(\"jsc8\");"
   ]
  },
  {
   "cell_type": "markdown",
   "id": "347e4aaf-626c-4618-ba97-36dcf256da80",
   "metadata": {},
   "source": [
    "## 2. Create and Define Login details"
   ]
  },
  {
   "cell_type": "code",
   "execution_count": null,
   "id": "d90e1072-c552-466d-9980-eb0bf589e30d",
   "metadata": {},
   "outputs": [],
   "source": [
    "const fed_url = \"https://gdn.paas.macrometa.io\";\n",
    "const geo_fabric = \"_system\";\n",
    "let admin_email = \"email\";\n",
    "let admin_password = \"password\";"
   ]
  },
  {
   "cell_type": "markdown",
   "id": "8cd51ab0-87f9-4d4a-bb1c-90e46e9d9251",
   "metadata": {},
   "source": [
    "## 3. Connect to GDN as Admin"
   ]
  },
  {
   "cell_type": "code",
   "execution_count": null,
   "id": "194560a5-7b3f-4c8d-b90e-e5c989eed2e5",
   "metadata": {},
   "outputs": [],
   "source": [
    "// Initialize the C8 Data Fabric client.\n",
    "\n",
    "console.log(\"\\n ------- CONNECTION SETUP  ------\");\n",
    "console.log(`tenant: ${admin_email}, geofabric: ${geo_fabric}`);\n",
    "\n",
    "// Simple Way\n",
    "// const client = new jsc8({url: fed_url, token: \"XXXX\", fabricName: geo_fabric});\n",
    "\n",
    "// ----- OR -----\n",
    "// const client = new jsc8({url: fed_url, apiKey: \"XXXX\", fabricName: geo_fabric});\n",
    "\n",
    "// To use advanced options\n",
    "const client = new jsc8({\n",
    "  url: fed_url,\n",
    "  fabricName: geo_fabric,\n",
    "});\n",
    "\n",
    "// For the \"mytenant\" tenant, connect to \"_system\" fabric as tenant admin.\n",
    "// This returns an API wrapper for the \"_system\" fabric on tenant 'mytenant'\n",
    "// Note that the 'mytenant' tenant should already exist.\n",
    "\n",
    "client\n",
    "  .login(admin_email, admin_password)\n",
    "  .then((result) => console.log(\"Login successfully\", result))\n",
    "  .catch((err) => console.error(\"Error while login\", err.message));\n"
   ]
  },
  {
   "cell_type": "markdown",
   "id": "2e6d5c84-cb96-4b98-b745-17e8a9e9d554",
   "metadata": {},
   "source": [
    "## 4. List all Fabrics accessible by Admin\n",
    "\n",
    "At this point in the tutorial, this should only show the default `system` fabric with all the available data centers."
   ]
  },
  {
   "cell_type": "code",
   "execution_count": null,
   "id": "3b8b8c08-df2b-44bd-842e-1199a3c6d6fb",
   "metadata": {},
   "outputs": [],
   "source": [
    "// List all fabrics in the 'mytenant' tenant\n",
    "const getGeoFabricList = async () => {\n",
    "  console.log(\"Get geo fabric list...\");\n",
    "\n",
    "  try {\n",
    "    const fabricList = await client.listFabrics();\n",
    "    console.log(fabricList);\n",
    "  } catch (err) {\n",
    "    console.error(\"Error while fetching GeoFabric list\", err.message);\n",
    "  }\n",
    "};\n",
    "\n",
    "getGeoFabricList();"
   ]
  },
  {
   "cell_type": "markdown",
   "id": "99bcf5b0-1f9d-44b9-9b46-1e58fc5cbdea",
   "metadata": {},
   "source": [
    "## 5. List all details of Datacenters\n",
    "\n",
    "Now lets have a look at those data centers:"
   ]
  },
  {
   "cell_type": "code",
   "execution_count": null,
   "id": "a92d9e25-7c6c-42d3-9a18-6c1ed30c9d5a",
   "metadata": {
    "tags": []
   },
   "outputs": [],
   "source": [
    "// Returns the list of details of Data Centers\n",
    "const getDcList = async () => {\n",
    "  console.log(\"Get data center list...\");\n",
    "\n",
    "  try {\n",
    "    const dcList = await client.getDcList();\n",
    "    console.log(JSON.stringify(dcList, null, 2));\n",
    "  } catch (err) {\n",
    "    console.error(\"Error while fetching data center list\", err.message);\n",
    "  }\n",
    "};\n",
    "\n",
    "getDcList();"
   ]
  },
  {
   "cell_type": "markdown",
   "id": "c47faaa7-dfe3-470f-814a-65c409b2526e",
   "metadata": {},
   "source": [
    "## 6. Create a new user called \"johndoe\""
   ]
  },
  {
   "cell_type": "code",
   "execution_count": null,
   "id": "9d0b7a77-09e0-4235-8011-d25304c6434b",
   "metadata": {},
   "outputs": [],
   "source": [
    "// Create a new user.\n",
    "const createUser = async () => {\n",
    "  console.log(\"Creating new user...\");\n",
    "\n",
    "  try {\n",
    "    client.createUser(\n",
    "      \"johndoe\", // username\n",
    "      \"johndoe@gmail.com\", // email\n",
    "      \"first_password\", // password\n",
    "      true, // active\n",
    "      { team: \"backend\", title: \"engineer\" } // extra\n",
    "    );\n",
    "    console.log(\"New user created!....\");\n",
    "  } catch (err) {\n",
    "    console.error(\"Error while creating user \", err.message);\n",
    "  }\n",
    "};\n",
    "\n",
    "createUser();"
   ]
  },
  {
   "cell_type": "markdown",
   "id": "ec3e89ac-9677-4dde-bd00-f434cb76b236",
   "metadata": {},
   "source": [
    "## 7. List details of the new user"
   ]
  },
  {
   "cell_type": "code",
   "execution_count": null,
   "id": "0e13bf45-2ad5-4001-b25b-dff8d54305d6",
   "metadata": {},
   "outputs": [],
   "source": [
    "// Retrieve details of a user.\n",
    "let getUser = async () => {\n",
    "  console.log(\"Get data center list...\");\n",
    "\n",
    "  try {\n",
    "    const userDetails = await client.getUser(\"johndoe\");\n",
    "    console.log(userDetails);\n",
    "  } catch (err) {\n",
    "    console.error(\"Error while fetching user details :\", err.message);\n",
    "  }\n",
    "};\n",
    "\n",
    "getUser();"
   ]
  },
  {
   "cell_type": "markdown",
   "id": "9fd0918f-8a59-4344-8d28-9fbf749a779c",
   "metadata": {},
   "source": [
    "## 8. List permissions of the new user\n",
    "\n",
    "Now let's take a look at the permission of our newly created user. At this point, they should be read-only, or roles have a look at those data centers:"
   ]
  },
  {
   "cell_type": "code",
   "execution_count": null,
   "id": "efcaa2c9-2c66-433b-be0c-83c264ea4867",
   "metadata": {},
   "outputs": [],
   "source": [
    "// Retrieve user permissions for all fabrics and collections.\n",
    "let getPermissions = async () => {\n",
    "  console.log(\"Get user's permissions list...\");\n",
    "\n",
    "  try {\n",
    "    const permissionsList = await client.getPermissions(\"johndoe\");\n",
    "    console.log(permissionsList);\n",
    "  } catch (err) {\n",
    "    console.error(\"Error while fetching user's permissions :\", err.message);\n",
    "  }\n",
    "};\n",
    "\n",
    "getPermissions();"
   ]
  },
  {
   "cell_type": "markdown",
   "id": "2fcd6baa-3246-49fe-a984-b02705e054e4",
   "metadata": {},
   "source": [
    "## 9. Create a new Fabric\n",
    "\n",
    "While we are still connected as the Admin, we can create a new Fabric. \n",
    "\n",
    "The code block below checks to see what the local data center is to you using the `localdc()` method."
   ]
  },
  {
   "cell_type": "code",
   "execution_count": null,
   "id": "6a4f4a26-f5fb-47d8-a707-e65f0f258969",
   "metadata": {},
   "outputs": [],
   "source": [
    "let myLocalDcName = \"\";\n",
    "\n",
    "const createNewFabric = async () => {\n",
    "  try {\n",
    "    const myLocalDc = await client.getLocalDc(); // Returns the datacenter thats closest to you\n",
    "\n",
    "    const allDcList = await client.getDcList(); // Returns all the data centers list\n",
    "\n",
    "    const globalDcList = allDcList[0].dcInfo\n",
    "      .map((data) => data._key)\n",
    "      .slice(0, 2); // Picking any 2 random data centers from all the data center\n",
    "\n",
    "    myLocalDcName = myLocalDc[\"_key\"]; // Selects the name of that datacenter\n",
    "\n",
    "    const dcl = [...globalDcList, myLocalDcName]; // Create a DataCenter List for the New GeoFabric (Macrometa GDN)\n",
    "\n",
    "    const fabricList = await client.listFabrics();\n",
    "\n",
    "    if (!fabricList.includes(\"demofabric\")) {\n",
    "      // Checks the geofabric doesnt already exist\n",
    "      const demo_fabric = await client.createFabric(\"demofabric\", [], {\n",
    "        dcList: dcl,\n",
    "      }); // Create a geofabric\n",
    "      console.log(\"Created new fabric with name demofabric\");\n",
    "    }\n",
    "    // Setting jsc8 client to use demofabric just to get current fabric details\n",
    "    client.useFabric(\"demofabric\");\n",
    "\n",
    "    const all_fabric_details = await client.get(); // Get details of new geofabric\n",
    "\n",
    "    // Resetting client to use _system fabric as default fabric\n",
    "    client.useFabric(\"_system\");\n",
    "\n",
    "    console.log(all_fabric_details);\n",
    "  } catch (err) {\n",
    "    console.error(\"Error while creating new fabric\", err.message);\n",
    "  }\n",
    "};\n",
    "\n",
    "createNewFabric();"
   ]
  },
  {
   "cell_type": "markdown",
   "id": "46fd881e-260f-4e27-8474-5cc9c231827f",
   "metadata": {},
   "source": [
    "## 10. Check permissions of new user on new fabric\n",
    "\n",
    "We have created a new user and a new geofabric. When this is first created the user should have no permissions."
   ]
  },
  {
   "cell_type": "code",
   "execution_count": null,
   "id": "af8aff0b-3574-4c02-a1cf-9e8ee2c91401",
   "metadata": {},
   "outputs": [],
   "source": [
    "// Retrieve user permission for \"test\" fabric.\n",
    "getPermissions = async () => {\n",
    "  console.log(\"Get user's permissions list for 'test' fabric..\");\n",
    "\n",
    "  try {\n",
    "    const permissionsList = await client.getPermission(\"johndoe\", \"demofabric\");\n",
    "    console.log(permissionsList);\n",
    "  } catch (err) {\n",
    "    console.error(\"Error while fetching user's permissions :\", err.message);\n",
    "  }\n",
    "};\n",
    "\n",
    "getPermissions();"
   ]
  },
  {
   "cell_type": "markdown",
   "id": "7d8800cb-d5b4-4cca-8c45-80119412f28a",
   "metadata": {},
   "source": [
    "## 11. Change permissions of new user to \"read/write\"\n",
    "\n",
    "Let's change our new users permissions to \"read/right\" so when we connect at this user they can work with the database and create a collection. We have created a new user and a new geofabric. When this is first created the user should have no permissions."
   ]
  },
  {
   "cell_type": "code",
   "execution_count": null,
   "id": "a74098ca-7fb0-4d5e-a436-78d932166128",
   "metadata": {},
   "outputs": [],
   "source": [
    "// Update user permission for \"test\" fabric.\n",
    "let updatePermission = async () => {\n",
    "  console.log(\"Update user's permissions list for 'test' fabric..\");\n",
    "\n",
    "  try {\n",
    "    const permissionsList = await client.updatePermission(\n",
    "      \"johndoe\",\n",
    "      \"demofabric\",\n",
    "      \"rw\"\n",
    "    );\n",
    "    console.log(permissionsList);\n",
    "  } catch (err) {\n",
    "    console.error(\"Error while updating user's permissions :\", err.message);\n",
    "  }\n",
    "};\n",
    "\n",
    "updatePermission();"
   ]
  },
  {
   "cell_type": "markdown",
   "id": "1ae7a423-3e18-4886-aa50-38af9d9fe217",
   "metadata": {},
   "source": [
    "## 12. Change permissions of new user to \"none\" for the \"_system\" fabric \n",
    "\n",
    "We might also want to reduce the users access to the `_system` fabric. We can do this as follows:"
   ]
  },
  {
   "cell_type": "code",
   "execution_count": null,
   "id": "5616501c-cfe4-4b9b-8aee-e6c2054b55fc",
   "metadata": {},
   "outputs": [],
   "source": [
    "// Update user permission for \"_system\" fabric.\n",
    "updatePermission = async () => {\n",
    "  console.log(\"Update user's permissions list for '_system' fabric..\");\n",
    "\n",
    "  try {\n",
    "    const permissionsList = await client.updatePermission(\n",
    "      \"johndoe\",\n",
    "      \"_system\",\n",
    "      \"none\"\n",
    "    );\n",
    "    console.log(permissionsList);\n",
    "  } catch (err) {\n",
    "    console.error(\"Error while updating user's permissions :\", err.message);\n",
    "  }\n",
    "};\n",
    "\n",
    "updatePermission();"
   ]
  },
  {
   "cell_type": "markdown",
   "id": "b4d359e3-043c-4aaf-a617-9f1f7093e115",
   "metadata": {},
   "source": [
    "## 13. Check permissions of new user after changes\n",
    "\n",
    "Ok, so now that we have updated our users permissions, let's take a look to see our changes. We might also want to reduce the users access to the `_system` fabric. We can do this as follows:"
   ]
  },
  {
   "cell_type": "code",
   "execution_count": null,
   "id": "d8aadd74-76d1-40af-aafd-ad8d1a793e7f",
   "metadata": {},
   "outputs": [],
   "source": [
    "// Retrieve user permissions for all fabrics and collections.\n",
    "getPermissions = async () => {\n",
    "  console.log(\"Get user's permissions list..\");\n",
    "\n",
    "  try {\n",
    "    const permissionsList = await client.getPermissions(\"johndoe\");\n",
    "    console.log(permissionsList);\n",
    "  } catch (err) {\n",
    "    console.log(\"Error while fetching user's permissions :\", err.message);\n",
    "  }\n",
    "};\n",
    "\n",
    "getPermissions();"
   ]
  },
  {
   "cell_type": "markdown",
   "id": "64bf7b95-1c7a-44b6-844f-82cd10cf5ca3",
   "metadata": {},
   "source": [
    "## 14. Connect to GDN as the new user \"JohnDoe\" on the new GeoFabric\n",
    "\n",
    "Now, it's time to connect to our new geofabric as our new user:"
   ]
  },
  {
   "cell_type": "code",
   "execution_count": null,
   "id": "24b06f13-1121-493f-93d1-67e74c808364",
   "metadata": {},
   "outputs": [],
   "source": [
    "const demo_email = \"johndoe@gmail.com\";\n",
    "const demo_password = \"first_password\";\n",
    "const new_geofabric = \"demofabric\";\n",
    "\n",
    "console.log(\"\\n ------- CONNECTION SETUP  ------\");\n",
    "console.log(`tenant: ${fed_url}, geofabric: ${new_geofabric}`);\n",
    "\n",
    "const demo_fabric_client = new jsc8({\n",
    "  url: fed_url,\n",
    "  fabricName: new_geofabric,\n",
    "});\n",
    "\n",
    "demo_fabric_client\n",
    "  .login(demo_email, demo_password)\n",
    "  .then((result) => console.log(\"Login successfully\", result))\n",
    "  .catch((err) => console.error(\"Error while login\", err.message));"
   ]
  },
  {
   "cell_type": "markdown",
   "id": "4ec4dc71-9450-40fe-8574-ddc3b418bc4b",
   "metadata": {},
   "source": [
    "## 15. Check the Datacenters for the new geofabric\n",
    "\n",
    "Now that we have connected as our new user, let's see what data centers we have access to in our geofabric. Let's connect to our new geofabric as a new user."
   ]
  },
  {
   "cell_type": "code",
   "execution_count": null,
   "id": "34260a00-ff17-4f9b-ae41-13ebdfacb36a",
   "metadata": {},
   "outputs": [],
   "source": [
    "const getDcList = async () => {\n",
    "  console.log(\"Get data center list...\");\n",
    "  try {\n",
    "    const dcList = await demo_fabric_client.getDcList();\n",
    "    console.log(JSON.stringify(dcList, null, 2));\n",
    "  } catch (err) {\n",
    "    console.error(\"Error while fetching data center list\", err.message);\n",
    "  }\n",
    "};\n",
    "\n",
    "getDcList();"
   ]
  },
  {
   "cell_type": "markdown",
   "id": "d623d6e5-64c1-4a02-a08c-09ea7dd7bb1a",
   "metadata": {},
   "source": [
    "## 16. Let's test our new fabric with a collection"
   ]
  },
  {
   "cell_type": "markdown",
   "id": "3f711f6a-1260-4266-873c-7529d378fbe2",
   "metadata": {},
   "source": [
    "### 16.1. First create the collection\n",
    "\n",
    "You will likely remember this step from an earlier tutorial. First, we define a collection name. Then we check to see if it exists. If it doesn't exist, then we will create it."
   ]
  },
  {
   "cell_type": "code",
   "execution_count": null,
   "id": "f292a297-7215-490c-b2d4-30d57e0536fc",
   "metadata": {},
   "outputs": [],
   "source": [
    "const collection_name = \"employees\";\n",
    "\n",
    "const createCollection = async () => {\n",
    "  let collectionDetails;\n",
    "  try {\n",
    "    // Create a new collection if it does not exist\n",
    "    const isExist = await demo_fabric_client.hasCollection(collection_name);\n",
    "    if (isExist) {\n",
    "      console.log(\"Collection exists with name\", collection_name);\n",
    "      return;\n",
    "    }\n",
    "    collectionDetails = await demo_fabric_client.createCollection(\n",
    "      collection_name\n",
    "    );\n",
    "    console.log(\"Collection created! \", collection_name);\n",
    "  } catch (err) {\n",
    "    console.error(\"Collection creation did not succeed due to \" + err.message);\n",
    "  }\n",
    "};\n",
    "\n",
    "createCollection();"
   ]
  },
  {
   "cell_type": "markdown",
   "id": "6a393c82-ad03-409d-8f63-579fb8fdfa2e",
   "metadata": {},
   "source": [
    "### 16.2. Let's add some records\n",
    "\n",
    "A collection is great, but let's add some records to it:"
   ]
  },
  {
   "cell_type": "code",
   "execution_count": null,
   "id": "263c6734-5069-49ec-b5ee-10bae8a809cf",
   "metadata": {},
   "outputs": [],
   "source": [
    "let docs = [\n",
    "  {\n",
    "    _key: \"James\",\n",
    "    firstname: \"James\",\n",
    "    lastname: \"Kirk\",\n",
    "    email: \"email\",\n",
    "  },\n",
    "  {\n",
    "    _key: \"Han\",\n",
    "    firstname: \"Han\",\n",
    "    lastname: \"Solo\",\n",
    "    email: \"email\",\n",
    "  },\n",
    "  {\n",
    "    _key: \"Bruce\",\n",
    "    firstname: \"Bruce\",\n",
    "    lastname: \"Wayne\",\n",
    "    email: \"email\",\n",
    "  },\n",
    "];\n",
    "\n",
    "const insertDocument = async () => {\n",
    "  try {\n",
    "    await demo_fabric_client.insertDocument(collection_name, docs);\n",
    "    console.log(\"Documents inserted\");\n",
    "  } catch (err) {\n",
    "    console.error(\"Error while inserting documents\", err.message);\n",
    "  }\n",
    "};\n",
    "\n",
    "insertDocument();"
   ]
  },
  {
   "cell_type": "markdown",
   "id": "a0a647f5-d14a-477e-89e8-830f2f05acfe",
   "metadata": {},
   "source": [
    "### 16.3. Let's build a Query Worker called \"getRecords\"\n",
    "\n",
    "You likely recall how to create a Query Worker from the earlier tutorial. So let's set up a basic query to show the records in a collection:"
   ]
  },
  {
   "cell_type": "code",
   "execution_count": null,
   "id": "c129cc39-f53a-4b4f-94dd-8f99c508dc35",
   "metadata": {},
   "outputs": [],
   "source": [
    "// crete restql\n",
    "const get_data = {\n",
    "  query: {\n",
    "    name: \"getRecords\",\n",
    "    value: `FOR doc IN ${collection_name} RETURN doc`,\n",
    "  },\n",
    "};\n",
    "\n",
    "const createRestQL = async () => {\n",
    "  try {\n",
    "    console.log(\"\\n ------- CREATE RESTQLs  ------\");\n",
    "    await demo_fabric_client.createRestql(\n",
    "      get_data.query.name,\n",
    "      get_data.query.value\n",
    "    ); // name: getRecords\n",
    "    console.log(\"\\n ------- CREATED RESTQLs  ------\");\n",
    "  } catch (err) {\n",
    "    console.error(\"Error while creating restQL\", err.message);\n",
    "  }\n",
    "};\n",
    "\n",
    "createRestQL();"
   ]
  },
  {
   "cell_type": "markdown",
   "id": "554d3b26-ae6d-4aaf-a23e-5f3fbba6f8bc",
   "metadata": {},
   "source": [
    "### 16.4. Let's check our Query Worker is saved"
   ]
  },
  {
   "cell_type": "code",
   "execution_count": null,
   "id": "55638d12-5b55-439a-8b42-5342d32e0444",
   "metadata": {},
   "outputs": [],
   "source": [
    "// get all restql\n",
    "const getRestqls = async () => {\n",
    "  console.log(\"Fetching list of restql\");\n",
    "\n",
    "  try {\n",
    "    const restqlList = await demo_fabric_client.getRestqls();\n",
    "    console.log(restqlList);\n",
    "  } catch (err) {\n",
    "    console.error(\"Error while fetching list of restql :\", err.message);\n",
    "  }\n",
    "};\n",
    "\n",
    "getRestqls();"
   ]
  },
  {
   "cell_type": "markdown",
   "id": "33532f2c-1ddf-432c-9bb2-9669bdcfc71e",
   "metadata": {},
   "source": [
    "### 16.5. Let's execute the Query Worker \"getRecords\""
   ]
  },
  {
   "cell_type": "code",
   "execution_count": null,
   "id": "d414f68d-7757-497a-bcf7-bdde7432f7a4",
   "metadata": {},
   "outputs": [],
   "source": [
    "// execute restql without bindVars\n",
    "const executeRestQL = async () => {\n",
    "  try {\n",
    "    console.log(\"\\n ------- EXECUTE RESTQLs ------\");\n",
    "    console.log(\"\\n Get Data\");\n",
    "    let resp = await demo_fabric_client.executeRestql(\"getRecords\");\n",
    "    console.log(resp.result);\n",
    "  } catch (err) {\n",
    "    console.error(\"Error while execute restQL :\", err.message);\n",
    "  }\n",
    "};\n",
    "\n",
    "executeRestQL();"
   ]
  },
  {
   "cell_type": "markdown",
   "id": "56172ba1-c2c7-4352-aaa5-1e7d1dc4caca",
   "metadata": {},
   "source": [
    "## 17. Time to tidy up!\n",
    "\n",
    "That was great! Now let's tidy up by removing our fabric, the new user, and the collection we created."
   ]
  },
  {
   "cell_type": "code",
   "execution_count": null,
   "id": "24c969a7-ebb7-463c-9841-f7cd79619044",
   "metadata": {},
   "outputs": [],
   "source": [
    "// delete restql\n",
    "const deleteRestQL = async () => {\n",
    "  try {\n",
    "    console.log(\"\\n ------- DELETE RESTQLs ------\");\n",
    "    await demo_fabric_client.deleteRestql(\"getRecords\");\n",
    "    console.log(\"\\n ------- DONE  ------\");\n",
    "  } catch (err) {\n",
    "    console.error(\"Error while delete restQL :\", err.message);\n",
    "  }\n",
    "};\n",
    "\n",
    "deleteRestQL();"
   ]
  },
  {
   "cell_type": "code",
   "execution_count": null,
   "id": "542e5021-14fd-4caf-a45d-d33be3f043b4",
   "metadata": {},
   "outputs": [],
   "source": [
    "// delete new user\n",
    "const deleteUser = async () => {\n",
    "  try {\n",
    "    console.log(\"\\n ------- DELETE User ------\");\n",
    "    await client.deleteUser(\"johndoe\");\n",
    "    console.log(\"\\n ------- DONE  ------\");\n",
    "  } catch (err) {\n",
    "    console.error(\"Error while delete user :\", err.message);\n",
    "  }\n",
    "};\n",
    "\n",
    "deleteUser();"
   ]
  },
  {
   "cell_type": "code",
   "execution_count": null,
   "id": "5d91bfbc-7d63-474d-93bf-0ff415ef6453",
   "metadata": {},
   "outputs": [],
   "source": [
    "// delete the fabric\n",
    "const dropFabric = async () => {\n",
    "  try {\n",
    "    console.log(\"\\n ------- DELETE User ------\");\n",
    "    // now delete the demo geo fabric we created earlier\n",
    "    await client.dropFabric(\"demofabric\");\n",
    "    console.log(\"\\n ------- DONE  ------\");\n",
    "  } catch (err) {\n",
    "    console.error(\"Error while delete fabric :\", err.message);\n",
    "  }\n",
    "};\n",
    "\n",
    "dropFabric();"
   ]
  },
  {
   "cell_type": "markdown",
   "id": "eba04413",
   "metadata": {},
   "source": [
    "## Section Completed!\n",
    "\n",
    "Congratulations!, another tutorial completed."
   ]
  }
 ],
 "metadata": {
  "kernelspec": {
   "display_name": "JavaScript (Node.js)",
   "language": "javascript",
   "name": "javascript"
  },
  "language_info": {
   "file_extension": ".js",
   "mimetype": "application/javascript",
   "name": "javascript",
   "version": "17.7.1"
  }
 },
 "nbformat": 4,
 "nbformat_minor": 5
}
