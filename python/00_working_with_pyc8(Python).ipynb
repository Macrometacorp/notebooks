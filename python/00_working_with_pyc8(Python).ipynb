{
 "cells": [
  {
   "cell_type": "markdown",
   "id": "f63d4ffe",
   "metadata": {},
   "source": [
    "# Py00 - Working with PyC8"
   ]
  },
  {
   "cell_type": "markdown",
   "id": "497ca67e",
   "metadata": {},
   "source": [
    "## Pre-requisite\n",
    "\n",
    "Let's assume your \n",
    "\n",
    "- tenant name is [email protected] and\n",
    "- user password is xxxxx.\n"
   ]
  },
  {
   "cell_type": "markdown",
   "id": "ed443b08",
   "metadata": {},
   "source": [
    "## 1. Driver download\n",
    "\n",
    "pyC8 requires Python 3.5+. Python 3.6 or higher is recommended\n",
    "\n",
    "To install pyC8, simply run the following code in the cell below"
   ]
  },
  {
   "cell_type": "code",
   "execution_count": null,
   "id": "8393267e",
   "metadata": {},
   "outputs": [],
   "source": [
    "!pip install pyC8"
   ]
  },
  {
   "cell_type": "markdown",
   "id": "4a1dd915",
   "metadata": {},
   "source": [
    "## Workbook Completed!"
   ]
  },
  {
   "cell_type": "markdown",
   "id": "ba78680a",
   "metadata": {},
   "source": [
    "Congratulations you should have now connected to GDN, and checked to see what resources are available!"
   ]
  }
 ],
 "metadata": {
  "kernelspec": {
   "display_name": "Python 3 (ipykernel)",
   "language": "python",
   "name": "python3"
  },
  "language_info": {
   "codemirror_mode": {
    "name": "ipython",
    "version": 3
   },
   "file_extension": ".py",
   "mimetype": "text/x-python",
   "name": "python",
   "nbconvert_exporter": "python",
   "pygments_lexer": "ipython3",
   "version": "3.9.7"
  }
 },
 "nbformat": 4,
 "nbformat_minor": 5
}
