{
 "cells": [
  {
   "cell_type": "markdown",
   "id": "f63d4ffe",
   "metadata": {},
   "source": [
    "# Py00 - Working with PyC8"
   ]
  },
  {
   "cell_type": "markdown",
   "id": "497ca67e",
   "metadata": {},
   "source": [
    "## 1. Introduction\n",
    "\n",
    "Welcome to the Working with PyC8, a Python driver for the Digital Edge Fabric.\n",
    "\n",
    "## 2. Features\n",
    "\n",
    "- Clean Pythonic interface\n",
    "- Lightweight\n",
    "\n",
    "## 3. Compatibility\n",
    "\n",
    "- Python versions 3.4, 3.5, and 3.6 are supported"
   ]
  },
  {
   "cell_type": "markdown",
   "id": "ed443b08",
   "metadata": {},
   "source": [
    "## 4. Driver download\n",
    "\n",
    "To install pyC8, run the following code in the cell below.\n",
    "\n",
    "If you are working on this eBook locally, you will only need to install this once.\n",
    "\n",
    "If you work through the tutorials in this eBook, CoLab, or similar, you will have to install pyC8 each time you start a new tutorial."
   ]
  },
  {
   "cell_type": "code",
   "execution_count": null,
   "id": "8393267e",
   "metadata": {},
   "outputs": [],
   "source": [
    "!pip install pyC8"
   ]
  },
  {
   "cell_type": "markdown",
   "id": "4a1dd915",
   "metadata": {},
   "source": [
    "## Workbook Completed!"
   ]
  },
  {
   "cell_type": "markdown",
   "id": "ba78680a",
   "metadata": {},
   "source": [
    "Congratulations, you have now installed the Macrometa Python Driver. "
   ]
  },
  {
   "cell_type": "code",
   "execution_count": null,
   "id": "4f3ecb83-7054-485d-84b8-ab42c0deeece",
   "metadata": {},
   "outputs": [],
   "source": []
  }
 ],
 "metadata": {
  "kernelspec": {
   "display_name": "Python 3 (ipykernel)",
   "language": "python",
   "name": "python3"
  },
  "language_info": {
   "codemirror_mode": {
    "name": "ipython",
    "version": 3
   },
   "file_extension": ".py",
   "mimetype": "text/x-python",
   "name": "python",
   "nbconvert_exporter": "python",
   "pygments_lexer": "ipython3",
   "version": "3.9.10"
  }
 },
 "nbformat": 4,
 "nbformat_minor": 5
}
