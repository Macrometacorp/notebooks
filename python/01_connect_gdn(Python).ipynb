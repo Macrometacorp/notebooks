{
 "cells": [
  {
   "cell_type": "markdown",
   "id": "f63d4ffe",
   "metadata": {},
   "source": [
    "# Py01 - Connecting to GDN"
   ]
  },
  {
   "cell_type": "markdown",
   "id": "497ca67e",
   "metadata": {},
   "source": [
    "## Pre-requisite\n",
    "\n",
    "Let's assume your \n",
    "\n",
    "- tenant name is [email protected] and\n",
    "- user password is xxxxx.\n"
   ]
  },
  {
   "cell_type": "markdown",
   "id": "ed443b08",
   "metadata": {},
   "source": [
    "## Step 01-A - Driver download\n",
    "\n",
    "pyC8 requires Python 3.5+. Python 3.6 or higher is recommended\n",
    "\n",
    "To install pyC8, simply run the following code in the cell below"
   ]
  },
  {
   "cell_type": "code",
   "execution_count": null,
   "id": "8393267e",
   "metadata": {},
   "outputs": [],
   "source": [
    "# Run this code to install pyC8\n",
    "\n",
    "!pip install pyC8\n",
    "#!pip install websocket-client\n"
   ]
  },
  {
   "cell_type": "markdown",
   "id": "4e80753e",
   "metadata": {},
   "source": [
    "## Step 01-B - Connect to GDN\n",
    "\n",
    "The first step in using GDN is to establish a connection to a local region. When this code executes, it initializes the server connection to the region URL you sepcified. You can create an API key from the GUI or REST API."
   ]
  },
  {
   "cell_type": "code",
   "execution_count": 16,
   "id": "96c8ca7a",
   "metadata": {},
   "outputs": [],
   "source": [
    "from c8 import C8Client\n",
    "\n",
    "client = C8Client(protocol='https', host='verizon.5g.macrometa.io', port=443,\n",
    "                        email='email', password='password',\n",
    "                        geofabric='_system')"
   ]
  },
  {
   "cell_type": "markdown",
   "id": "e5d60cd8",
   "metadata": {},
   "source": [
    "## Step 01-C - Create an API Key\n",
    "\n",
    "Note: If you have already run the following cell to create your API Key, running it again will produce an error. you might like to remove the current API Key buy jumping to the section \"## Remove an API Key\" and then returning to this cell to create the API Key again."
   ]
  },
  {
   "cell_type": "code",
   "execution_count": 17,
   "id": "8d4b74c7",
   "metadata": {},
   "outputs": [
    {
     "name": "stdout",
     "output_type": "stream",
     "text": [
      "Create API Key:  {'key': 'alan_macrometa.com.id1.gjTwl4gTPZs43fBEaa4CNXESAt3rpDA8TjS5Xu3YZfLk5IyGHLv3FYGY4cTUM7yO181130', 'keyid': 'id1', 'tenant': 'alan_macrometa.com', 'user': 'alan_macrometa.com.root', 'error': False, 'code': 201}\n"
     ]
    }
   ],
   "source": [
    "print(\"Create API Key: \", client.create_api_key('id1'))"
   ]
  },
  {
   "cell_type": "markdown",
   "id": "d816ab61",
   "metadata": {},
   "source": [
    "## Step 01-D - Get Accessible Resources"
   ]
  },
  {
   "cell_type": "code",
   "execution_count": 18,
   "id": "ae7cd392",
   "metadata": {},
   "outputs": [
    {
     "name": "stdout",
     "output_type": "stream",
     "text": [
      "Accessible Databases:  {'_system': 'rw'}\n",
      "Accessible Streams of a db:  {}\n"
     ]
    }
   ],
   "source": [
    "# Fetch List of accessible databases and streams\n",
    "\n",
    "print(\"Accessible Databases: \", client.list_accessible_databases('id1'))\n",
    "\n",
    "print(\"Accessible Streams of a db: \", client.list_accessible_streams('id1', '_system'))"
   ]
  },
  {
   "cell_type": "markdown",
   "id": "4a1dd915",
   "metadata": {},
   "source": [
    "## Workbook Completed!"
   ]
  },
  {
   "cell_type": "markdown",
   "id": "ba78680a",
   "metadata": {},
   "source": [
    "Congratulations you should have now connected to GDN, and checked to see what resources are available!"
   ]
  }
 ],
 "metadata": {
  "kernelspec": {
   "display_name": "Python 3 (ipykernel)",
   "language": "python",
   "name": "python3"
  },
  "language_info": {
   "codemirror_mode": {
    "name": "ipython",
    "version": 3
   },
   "file_extension": ".py",
   "mimetype": "text/x-python",
   "name": "python",
   "nbconvert_exporter": "python",
   "pygments_lexer": "ipython3",
   "version": "3.9.7"
  }
 },
 "nbformat": 4,
 "nbformat_minor": 5
}
