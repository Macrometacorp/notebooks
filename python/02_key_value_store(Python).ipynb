{
 "cells": [
  {
   "cell_type": "markdown",
   "id": "f63d4ffe",
   "metadata": {},
   "source": [
    "# Py02 - Quick Start with Key Value Store\n",
    "\n",
    "Macrometa GDN is a geodistributed real-time coordination-free materialized views engine that supports multiple data models. You can use GDN as a geo-replicated real-time key-value datastore or database.\n",
    "\n",
    "If you are new to Macrometa GDN, start by reading the essentials of Macrometa GDN.\n",
    "\n",
    "Each document stored in a collection (or table) contains a primary key _key. The rest of the document is considered a value. The collection behaves like a simple key-value (KV) store if it has no secondary indexes.\n",
    "\n",
    "The key-value store has no query languages. The permissible operations are key look-ups (single & batch) and key-value pair insertions, updates and deletions. If you don't specify a sharding attribute, we use _key to shard the data. The simplicity of this model makes a key-value store fast, easy to use, scalable, portable, and flexible.\n",
    "\n",
    "You can enable time_to_live (TTL) during collection creation and add an expireAt value to specify the expiration time for each document in the KV collection.\n",
    "\n",
    "For the following examples, assume these credentials:"
   ]
  },
  {
   "cell_type": "markdown",
   "id": "497ca67e",
   "metadata": {},
   "source": [
    "## Pre-requisite\n",
    "\n",
    "Lets Assume \n",
    "- you have already made a tenant account, and have a username and password\n",
    "- you have installed the pyc8 drivers as explained in section 01\n",
    "- you have generated an API Key as explained in section 01\n"
   ]
  },
  {
   "cell_type": "markdown",
   "id": "3ab3be27",
   "metadata": {},
   "source": [
    "## Step 02-A - Connect to GDN\n",
    "\n",
    "The first step in using GDN is to establish a connection to a local region. When this code executes, it initializes the server connection to the region URL you sepcified. You can create an API key from the GUI or REST API.\n"
   ]
  },
  {
   "cell_type": "code",
   "execution_count": 29,
   "id": "f508eb62",
   "metadata": {},
   "outputs": [],
   "source": [
    "import json\n",
    "\n",
    "from c8 import C8Client\n",
    "#client = C8Client(protocol='https', host='gdn.paas.macrometa.io', port=443,\n",
    "#                        email='alankevans@gmail.com', password='AlansDemo1!',\n",
    "#                        geofabric='_system')\n",
    "\n",
    "\n",
    "client = C8Client(protocol='https', host='verizon.5g.macrometa.io', port=443,\n",
    "                        email='alan@macrometa.com', password='AlansDemo1!',\n",
    "                        geofabric='_system')\n"
   ]
  },
  {
   "cell_type": "markdown",
   "id": "b678fd8e",
   "metadata": {},
   "source": [
    "## Step 02-B - Create a Collection"
   ]
  },
  {
   "cell_type": "code",
   "execution_count": 31,
   "id": "f856c722",
   "metadata": {},
   "outputs": [
    {
     "name": "stdout",
     "output_type": "stream",
     "text": [
      "Collection exists\n"
     ]
    }
   ],
   "source": [
    "collection_name = \"students\"\n",
    "\n",
    "# Create a new collection if it does not exist\n",
    "if client.has_collection(collection_name):\n",
    "    print(\"Collection exists\")\n",
    "else:\n",
    "    client.create_collection_kv(name=collection_name)\n",
    "    print(\"Collection Created!\")"
   ]
  },
  {
   "cell_type": "markdown",
   "id": "d2567fd2",
   "metadata": {},
   "source": [
    "## Step 02-C - Insert Key Value Pairs\n",
    "\n",
    "Insert key-value pairs into the collection."
   ]
  },
  {
   "cell_type": "code",
   "execution_count": 32,
   "id": "070451af",
   "metadata": {},
   "outputs": [
    {
     "name": "stdout",
     "output_type": "stream",
     "text": [
      "KV Pairs Inserted\n"
     ]
    }
   ],
   "source": [
    "data = [\n",
    "  {\n",
    "    \"_key\": \"John\",\n",
    "    \"value\": \"Science\",\n",
    "    \"expireAt\": 0\n",
    "  },\n",
    "  {\n",
    "    \"_key\": \"Alice\",\n",
    "    \"value\": \"Maths\",\n",
    "    \"expireAt\": 0\n",
    "  },\n",
    "  {\n",
    "    \"_key\": \"Alex\",\n",
    "    \"value\": \"Physics\",\n",
    "    \"expireAt\": 0\n",
    "  },\n",
    "  {\n",
    "    \"_key\": \"Monika\",\n",
    "    \"value\": \"Chemistry\",\n",
    "    \"expireAt\": 0\n",
    "  }\n",
    "]\n",
    "\n",
    "client.insert_key_value_pair(collection_name, data)\n",
    "print(\"KV Pairs Inserted\")\n"
   ]
  },
  {
   "cell_type": "markdown",
   "id": "0529b3bb",
   "metadata": {},
   "source": [
    "## Step 02-D - Get a Value\n",
    "\n",
    "Get value for a given key."
   ]
  },
  {
   "cell_type": "code",
   "execution_count": 33,
   "id": "d4364d12",
   "metadata": {},
   "outputs": [
    {
     "name": "stdout",
     "output_type": "stream",
     "text": [
      "{\n",
      "    \"_id\": \"students/John\",\n",
      "    \"_key\": \"John\",\n",
      "    \"_rev\": \"_d1-ES7u--_\",\n",
      "    \"expireAt\": 0,\n",
      "    \"value\": \"Science\"\n",
      "}\n"
     ]
    }
   ],
   "source": [
    "#print(\"Value for the provided key: \",client.get_value_for_key(collection_name, \"Monika\"))\n",
    "\n",
    "value = client.get_value_for_key(collection_name, \"John\")\n",
    "\n",
    "print(json.dumps(value, indent=4))"
   ]
  },
  {
   "cell_type": "markdown",
   "id": "4e68082b",
   "metadata": {},
   "source": [
    "## Step 02-E - Get Key-Value Count\n",
    "\n",
    "Get key-value count from a given collection"
   ]
  },
  {
   "cell_type": "code",
   "execution_count": 34,
   "id": "e7aafeb1",
   "metadata": {},
   "outputs": [
    {
     "name": "stdout",
     "output_type": "stream",
     "text": [
      "Number of kv pairs in your collection:  4\n"
     ]
    }
   ],
   "source": [
    "print(\"Number of kv pairs in your collection: \",client.get_kv_count(collection_name))"
   ]
  },
  {
   "cell_type": "markdown",
   "id": "ba78680a",
   "metadata": {},
   "source": [
    "## Step 02-F - Update Value\n",
    "\n",
    "Update value for a given key"
   ]
  },
  {
   "cell_type": "code",
   "execution_count": 35,
   "id": "b7079ccc",
   "metadata": {},
   "outputs": [
    {
     "name": "stdout",
     "output_type": "stream",
     "text": [
      "Updated the specified KV pair\n"
     ]
    }
   ],
   "source": [
    "# Update value for a key\n",
    "data = {\n",
    "    \"_key\": \"John\",\n",
    "    \"value\": \"Biology\",\n",
    "    \"expireAt\": 0\n",
    "}\n",
    "client.insert_key_value_pair(collection_name, data)\n",
    "print(\"Updated the specified KV pair\")"
   ]
  },
  {
   "cell_type": "markdown",
   "id": "f74c8b58",
   "metadata": {},
   "source": [
    "## Step 02-G - Delete a Key-Value\n",
    "\n",
    "Delete key-value pairs from a collection"
   ]
  },
  {
   "cell_type": "code",
   "execution_count": 36,
   "id": "38a2db57",
   "metadata": {},
   "outputs": [
    {
     "name": "stdout",
     "output_type": "stream",
     "text": [
      "Deleted Entry for the specified Key:  True\n"
     ]
    }
   ],
   "source": [
    "# Delete entry for a key\n",
    "print(\"Deleted Entry for the specified Key: \",client.delete_entry_for_key(collection_name, \"John\"))"
   ]
  },
  {
   "cell_type": "markdown",
   "id": "b2eb5cf3",
   "metadata": {},
   "source": [
    "## Step 02-H - Delete a Key-Value\n",
    "\n",
    "Delete entry for multiple key-value pairs from a collection"
   ]
  },
  {
   "cell_type": "code",
   "execution_count": 37,
   "id": "e7d525da",
   "metadata": {},
   "outputs": [
    {
     "name": "stdout",
     "output_type": "stream",
     "text": [
      "Deleted Entries for the following list of keys:\n",
      "[\n",
      "    {\n",
      "        \"_id\": \"students/Monika\",\n",
      "        \"_key\": \"Monika\",\n",
      "        \"_rev\": \"_d1-ES7u--I\"\n",
      "    },\n",
      "    {\n",
      "        \"_id\": \"students/Alex\",\n",
      "        \"_key\": \"Alex\",\n",
      "        \"_rev\": \"_d1-ES7u--F\"\n",
      "    },\n",
      "    {\n",
      "        \"_id\": \"students/Alice\",\n",
      "        \"_key\": \"Alice\",\n",
      "        \"_rev\": \"_d1-ES7u--C\"\n",
      "    }\n",
      "]\n"
     ]
    }
   ],
   "source": [
    "value2 = client.delete_entry_for_keys(collection_name, [\"Monika\", \"Alex\", \"Alice\"])\n",
    "print(\"Deleted Entries for the following list of keys:\")\n",
    "print(json.dumps(value2, indent=4))"
   ]
  },
  {
   "cell_type": "markdown",
   "id": "bf8c8e10",
   "metadata": {},
   "source": [
    "## Step 02-I - Delete a Collection\n",
    "\n",
    "Delete the key-vlaue collection"
   ]
  },
  {
   "cell_type": "code",
   "execution_count": 38,
   "id": "e946f79a",
   "metadata": {},
   "outputs": [
    {
     "name": "stdout",
     "output_type": "stream",
     "text": [
      "Collection Deleted:  True\n"
     ]
    }
   ],
   "source": [
    "print(\"Collection Deleted: \",client.delete_collection_kv(collection_name))"
   ]
  },
  {
   "cell_type": "markdown",
   "id": "eba04413",
   "metadata": {},
   "source": [
    "## Workbook Completed!\n",
    "\n",
    "Congratulations you should have successfuly create a collection, inserted values, updated a value, deleted an entry, delted all entries and finally deleted the collection. \n",
    "\n",
    "Dont forget you can log into your GDN account and check the console to see what is happening from the dashboard at the same time!"
   ]
  },
  {
   "cell_type": "code",
   "execution_count": null,
   "id": "277d1bb1",
   "metadata": {},
   "outputs": [],
   "source": []
  }
 ],
 "metadata": {
  "kernelspec": {
   "display_name": "Python 3 (ipykernel)",
   "language": "python",
   "name": "python3"
  },
  "language_info": {
   "codemirror_mode": {
    "name": "ipython",
    "version": 3
   },
   "file_extension": ".py",
   "mimetype": "text/x-python",
   "name": "python",
   "nbconvert_exporter": "python",
   "pygments_lexer": "ipython3",
   "version": "3.9.7"
  }
 },
 "nbformat": 4,
 "nbformat_minor": 5
}
