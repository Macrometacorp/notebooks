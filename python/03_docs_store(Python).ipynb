{
 "cells": [
  {
   "cell_type": "markdown",
   "id": "f63d4ffe",
   "metadata": {},
   "source": [
    "# Py03 - Documents Store\n",
    "\n",
    "Documents in GDN are JSON objects. These objects can be nested (to any depth) and may contain lists. Each document has a unique primary key that identifies it within its collection. Furthermore, each document is uniquely identified by its document handle across all collections. Different revisions of the same document (identified by its handle) can be distinguished by their document revision. Any transaction only ever sees a single revision of a document.\n",
    "\n",
    "For example:"
   ]
  },
  {
   "cell_type": "code",
   "execution_count": null,
   "id": "b6ab70af",
   "metadata": {},
   "outputs": [],
   "source": [
    "{\n",
    "  \"_id\" : \"myusers/3456789\",\n",
    "  \"_key\" : \"3456789\",\n",
    "  \"_rev\" : \"14253647\",\n",
    "  \"firstName\" : \"John\",\n",
    "  \"lastName\" : \"Doe\",\n",
    "  \"address\" : {\n",
    "    \"street\" : \"Road To Nowhere 1\",\n",
    "    \"city\" : \"Gotham\"\n",
    "  },\n",
    "  \"hobbies\" : [\n",
    "    {name: \"swimming\", howFavorite: 10},\n",
    "    {name: \"biking\", howFavorite: 6},\n",
    "    {name: \"programming\", howFavorite: 4}\n",
    "  ]\n",
    "}"
   ]
  },
  {
   "cell_type": "markdown",
   "id": "a6fdfe0d",
   "metadata": {},
   "source": [
    "All documents contain special attributes:\n",
    "\n",
    "- the document handle is stored as a string in `_id`\n",
    "- the document's primary key in `_key`\n",
    "- the document revision in `_rev`\n",
    "\n",
    "The user can specify the value of the `_key` attribute when creating a document. `_id` and `_key` values are immutable once the document has been created. The `_rev` value is maintained by GDN automatically."
   ]
  },
  {
   "cell_type": "markdown",
   "id": "497ca67e",
   "metadata": {},
   "source": [
    "## Pre-requisite\n",
    "\n",
    "Let's assume your \n",
    "\n",
    "- Tenant name is an email address\n",
    "- User password is xxxxx\n",
    "\n",
    "If you need to install pyC8, you can run the cell below; otherwise, you may skip it."
   ]
  },
  {
   "cell_type": "code",
   "execution_count": null,
   "id": "5c4c33a9-a379-409e-900e-d811eee33ae3",
   "metadata": {},
   "outputs": [],
   "source": [
    "!pip install pyC8"
   ]
  },
  {
   "cell_type": "code",
   "execution_count": null,
   "id": "30a9989d",
   "metadata": {},
   "outputs": [],
   "source": [
    "# TIP Run this Cell so that you can output any C8QL results in JSON Format!\n",
    "import json"
   ]
  },
  {
   "cell_type": "markdown",
   "id": "a2b3b194",
   "metadata": {},
   "source": [
    "## 1. Connect to GDN"
   ]
  },
  {
   "cell_type": "code",
   "execution_count": null,
   "id": "19e1f238-0d5d-44e0-899f-6647af4b3fff",
   "metadata": {},
   "outputs": [],
   "source": [
    "fed_url = input(\"Please type the federation host, leave it blank to use the default and press enter:\") or \"gdn.paas.macrometa.io\""
   ]
  },
  {
   "cell_type": "code",
   "execution_count": null,
   "id": "1a1be7d6-aba1-4fd9-9e06-37bf083691e2",
   "metadata": {},
   "outputs": [],
   "source": [
    "email = input(\"Please, type your email and press enter:\")"
   ]
  },
  {
   "cell_type": "code",
   "execution_count": null,
   "id": "7db25d4f-484f-4ff7-97f0-278456d4bc6e",
   "metadata": {},
   "outputs": [],
   "source": [
    "import getpass\n",
    "\n",
    "password = getpass.getpass(\"Please, type your password and press enter:\")"
   ]
  },
  {
   "cell_type": "code",
   "execution_count": null,
   "id": "3b44b95c-127c-4413-b82a-88ca3066dc6c",
   "metadata": {},
   "outputs": [],
   "source": [
    "from c8 import C8Client\n",
    "\n",
    "client = C8Client(protocol='https', host=fed_url, port=443,\n",
    "                        email=email, password=password,\n",
    "                        geofabric='_system')"
   ]
  },
  {
   "cell_type": "markdown",
   "id": "744bf99b",
   "metadata": {},
   "source": [
    "## 2. Get GeoFabric Details\n",
    "\n",
    "To get details of fabric:"
   ]
  },
  {
   "cell_type": "code",
   "execution_count": null,
   "id": "f18c767d",
   "metadata": {},
   "outputs": [],
   "source": [
    "# you might not need this, but if you wanted to select a \n",
    "# specific GeoFabric you can find out whats available by executing this code!\n",
    "\n",
    "print(\"Get geo fabric details...\")\n",
    "\n",
    "# -- use this line of code for an unformatted response --\n",
    "#print(client.get_fabric_details())\n",
    "\n",
    "# -- use these lines of code for a formatted response (easier to read) -- \n",
    "fabrics = client.get_fabric_details()\n",
    "\n",
    "print(json.dumps(fabrics, indent=4))"
   ]
  },
  {
   "cell_type": "markdown",
   "id": "b678fd8e",
   "metadata": {},
   "source": [
    "## 3. Create Collection\n",
    "\n",
    "We can now create a collection in the fabric. First, you connect to fabric and then create a collection called employees.\n",
    "\n",
    "The below example shows the steps:"
   ]
  },
  {
   "cell_type": "code",
   "execution_count": null,
   "id": "f856c722",
   "metadata": {},
   "outputs": [],
   "source": [
    "collection_name = 'employees'\n",
    "\n",
    "# Create a new collection if it does not exist\n",
    "if client.has_collection(collection_name):\n",
    "    print(\"Collection exists\")\n",
    "else:\n",
    "    client.create_collection(name=collection_name)\n",
    "    print(\"Collection Created!\")"
   ]
  },
  {
   "cell_type": "markdown",
   "id": "62216d82",
   "metadata": {},
   "source": [
    "## 4. Create Index\n",
    "\n",
    "Let's add a `hash_index` called emails to our collection employees. Please refer to the reference guide for details on other available index types."
   ]
  },
  {
   "cell_type": "code",
   "execution_count": null,
   "id": "f0094fa7",
   "metadata": {},
   "outputs": [],
   "source": [
    "# Simple Approach\n",
    "\n",
    "#print(\"Add Hash Index\", client.add_hash_index('employees', fields=['firstname', 'lastname'], unique=True)\n",
    "#)                      \n",
    "\n",
    "print(\"Add Hash Index\")\n",
    "\n",
    "hash_index = client.add_hash_index('employees', fields=['firstname', 'lastname'], unique=True)\n",
    "\n",
    "print(json.dumps(hash_index, indent=4))"
   ]
  },
  {
   "cell_type": "markdown",
   "id": "048c0b41",
   "metadata": {},
   "source": [
    "## 5. Insert Documents\n",
    "\n",
    "Let's insert documents into the employees collection as shown below:"
   ]
  },
  {
   "cell_type": "code",
   "execution_count": null,
   "id": "0d7736f7",
   "metadata": {},
   "outputs": [],
   "source": [
    "#client.insert_document(collection_name='employees', document={'_key':'Alan', 'firstname': 'Alan', 'lastname':'Evans', 'email':'email'})\n",
    "\n",
    "docs = [\n",
    "  {'_key':'James', 'firstname': 'James', 'lastname':'Kirk', 'email':'email'},\n",
    "  {'_key':'Han', 'firstname': 'Han', 'lastname':'Solo', 'email':'email'},\n",
    "  {'_key':'Bruce', 'firstname': 'Bruce', 'lastname':'Wayne', 'email':'email'}\n",
    "]\n",
    "\n",
    "client.insert_document(collection_name='employees', document=docs)\n",
    "\n",
    "print(json.dumps(docs, indent=4))"
   ]
  },
  {
   "cell_type": "markdown",
   "id": "f328b599",
   "metadata": {},
   "source": [
    "## 6. Query documents using C8QL\n",
    "\n",
    "C8QL is C8's query language. You can execute C8QL query on our newly created collection of employees to get its contents.\n",
    "\n",
    "The query `FOR employee IN employees RETURN employee` is equivalent to SQL's SELECT query."
   ]
  },
  {
   "cell_type": "code",
   "execution_count": null,
   "id": "0fbe72ed",
   "metadata": {},
   "outputs": [],
   "source": [
    "cursor = client.execute_query('FOR employee IN employees RETURN employee')\n",
    "\n",
    "docs = [document for document in cursor]\n",
    "\n",
    "print(json.dumps(docs, indent=4))"
   ]
  },
  {
   "cell_type": "markdown",
   "id": "034a3683",
   "metadata": {},
   "source": [
    "## 7. Get realtime updates\n",
    "\n",
    "Example for real-time updates from a collection in fabric:\n",
    "\n",
    "> Note: You need to enable Stream from the Macrometa Dashboard for this to work. Do this by opening up the dashboard, selecting collections, finding the collection named \"employees\" and selecting \"enable Stream\"\n",
    "\n",
    "Now run the cell below, return to the Macrometa Dashboard and modify and save fields in the collection. You should see the real-time updates below as soon as you hit save.\n",
    "\n",
    "The WebSocket will time out after 60 seconds if no updates are seen, so you might need to re-run the cell code if you see a timed-out message below."
   ]
  },
  {
   "cell_type": "code",
   "execution_count": null,
   "id": "3b5321c7",
   "metadata": {},
   "outputs": [],
   "source": [
    "def callback_fn(event):\n",
    "    print(event)\n",
    "\n",
    "client.on_change(\"employees\", callback=callback_fn)     "
   ]
  },
  {
   "cell_type": "markdown",
   "id": "51d737da-2463-4ded-bd1e-087ffd0a2dc6",
   "metadata": {},
   "source": [
    "## 8. Time to tidy up!\n",
    "\n",
    "That was great! Now let's tidy up by removing the collection we created."
   ]
  },
  {
   "cell_type": "code",
   "execution_count": null,
   "id": "8bd8c063-f6bd-44de-afb8-d639e9a8155a",
   "metadata": {},
   "outputs": [],
   "source": [
    "print(\"Collection Deleted: \", client.delete_collection(\"employees\"))"
   ]
  },
  {
   "cell_type": "markdown",
   "id": "eba04413",
   "metadata": {},
   "source": [
    "## Section Completed!\n",
    "\n",
    "Congratulations! You've completed this tutorial."
   ]
  }
 ],
 "metadata": {
  "kernelspec": {
   "display_name": "Python 3 (ipykernel)",
   "language": "python",
   "name": "python3"
  },
  "language_info": {
   "codemirror_mode": {
    "name": "ipython",
    "version": 3
   },
   "file_extension": ".py",
   "mimetype": "text/x-python",
   "name": "python",
   "nbconvert_exporter": "python",
   "pygments_lexer": "ipython3",
   "version": "3.9.10"
  }
 },
 "nbformat": 4,
 "nbformat_minor": 5
}
