{
 "cells": [
  {
   "cell_type": "markdown",
   "id": "f63d4ffe",
   "metadata": {},
   "source": [
    "# Py04 - Quick Start with Graphs\n",
    "\n",
    "## Overview\n",
    "\n",
    "Today’s applications are required to be highly responsive and always online. They need to be deployed in data centers closer to their users and can access data instantly across the globe.\n",
    "\n",
    "Macrometa global data network (GDN) is a fully managed realtime materialized view engine that provides access to data instantly to Apps & APIs in a simple & single interface.\n",
    "\n",
    "This article is an introduction to working with documents in GDN with pyC8 and jsC8 drivers.\n",
    "\n",
    "In the drivers, a document is a dictionary/object that is JSON serializable with the following properties:\n",
    "\n",
    "Contains the _key field, which identifies the document uniquely within a specific collection.\n",
    "Contains the _id field (also called the handle), which identifies the document uniquely across all collections within a fabric. This ID is a combination of the collection name and the document key using the format {collection}/{key} (see example below).\n",
    "Contains the _rev field. GDN supports MVCC (Multiple Version Concurrency Control) and is capable of storing each document in multiple revisions. Latest revision of a document is indicated by this field. The field is populated by GDN and is not required as input unless you want to validate a document against its current revision.\n",
    "Here is an example of a valid document:"
   ]
  },
  {
   "cell_type": "code",
   "execution_count": null,
   "id": "b6ab70af",
   "metadata": {
    "scrolled": true
   },
   "outputs": [],
   "source": [
    "{\n",
    "    '_id': 'students/bruce',\n",
    "    '_key': 'bruce',\n",
    "    '_rev': '_Wm3dzEi--_',\n",
    "    'first_name': 'Bruce',\n",
    "    'last_name': 'Wayne',\n",
    "    'address': {\n",
    "        'street' : '1007 Mountain Dr.',\n",
    "        'city': 'Gotham',\n",
    "        'state': 'NJ'\n",
    "    },\n",
    "    'is_rich': True,\n",
    "    'friends': ['robin', 'gordon']\n",
    "}"
   ]
  },
  {
   "cell_type": "markdown",
   "id": "a6fdfe0d",
   "metadata": {},
   "source": [
    "Edge documents (edges) are similar to standard documents but with two additional required fields _from and _to. Values of these fields must be the handles of \"from\" and \"to\" vertex documents linked by the edge document in question. Here is an example of a valid edge document:"
   ]
  },
  {
   "cell_type": "code",
   "execution_count": null,
   "id": "b7e7c50d",
   "metadata": {
    "scrolled": true
   },
   "outputs": [],
   "source": [
    "{\n",
    "    '_id': 'friends/001',\n",
    "    '_key': '001',\n",
    "    '_rev': '_Wm3dyle--_',\n",
    "    '_from': 'students/john',\n",
    "    '_to': 'students/jane',\n",
    "    'closeness': 9.5\n",
    "}"
   ]
  },
  {
   "cell_type": "markdown",
   "id": "ed57a31a",
   "metadata": {},
   "source": [
    "A Graph consists of vertices and edges. Edges are stored as documents in edge collections. A vertex can be a document of a document collection or of an edge collection (so edges can be used as vertices). Which collections are used within a named graph is defined via edge definitions. A named graph can contain more than one edge definition, at least one is needed. Graphs allow you to structure your models in line with your domain and group them logically in collections and giving you the power to query them in the same graph queries.\n",
    "\n",
    "In SQL you commonly have the construct of a relation table to store n:m relations between two data tables. An edge collection is somewhat similar to these relation tables. Vertex collections resemble the data tables with the objects to connect.\n",
    "\n",
    "While simple graph queries with fixed number of hops via the relation table may be doable in SQL with several nested joins, graph databases can handle an arbitrary number of these hops over edge collections - this is called traversal. Also edges in one edge collection may point to several vertex collections. Its common to have attributes attached to edges, i.e. a label naming this interconnection.\n",
    "\n",
    "Edges have a direction, with their relations _from and _to pointing from one document to another document stored in vertex collections. In queries you can define in which directions the edge relations may be followed i.e.,\n",
    "\n",
    "- OUTBOUND: _from → _to\n",
    "- INBOUND: _from ← _to\n",
    "- ANY: _from ↔ _to."
   ]
  },
  {
   "cell_type": "markdown",
   "id": "497ca67e",
   "metadata": {},
   "source": [
    "## Pre-requisite\n",
    "\n",
    "Lets Assume \n",
    "- you have already made a tenant account, and have a username and password\n",
    "- you have installed the pyc8 drivers as explained in section 00\n",
    "- you have imported the json driver, no? run the next cell!\n"
   ]
  },
  {
   "cell_type": "code",
   "execution_count": null,
   "id": "30a9989d",
   "metadata": {
    "scrolled": true
   },
   "outputs": [],
   "source": [
    "# Run this Cell so that you can output any C8QL results in JSON Format!\n",
    "import json"
   ]
  },
  {
   "cell_type": "markdown",
   "id": "a2b3b194",
   "metadata": {},
   "source": [
    "## 1. Connect to GDN"
   ]
  },
  {
   "cell_type": "code",
   "execution_count": null,
   "id": "f3604206",
   "metadata": {
    "scrolled": true
   },
   "outputs": [],
   "source": [
    "from c8 import C8Client\n",
    "\n",
    "client = C8Client(protocol='https', host='gdn.paas.macrometa.io', port=443,\n",
    "                        email='email', password='password',\n",
    "                        geofabric='_system')"
   ]
  },
  {
   "cell_type": "markdown",
   "id": "744bf99b",
   "metadata": {},
   "source": [
    "## 2. Get GeoFabric Details\n",
    "\n",
    "To get details of fabric,"
   ]
  },
  {
   "cell_type": "code",
   "execution_count": null,
   "id": "f18c767d",
   "metadata": {
    "scrolled": true
   },
   "outputs": [],
   "source": [
    "# you might not need this, but if you wanted to select a \n",
    "# specific GeoFabric you can find out whats available by executing this code!\n",
    "\n",
    "print(\"Get geo fabric details...\")\n",
    "\n",
    "# -- use this line of code for an unformatted response --\n",
    "#print(client.get_fabric_details())\n",
    "\n",
    "# -- use these lines of code for a formatted response (easier to read) -- \n",
    "import json\n",
    "\n",
    "fabrics = client.get_fabric_details()\n",
    "\n",
    "print(json.dumps(fabrics, indent=4))"
   ]
  },
  {
   "cell_type": "markdown",
   "id": "b678fd8e",
   "metadata": {},
   "source": [
    "## 3. Create Collection\n",
    "\n",
    "We can now create collection in the fabric. To do this, first you connect to fabric and then create a collection called employees.\n",
    "\n",
    "The below example shows the steps."
   ]
  },
  {
   "cell_type": "code",
   "execution_count": null,
   "id": "f856c722",
   "metadata": {
    "scrolled": true
   },
   "outputs": [],
   "source": [
    "collection_name = 'students'\n",
    "\n",
    "# Create a new collection if it does not exist\n",
    "if client.has_collection(collection_name):\n",
    "    print(\"Collection exists\")\n",
    "else:\n",
    "    client.create_collection_kv(name=collection_name)\n",
    "    print(\"Collection Created!\")"
   ]
  },
  {
   "cell_type": "markdown",
   "id": "62216d82",
   "metadata": {},
   "source": [
    "## 4. Create an Edge Collection\n",
    "\n",
    "An edge collection contains edge documents and shares its namespace with all other types of collections. You can manage edge documents via standard collection API wrappers, but using edge collection API wrappers provides additional safeguards:\n",
    "\n",
    "- All modifications are executed in transactions.\n",
    "- Edge documents are checked against the edge definitions on insert."
   ]
  },
  {
   "cell_type": "code",
   "execution_count": null,
   "id": "f0094fa7",
   "metadata": {
    "scrolled": true
   },
   "outputs": [],
   "source": [
    "edge_name='school'\n",
    "\n",
    "if client.has_collection(edge_name):\n",
    "  print(\"Graph exists\")\n",
    "else:\n",
    "  client.create_collection(edge_name, edge=True)\n",
    "  print(\"Created Edge Collection\")   \n"
   ]
  },
  {
   "cell_type": "markdown",
   "id": "048c0b41",
   "metadata": {},
   "source": [
    "## 5. Insert Documents\n",
    "\n",
    "Let's insert documents to the students collection as shown below."
   ]
  },
  {
   "cell_type": "code",
   "execution_count": null,
   "id": "0d7736f7",
   "metadata": {
    "scrolled": true
   },
   "outputs": [],
   "source": [
    "docs = [\n",
    "  {'_key':'Jenny', 'firstname': 'Jenney', 'lastname':'Jones', 'email':'[email protected]'},\n",
    "  {'_key':'Bob', 'firstname': 'Bob', 'lastname':'Billy', 'email':'[email protected]'},\n",
    "  {'_key':'Alan', 'firstname': 'Alan', 'lastname':'Evans', 'email':'[email protected]'}\n",
    "]\n",
    "\n",
    "client.insert_document(collection_name='students', document=docs)\n",
    "\n",
    "print(json.dumps(docs, indent=4))"
   ]
  },
  {
   "cell_type": "markdown",
   "id": "f328b599",
   "metadata": {},
   "source": [
    "## 6. Create Graph\n",
    "\n",
    "A graph consists of vertices and edges. Vertices are stored as documents in vertex collections and edges stored as documents in edge collections. The collections used in a graph and their relations are specified with edge definitions."
   ]
  },
  {
   "cell_type": "code",
   "execution_count": null,
   "id": "0fbe72ed",
   "metadata": {
    "scrolled": true
   },
   "outputs": [],
   "source": [
    "if client.has_graph('school'):\n",
    "    school = client.has_graph('school')\n",
    "    print(\"Graph Exists\")\n",
    "else:\n",
    "    school = client.create_graph('school')\n",
    "    print(\"Graph Created\")"
   ]
  },
  {
   "cell_type": "markdown",
   "id": "eba04413",
   "metadata": {},
   "source": [
    "## Section Completed!\n",
    "\n",
    "Congratulations, another tutorial completed!"
   ]
  },
  {
   "cell_type": "code",
   "execution_count": null,
   "id": "277d1bb1",
   "metadata": {
    "scrolled": true
   },
   "outputs": [],
   "source": []
  }
 ],
 "metadata": {
  "kernelspec": {
   "display_name": "Python 3 (ipykernel)",
   "language": "python",
   "name": "python3"
  },
  "language_info": {
   "codemirror_mode": {
    "name": "ipython",
    "version": 3
   },
   "file_extension": ".py",
   "mimetype": "text/x-python",
   "name": "python",
   "nbconvert_exporter": "python",
   "pygments_lexer": "ipython3",
   "version": "3.9.7"
  }
 },
 "nbformat": 4,
 "nbformat_minor": 5
}
