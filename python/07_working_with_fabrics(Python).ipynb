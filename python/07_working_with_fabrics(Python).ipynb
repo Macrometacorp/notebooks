{
 "cells": [
  {
   "cell_type": "markdown",
   "id": "f63d4ffe",
   "metadata": {},
   "source": [
    "# Py07 - Working with Fabrics\n",
    "**This tutorial is designed for developers working with the pyc8 Python driver**\n",
    "\n",
    "Each :doc:`tenant <tenant>` on the C8 Data Fabric server can have an arbitrary number of fabrics. Each fabric has its own set of :doc:`collections <collection>`, :doc:`graphs <graph>` and :doc:`streams <stream>`.\n",
    "\n",
    "For each tenant, there is a special fabric named _system, which cannot be dropped and provides operations for managing users, permissions and other fabrics. Most of the operations can only be executed by admin users. See :doc:`user` for more information.\n",
    "\n",
    "Each fabric in the C8 Fabric can be replicated to one or more additional edge Locations in the fabric. If a change is made to such a replicated fabric in one edge Location, that change will be automatically propagated to, and visible in, all other Edge Locations to which that fabric has been replicated.\n",
    "\n",
    "Each fabric in the C8 Fabric can publish changes in realtime to any clients which are connected to that fabric. Any clients with connections to that fabric will receive changes via a push-based mechanism rather than having to continuously poll the fabric for any changes which may have occurred. This python driver can listen in realtime to changes in fabric by calling the fabric.on_change() method for the fabric referred to by the fabric object."
   ]
  },
  {
   "cell_type": "markdown",
   "id": "a2b3b194",
   "metadata": {},
   "source": [
    "## 1. Import Libraries to Workbook"
   ]
  },
  {
   "cell_type": "code",
   "execution_count": null,
   "id": "7ddad91b-19d3-4bb6-a87c-2d3b3ece065e",
   "metadata": {},
   "outputs": [],
   "source": [
    "import json\n",
    "from c8 import C8Client"
   ]
  },
  {
   "cell_type": "markdown",
   "id": "347e4aaf-626c-4618-ba97-36dcf256da80",
   "metadata": {},
   "source": [
    "## 2. Create and Define Login details"
   ]
  },
  {
   "cell_type": "code",
   "execution_count": null,
   "id": "d90e1072-c552-466d-9980-eb0bf589e30d",
   "metadata": {},
   "outputs": [],
   "source": [
    "fed_url = \"gdn.paas.macrometa.io\"\n",
    "admin_email = \"email\"\n",
    "admin_password = \"password\"\n",
    "geo_fabric = \"_system\""
   ]
  },
  {
   "cell_type": "markdown",
   "id": "8cd51ab0-87f9-4d4a-bb1c-90e46e9d9251",
   "metadata": {},
   "source": [
    "## 3. Connect to GDN as Admin"
   ]
  },
  {
   "cell_type": "code",
   "execution_count": null,
   "id": "194560a5-7b3f-4c8d-b90e-e5c989eed2e5",
   "metadata": {},
   "outputs": [],
   "source": [
    "# Initialize the C8 Data Fabric client.\n",
    "print(\"\\n ------- CONNECTION SETUP  ------\")\n",
    "print(\"tenant: {}, geofabric:{}\".format(admin_email, geo_fabric))\n",
    "client = C8Client(protocol='https', host=fed_url, port=443,\n",
    "                email=admin_email, password=admin_password,\n",
    "                geofabric=geo_fabric)  \n",
    "\n",
    "# For the \"mytenant\" tenant, connect to \"_system\" fabric as tenant admin.\n",
    "# This returns an API wrapper for the \"_system\" fabric on tenant 'mytenant'\n",
    "# Note that the 'mytenant' tenant should already exist.\n",
    "\n",
    "tenant = client.tenant(email=admin_email, password=admin_password)\n",
    "\n",
    "sys_fabric = tenant.useFabric('_system')"
   ]
  },
  {
   "cell_type": "markdown",
   "id": "2e6d5c84-cb96-4b98-b745-17e8a9e9d554",
   "metadata": {},
   "source": [
    "## 4. List all Fabrics accessable by Admin\n",
    "\n",
    "At this point in the tutorial this should only show the defualt 'system' fabric which will have all the avaiailble datacenters"
   ]
  },
  {
   "cell_type": "code",
   "execution_count": null,
   "id": "3b8b8c08-df2b-44bd-842e-1199a3c6d6fb",
   "metadata": {},
   "outputs": [],
   "source": [
    "# List all fabrics in the 'mytenant' tenant\n",
    "response = sys_fabric.fabrics()\n",
    "print(response)"
   ]
  },
  {
   "cell_type": "markdown",
   "id": "99bcf5b0-1f9d-44b9-9b46-1e58fc5cbdea",
   "metadata": {},
   "source": [
    "## 5. List all details of Datacenters\n",
    "\n",
    "Now lets have a look at those data centers"
   ]
  },
  {
   "cell_type": "code",
   "execution_count": null,
   "id": "a92d9e25-7c6c-42d3-9a18-6c1ed30c9d5a",
   "metadata": {
    "tags": []
   },
   "outputs": [],
   "source": [
    "#Returns the list of details of Datacenters\n",
    "response = sys_fabric.dclist(detail=False) # Tip try changing details to = \"True\" to see more details..\n",
    "\n",
    "print(json.dumps(response, indent=4)) "
   ]
  },
  {
   "cell_type": "markdown",
   "id": "c47faaa7-dfe3-470f-814a-65c409b2526e",
   "metadata": {},
   "source": [
    "## 6. Create a new user called \"johndoe\""
   ]
  },
  {
   "cell_type": "code",
   "execution_count": null,
   "id": "9d0b7a77-09e0-4235-8011-d25304c6434b",
   "metadata": {},
   "outputs": [],
   "source": [
    "# Create a new user.\n",
    "tenant.create_user(\n",
    "    username='johndoe', \n",
    "    email='johndoe@gmail.com', \n",
    "    password='first_password',\n",
    "    active=True,\n",
    "    extra={'team': 'backend', 'title': 'engineer'}\n",
    ")"
   ]
  },
  {
   "cell_type": "markdown",
   "id": "ec3e89ac-9677-4dde-bd00-f434cb76b236",
   "metadata": {},
   "source": [
    "## 7. List details of the new user"
   ]
  },
  {
   "cell_type": "code",
   "execution_count": null,
   "id": "0e13bf45-2ad5-4001-b25b-dff8d54305d6",
   "metadata": {},
   "outputs": [],
   "source": [
    "# Retrieve details of a user.\n",
    "tenant.user('johndoe')"
   ]
  },
  {
   "cell_type": "markdown",
   "id": "9fd0918f-8a59-4344-8d28-9fbf749a779c",
   "metadata": {},
   "source": [
    "## 8. List permissions of the new user\n",
    "\n",
    "Lets take a look at the permission of our newly created user, at this point they should be read only or 'ro'"
   ]
  },
  {
   "cell_type": "code",
   "execution_count": null,
   "id": "efcaa2c9-2c66-433b-be0c-83c264ea4867",
   "metadata": {},
   "outputs": [],
   "source": [
    "# Retrieve user permissions for all fabrics and collections.\n",
    "\n",
    "tenant.permissions('johndoe')\n"
   ]
  },
  {
   "cell_type": "markdown",
   "id": "2fcd6baa-3246-49fe-a984-b02705e054e4",
   "metadata": {},
   "source": [
    "## 9. Create a new Fabric\n",
    "\n",
    "While we are still connected as the Admin, we can create a new Fabric. \n",
    "\n",
    "The code block below checks to see what the local datacenter is to you using the \"localdc()\" method."
   ]
  },
  {
   "cell_type": "code",
   "execution_count": null,
   "id": "6a4f4a26-f5fb-47d8-a707-e65f0f258969",
   "metadata": {},
   "outputs": [],
   "source": [
    "mylocal_dc_response = sys_fabric.localdc() #<--- Returns the datacenter thats closest to you\n",
    "\n",
    "mylocal_dc_name = mylocal_dc_response['_key'] #<--- Selects the name of that datacenter\n",
    "\n",
    "dcl = [mylocal_dc_name, 'gdn-us-west', 'gdn-eu-west'] #<--- Create a DataCenter List for the New GeoFabric (Macrometa GDN)\n",
    "\n",
    "if not sys_fabric.has_fabric('demofabric'): #<--- checks the geofabric doesnt already exist\n",
    "    demo_fabric = sys_fabric.create_fabric('demofabric', dclist=dcl) #<--- create a geofabric\n",
    "    \n",
    "\n",
    "all_fabric_details = sys_fabric.fabrics_detail()  #<--- get details of new geofabric\n",
    "\n",
    "print(json.dumps(all_fabric_details, indent=4)) "
   ]
  },
  {
   "cell_type": "markdown",
   "id": "46fd881e-260f-4e27-8474-5cc9c231827f",
   "metadata": {},
   "source": [
    "## 10. Check permissions of new user on new fabric\n",
    "\n",
    "We have created a new user, and a new geofabric. Wjhen this is first created the user should have no permissions."
   ]
  },
  {
   "cell_type": "code",
   "execution_count": null,
   "id": "af8aff0b-3574-4c02-a1cf-9e8ee2c91401",
   "metadata": {},
   "outputs": [],
   "source": [
    "# Retrieve user permission for \"test\" fabric.\n",
    "tenant.permission(\n",
    "    username='johndoe',\n",
    "    fabric='demofabric'\n",
    ")"
   ]
  },
  {
   "cell_type": "markdown",
   "id": "7d8800cb-d5b4-4cca-8c45-80119412f28a",
   "metadata": {},
   "source": [
    "## 11. Change permissions of new user to \"read/write\"\n",
    "\n",
    "Lets change our new users permissions to \"read/right\" so when we connect at this user they can work with the database and create a collection"
   ]
  },
  {
   "cell_type": "code",
   "execution_count": null,
   "id": "a74098ca-7fb0-4d5e-a436-78d932166128",
   "metadata": {},
   "outputs": [],
   "source": [
    "# Update user permission for \"test\" fabric.\n",
    "tenant.update_permission(\n",
    "    username='johndoe',\n",
    "    permission='rw',\n",
    "    fabric='demofabric'\n",
    ")"
   ]
  },
  {
   "cell_type": "markdown",
   "id": "1ae7a423-3e18-4886-aa50-38af9d9fe217",
   "metadata": {},
   "source": [
    "## 12. Change permissions of new user to \"none\" for the \"_system\" fabric \n",
    "\n",
    "We might also want to reduce the users access to the _system fabric, we can do this as follows..."
   ]
  },
  {
   "cell_type": "code",
   "execution_count": null,
   "id": "5616501c-cfe4-4b9b-8aee-e6c2054b55fc",
   "metadata": {},
   "outputs": [],
   "source": [
    "# Update user permission for \"_system\" fabric.\n",
    "tenant.update_permission(\n",
    "    username='johndoe',\n",
    "    permission='none',\n",
    "    fabric='_system'\n",
    ")"
   ]
  },
  {
   "cell_type": "markdown",
   "id": "b4d359e3-043c-4aaf-a617-9f1f7093e115",
   "metadata": {},
   "source": [
    "## 13. Check permissions of new user after changes\n",
    "\n",
    "Ok, so now that we have updated our users permissions, lets take a look to see our changes"
   ]
  },
  {
   "cell_type": "code",
   "execution_count": null,
   "id": "d8aadd74-76d1-40af-aafd-ad8d1a793e7f",
   "metadata": {},
   "outputs": [],
   "source": [
    "# Retrieve user permissions for all fabrics and collections.\n",
    "\n",
    "tenant.permissions('johndoe')"
   ]
  },
  {
   "cell_type": "markdown",
   "id": "64bf7b95-1c7a-44b6-844f-82cd10cf5ca3",
   "metadata": {},
   "source": [
    "## 14. Connect to GDN as the new user \"JohnDoe\" on the new GeoFabric\n",
    "\n",
    "Right, now its time to connect to our new GeoFabric as our new user."
   ]
  },
  {
   "cell_type": "code",
   "execution_count": null,
   "id": "24b06f13-1121-493f-93d1-67e74c808364",
   "metadata": {},
   "outputs": [],
   "source": [
    "demo_email = 'johndoe@gmail.com'\n",
    "demo_password = 'first_password'\n",
    "new_geofabric = 'demofabric'\n",
    "\n",
    "local_connected_fed = mylocal_dc_name + '.paas.macrometa.io' # using Macrometa Global PaaS\n",
    "\n",
    "demo_fabric_client = C8Client(protocol='https', \n",
    "                              host=local_connected_fed,\n",
    "                              port=443,\n",
    "                              email=demo_email,\n",
    "                              password=demo_password,\n",
    "                              geofabric=new_geofabric\n",
    "                             )  \n",
    "\n",
    "demo_tenant = demo_fabric_client.tenant(email=demo_email, password=demo_password)\n",
    "\n",
    "demo_fabric = tenant.useFabric(new_geofabric)\n",
    "\n",
    "print(\"\\n ------- CONNECTION SETUP  ------\")\n",
    "print(\"tenant: {}, geofabric: {}\".format(demo_email, new_geofabric))"
   ]
  },
  {
   "cell_type": "markdown",
   "id": "4ec4dc71-9450-40fe-8574-ddc3b418bc4b",
   "metadata": {},
   "source": [
    "## 15. Check the Datacenters for the new geofabric\n",
    "\n",
    "Now that we have connected as our new user, lets see what datacenters we have access to in our geofabric"
   ]
  },
  {
   "cell_type": "code",
   "execution_count": null,
   "id": "34260a00-ff17-4f9b-ae41-13ebdfacb36a",
   "metadata": {},
   "outputs": [],
   "source": [
    "response = demo_fabric.dclist(detail=False) # Tip try changing details to = \"True\" to see more details..\n",
    "\n",
    "print(json.dumps(response, indent=4)) "
   ]
  },
  {
   "cell_type": "markdown",
   "id": "d623d6e5-64c1-4a02-a08c-09ea7dd7bb1a",
   "metadata": {},
   "source": [
    "## 16. Let's test our new fabric with a collection"
   ]
  },
  {
   "cell_type": "markdown",
   "id": "3f711f6a-1260-4266-873c-7529d378fbe2",
   "metadata": {},
   "source": [
    "### 16.1 First create the collection\n",
    "\n",
    "You will likely remember this step from an earlier tutorial. First we define a collection name, then we check to see if it exists. If it doesnt exist then we will create it."
   ]
  },
  {
   "cell_type": "code",
   "execution_count": null,
   "id": "f292a297-7215-490c-b2d4-30d57e0536fc",
   "metadata": {},
   "outputs": [],
   "source": [
    "collection_name = 'employees'\n",
    "\n",
    "# Create a new collection if it does not exist\n",
    "if demo_fabric_client.has_collection(collection_name):\n",
    "    print(\"Collection exists\")\n",
    "else:\n",
    "    demo_fabric_client.create_collection(name=collection_name)\n",
    "    print(\"Collection Created!\")"
   ]
  },
  {
   "cell_type": "markdown",
   "id": "6a393c82-ad03-409d-8f63-579fb8fdfa2e",
   "metadata": {},
   "source": [
    "### 16.2 Let's add some records\n",
    "\n",
    "A collection is great, but lets add some records to it.."
   ]
  },
  {
   "cell_type": "code",
   "execution_count": null,
   "id": "263c6734-5069-49ec-b5ee-10bae8a809cf",
   "metadata": {},
   "outputs": [],
   "source": [
    "docs = [\n",
    "  {'_key':'James', 'firstname': 'James', 'lastname':'Kirk', 'email':'[email protected]'},\n",
    "  {'_key':'Han', 'firstname': 'Han', 'lastname':'Solo', 'email':'[email protected]'},\n",
    "  {'_key':'Bruce', 'firstname': 'Bruce', 'lastname':'Wayne', 'email':'[email protected]'}\n",
    "]\n",
    "\n",
    "demo_fabric_client.insert_document(collection_name='employees', document=docs)\n",
    "\n",
    "print(json.dumps(docs, indent=4))"
   ]
  },
  {
   "cell_type": "markdown",
   "id": "a0a647f5-d14a-477e-89e8-830f2f05acfe",
   "metadata": {},
   "source": [
    "### 16.3 Let's build a RESTQL called \"getRecords\"\n",
    "\n",
    "You likely recall how to create a RESTQL from the earlier tutorial. So lets set up a basic query to show the records in a collection"
   ]
  },
  {
   "cell_type": "code",
   "execution_count": null,
   "id": "c129cc39-f53a-4b4f-94dd-8f99c508dc35",
   "metadata": {},
   "outputs": [],
   "source": [
    "# crete restql\n",
    "get_data = {\"query\": {\"name\": \"getRecords\", \"value\": \"FOR doc IN %s RETURN doc\" % collection_name}}\n",
    "\n",
    "demo_fabric_client.create_restql(get_data)"
   ]
  },
  {
   "cell_type": "markdown",
   "id": "554d3b26-ae6d-4aaf-a23e-5f3fbba6f8bc",
   "metadata": {},
   "source": [
    "### 16.4 Let's check our RESTQL is saved"
   ]
  },
  {
   "cell_type": "code",
   "execution_count": null,
   "id": "55638d12-5b55-439a-8b42-5342d32e0444",
   "metadata": {},
   "outputs": [],
   "source": [
    "# get all restql\n",
    "response = demo_fabric_client.get_restqls()\n",
    "    \n",
    "print(json.dumps(response, indent=4)) "
   ]
  },
  {
   "cell_type": "markdown",
   "id": "33532f2c-1ddf-432c-9bb2-9669bdcfc71e",
   "metadata": {},
   "source": [
    "### 16.5 Let's execute the RESTQL \"getRecords\""
   ]
  },
  {
   "cell_type": "code",
   "execution_count": null,
   "id": "d414f68d-7757-497a-bcf7-bdde7432f7a4",
   "metadata": {},
   "outputs": [],
   "source": [
    "# execute restql without bindVars\n",
    "test_response = demo_fabric_client.execute_restql(\"getRecords\")\n",
    "\n",
    "print(json.dumps(test_response, indent=4)) "
   ]
  },
  {
   "cell_type": "markdown",
   "id": "56172ba1-c2c7-4352-aaa5-1e7d1dc4caca",
   "metadata": {},
   "source": [
    "## 17. Time to tidy up!\n",
    "\n",
    "That was great!, now lets tidy up by removing our fabric, the new user, and the collection we created."
   ]
  },
  {
   "cell_type": "code",
   "execution_count": null,
   "id": "24c969a7-ebb7-463c-9841-f7cd79619044",
   "metadata": {},
   "outputs": [],
   "source": [
    "# delete restql\n",
    "response = demo_fabric_client.delete_restql(\"getRecords\")\n",
    "print(response) "
   ]
  },
  {
   "cell_type": "code",
   "execution_count": null,
   "id": "542e5021-14fd-4caf-a45d-d33be3f043b4",
   "metadata": {},
   "outputs": [],
   "source": [
    "#delete new user\n",
    "tenant.delete_user(username='johndoe')\n",
    "\n",
    "# delete the fabric"
   ]
  },
  {
   "cell_type": "code",
   "execution_count": null,
   "id": "5d91bfbc-7d63-474d-93bf-0ff415ef6453",
   "metadata": {},
   "outputs": [],
   "source": [
    "# first connect to the _system fabric\n",
    "\n",
    "sys_fabric = tenant.useFabric('_system')\n",
    "\n",
    "# now delete the demo geo fabric we created earlier\n",
    "sys_fabric.delete_fabric('demofabric')\n",
    "#print(response) "
   ]
  },
  {
   "cell_type": "markdown",
   "id": "eba04413",
   "metadata": {},
   "source": [
    "## Section Completed!\n",
    "\n",
    "Congratulations!, another tutorial completed."
   ]
  },
  {
   "cell_type": "code",
   "execution_count": null,
   "id": "ec9adecb-5ebc-4e7e-a88c-53bc2bffbb76",
   "metadata": {},
   "outputs": [],
   "source": []
  }
 ],
 "metadata": {
  "kernelspec": {
   "display_name": "Python 3 (ipykernel)",
   "language": "python",
   "name": "python3"
  },
  "language_info": {
   "codemirror_mode": {
    "name": "ipython",
    "version": 3
   },
   "file_extension": ".py",
   "mimetype": "text/x-python",
   "name": "python",
   "nbconvert_exporter": "python",
   "pygments_lexer": "ipython3",
   "version": "3.9.7"
  }
 },
 "nbformat": 4,
 "nbformat_minor": 5
}
