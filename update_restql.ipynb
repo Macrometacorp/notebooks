{
 "cells": [
  {
   "cell_type": "code",
   "execution_count": 28,
   "id": "549ab854-0c3b-4dc8-829e-80db80151133",
   "metadata": {},
   "outputs": [
    {
     "name": "stdout",
     "output_type": "stream",
     "text": [
      "\u001b[33mDEPRECATION: Configuring installation scheme with distutils config files is deprecated and will no longer work in the near future. If you are using a Homebrew or Linuxbrew Python, please see discussion at https://github.com/Homebrew/homebrew-core/issues/76621\u001b[0m\u001b[33m\n",
      "\u001b[0mRequirement already satisfied: pyC8 in /usr/local/lib/python3.9/site-packages (0.16.9)\n",
      "Requirement already satisfied: six in /usr/local/lib/python3.9/site-packages (from pyC8) (1.16.0)\n",
      "Requirement already satisfied: websocket-client==0.57.0 in /usr/local/lib/python3.9/site-packages (from pyC8) (0.57.0)\n",
      "Requirement already satisfied: pandas>=0.24.2 in /usr/local/lib/python3.9/site-packages (from pyC8) (1.4.1)\n",
      "Requirement already satisfied: requests==2.20.1 in /usr/local/lib/python3.9/site-packages (from pyC8) (2.20.1)\n",
      "Requirement already satisfied: certifi>=2017.4.17 in /usr/local/lib/python3.9/site-packages (from requests==2.20.1->pyC8) (2021.10.8)\n",
      "Requirement already satisfied: idna<2.8,>=2.5 in /usr/local/lib/python3.9/site-packages (from requests==2.20.1->pyC8) (2.7)\n",
      "Requirement already satisfied: chardet<3.1.0,>=3.0.2 in /usr/local/lib/python3.9/site-packages (from requests==2.20.1->pyC8) (3.0.4)\n",
      "Requirement already satisfied: urllib3<1.25,>=1.21.1 in /usr/local/lib/python3.9/site-packages (from requests==2.20.1->pyC8) (1.24.3)\n",
      "Requirement already satisfied: numpy>=1.18.5 in /usr/local/lib/python3.9/site-packages (from pandas>=0.24.2->pyC8) (1.22.3)\n",
      "Requirement already satisfied: python-dateutil>=2.8.1 in /usr/local/lib/python3.9/site-packages (from pandas>=0.24.2->pyC8) (2.8.2)\n",
      "Requirement already satisfied: pytz>=2020.1 in /usr/local/lib/python3.9/site-packages (from pandas>=0.24.2->pyC8) (2021.3)\n",
      "\u001b[33mDEPRECATION: Configuring installation scheme with distutils config files is deprecated and will no longer work in the near future. If you are using a Homebrew or Linuxbrew Python, please see discussion at https://github.com/Homebrew/homebrew-core/issues/76621\u001b[0m\u001b[33m\n",
      "\u001b[0m"
     ]
    }
   ],
   "source": [
    "# Run this code to install pyC8\n",
    "\n",
    "!pip install pyC8\n",
    "#!pip install websocket-client"
   ]
  },
  {
   "cell_type": "code",
   "execution_count": 29,
   "id": "5928f326-6208-44f9-b984-ef13fff8a94a",
   "metadata": {},
   "outputs": [],
   "source": [
    "import json\n",
    "from c8 import C8Client\n",
    "#client = C8Client(protocol='https', host='gdn.paas.macrometa.io', port=443,\n",
    "#                        email='alankevans@gmail.com', password='AlansDemo1!',\n",
    "#                        geofabric='_system')\n",
    "\n",
    "\n",
    "client = C8Client(protocol='https', host='verizon.5g.macrometa.io', port=443,\n",
    "                        email='alan@macrometa.com', password='AlansDemo1!',\n",
    "                        geofabric='_system')"
   ]
  },
  {
   "cell_type": "code",
   "execution_count": 30,
   "id": "3d140b20-d2d9-4bbf-8bc2-114ff31e8416",
   "metadata": {},
   "outputs": [],
   "source": [
    "collection_name = \"person\"\n",
    "\n",
    "value = \"INSERT {'firstname':@firstname, 'lastname':@lastname, 'email':@email, 'zipcode':@zipcode, '_key': 'abc'} IN %s\" % collection_name\n",
    "parameter = {\"firstname\": \"\", \"lastname\": \"\", \"email\": \"\", \"zipcode\": \"\"}\n",
    "\n",
    "insert_data = {\"query\": {\"name\": \"insertRecord\", \"parameter\": parameter, \"value\": value}} \n",
    "get_data = {\"query\": {\"name\": \"getRecords\", \"value\": \"FOR doc IN %s RETURN doc\" % collection_name}}\n",
    "update_data = {\"query\": {\"name\": \"updateRecord\", \"value\": \"UPDATE 'abc' WITH { \\\"lastname\\\": \\\"cena\\\" } IN %s\" % collection_name }}\n",
    "delete_data= {\"query\": {\"name\": \"deleteRecord\", \"value\": \"REMOVE 'abc' IN %s\" % collection_name}}\n",
    "get_count = {\"query\": {\"name\": \"countRecords\", \"value\": \"RETURN COUNT(FOR doc IN %s RETURN 1)\" % collection_name}}"
   ]
  },
  {
   "cell_type": "code",
   "execution_count": 31,
   "id": "fbf6b0a9-8f9f-4e56-be43-bb1614a15bef",
   "metadata": {},
   "outputs": [
    {
     "name": "stdout",
     "output_type": "stream",
     "text": [
      "\n",
      " ------- CREATE GEO-REPLICATED COLLECTION  ------\n",
      "Created collection: person\n"
     ]
    }
   ],
   "source": [
    "print(\"\\n ------- CREATE GEO-REPLICATED COLLECTION  ------\")\n",
    "if client.has_collection(collection_name):\n",
    "    print(\"Collection exists\")\n",
    "else:\n",
    "    employees = client.create_collection(collection_name)\n",
    "print(\"Created collection: {}\".format(collection_name))"
   ]
  },
  {
   "cell_type": "code",
   "execution_count": 32,
   "id": "a1040e36-e906-4f02-ba61-08a0fe67b518",
   "metadata": {},
   "outputs": [
    {
     "data": {
      "text/plain": [
       "{'_key': 'alan_macrometa.com.root.alan_macrometa.com._system.insertRecord',\n",
       " 'userid': 'alan_macrometa.com.root',\n",
       " 'tenant': 'alan_macrometa.com',\n",
       " 'fabric': 'alan_macrometa.com._system',\n",
       " 'name': 'insertRecord',\n",
       " 'value': \"INSERT {'firstname':@firstname, 'lastname':@lastname, 'email':@email, 'zipcode':@zipcode, '_key': 'abc'} IN person\",\n",
       " 'parameter': {'email': '', 'firstname': '', 'lastname': '', 'zipcode': ''},\n",
       " 'type': 'c8ql'}"
      ]
     },
     "execution_count": 32,
     "metadata": {},
     "output_type": "execute_result"
    }
   ],
   "source": [
    "client.create_restql(insert_data)"
   ]
  },
  {
   "cell_type": "code",
   "execution_count": 33,
   "id": "86f2f97f-430a-4f31-9946-abbb7b76a8b7",
   "metadata": {},
   "outputs": [
    {
     "name": "stdout",
     "output_type": "stream",
     "text": [
      "Insert data....\n"
     ]
    }
   ],
   "source": [
    "print(\"Insert data....\")\n",
    "response = client.execute_restql(\n",
    "    \"insertRecord\",\n",
    "    {\"bindVars\": {\"firstname\": \"john\", \"lastname\": \"doe\",\n",
    "                    \"email\": \"john.doe@macrometa.io\", \"zipcode\": \"511037\"}})"
   ]
  },
  {
   "cell_type": "code",
   "execution_count": 34,
   "id": "3b5442bf-36c1-4dfb-8abe-1a84f23c0a87",
   "metadata": {},
   "outputs": [],
   "source": [
    "value = f\"INSERT {{'firstname':@firstname, 'lastname':@lastname, 'email':@email, 'zipcode':@zipcode, 'phone': @phone}} IN {collection_name}\"\n",
    "parameter = {\"firstname\": \"\", \"lastname\": \"\", \"email\": \"\", \"zipcode\": \"\", \"phone\": \"\"}\n",
    "\n",
    "insert_data = { \"query\": { \"parameter\": parameter, \"value\": value } } "
   ]
  },
  {
   "cell_type": "code",
   "execution_count": 35,
   "id": "ab36db25-ccd0-4631-bd5d-e51173981276",
   "metadata": {},
   "outputs": [
    {
     "name": "stdout",
     "output_type": "stream",
     "text": [
      "True\n"
     ]
    }
   ],
   "source": [
    "restql_name = \"insertRecord\"\n",
    "\n",
    "response = client.update_restql(restql_name, insert_data)\n",
    "print(response)"
   ]
  },
  {
   "cell_type": "code",
   "execution_count": 36,
   "id": "0d38c100-a514-4233-836d-354b6f563b75",
   "metadata": {},
   "outputs": [
    {
     "name": "stdout",
     "output_type": "stream",
     "text": [
      "Get docs in \"person\" collection\n",
      "[\n",
      "    {\n",
      "        \"_id\": \"person/abc\",\n",
      "        \"_key\": \"abc\",\n",
      "        \"_rev\": \"_d3oiL5C--_\",\n",
      "        \"email\": \"john.doe@macrometa.io\",\n",
      "        \"firstname\": \"john\",\n",
      "        \"lastname\": \"doe\",\n",
      "        \"zipcode\": \"511037\"\n",
      "    }\n",
      "]\n"
     ]
    }
   ],
   "source": [
    "print(\"Get docs in \\\"person\\\" collection\")\n",
    "\n",
    "cursor = client.execute_query('FOR doc IN person RETURN doc')\n",
    "\n",
    "docs = [document for document in cursor]\n",
    "\n",
    "print(json.dumps(docs, indent=4))"
   ]
  },
  {
   "cell_type": "code",
   "execution_count": 37,
   "id": "28880e1c-15d9-4d15-8aa3-e920bfd081a7",
   "metadata": {},
   "outputs": [
    {
     "name": "stdout",
     "output_type": "stream",
     "text": [
      "Insert data with updated query worker\n"
     ]
    }
   ],
   "source": [
    "print(\"Insert data with updated query worker\")\n",
    "response = client.execute_restql(\n",
    "    restql_name,\n",
    "    {\"bindVars\": {\"firstname\": \"john\", \"lastname\": \"doe\",\n",
    "                    \"email\": \"john.doe@macrometa.io\", \"zipcode\": \"511037\", \"phone\": \"213-555-9578\"}})"
   ]
  },
  {
   "cell_type": "code",
   "execution_count": 38,
   "id": "d32f139d-3a4b-40b9-86ef-e8934152f863",
   "metadata": {},
   "outputs": [
    {
     "name": "stdout",
     "output_type": "stream",
     "text": [
      "Get docs in \"person\" collection, after executing the updated query\n",
      "[\n",
      "    {\n",
      "        \"_id\": \"person/abc\",\n",
      "        \"_key\": \"abc\",\n",
      "        \"_rev\": \"_d3oiL5C--_\",\n",
      "        \"email\": \"john.doe@macrometa.io\",\n",
      "        \"firstname\": \"john\",\n",
      "        \"lastname\": \"doe\",\n",
      "        \"zipcode\": \"511037\"\n",
      "    },\n",
      "    {\n",
      "        \"_id\": \"person/241196188\",\n",
      "        \"_key\": \"241196188\",\n",
      "        \"_rev\": \"_d3oij0m--_\",\n",
      "        \"email\": \"john.doe@macrometa.io\",\n",
      "        \"firstname\": \"john\",\n",
      "        \"lastname\": \"doe\",\n",
      "        \"phone\": \"213-555-9578\",\n",
      "        \"zipcode\": \"511037\"\n",
      "    }\n",
      "]\n"
     ]
    }
   ],
   "source": [
    "print(\"Get docs in \\\"person\\\" collection, after executing the updated query\")\n",
    "\n",
    "cursor = client.execute_query('FOR doc IN person RETURN doc')\n",
    "\n",
    "docs = [document for document in cursor]\n",
    "\n",
    "print(json.dumps(docs, indent=4))"
   ]
  },
  {
   "cell_type": "code",
   "execution_count": 39,
   "id": "254332ff-548a-434b-8143-6568c6ab903f",
   "metadata": {},
   "outputs": [
    {
     "name": "stdout",
     "output_type": "stream",
     "text": [
      "\n",
      " ------- DELETE RESTQL ------\n",
      "\n",
      " ------- DONE  ------\n"
     ]
    }
   ],
   "source": [
    "print(\"\\n ------- DELETE RESTQL ------\")\n",
    "client.delete_restql(\"insertRecord\")\n",
    "\n",
    "print(\"\\n ------- DONE  ------\")"
   ]
  },
  {
   "cell_type": "code",
   "execution_count": 40,
   "id": "7358ab76-830d-488b-8d4b-65f95ca1ecd6",
   "metadata": {},
   "outputs": [
    {
     "name": "stdout",
     "output_type": "stream",
     "text": [
      "Collection Deleted:  True\n"
     ]
    }
   ],
   "source": [
    "print(\"Collection Deleted: \",client.delete_collection(collection_name))"
   ]
  },
  {
   "cell_type": "code",
   "execution_count": null,
   "id": "4fe928ab-d95d-40c8-8052-701b394923bb",
   "metadata": {},
   "outputs": [],
   "source": []
  }
 ],
 "metadata": {
  "kernelspec": {
   "display_name": "Python 3 (ipykernel)",
   "language": "python",
   "name": "python3"
  },
  "language_info": {
   "codemirror_mode": {
    "name": "ipython",
    "version": 3
   },
   "file_extension": ".py",
   "mimetype": "text/x-python",
   "name": "python",
   "nbconvert_exporter": "python",
   "pygments_lexer": "ipython3",
   "version": "3.9.10"
  }
 },
 "nbformat": 4,
 "nbformat_minor": 5
}
