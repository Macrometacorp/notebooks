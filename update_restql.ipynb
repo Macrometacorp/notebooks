{
 "cells": [
  {
   "cell_type": "code",
   "execution_count": null,
   "id": "549ab854-0c3b-4dc8-829e-80db80151133",
   "metadata": {},
   "outputs": [],
   "source": [
    "# Run this code to install pyC8\n",
    "\n",
    "!pip install pyC8\n",
    "#!pip install websocket-client"
   ]
  },
  {
   "cell_type": "code",
   "execution_count": null,
   "id": "5928f326-6208-44f9-b984-ef13fff8a94a",
   "metadata": {},
   "outputs": [],
   "source": [
    "import json\n",
    "from c8 import C8Client\n",
    "#client = C8Client(protocol='https', host='gdn.paas.macrometa.io', port=443,\n",
    "#                        email='alankevans@gmail.com', password='AlansDemo1!',\n",
    "#                        geofabric='_system')\n",
    "\n",
    "\n",
    "client = C8Client(protocol='https', host='verizon.5g.macrometa.io', port=443,\n",
    "                        email='alan@macrometa.com', password='AlansDemo1!',\n",
    "                        geofabric='_system')"
   ]
  },
  {
   "cell_type": "code",
   "execution_count": null,
   "id": "3d140b20-d2d9-4bbf-8bc2-114ff31e8416",
   "metadata": {},
   "outputs": [],
   "source": [
    "collection_name = \"person\"\n",
    "\n",
    "value = \"INSERT {'firstname':@firstname, 'lastname':@lastname, 'email':@email, 'zipcode':@zipcode, '_key': 'abc'} IN %s\" % collection_name\n",
    "parameter = {\"firstname\": \"\", \"lastname\": \"\", \"email\": \"\", \"zipcode\": \"\"}\n",
    "\n",
    "insert_data = {\"query\": {\"name\": \"insertRecord\", \"parameter\": parameter, \"value\": value}} \n",
    "get_data = {\"query\": {\"name\": \"getRecords\", \"value\": \"FOR doc IN %s RETURN doc\" % collection_name}}\n",
    "update_data = {\"query\": {\"name\": \"updateRecord\", \"value\": \"UPDATE 'abc' WITH { \\\"lastname\\\": \\\"cena\\\" } IN %s\" % collection_name }}\n",
    "delete_data= {\"query\": {\"name\": \"deleteRecord\", \"value\": \"REMOVE 'abc' IN %s\" % collection_name}}\n",
    "get_count = {\"query\": {\"name\": \"countRecords\", \"value\": \"RETURN COUNT(FOR doc IN %s RETURN 1)\" % collection_name}}"
   ]
  },
  {
   "cell_type": "code",
   "execution_count": null,
   "id": "fbf6b0a9-8f9f-4e56-be43-bb1614a15bef",
   "metadata": {},
   "outputs": [],
   "source": [
    "print(\"\\n ------- CREATE GEO-REPLICATED COLLECTION  ------\")\n",
    "if client.has_collection(collection_name):\n",
    "    print(\"Collection exists\")\n",
    "else:\n",
    "    employees = client.create_collection(collection_name)\n",
    "print(\"Created collection: {}\".format(collection_name))"
   ]
  },
  {
   "cell_type": "code",
   "execution_count": null,
   "id": "a1040e36-e906-4f02-ba61-08a0fe67b518",
   "metadata": {},
   "outputs": [],
   "source": [
    "client.create_restql(insert_data)"
   ]
  },
  {
   "cell_type": "code",
   "execution_count": null,
   "id": "86f2f97f-430a-4f31-9946-abbb7b76a8b7",
   "metadata": {},
   "outputs": [],
   "source": [
    "print(\"Insert data....\")\n",
    "response = client.execute_restql(\n",
    "    \"insertRecord\",\n",
    "    {\"bindVars\": {\"firstname\": \"john\", \"lastname\": \"doe\",\n",
    "                    \"email\": \"john.doe@macrometa.io\", \"zipcode\": \"511037\"}})"
   ]
  },
  {
   "cell_type": "code",
   "execution_count": null,
   "id": "3b5442bf-36c1-4dfb-8abe-1a84f23c0a87",
   "metadata": {},
   "outputs": [],
   "source": [
    "value = f\"INSERT {{'firstname':@firstname, 'lastname':@lastname, 'email':@email, 'zipcode':@zipcode, 'phone': @phone}} IN {collection_name}\"\n",
    "parameter = {\"firstname\": \"\", \"lastname\": \"\", \"email\": \"\", \"zipcode\": \"\", \"phone\": \"\"}\n",
    "\n",
    "insert_data = { \"query\": { \"parameter\": parameter, \"value\": value } } "
   ]
  },
  {
   "cell_type": "code",
   "execution_count": null,
   "id": "ab36db25-ccd0-4631-bd5d-e51173981276",
   "metadata": {},
   "outputs": [],
   "source": [
    "restql_name = \"insertRecord\"\n",
    "\n",
    "response = client.update_restql(restql_name, insert_data)\n",
    "print(response)"
   ]
  },
  {
   "cell_type": "code",
   "execution_count": null,
   "id": "0d38c100-a514-4233-836d-354b6f563b75",
   "metadata": {},
   "outputs": [],
   "source": [
    "print(\"Get docs in \\\"person\\\" collection\")\n",
    "\n",
    "cursor = client.execute_query('FOR doc IN person RETURN doc')\n",
    "\n",
    "docs = [document for document in cursor]\n",
    "\n",
    "print(json.dumps(docs, indent=4))"
   ]
  },
  {
   "cell_type": "code",
   "execution_count": null,
   "id": "28880e1c-15d9-4d15-8aa3-e920bfd081a7",
   "metadata": {},
   "outputs": [],
   "source": [
    "print(\"Insert data with updated query worker\")\n",
    "response = client.execute_restql(\n",
    "    restql_name,\n",
    "    {\"bindVars\": {\"firstname\": \"john\", \"lastname\": \"doe\",\n",
    "                    \"email\": \"john.doe@macrometa.io\", \"zipcode\": \"511037\", \"phone\": \"213-555-9578\"}})"
   ]
  },
  {
   "cell_type": "code",
   "execution_count": null,
   "id": "d32f139d-3a4b-40b9-86ef-e8934152f863",
   "metadata": {},
   "outputs": [],
   "source": [
    "print(\"Get docs in \\\"person\\\" collection, after executing the updated query\")\n",
    "\n",
    "cursor = client.execute_query('FOR doc IN person RETURN doc')\n",
    "\n",
    "docs = [document for document in cursor]\n",
    "\n",
    "print(json.dumps(docs, indent=4))"
   ]
  },
  {
   "cell_type": "code",
   "execution_count": null,
   "id": "254332ff-548a-434b-8143-6568c6ab903f",
   "metadata": {},
   "outputs": [],
   "source": [
    "print(\"\\n ------- DELETE RESTQL ------\")\n",
    "client.delete_restql(\"insertRecord\")\n",
    "\n",
    "print(\"\\n ------- DONE  ------\")"
   ]
  },
  {
   "cell_type": "code",
   "execution_count": null,
   "id": "7358ab76-830d-488b-8d4b-65f95ca1ecd6",
   "metadata": {},
   "outputs": [],
   "source": [
    "print(\"Collection Deleted: \",client.delete_collection(collection_name))"
   ]
  },
  {
   "cell_type": "code",
   "execution_count": null,
   "id": "4fe928ab-d95d-40c8-8052-701b394923bb",
   "metadata": {},
   "outputs": [],
   "source": []
  }
 ],
 "metadata": {
  "kernelspec": {
   "display_name": "Python 3 (ipykernel)",
   "language": "python",
   "name": "python3"
  },
  "language_info": {
   "codemirror_mode": {
    "name": "ipython",
    "version": 3
   },
   "file_extension": ".py",
   "mimetype": "text/x-python",
   "name": "python",
   "nbconvert_exporter": "python",
   "pygments_lexer": "ipython3",
   "version": "3.9.10"
  }
 },
 "nbformat": 4,
 "nbformat_minor": 5
}
